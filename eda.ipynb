{
 "cells": [
  {
   "attachments": {},
   "cell_type": "markdown",
   "metadata": {},
   "source": [
    "### Imports\n",
    "- pandas: for holding the data in a pandas.DataFrame object\n",
    "- wandb: for logging findings"
   ]
  },
  {
   "cell_type": "code",
   "execution_count": null,
   "metadata": {},
   "outputs": [],
   "source": [
    "import pandas as pd\n",
    "import wandb"
   ]
  },
  {
   "cell_type": "code",
   "execution_count": null,
   "metadata": {},
   "outputs": [],
   "source": [
    "data = pd.read_csv(\"RentingOutofFlats.csv\")"
   ]
  },
  {
   "attachments": {},
   "cell_type": "markdown",
   "metadata": {},
   "source": [
    "### Exploratory Data Analysis\n",
    "1. Check number of rows of data\n",
    "2. Check for any null values\n",
    "3. Check for any na values\n",
    "4. Check for empty strings\n",
    "5. Check datatypes of all columns\n",
    "6. Find unique values for each column"
   ]
  },
  {
   "cell_type": "code",
   "execution_count": 28,
   "metadata": {},
   "outputs": [
    {
     "data": {
      "text/plain": [
       "95441"
      ]
     },
     "execution_count": 28,
     "metadata": {},
     "output_type": "execute_result"
    }
   ],
   "source": [
    "# check number of data points\n",
    "len(data)"
   ]
  },
  {
   "cell_type": "code",
   "execution_count": 17,
   "metadata": {},
   "outputs": [
    {
     "data": {
      "text/plain": [
       "rent_approval_date    False\n",
       "town                  False\n",
       "block                 False\n",
       "street_name           False\n",
       "flat_type             False\n",
       "monthly_rent          False\n",
       "dtype: bool"
      ]
     },
     "execution_count": 17,
     "metadata": {},
     "output_type": "execute_result"
    }
   ],
   "source": [
    "# check for any null values\n",
    "data.isnull().any()"
   ]
  },
  {
   "cell_type": "code",
   "execution_count": 18,
   "metadata": {},
   "outputs": [
    {
     "data": {
      "text/plain": [
       "rent_approval_date    False\n",
       "town                  False\n",
       "block                 False\n",
       "street_name           False\n",
       "flat_type             False\n",
       "monthly_rent          False\n",
       "dtype: bool"
      ]
     },
     "execution_count": 18,
     "metadata": {},
     "output_type": "execute_result"
    }
   ],
   "source": [
    "# check for any na values\n",
    "data.isna().any()\n",
    "\n"
   ]
  },
  {
   "cell_type": "code",
   "execution_count": 23,
   "metadata": {},
   "outputs": [
    {
     "data": {
      "text/plain": [
       "rent_approval_date    False\n",
       "town                  False\n",
       "block                 False\n",
       "street_name           False\n",
       "flat_type             False\n",
       "monthly_rent          False\n",
       "dtype: bool"
      ]
     },
     "execution_count": 23,
     "metadata": {},
     "output_type": "execute_result"
    }
   ],
   "source": [
    "# check for any empty strings\n",
    "data.eq('').any()"
   ]
  },
  {
   "cell_type": "code",
   "execution_count": 25,
   "metadata": {},
   "outputs": [
    {
     "data": {
      "text/plain": [
       "rent_approval_date    object\n",
       "town                  object\n",
       "block                 object\n",
       "street_name           object\n",
       "flat_type             object\n",
       "monthly_rent           int64\n",
       "dtype: object"
      ]
     },
     "execution_count": 25,
     "metadata": {},
     "output_type": "execute_result"
    }
   ],
   "source": [
    "# check data types for each column\n",
    "data.dtypes"
   ]
  },
  {
   "cell_type": "code",
   "execution_count": 27,
   "metadata": {},
   "outputs": [
    {
     "name": "stdout",
     "output_type": "stream",
     "text": [
      "rent_approval_date ['2021-01' '2021-02' '2021-03' '2021-04' '2021-05' '2021-06' '2021-07'\n",
      " '2021-08' '2021-09' '2021-10' '2021-11' '2021-12' '2022-01' '2022-02'\n",
      " '2022-03' '2022-04' '2022-05' '2022-06' '2022-07' '2022-08' '2022-09'\n",
      " '2022-10' '2022-11' '2022-12' '2023-01' '2023-02' '2023-03' '2023-04'\n",
      " '2023-05' '2023-06' '2023-07'] 31\n",
      "town ['PUNGGOL' 'JURONG WEST' 'BEDOK' 'BUKIT MERAH' 'CHOA CHU KANG' 'TAMPINES'\n",
      " 'SENGKANG' 'ANG MO KIO' 'HOUGANG' 'TOA PAYOH' 'JURONG EAST' 'WOODLANDS'\n",
      " 'BUKIT BATOK' 'SEMBAWANG' 'CENTRAL' 'QUEENSTOWN' 'BISHAN' 'CLEMENTI'\n",
      " 'MARINE PARADE' 'PASIR RIS' 'YISHUN' 'GEYLANG' 'SERANGOON'\n",
      " 'BUKIT PANJANG' 'KALLANG/WHAMPOA' 'BUKIT TIMAH'] 26\n",
      "block ['272A' '187' '188B' ... '513C' '494G' '513B'] 2683\n",
      "street_name ['PUNGGOL WALK' 'BOON LAY AVE' 'BEDOK NTH ST 4' 'HENDERSON RD'\n",
      " 'CHOA CHU KANG AVE 5' 'BEDOK STH AVE 1' 'TAMPINES ST 41'\n",
      " 'COMPASSVALE CRES' 'CHOA CHU KANG CRES' 'ANG MO KIO ST 51'\n",
      " 'BEDOK RESERVOIR RD' 'HOUGANG ST 51' 'TELOK BLANGAH CRES'\n",
      " 'JURONG WEST CTRL 3' 'LOR 7 TOA PAYOH' 'JURONG EAST ST 21' 'BEO CRES'\n",
      " 'JLN KAYU' 'CHOA CHU KANG AVE 1' 'TAMPINES ST 43' 'TAMPINES ST 42'\n",
      " 'PUNGGOL FIELD' 'WOODLANDS AVE 6' 'RIVERVALE CRES' 'BT BATOK WEST AVE 6'\n",
      " 'SEMBAWANG DR' 'TOH GUAN RD' 'ANG MO KIO AVE 4' 'WOODLANDS DR 70'\n",
      " 'TG PAGAR PLAZA' 'BT BATOK WEST AVE 8' 'SEMBAWANG CL' 'WOODLANDS ST 11'\n",
      " 'TECK WHYE LANE' 'ANG MO KIO AVE 8' 'WOODLANDS DR 60' 'MARSILING CRES'\n",
      " 'ANG MO KIO AVE 5' \"QUEEN'S CL\" 'BISHAN ST 23' 'TAMPINES ST 82'\n",
      " 'LOR 5 TOA PAYOH' 'ADMIRALTY LINK' 'TELOK BLANGAH RISE' 'MEI LING ST'\n",
      " 'ANCHORVALE LINK' 'UPP CROSS ST' 'CLEMENTI AVE 5' 'MARINE CRES'\n",
      " 'CHOA CHU KANG AVE 4' 'CANTONMENT CL' 'ANG MO KIO AVE 10' 'HOUGANG AVE 2'\n",
      " 'HOUGANG AVE 8' 'CLEMENTI AVE 3' 'MONTREAL LINK' 'CANTONMENT RD'\n",
      " 'COMPASSVALE LANE' 'PASIR RIS ST 71' 'JLN BT MERAH' 'LOR 2 TOA PAYOH'\n",
      " 'BISHAN ST 13' 'YISHUN RING RD' 'ALJUNIED CRES' 'BEDOK RESERVOIR VIEW'\n",
      " 'CHIN SWEE RD' 'SERANGOON NTH AVE 4' 'WEST COAST RD' 'DOVER CRES'\n",
      " 'ANG MO KIO AVE 3' 'JURONG EAST ST 13' 'FERNVALE LANE' 'RIVERVALE ST'\n",
      " 'EDGEFIELD PLAINS' 'COMPASSVALE DR' 'LOR 8 TOA PAYOH' 'HOUGANG AVE 5'\n",
      " 'CHOA CHU KANG AVE 3' 'HOUGANG CTRL' 'SHUNFU RD' 'YISHUN ST 22'\n",
      " 'BT PANJANG RING RD' 'BEDOK NTH AVE 1' 'JURONG WEST ST 65'\n",
      " 'TAMPINES ST 21' 'ANG MO KIO ST 32' 'SELEGIE RD' 'MARSILING LANE'\n",
      " 'YUNG HO RD' 'WOODLANDS CIRCLE' 'FERNVALE LINK' 'CHOA CHU KANG NTH 6'\n",
      " 'PENDING RD' 'BT BATOK ST 52' 'BT BATOK WEST AVE 2' 'RACE COURSE RD'\n",
      " 'SERANGOON AVE 4' 'CLEMENTI ST 13' 'WOODLANDS DR 75' 'JLN KLINIK'\n",
      " 'BALAM RD' 'KIM KEAT AVE' 'TAMPINES CTRL 7' 'LOR 1 TOA PAYOH'\n",
      " 'WOODLANDS ST 32' 'WOODLANDS AVE 3' 'SIMEI RD' 'SAGO LANE'\n",
      " 'SENGKANG EAST WAY' 'BISHAN ST 22' 'TANGLIN HALT RD' 'BOON LAY PL'\n",
      " 'TAMPINES ST 22' 'BUANGKOK CRES' 'REDHILL RD' 'TOH YI DR' 'WEST COAST DR'\n",
      " 'TEBAN GDNS RD' 'TELOK BLANGAH WAY' 'TELOK BLANGAH DR' 'RIVERVALE DR'\n",
      " 'WOODLANDS RING RD' 'COMPASSVALE ST' 'GHIM MOH RD' 'ANG MO KIO AVE 6'\n",
      " 'HOUGANG ST 91' 'CLEMENTI AVE 4' 'SERANGOON AVE 3' 'CANBERRA RD'\n",
      " 'RIVERVALE WALK' 'SERANGOON CTRL' 'CHAI CHEE AVE' 'BT BATOK CTRL'\n",
      " 'REDHILL CL' 'LOR AH SOO' 'SEGAR RD' 'BISHAN ST 12' 'GHIM MOH LINK'\n",
      " \"C'WEALTH CL\" 'SENGKANG EAST RD' 'CLARENCE LANE' 'BEDOK STH AVE 2'\n",
      " 'JURONG WEST ST 62' 'TAMPINES ST 81' 'BEDOK STH RD' 'JURONG WEST ST 91'\n",
      " 'MARINE TER' 'LENGKONG TIGA' 'PASIR RIS DR 10' 'KALLANG BAHRU'\n",
      " 'JURONG WEST ST 52' 'SERANGOON AVE 1' 'BEDOK NTH RD' 'ADMIRALTY DR'\n",
      " 'SERANGOON AVE 2' 'JURONG WEST ST 64' \"C'WEALTH DR\" 'PASIR RIS ST 52'\n",
      " 'MARSILING RISE' 'JLN TENAGA' 'TAMPINES CTRL 1' 'STRATHMORE AVE'\n",
      " 'JURONG WEST ST 71' 'BENDEMEER RD' 'UBI AVE 1' 'YISHUN AVE 4'\n",
      " 'GEYLANG SERAI' 'YISHUN AVE 5' 'WOODLANDS DR 53' 'MARINE DR'\n",
      " 'COMPASSVALE WALK' 'WOODLANDS DR 16' 'PUNGGOL WAY' 'ANG MO KIO ST 31'\n",
      " 'JURONG WEST AVE 1' 'ANG MO KIO AVE 1' 'CHOA CHU KANG ST 51'\n",
      " 'ANG MO KIO ST 52' 'HOUGANG AVE 1' 'PETIR RD' 'YISHUN ST 21' 'EUNOS CRES'\n",
      " 'WOODLANDS AVE 5' 'WOODLANDS AVE 1' 'BEDOK NTH AVE 2' 'WOODLANDS ST 13'\n",
      " 'HOUGANG AVE 6' 'JURONG WEST ST 41' 'YUNG LOH RD' 'ANG MO KIO ST 61'\n",
      " 'HOUGANG ST 61' 'DAKOTA CRES' 'BT BATOK ST 25' 'JURONG WEST CTRL 1'\n",
      " 'BISHAN ST 11' 'SIMEI ST 1' 'FERNVALE RD' 'BANGKIT RD' 'TOA PAYOH NTH'\n",
      " 'CORPORATION DR' 'TAMPINES ST 12' 'TAMPINES ST 11' 'PASIR RIS ST 51'\n",
      " 'WELLINGTON CIRCLE' 'CLEMENTI WEST ST 1' 'SERANGOON NTH AVE 1' 'FAJAR RD'\n",
      " 'TOA PAYOH CTRL' 'DAWSON RD' 'CHAI CHEE RD' 'TOWNER RD' 'HOUGANG AVE 10'\n",
      " 'TELOK BLANGAH HTS' 'PUNGGOL RD' 'WHAMPOA DR' 'BEDOK NTH ST 3' 'PIPIT RD'\n",
      " 'SIN MING RD' 'BEDOK NTH AVE 4' 'PUNGGOL CTRL' 'JURONG WEST ST 92'\n",
      " 'SIMEI ST 4' 'ANCHORVALE RD' 'EDGEDALE PLAINS' 'YISHUN CTRL 1'\n",
      " 'CLEMENTI AVE 6' 'BT BATOK ST 33' 'SERANGOON CTRL DR' 'WHAMPOA RD'\n",
      " 'CHOA CHU KANG DR' 'JURONG WEST ST 61' 'CHOA CHU KANG ST 52'\n",
      " 'YISHUN ST 61' 'PASIR RIS DR 4' 'CHOA CHU KANG LOOP' 'OLD AIRPORT RD'\n",
      " 'BISHAN ST 24' 'SENJA RD' 'POTONG PASIR AVE 1' 'SIMS PL'\n",
      " 'NEW UPP CHANGI RD' 'BT BATOK ST 31' 'HOUGANG AVE 3' 'BT BATOK ST 21'\n",
      " 'HOLLAND DR' 'CHOA CHU KANG CTRL' 'JLN BAHAGIA' 'TAMPINES CTRL 8'\n",
      " 'TAMPINES AVE 4' 'WOODLANDS ST 31' 'DOVER RD' 'BEDOK NTH ST 1'\n",
      " 'WOODLANDS ST 41' 'UPP BOON KENG RD' 'BT BATOK WEST AVE 5' 'CHAI CHEE ST'\n",
      " 'LOR 4 TOA PAYOH' 'ANCHORVALE DR' 'HOUGANG ST 52' 'JURONG WEST ST 25'\n",
      " 'JURONG EAST ST 31' 'JLN DUA' 'CIRCUIT RD' 'KELANTAN RD' 'STIRLING RD'\n",
      " 'HOLLAND AVE' 'BT BATOK ST 24' 'JELEBU RD' 'JOO SENG RD' 'BIDADARI PK DR'\n",
      " 'YISHUN ST 81' 'YISHUN ST 11' 'BT BATOK WEST AVE 7' 'BT MERAH VIEW'\n",
      " 'YUNG AN RD' 'ELIAS RD' 'WOODLANDS DR 73' 'JURONG EAST ST 24'\n",
      " 'BT BATOK EAST AVE 5' 'COMPASSVALE RD' 'PUNGGOL DR' 'CLEMENTI AVE 1'\n",
      " 'PASIR RIS ST 11' 'PANDAN GDNS' 'JLN MEMBINA' 'BT BATOK ST 22'\n",
      " 'WOODLANDS DR 72' 'YISHUN ST 71' 'BEDOK STH AVE 3' 'SEMBAWANG VISTA'\n",
      " 'SENGKANG CTRL' 'CHAI CHEE DR' 'YUNG SHENG RD' 'TAMPINES ST 33'\n",
      " 'CLEMENTI AVE 2' 'WOODLANDS DR 50' 'DEPOT RD' 'PASIR RIS ST 21'\n",
      " 'YISHUN AVE 2' 'YISHUN AVE 7' 'JURONG WEST ST 81' 'TAMPINES ST 86'\n",
      " 'PASIR RIS ST 12' 'YUAN CHING RD' 'WOODLANDS DR 40' 'JURONG WEST ST 93'\n",
      " 'PINE CL' 'JLN BT HO SWEE' 'GEYLANG EAST AVE 1' 'JELAPANG RD'\n",
      " 'CLEMENTI WEST ST 2' 'HENDERSON CRES' 'TAMPINES ST 91' 'YISHUN AVE 11'\n",
      " 'MCNAIR RD' 'BEDOK CTRL' 'WOODLANDS DR 44' 'YISHUN ST 20'\n",
      " 'WOODLANDS ST 82' 'HO CHING RD' 'MOULMEIN RD' 'LENGKOK BAHRU'\n",
      " 'PASIR RIS ST 53' 'PASIR RIS DR 6' 'BT BATOK EAST AVE 4' 'PUNGGOL PL'\n",
      " 'QUEEN ST' 'JURONG EAST ST 32' 'KIM TIAN RD' 'TAH CHING RD' 'SAUJANA RD'\n",
      " 'HOLLAND CL' 'HOUGANG ST 31' 'YISHUN CTRL' 'JLN RAJAH' 'TAMPINES AVE 5'\n",
      " 'MARSILING DR' 'CANBERRA VIEW' 'TELOK BLANGAH ST 31' 'YISHUN AVE 6'\n",
      " 'SERANGOON NTH AVE 3' 'BT BATOK ST 11' \"ST. GEORGE'S RD\" 'PAYA LEBAR WAY'\n",
      " 'TAMPINES ST 72' 'JLN BATU' 'PASIR RIS ST 72' 'TAMPINES ST 23'\n",
      " 'CHANDER RD' 'VEERASAMY RD' 'BT PURMEI RD' 'KANG CHING RD' 'FARRER PK RD'\n",
      " 'CHOA CHU KANG AVE 2' 'INDUS RD' 'TOA PAYOH EAST' 'SILAT AVE' 'CASHEW RD'\n",
      " 'KIM TIAN PL' 'PUNGGOL FIELD WALK' 'HOUGANG ST 11' 'TAMPINES ST 24'\n",
      " 'CHOA CHU KANG ST 62' 'ANCHORVALE CRES' 'CASSIA CRES' 'JURONG WEST AVE 3'\n",
      " 'BOON KENG RD' 'TAMPINES AVE 7' 'YISHUN ST 72' 'HOUGANG AVE 9'\n",
      " 'LOR 6 TOA PAYOH' 'TECK WHYE CRES' \"C'WEALTH CRES\" 'UPP ALJUNIED LANE'\n",
      " 'COMPASSVALE LINK' 'BOON LAY DR' 'ROWELL RD' 'NORTHSHORE DR'\n",
      " 'GEYLANG EAST CTRL' 'WOODLANDS AVE 4' 'BEDOK NTH ST 2'\n",
      " 'CHOA CHU KANG NTH 5' 'TAMPINES ST 83' 'HAIG RD' 'BOON TIONG RD'\n",
      " 'WOODLANDS DR 71' 'GEYLANG BAHRU' 'BUFFALO RD' 'YISHUN AVE 9'\n",
      " 'CHANGI VILLAGE RD' 'HAVELOCK RD' 'SUMANG WALK' 'SEMBAWANG CRES'\n",
      " 'TAMPINES AVE 8' 'UPP SERANGOON CRES' 'DORSET RD' 'TAMPINES ST 71'\n",
      " 'ANCHORVALE LANE' 'JURONG WEST ST 42' 'EMPRESS RD' 'JURONG WEST AVE 5'\n",
      " 'BT BATOK WEST AVE 4' \"KING GEORGE'S AVE\" 'JURONG WEST ST 72'\n",
      " 'YISHUN ST 31' 'CHOA CHU KANG ST 64' 'WOODLANDS ST 83' 'WOODLANDS ST 81'\n",
      " 'CRAWFORD LANE' 'HOUGANG AVE 7' 'BT BATOK ST 34' 'TAMPINES ST 34'\n",
      " 'SENGKANG WEST WAY' 'WOODLANDS CRES' \"ST. GEORGE'S LANE\" 'ANCHORVALE ST'\n",
      " 'BT BATOK ST 32' 'HOUGANG AVE 4' 'HOUGANG ST 21' 'WOODLANDS DR 14'\n",
      " 'GEYLANG EAST AVE 2' 'TAMPINES ST 45' 'JURONG WEST ST 74' 'WATERLOO ST'\n",
      " 'MONTREAL DR' 'LOR LEW LIAN' 'JLN RUMAH TINGGI' 'WHAMPOA STH'\n",
      " 'ANG MO KIO AVE 9' 'JLN TECK WHYE' 'HOUGANG ST 92' 'TAMPINES ST 44'\n",
      " 'YUNG PING RD' 'LOMPANG RD' 'KG ARANG RD' 'JURONG WEST ST 24'\n",
      " 'PASIR RIS DR 1' 'FERNVALE ST' 'POTONG PASIR AVE 2' 'PASIR RIS DR 3'\n",
      " 'SIMEI ST 2' 'YISHUN AVE 3' 'BEDOK NTH AVE 3' 'BUANGKOK LINK'\n",
      " 'PASIR RIS ST 13' 'SIN MING AVE' 'ALJUNIED RD' 'TAMPINES ST 84'\n",
      " 'GANGSA RD' 'ZION RD' 'WOODLANDS DR 52' 'TAMPINES AVE 9'\n",
      " 'MARINE PARADE CTRL' 'MARSILING RD' 'JURONG WEST ST 75' 'AH HOOD RD'\n",
      " 'SERANGOON NTH AVE 2' 'REDHILL LANE' 'SIMEI ST 5' 'QUEENSWAY' 'JLN KUKOH'\n",
      " 'WOODLANDS AVE 9' 'TAMPINES ST 32' 'KG KAYU RD' 'JLN TENTERAM'\n",
      " 'CANBERRA LINK' 'JURONG WEST ST 73' 'BUANGKOK GREEN' 'PUNGGOL EAST'\n",
      " 'HOUGANG ST 22' 'WOODLANDS DR 62' 'TECK WHYE AVE' 'BEACH RD'\n",
      " 'JELLICOE RD' 'MACPHERSON LANE' 'BT BATOK EAST AVE 3' 'NEW MKT RD'\n",
      " 'CLEMENTI ST 14' 'SIMS DR' 'BT BATOK ST 51' 'KIM KEAT LINK'\n",
      " 'JURONG EAST AVE 1' 'CHOA CHU KANG ST 53' 'EUNOS RD 5'\n",
      " 'SENGKANG WEST AVE' 'JLN TIGA' 'SUMANG LINK' 'POTONG PASIR AVE 3'\n",
      " 'TAMAN HO SWEE' 'WOODLANDS DR 42' 'LOR 3 GEYLANG' 'BT MERAH CTRL'\n",
      " 'JOO CHIAT RD' 'ANG MO KIO ST 21' 'UPP SERANGOON VIEW' 'EVERTON PK'\n",
      " 'LOR 3 TOA PAYOH' \"C'WEALTH AVE\" 'YISHUN ST 41' 'COMPASSVALE BOW'\n",
      " 'SIMEI LANE' 'JLN DUSUN' \"C'WEALTH AVE WEST\" 'HOY FATT RD' 'CAMBRIDGE RD'\n",
      " 'SMITH ST' 'FARRER RD' 'JURONG WEST ST 51' 'FRENCH RD' 'MOH GUAN TER'\n",
      " 'DELTA AVE' 'BT MERAH LANE 1' 'SENGKANG EAST AVE' 'GLOUCESTER RD'\n",
      " 'DOVER CL EAST' 'SENJA LINK' 'KENT RD' 'TAO CHING RD' 'WHAMPOA WEST'\n",
      " 'LOR 1A TOA PAYOH' 'TIONG BAHRU RD' 'OWEN RD' 'YISHUN ST 51'\n",
      " 'TAMPINES NTH DR 1' 'KEAT HONG CL' 'KRETA AYER RD' 'CHOA CHU KANG ST 54'\n",
      " \"JLN MA'MOR\" 'SIMS AVE' 'TAMPINES AVE 1' 'LOR LIMAU' 'KIM PONG RD'\n",
      " 'SEMBAWANG WAY' 'KLANG LANE' 'ANG MO KIO ST 11' 'LOWER DELTA RD'\n",
      " \"QUEEN'S RD\" 'CHOA CHU KANG NTH 7' 'BEDOK RESERVOIR CRES' 'CANBERRA CRES'\n",
      " 'HOUGANG ST 32' 'BRIGHT HILL DR' 'YISHUN AVE 1' 'NTH BRIDGE RD'\n",
      " 'JLN DAMAI' 'YISHUN ST 43' 'CLEMENTI ST 12' 'CANBERRA ST' 'BAIN ST'\n",
      " 'TAMPINES ST 61' 'SUMANG LANE' 'YUNG KUANG RD' 'CHOA CHU KANG AVE 7'\n",
      " 'KEAT HONG LINK' 'JLN BERSEH' 'TESSENSOHN RD' 'ANG MO KIO AVE 2'\n",
      " 'BT BATOK WEST AVE 9' 'LIM LIAK ST' 'PASIR RIS ST 41' 'UPP SERANGOON RD'\n",
      " 'ALKAFF CRES' 'KIM CHENG ST' 'ALJUNIED AVE 2' 'WOODLANDS RISE'\n",
      " 'CANBERRA WALK' 'ANG MO KIO ST 44' 'YISHUN ST 44' 'JLN AYER'\n",
      " 'TAMPINES AVE 12' 'SENGKANG WEST RD' 'PINE LANE' 'CLEMENTI ST 11'\n",
      " 'MARGARET DR' 'SENJA CL' 'JLN SATU' 'TAMPINES ST 62' 'BEDOK NTH DR'\n",
      " 'NORTHSHORE CRES' 'UBI RD 3' 'BT BATOK EAST AVE 6' 'SENG POH RD'\n",
      " 'WOODLEIGH LINK' 'ANG MO KIO ST 23' 'TAMPINES NTH DR 2' 'YISHUN ST 42'\n",
      " 'EUNOS RD 2'] 587\n",
      "flat_type ['5-ROOM' '3-ROOM' '4-ROOM' '2-ROOM' 'EXECUTIVE' '1-ROOM'] 6\n",
      "monthly_rent [2600 1600 2200 2300 1900 2250 2500 1800 1550 1850 1750 1500 1000 2000\n",
      " 2050 2400 1700 1950 2700 2100 2150 1200 2350 1650 1350 3200 2550 3400\n",
      " 2800 1300 1400 2080 2650 3000 1820 1190 2070 2900 2530 1100 1450 2850\n",
      " 2180 2450 1880 1680 3100 1730  750 2370 3300 1975 2230 3500 2030 2750\n",
      " 1675 1250 2760 3450 2720 2520 2040 2950 1610 1775 1925  800 2980 1780\n",
      " 1920 2325 2380 2470 1575 1825 2160 2021 1833 2658 2280 2220 1150 1875\n",
      " 2975 1420 2480 1830 2130 1660 3150 2880 3050 1170 1080  950 1960 2860\n",
      " 1630 1380 1240 2425 1560 2170 2680 1980 2580 2780 1940 2075 1620 1725\n",
      " 2110 2375 2420 3250 2330 2734 2225 1860 2488 1826 1050 1690 1763 2410\n",
      " 2660  700 1525 2115 2140 2340 1840 1670  650 2710 1770 1580 2288 1440\n",
      " 3080 2190 2960 3350 2260 1595 1790 1930 2188 1720 2270 1068 2215 2930\n",
      "  900 2060 2770 2025  400 2010 1968 2125 1625 2120 2135 3280 1698 1640\n",
      " 2670 2820 2460 1890 2625 1970 2360 2320 1530 2540 3180 1220 3075 3420\n",
      " 1945 1430 2428 1588  450 1120 2875 1540 2034 2020 2175  500 3161 3600\n",
      " 2925 1330 2828 3260 2039 1542 1579 1470 1480 3800 2238 3388 1910 2910\n",
      " 1570 1405 2730 3380 3650 2385 2640 1866 1688 2481  600 1879 2436 2688\n",
      " 1967  350 1740 1140 2388 2342 2563 2290 2266 2608 1439 1805 1810 2999\n",
      " 2510 1765 2788 1360 1854 2621 2825 1710 2419 1280 2453 1935 1760 1870\n",
      " 2888 3070 2630 1717 2155  850 2727 1520 2560 3270 1955 2275 2690 1320\n",
      " 2440 2725 3088 2397 2990 3550 2103 3460 2088 3399 1665 2525 1962 1526\n",
      " 1994 2240 2830  480 3700 2475 2490 3688 3750 2575 2351 2035 2366 2310\n",
      " 3345 2610 3105 2335 3900 3850 3680 3025 1666 2390 3120 4000 2438 3268\n",
      "  300 2338 3670 3175 2208 3225 3060 3360 1936 3488 1548 3480 1618 2399\n",
      " 3310 2885 2838 4250 2938 4300 2315 3135 4200 4100 3040 1999 3163 2605\n",
      " 4400 1755 4500 2765 4600 3240 1410 3370 3625 2768 4700 2988 4850 2775\n",
      " 4800 4050 4150 4350 3980 4900 5000 6000 1340  820 2740 2940 2138 2590\n",
      " 5300 3930 3030 3988 2620 3130 1435 5100 5800 5200 4450 3940 3780 3125\n",
      " 3490 3808 4240 3950 4750 6200 4375 5500 3888 3028 3720 4380 2321 2153\n",
      " 3675 4120 4550 1990 3960 3210 2430 2920 3630 3770 3410 4950 4388 5600\n",
      " 2840 6100 5350 1742 5700 1888 5900 3319 2199 5400 5188 4235 4160 5150\n",
      " 3880 6500 4138 3355 4650 4960 3288 2970 6250  925 3637 3463 2301 2222\n",
      " 3381 3510 2277 2835 6150 4080  690 4126 3330 5250 3110 3398  933 4167\n",
      " 2187 3580 6600 3640 3475 4440 4025 1695  840 1325 3620 2889 2955 3228\n",
      " 4680 4141 3660 6550 4675 2210 3425  810 4488 4218 3540 3015] 474\n"
     ]
    }
   ],
   "source": [
    "# find unique values\n",
    "for c in data.columns:\n",
    "    print(c, data[c].unique(), len(data[c].unique()))"
   ]
  },
  {
   "attachments": {},
   "cell_type": "markdown",
   "metadata": {},
   "source": [
    "### Data Cleaning\n"
   ]
  },
  {
   "attachments": {},
   "cell_type": "markdown",
   "metadata": {},
   "source": [
    "##### 1. Convert all strings to lowercase"
   ]
  },
  {
   "cell_type": "code",
   "execution_count": 31,
   "metadata": {},
   "outputs": [],
   "source": [
    "# convert strings to lowecase\n",
    "data['town'] = data['town'].str.lower()\n",
    "data['street_name'] = data['street_name'].str.lower()"
   ]
  },
  {
   "cell_type": "code",
   "execution_count": 32,
   "metadata": {},
   "outputs": [
    {
     "data": {
      "text/plain": [
       "0              punggol\n",
       "1          jurong west\n",
       "2                bedok\n",
       "3          bukit merah\n",
       "4        choa chu kang\n",
       "             ...      \n",
       "95436      bukit merah\n",
       "95437            bedok\n",
       "95438    bukit panjang\n",
       "95439            bedok\n",
       "95440      bukit batok\n",
       "Name: town, Length: 95441, dtype: object"
      ]
     },
     "execution_count": 32,
     "metadata": {},
     "output_type": "execute_result"
    }
   ],
   "source": [
    "data['town']"
   ]
  },
  {
   "cell_type": "code",
   "execution_count": 33,
   "metadata": {},
   "outputs": [
    {
     "data": {
      "text/plain": [
       "0               punggol walk\n",
       "1               boon lay ave\n",
       "2             bedok nth st 4\n",
       "3               henderson rd\n",
       "4        choa chu kang ave 5\n",
       "                ...         \n",
       "95436     telok blangah cres\n",
       "95437           chai chee st\n",
       "95438               senja rd\n",
       "95439        bedok nth ave 2\n",
       "95440         bt batok st 31\n",
       "Name: street_name, Length: 95441, dtype: object"
      ]
     },
     "execution_count": 33,
     "metadata": {},
     "output_type": "execute_result"
    }
   ],
   "source": [
    "data['street_name']"
   ]
  },
  {
   "attachments": {},
   "cell_type": "markdown",
   "metadata": {},
   "source": [
    "##### 2. Split date into a year and a month column"
   ]
  },
  {
   "cell_type": "code",
   "execution_count": 39,
   "metadata": {},
   "outputs": [],
   "source": [
    "# split date into year and month\n",
    "data[\"rent_approval_year\"] = data[\"rent_approval_date\"].apply(lambda x: x[:4]).astype(int)\n",
    "data[\"rent_approval_month\"] = data[\"rent_approval_date\"].apply(lambda x: x[5:]).astype(int)"
   ]
  },
  {
   "cell_type": "code",
   "execution_count": 41,
   "metadata": {},
   "outputs": [
    {
     "data": {
      "text/html": [
       "<div>\n",
       "<style scoped>\n",
       "    .dataframe tbody tr th:only-of-type {\n",
       "        vertical-align: middle;\n",
       "    }\n",
       "\n",
       "    .dataframe tbody tr th {\n",
       "        vertical-align: top;\n",
       "    }\n",
       "\n",
       "    .dataframe thead th {\n",
       "        text-align: right;\n",
       "    }\n",
       "</style>\n",
       "<table border=\"1\" class=\"dataframe\">\n",
       "  <thead>\n",
       "    <tr style=\"text-align: right;\">\n",
       "      <th></th>\n",
       "      <th>rent_approval_date</th>\n",
       "      <th>town</th>\n",
       "      <th>block</th>\n",
       "      <th>street_name</th>\n",
       "      <th>flat_type</th>\n",
       "      <th>monthly_rent</th>\n",
       "      <th>rent_approval_year</th>\n",
       "      <th>rent_approval_month</th>\n",
       "    </tr>\n",
       "  </thead>\n",
       "  <tbody>\n",
       "    <tr>\n",
       "      <th>0</th>\n",
       "      <td>2021-01</td>\n",
       "      <td>punggol</td>\n",
       "      <td>272A</td>\n",
       "      <td>punggol walk</td>\n",
       "      <td>5-ROOM</td>\n",
       "      <td>2600</td>\n",
       "      <td>2021</td>\n",
       "      <td>1</td>\n",
       "    </tr>\n",
       "    <tr>\n",
       "      <th>1</th>\n",
       "      <td>2021-01</td>\n",
       "      <td>jurong west</td>\n",
       "      <td>187</td>\n",
       "      <td>boon lay ave</td>\n",
       "      <td>3-ROOM</td>\n",
       "      <td>1600</td>\n",
       "      <td>2021</td>\n",
       "      <td>1</td>\n",
       "    </tr>\n",
       "    <tr>\n",
       "      <th>2</th>\n",
       "      <td>2021-01</td>\n",
       "      <td>bedok</td>\n",
       "      <td>188B</td>\n",
       "      <td>bedok nth st 4</td>\n",
       "      <td>4-ROOM</td>\n",
       "      <td>2200</td>\n",
       "      <td>2021</td>\n",
       "      <td>1</td>\n",
       "    </tr>\n",
       "    <tr>\n",
       "      <th>3</th>\n",
       "      <td>2021-01</td>\n",
       "      <td>bukit merah</td>\n",
       "      <td>95B</td>\n",
       "      <td>henderson rd</td>\n",
       "      <td>3-ROOM</td>\n",
       "      <td>2300</td>\n",
       "      <td>2021</td>\n",
       "      <td>1</td>\n",
       "    </tr>\n",
       "    <tr>\n",
       "      <th>4</th>\n",
       "      <td>2021-01</td>\n",
       "      <td>choa chu kang</td>\n",
       "      <td>484A</td>\n",
       "      <td>choa chu kang ave 5</td>\n",
       "      <td>4-ROOM</td>\n",
       "      <td>1900</td>\n",
       "      <td>2021</td>\n",
       "      <td>1</td>\n",
       "    </tr>\n",
       "    <tr>\n",
       "      <th>...</th>\n",
       "      <td>...</td>\n",
       "      <td>...</td>\n",
       "      <td>...</td>\n",
       "      <td>...</td>\n",
       "      <td>...</td>\n",
       "      <td>...</td>\n",
       "      <td>...</td>\n",
       "      <td>...</td>\n",
       "    </tr>\n",
       "    <tr>\n",
       "      <th>95436</th>\n",
       "      <td>2023-07</td>\n",
       "      <td>bukit merah</td>\n",
       "      <td>15</td>\n",
       "      <td>telok blangah cres</td>\n",
       "      <td>3-ROOM</td>\n",
       "      <td>2200</td>\n",
       "      <td>2023</td>\n",
       "      <td>7</td>\n",
       "    </tr>\n",
       "    <tr>\n",
       "      <th>95437</th>\n",
       "      <td>2023-07</td>\n",
       "      <td>bedok</td>\n",
       "      <td>54</td>\n",
       "      <td>chai chee st</td>\n",
       "      <td>3-ROOM</td>\n",
       "      <td>2000</td>\n",
       "      <td>2023</td>\n",
       "      <td>7</td>\n",
       "    </tr>\n",
       "    <tr>\n",
       "      <th>95438</th>\n",
       "      <td>2023-07</td>\n",
       "      <td>bukit panjang</td>\n",
       "      <td>633C</td>\n",
       "      <td>senja rd</td>\n",
       "      <td>4-ROOM</td>\n",
       "      <td>3500</td>\n",
       "      <td>2023</td>\n",
       "      <td>7</td>\n",
       "    </tr>\n",
       "    <tr>\n",
       "      <th>95439</th>\n",
       "      <td>2023-07</td>\n",
       "      <td>bedok</td>\n",
       "      <td>514</td>\n",
       "      <td>bedok nth ave 2</td>\n",
       "      <td>2-ROOM</td>\n",
       "      <td>2000</td>\n",
       "      <td>2023</td>\n",
       "      <td>7</td>\n",
       "    </tr>\n",
       "    <tr>\n",
       "      <th>95440</th>\n",
       "      <td>2023-07</td>\n",
       "      <td>bukit batok</td>\n",
       "      <td>301</td>\n",
       "      <td>bt batok st 31</td>\n",
       "      <td>4-ROOM</td>\n",
       "      <td>4000</td>\n",
       "      <td>2023</td>\n",
       "      <td>7</td>\n",
       "    </tr>\n",
       "  </tbody>\n",
       "</table>\n",
       "<p>95441 rows × 8 columns</p>\n",
       "</div>"
      ],
      "text/plain": [
       "      rent_approval_date           town block          street_name flat_type  \\\n",
       "0                2021-01        punggol  272A         punggol walk    5-ROOM   \n",
       "1                2021-01    jurong west   187         boon lay ave    3-ROOM   \n",
       "2                2021-01          bedok  188B       bedok nth st 4    4-ROOM   \n",
       "3                2021-01    bukit merah   95B         henderson rd    3-ROOM   \n",
       "4                2021-01  choa chu kang  484A  choa chu kang ave 5    4-ROOM   \n",
       "...                  ...            ...   ...                  ...       ...   \n",
       "95436            2023-07    bukit merah    15   telok blangah cres    3-ROOM   \n",
       "95437            2023-07          bedok    54         chai chee st    3-ROOM   \n",
       "95438            2023-07  bukit panjang  633C             senja rd    4-ROOM   \n",
       "95439            2023-07          bedok   514      bedok nth ave 2    2-ROOM   \n",
       "95440            2023-07    bukit batok   301       bt batok st 31    4-ROOM   \n",
       "\n",
       "       monthly_rent  rent_approval_year  rent_approval_month  \n",
       "0              2600                2021                    1  \n",
       "1              1600                2021                    1  \n",
       "2              2200                2021                    1  \n",
       "3              2300                2021                    1  \n",
       "4              1900                2021                    1  \n",
       "...             ...                 ...                  ...  \n",
       "95436          2200                2023                    7  \n",
       "95437          2000                2023                    7  \n",
       "95438          3500                2023                    7  \n",
       "95439          2000                2023                    7  \n",
       "95440          4000                2023                    7  \n",
       "\n",
       "[95441 rows x 8 columns]"
      ]
     },
     "execution_count": 41,
     "metadata": {},
     "output_type": "execute_result"
    }
   ],
   "source": [
    "data"
   ]
  },
  {
   "attachments": {},
   "cell_type": "markdown",
   "metadata": {},
   "source": [
    "##### 3. Convert Flat Type into Classes\n",
    "To retain the class label = number of rooms (except for Executive Apartment, can experiment with 0 or 6)\n",
    "- 0: Executive Apartment\n",
    "- 1: 1 room\n",
    "- 2: 2 room\n",
    "- 3: 3 room\n",
    "- 4: 4 room\n",
    "- 5: 5 room"
   ]
  },
  {
   "cell_type": "code",
   "execution_count": 42,
   "metadata": {},
   "outputs": [],
   "source": [
    "room_mapping = {\n",
    "    \"1-ROOM\": 1,\n",
    "    \"2-ROOM\": 2,\n",
    "    \"3-ROOM\": 3,\n",
    "    \"4-ROOM\": 4,\n",
    "    \"5-ROOM\": 5,\n",
    "    \"EXECUTIVE\": 0\n",
    "}"
   ]
  },
  {
   "cell_type": "code",
   "execution_count": 45,
   "metadata": {},
   "outputs": [],
   "source": [
    "data[\"num_rooms\"] = data['flat_type'].apply(lambda x: room_mapping[x])"
   ]
  },
  {
   "cell_type": "code",
   "execution_count": 46,
   "metadata": {},
   "outputs": [
    {
     "data": {
      "text/html": [
       "<div>\n",
       "<style scoped>\n",
       "    .dataframe tbody tr th:only-of-type {\n",
       "        vertical-align: middle;\n",
       "    }\n",
       "\n",
       "    .dataframe tbody tr th {\n",
       "        vertical-align: top;\n",
       "    }\n",
       "\n",
       "    .dataframe thead th {\n",
       "        text-align: right;\n",
       "    }\n",
       "</style>\n",
       "<table border=\"1\" class=\"dataframe\">\n",
       "  <thead>\n",
       "    <tr style=\"text-align: right;\">\n",
       "      <th></th>\n",
       "      <th>rent_approval_date</th>\n",
       "      <th>town</th>\n",
       "      <th>block</th>\n",
       "      <th>street_name</th>\n",
       "      <th>flat_type</th>\n",
       "      <th>monthly_rent</th>\n",
       "      <th>rent_approval_year</th>\n",
       "      <th>rent_approval_month</th>\n",
       "      <th>num_rooms</th>\n",
       "    </tr>\n",
       "  </thead>\n",
       "  <tbody>\n",
       "    <tr>\n",
       "      <th>0</th>\n",
       "      <td>2021-01</td>\n",
       "      <td>punggol</td>\n",
       "      <td>272A</td>\n",
       "      <td>punggol walk</td>\n",
       "      <td>5-ROOM</td>\n",
       "      <td>2600</td>\n",
       "      <td>2021</td>\n",
       "      <td>1</td>\n",
       "      <td>5</td>\n",
       "    </tr>\n",
       "    <tr>\n",
       "      <th>1</th>\n",
       "      <td>2021-01</td>\n",
       "      <td>jurong west</td>\n",
       "      <td>187</td>\n",
       "      <td>boon lay ave</td>\n",
       "      <td>3-ROOM</td>\n",
       "      <td>1600</td>\n",
       "      <td>2021</td>\n",
       "      <td>1</td>\n",
       "      <td>3</td>\n",
       "    </tr>\n",
       "    <tr>\n",
       "      <th>2</th>\n",
       "      <td>2021-01</td>\n",
       "      <td>bedok</td>\n",
       "      <td>188B</td>\n",
       "      <td>bedok nth st 4</td>\n",
       "      <td>4-ROOM</td>\n",
       "      <td>2200</td>\n",
       "      <td>2021</td>\n",
       "      <td>1</td>\n",
       "      <td>4</td>\n",
       "    </tr>\n",
       "    <tr>\n",
       "      <th>3</th>\n",
       "      <td>2021-01</td>\n",
       "      <td>bukit merah</td>\n",
       "      <td>95B</td>\n",
       "      <td>henderson rd</td>\n",
       "      <td>3-ROOM</td>\n",
       "      <td>2300</td>\n",
       "      <td>2021</td>\n",
       "      <td>1</td>\n",
       "      <td>3</td>\n",
       "    </tr>\n",
       "    <tr>\n",
       "      <th>4</th>\n",
       "      <td>2021-01</td>\n",
       "      <td>choa chu kang</td>\n",
       "      <td>484A</td>\n",
       "      <td>choa chu kang ave 5</td>\n",
       "      <td>4-ROOM</td>\n",
       "      <td>1900</td>\n",
       "      <td>2021</td>\n",
       "      <td>1</td>\n",
       "      <td>4</td>\n",
       "    </tr>\n",
       "    <tr>\n",
       "      <th>...</th>\n",
       "      <td>...</td>\n",
       "      <td>...</td>\n",
       "      <td>...</td>\n",
       "      <td>...</td>\n",
       "      <td>...</td>\n",
       "      <td>...</td>\n",
       "      <td>...</td>\n",
       "      <td>...</td>\n",
       "      <td>...</td>\n",
       "    </tr>\n",
       "    <tr>\n",
       "      <th>95436</th>\n",
       "      <td>2023-07</td>\n",
       "      <td>bukit merah</td>\n",
       "      <td>15</td>\n",
       "      <td>telok blangah cres</td>\n",
       "      <td>3-ROOM</td>\n",
       "      <td>2200</td>\n",
       "      <td>2023</td>\n",
       "      <td>7</td>\n",
       "      <td>3</td>\n",
       "    </tr>\n",
       "    <tr>\n",
       "      <th>95437</th>\n",
       "      <td>2023-07</td>\n",
       "      <td>bedok</td>\n",
       "      <td>54</td>\n",
       "      <td>chai chee st</td>\n",
       "      <td>3-ROOM</td>\n",
       "      <td>2000</td>\n",
       "      <td>2023</td>\n",
       "      <td>7</td>\n",
       "      <td>3</td>\n",
       "    </tr>\n",
       "    <tr>\n",
       "      <th>95438</th>\n",
       "      <td>2023-07</td>\n",
       "      <td>bukit panjang</td>\n",
       "      <td>633C</td>\n",
       "      <td>senja rd</td>\n",
       "      <td>4-ROOM</td>\n",
       "      <td>3500</td>\n",
       "      <td>2023</td>\n",
       "      <td>7</td>\n",
       "      <td>4</td>\n",
       "    </tr>\n",
       "    <tr>\n",
       "      <th>95439</th>\n",
       "      <td>2023-07</td>\n",
       "      <td>bedok</td>\n",
       "      <td>514</td>\n",
       "      <td>bedok nth ave 2</td>\n",
       "      <td>2-ROOM</td>\n",
       "      <td>2000</td>\n",
       "      <td>2023</td>\n",
       "      <td>7</td>\n",
       "      <td>2</td>\n",
       "    </tr>\n",
       "    <tr>\n",
       "      <th>95440</th>\n",
       "      <td>2023-07</td>\n",
       "      <td>bukit batok</td>\n",
       "      <td>301</td>\n",
       "      <td>bt batok st 31</td>\n",
       "      <td>4-ROOM</td>\n",
       "      <td>4000</td>\n",
       "      <td>2023</td>\n",
       "      <td>7</td>\n",
       "      <td>4</td>\n",
       "    </tr>\n",
       "  </tbody>\n",
       "</table>\n",
       "<p>95441 rows × 9 columns</p>\n",
       "</div>"
      ],
      "text/plain": [
       "      rent_approval_date           town block          street_name flat_type  \\\n",
       "0                2021-01        punggol  272A         punggol walk    5-ROOM   \n",
       "1                2021-01    jurong west   187         boon lay ave    3-ROOM   \n",
       "2                2021-01          bedok  188B       bedok nth st 4    4-ROOM   \n",
       "3                2021-01    bukit merah   95B         henderson rd    3-ROOM   \n",
       "4                2021-01  choa chu kang  484A  choa chu kang ave 5    4-ROOM   \n",
       "...                  ...            ...   ...                  ...       ...   \n",
       "95436            2023-07    bukit merah    15   telok blangah cres    3-ROOM   \n",
       "95437            2023-07          bedok    54         chai chee st    3-ROOM   \n",
       "95438            2023-07  bukit panjang  633C             senja rd    4-ROOM   \n",
       "95439            2023-07          bedok   514      bedok nth ave 2    2-ROOM   \n",
       "95440            2023-07    bukit batok   301       bt batok st 31    4-ROOM   \n",
       "\n",
       "       monthly_rent  rent_approval_year  rent_approval_month  num_rooms  \n",
       "0              2600                2021                    1          5  \n",
       "1              1600                2021                    1          3  \n",
       "2              2200                2021                    1          4  \n",
       "3              2300                2021                    1          3  \n",
       "4              1900                2021                    1          4  \n",
       "...             ...                 ...                  ...        ...  \n",
       "95436          2200                2023                    7          3  \n",
       "95437          2000                2023                    7          3  \n",
       "95438          3500                2023                    7          4  \n",
       "95439          2000                2023                    7          2  \n",
       "95440          4000                2023                    7          4  \n",
       "\n",
       "[95441 rows x 9 columns]"
      ]
     },
     "execution_count": 46,
     "metadata": {},
     "output_type": "execute_result"
    }
   ],
   "source": [
    "data"
   ]
  },
  {
   "attachments": {},
   "cell_type": "markdown",
   "metadata": {},
   "source": [
    "##### 4. Convert Towns into Districts\n",
    "- Singapore housing estates are usually divided into districts\n",
    "- Rental prices are usually closely associated to the district they reside in"
   ]
  },
  {
   "cell_type": "code",
   "execution_count": null,
   "metadata": {},
   "outputs": [],
   "source": []
  },
  {
   "attachments": {},
   "cell_type": "markdown",
   "metadata": {},
   "source": [
    "### Logging\n",
    "Log the results of the session in Weights & Biases"
   ]
  },
  {
   "attachments": {},
   "cell_type": "markdown",
   "metadata": {},
   "source": [
    "#### Initialization"
   ]
  },
  {
   "cell_type": "code",
   "execution_count": null,
   "metadata": {},
   "outputs": [],
   "source": [
    "wandb.init(\n",
    "    project=\"hdb_rental\",\n",
    "    name=\"eda\"\n",
    ")"
   ]
  },
  {
   "attachments": {},
   "cell_type": "markdown",
   "metadata": {},
   "source": [
    "#### Log the data table"
   ]
  },
  {
   "cell_type": "code",
   "execution_count": 9,
   "metadata": {},
   "outputs": [],
   "source": [
    "table = wandb.Table(data=data, columns=data.columns)"
   ]
  },
  {
   "cell_type": "code",
   "execution_count": 10,
   "metadata": {},
   "outputs": [],
   "source": [
    "wandb.log({\n",
    "    \"ReningOutofFlats Table\": table\n",
    "})"
   ]
  },
  {
   "cell_type": "code",
   "execution_count": null,
   "metadata": {},
   "outputs": [],
   "source": []
  }
 ],
 "metadata": {
  "kernelspec": {
   "display_name": "nlp",
   "language": "python",
   "name": "python3"
  },
  "language_info": {
   "codemirror_mode": {
    "name": "ipython",
    "version": 3
   },
   "file_extension": ".py",
   "mimetype": "text/x-python",
   "name": "python",
   "nbconvert_exporter": "python",
   "pygments_lexer": "ipython3",
   "version": "3.8.17"
  },
  "orig_nbformat": 4
 },
 "nbformat": 4,
 "nbformat_minor": 2
}
