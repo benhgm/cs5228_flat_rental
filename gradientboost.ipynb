{
 "cells": [
  {
   "cell_type": "code",
   "execution_count": 1,
   "metadata": {},
   "outputs": [],
   "source": [
    "import pandas as pd\n",
    "import wandb\n",
    "from sklearn.ensemble import HistGradientBoostingRegressor\n",
    "from sklearn.metrics import mean_squared_error\n",
    "import matplotlib.pyplot as plt\n",
    "from src.utils import *"
   ]
  },
  {
   "cell_type": "code",
   "execution_count": 2,
   "metadata": {},
   "outputs": [
    {
     "name": "stderr",
     "output_type": "stream",
     "text": [
      "Failed to detect the name of this notebook, you can set it manually with the WANDB_NOTEBOOK_NAME environment variable to enable code saving.\n",
      "\u001b[34m\u001b[1mwandb\u001b[0m: Currently logged in as: \u001b[33mminjabenho\u001b[0m. Use \u001b[1m`wandb login --relogin`\u001b[0m to force relogin\n"
     ]
    },
    {
     "data": {
      "text/plain": [
       "True"
      ]
     },
     "execution_count": 2,
     "metadata": {},
     "output_type": "execute_result"
    }
   ],
   "source": [
    "wandb.login()"
   ]
  },
  {
   "cell_type": "code",
   "execution_count": 3,
   "metadata": {},
   "outputs": [],
   "source": [
    "# Datasets\n",
    "BASELINE_TRAIN = \"data/train/baseline_train.csv\"\n",
    "BASELINE_VAL = \"data/train/baseline_val.csv\"\n",
    "\n",
    "TRUNCATED_BASELINE_TRAIN = \"data/train/baseline-truncated_train.csv\"\n",
    "TRUNCATED_BASLINE_VAL = \"data/train/baseline-truncated_val.csv\"\n",
    "\n",
    "BASELINE_W_FEAT_ENG_TRAIN = \"data/train/baseline-w-feature-eng_train.csv\"\n",
    "BASELINE_W_FEAT_ENG_VAL = \"data/train/baseline-w-feature-eng_val.csv\"\n",
    "\n",
    "TRUNCATED_FEAT_ENG_TRAIN = \"data/train/truncated-feat-eng_train.csv\"\n",
    "TRUNCATED_FEAT_ENG_VAL = \"data/train/truncated-feat-eng_val.csv\"\n",
    "\n",
    "# Note: this dataset has data leakage and should not be used for training\n",
    "TARGET_ENC_BASELINE_TRAIN = \"data/train/target_encoding_baseline_train.csv\"\n",
    "TARGET_ENC_BASELINE_VAL = \"data/train/target_encoding_baseline_val.csv\""
   ]
  },
  {
   "cell_type": "markdown",
   "metadata": {},
   "source": [
    "### Model For the Baseline Dataset"
   ]
  },
  {
   "cell_type": "code",
   "execution_count": null,
   "metadata": {},
   "outputs": [],
   "source": [
    "sweep_config = {\n",
    "    'method': 'bayes'\n",
    "}\n",
    "metric = {\n",
    "    'name': 'val_rmse',\n",
    "    'goal': 'minimize'   \n",
    "    }\n",
    "\n",
    "sweep_config['metric'] = metric\n"
   ]
  },
  {
   "cell_type": "code",
   "execution_count": null,
   "metadata": {},
   "outputs": [],
   "source": [
    "parameters_dict = {\n",
    "    'learning_rate': {\n",
    "        'values': [0.1]\n",
    "    },\n",
    "    'max_iter': {\n",
    "        'values': [100, 200, 300, 500, 1000, 2000]\n",
    "    },\n",
    "    'max_leaf_nodes': {\n",
    "        'values': [10, 31, 50, 100]\n",
    "    },\n",
    "    'max_depth' : {\n",
    "        'values': [3, 4, 5, 6, 7, 8, 9]\n",
    "    },\n",
    "    'min_samples_leaf': {\n",
    "        'values': [20, 40, 60]\n",
    "    },\n",
    "    'l2_regularization': {\n",
    "        'values': [0, 0.1, 0.2, 0.3]\n",
    "    },\n",
    "    'max_bins': {\n",
    "        'values': [255, 128]\n",
    "    }\n",
    "}\n",
    "sweep_config['parameters'] = parameters_dict"
   ]
  },
  {
   "cell_type": "code",
   "execution_count": null,
   "metadata": {},
   "outputs": [],
   "source": [
    "TRAIN_DATA = BASELINE_TRAIN\n",
    "VAL_DATA = BASELINE_VAL"
   ]
  },
  {
   "cell_type": "code",
   "execution_count": null,
   "metadata": {},
   "outputs": [],
   "source": [
    "train_set = pd.read_csv(TRAIN_DATA)\n",
    "val_set = pd.read_csv(VAL_DATA)\n",
    "\n",
    "X_train, y_train = split_features_and_monthly_rent_label(train_set)\n",
    "X_test, y_test = split_features_and_monthly_rent_label(val_set)"
   ]
  },
  {
   "cell_type": "code",
   "execution_count": null,
   "metadata": {},
   "outputs": [],
   "source": [
    "def train():\n",
    "    with wandb.init():\n",
    "        config = wandb.config\n",
    "\n",
    "        regressor = HistGradientBoostingRegressor(\n",
    "            random_state=42,\n",
    "            learning_rate=config.learning_rate,\n",
    "            max_iter=config.max_iter,\n",
    "            max_depth=config.max_depth,\n",
    "            max_leaf_nodes=config.max_leaf_nodes,\n",
    "            min_samples_leaf=config.min_samples_leaf,\n",
    "            l2_regularization=config.l2_regularization,\n",
    "            max_bins=config.max_bins)\n",
    "        regressor.fit(X_train, y_train)\n",
    "        train_score = regressor.score(X_train, y_train)\n",
    "        val_score = regressor.score(X_test, y_test)\n",
    "        \n",
    "        y_train_pred = regressor.predict(X_train)\n",
    "        train_rmse = mean_squared_error(y_train, y_train_pred, squared=False)\n",
    "        y_test_pred = regressor.predict(X_test)\n",
    "        val_rmse = mean_squared_error(y_test, y_test_pred, squared=False)\n",
    "\n",
    "\n",
    "    \n",
    "        # feat_importances = pd.Series(regressor.feature_importances_, index=X_train.columns)\n",
    "        # plt.barh(X_train.columns, feat_importances.nlargest(10))\n",
    "        # wandb.log({'feature_importances': plt})\n",
    "\n",
    "        # wandb.sklearn.plot_regressor(regressor, X_train, X_test, y_train, y_test, 'GradientBoost')\n",
    "        wandb.log(data={\"train_rmse\": train_rmse, \"train_score\": train_score, \"val_rmse\": val_rmse, \"val_score\": val_score})\n",
    "\n"
   ]
  },
  {
   "cell_type": "code",
   "execution_count": null,
   "metadata": {},
   "outputs": [],
   "source": [
    "sweep_id = wandb.sweep(sweep_config, project=\"hdb_rental_prices_baseline_rmse_histgb\")\n",
    "wandb.agent(sweep_id, train, count=20)"
   ]
  },
  {
   "cell_type": "markdown",
   "metadata": {},
   "source": [
    "### Model for the Truncated Baseline Set"
   ]
  },
  {
   "cell_type": "code",
   "execution_count": null,
   "metadata": {},
   "outputs": [],
   "source": [
    "sweep_config = {\n",
    "    'method': 'bayes'\n",
    "}\n",
    "metric = {\n",
    "    'name': 'mse',\n",
    "    'goal': 'minimize'   \n",
    "    }\n",
    "\n",
    "sweep_config['metric'] = metric"
   ]
  },
  {
   "cell_type": "code",
   "execution_count": null,
   "metadata": {},
   "outputs": [],
   "source": [
    "parameters_dict = {\n",
    "    'learning_rate': {\n",
    "        'values': [0.1]\n",
    "    },\n",
    "    'max_iter': {\n",
    "        'values': [100, 200, 300, 500, 1000, 2000]\n",
    "    },\n",
    "    'max_leaf_nodes': {\n",
    "        'values': [10, 31, 50, 100]\n",
    "    },\n",
    "    'max_depth' : {\n",
    "        'values': [3, 4, 5, 6, 7, 8, 9]\n",
    "    },\n",
    "    'min_samples_leaf': {\n",
    "        'values': [20, 40, 60]\n",
    "    },\n",
    "    'l2_regularization': {\n",
    "        'values': [0, 0.1, 0.2, 0.3]\n",
    "    },\n",
    "    'max_bins': {\n",
    "        'values': [255, 128]\n",
    "    }\n",
    "}\n",
    "sweep_config['parameters'] = parameters_dict"
   ]
  },
  {
   "cell_type": "code",
   "execution_count": null,
   "metadata": {},
   "outputs": [],
   "source": [
    "TRAIN_DATA = TRUNCATED_BASELINE_TRAIN\n",
    "VAL_DATA = TRUNCATED_BASLINE_VAL"
   ]
  },
  {
   "cell_type": "code",
   "execution_count": null,
   "metadata": {},
   "outputs": [],
   "source": [
    "train_set = pd.read_csv(TRAIN_DATA)\n",
    "val_set = pd.read_csv(VAL_DATA)\n",
    "\n",
    "X_train, y_train = split_features_and_monthly_rent_label(train_set)\n",
    "X_test, y_test = split_features_and_monthly_rent_label(val_set)"
   ]
  },
  {
   "cell_type": "code",
   "execution_count": null,
   "metadata": {},
   "outputs": [],
   "source": [
    "def train():\n",
    "    with wandb.init():\n",
    "        config = wandb.config\n",
    "\n",
    "        regressor = HistGradientBoostingRegressor(\n",
    "            random_state=42,\n",
    "            learning_rate=config.learning_rate,\n",
    "            n_estimators=config.n_estimators,\n",
    "            max_depth=config.max_depth,\n",
    "            subsample=config.subsample,\n",
    "            min_samples_leaf=config.min_samples_leaf,\n",
    "            min_samples_split=config.min_samples_split,\n",
    "            min_impurity_decrease=config.min_impurity_decrease,\n",
    "            min_weight_fraction_leaf=config.min_weight_fraction_leaf)\n",
    "        regressor.fit(X_train, y_train)\n",
    "        score = regressor.score(X_test, y_test)\n",
    "        y_pred = regressor.predict(X_test)\n",
    "        mse = mean_squared_error(y_test, y_pred)\n",
    "\n",
    "    \n",
    "        # feat_importances = pd.Series(regressor.feature_importances_, index=X_train.columns)\n",
    "        # plt.barh(X_train.columns, feat_importances.nlargest(10))\n",
    "        # wandb.log({'feature_importances': plt})\n",
    "\n",
    "        # wandb.sklearn.plot_regressor(regressor, X_train, X_test, y_train, y_test, 'GradientBoost')\n",
    "        wandb.log(data={\"mse\": mse, \"coefficient_of_determination\": score})"
   ]
  },
  {
   "cell_type": "code",
   "execution_count": null,
   "metadata": {},
   "outputs": [],
   "source": [
    "sweep_id = wandb.sweep(sweep_config, project=\"hdb_rental_prices_truncated_baseline\")\n",
    "wandb.agent(sweep_id, train, count=20)"
   ]
  },
  {
   "cell_type": "markdown",
   "metadata": {},
   "source": [
    "### Model for the Feature Engineering Set"
   ]
  },
  {
   "cell_type": "code",
   "execution_count": null,
   "metadata": {},
   "outputs": [],
   "source": [
    "sweep_config = {\n",
    "    'method': 'bayes'\n",
    "}\n",
    "metric = {\n",
    "    'name': 'mse',\n",
    "    'goal': 'minimize'   \n",
    "    }\n",
    "\n",
    "sweep_config['metric'] = metric"
   ]
  },
  {
   "cell_type": "code",
   "execution_count": null,
   "metadata": {},
   "outputs": [],
   "source": [
    "parameters_dict = {\n",
    "    'learning_rate': {\n",
    "        'values': [0.1]\n",
    "    },\n",
    "    'max_iter': {\n",
    "        'values': [100, 200, 300, 500, 1000, 2000]\n",
    "    },\n",
    "    'max_leaf_nodes': {\n",
    "        'values': [10, 31, 50, 100]\n",
    "    },\n",
    "    'max_depth' : {\n",
    "        'values': [3, 4, 5, 6, 7, 8, 9]\n",
    "    },\n",
    "    'min_samples_leaf': {\n",
    "        'values': [20, 40, 60]\n",
    "    },\n",
    "    'l2_regularization': {\n",
    "        'values': [0, 0.1, 0.2, 0.3]\n",
    "    },\n",
    "    'max_bins': {\n",
    "        'values': [255, 128]\n",
    "    }\n",
    "}\n",
    "sweep_config['parameters'] = parameters_dict"
   ]
  },
  {
   "cell_type": "code",
   "execution_count": null,
   "metadata": {},
   "outputs": [],
   "source": [
    "TRAIN_DATA = BASELINE_W_FEAT_ENG_TRAIN\n",
    "VAL_DATA = BASELINE_W_FEAT_ENG_VAL"
   ]
  },
  {
   "cell_type": "code",
   "execution_count": null,
   "metadata": {},
   "outputs": [],
   "source": [
    "train_set = pd.read_csv(TRAIN_DATA)\n",
    "val_set = pd.read_csv(VAL_DATA)\n",
    "\n",
    "X_train, y_train = split_features_and_monthly_rent_label(train_set)\n",
    "X_test, y_test = split_features_and_monthly_rent_label(val_set)"
   ]
  },
  {
   "cell_type": "code",
   "execution_count": null,
   "metadata": {},
   "outputs": [],
   "source": [
    "def train():\n",
    "    with wandb.init():\n",
    "        config = wandb.config\n",
    "\n",
    "        regressor = HistGradientBoostingRegressor(\n",
    "            random_state=42,\n",
    "            learning_rate=config.learning_rate,\n",
    "            max_iter=config.max_iter,\n",
    "            max_depth=config.max_depth,\n",
    "            max_leaf_nodes=config.max_leaf_nodes,\n",
    "            min_samples_leaf=config.min_samples_leaf,\n",
    "            l2_regularization=config.l2_regularization,\n",
    "            max_bins=config.max_bins)\n",
    "        regressor.fit(X_train, y_train)\n",
    "        train_score = regressor.score(X_train, y_train)\n",
    "        val_score = regressor.score(X_test, y_test)\n",
    "        \n",
    "        y_train_pred = regressor.predict(X_train)\n",
    "        train_rmse = mean_squared_error(y_train, y_train_pred, squared=False)\n",
    "        y_test_pred = regressor.predict(X_test)\n",
    "        val_rmse = mean_squared_error(y_test, y_test_pred, squared=False)\n",
    "\n",
    "\n",
    "    \n",
    "        # feat_importances = pd.Series(regressor.feature_importances_, index=X_train.columns)\n",
    "        # plt.barh(X_train.columns, feat_importances.nlargest(10))\n",
    "        # wandb.log({'feature_importances': plt})\n",
    "\n",
    "        # wandb.sklearn.plot_regressor(regressor, X_train, X_test, y_train, y_test, 'GradientBoost')\n",
    "        wandb.log(data={\"train_rmse\": train_rmse, \"train_score\": train_score, \"val_rmse\": val_rmse, \"val_score\": val_score})"
   ]
  },
  {
   "cell_type": "code",
   "execution_count": null,
   "metadata": {},
   "outputs": [],
   "source": [
    "sweep_id = wandb.sweep(sweep_config, project=\"hdb_rental_prices_feature_eng_rmse_histgb\")\n",
    "wandb.agent(sweep_id, train, count=20)"
   ]
  },
  {
   "attachments": {},
   "cell_type": "markdown",
   "metadata": {},
   "source": [
    "### Model for the Price Per Square Metre Set"
   ]
  },
  {
   "cell_type": "code",
   "execution_count": null,
   "metadata": {},
   "outputs": [],
   "source": [
    "sweep_config = {\n",
    "    'method': 'bayes'\n",
    "}\n",
    "metric = {\n",
    "    'name': 'val_rmse',\n",
    "    'goal': 'minimize'   \n",
    "    }\n",
    "\n",
    "sweep_config['metric'] = metric"
   ]
  },
  {
   "cell_type": "code",
   "execution_count": null,
   "metadata": {},
   "outputs": [],
   "source": [
    "parameters_dict = {\n",
    "    'learning_rate': {\n",
    "        'values': [0.1]\n",
    "    },\n",
    "    'max_iter': {\n",
    "        'values': [100, 200, 300, 500, 1000, 2000]\n",
    "    },\n",
    "    'max_leaf_nodes': {\n",
    "        'values': [10, 31, 50, 100]\n",
    "    },\n",
    "    'max_depth' : {\n",
    "        'values': [3, 4, 5, 6, 7, 8, 9]\n",
    "    },\n",
    "    'min_samples_leaf': {\n",
    "        'values': [20, 40, 60]\n",
    "    },\n",
    "    'l2_regularization': {\n",
    "        'values': [0, 0.1, 0.2, 0.3]\n",
    "    },\n",
    "    'max_bins': {\n",
    "        'values': [255, 128]\n",
    "    }\n",
    "}\n",
    "sweep_config['parameters'] = parameters_dict"
   ]
  },
  {
   "cell_type": "code",
   "execution_count": null,
   "metadata": {},
   "outputs": [],
   "source": [
    "TRAIN_DATA = BASELINE_TRAIN\n",
    "VAL_DATA = BASELINE_VAL"
   ]
  },
  {
   "cell_type": "code",
   "execution_count": null,
   "metadata": {},
   "outputs": [],
   "source": [
    "train_set = pd.read_csv(TRAIN_DATA)\n",
    "val_set = pd.read_csv(VAL_DATA)\n",
    "\n",
    "X_train, y_train, _ = split_features_and_rent_per_sqm_label(train_set)\n",
    "X_test, y_test, _ = split_features_and_rent_per_sqm_label(val_set)"
   ]
  },
  {
   "cell_type": "code",
   "execution_count": null,
   "metadata": {},
   "outputs": [],
   "source": [
    "def train():\n",
    "    with wandb.init():\n",
    "        config = wandb.config\n",
    "\n",
    "        regressor = HistGradientBoostingRegressor(\n",
    "            random_state=42,\n",
    "            learning_rate=config.learning_rate,\n",
    "            max_iter=config.max_iter,\n",
    "            max_depth=config.max_depth,\n",
    "            max_leaf_nodes=config.max_leaf_nodes,\n",
    "            min_samples_leaf=config.min_samples_leaf,\n",
    "            l2_regularization=config.l2_regularization,\n",
    "            max_bins=config.max_bins)\n",
    "        regressor.fit(X_train, y_train)\n",
    "        train_score = regressor.score(X_train, y_train)\n",
    "        val_score = regressor.score(X_test, y_test)\n",
    "        \n",
    "        y_train_pred = regressor.predict(X_train)\n",
    "        train_rmse = mean_squared_error(y_train, y_train_pred, squared=False)\n",
    "        y_test_pred = regressor.predict(X_test)\n",
    "        val_rmse = mean_squared_error(y_test, y_test_pred, squared=False)\n",
    "\n",
    "\n",
    "    \n",
    "        # feat_importances = pd.Series(regressor.feature_importances_, index=X_train.columns)\n",
    "        # plt.barh(X_train.columns, feat_importances.nlargest(10))\n",
    "        # wandb.log({'feature_importances': plt})\n",
    "\n",
    "        # wandb.sklearn.plot_regressor(regressor, X_train, X_test, y_train, y_test, 'GradientBoost')\n",
    "        wandb.log(data={\"train_rmse\": train_rmse, \"train_score\": train_score, \"val_rmse\": val_rmse, \"val_score\": val_score})"
   ]
  },
  {
   "cell_type": "code",
   "execution_count": null,
   "metadata": {},
   "outputs": [],
   "source": [
    "sweep_id = wandb.sweep(sweep_config, project=\"hdb_rental_prices_ppsm_baseline_rmse_histgb\")\n",
    "wandb.agent(sweep_id, train, count=20)"
   ]
  },
  {
   "attachments": {},
   "cell_type": "markdown",
   "metadata": {},
   "source": [
    "### Model for the Price Per Square Metre Set with Feature Engineering"
   ]
  },
  {
   "cell_type": "code",
   "execution_count": null,
   "metadata": {},
   "outputs": [],
   "source": [
    "sweep_config = {\n",
    "    'method': 'bayes'\n",
    "}\n",
    "metric = {\n",
    "    'name': 'mse',\n",
    "    'goal': 'minimize'   \n",
    "    }\n",
    "\n",
    "sweep_config['metric'] = metric"
   ]
  },
  {
   "cell_type": "code",
   "execution_count": null,
   "metadata": {},
   "outputs": [],
   "source": [
    "parameters_dict = {\n",
    "    'learning_rate': {\n",
    "        'values': [0.01, 0.1]\n",
    "    },\n",
    "    'n_estimators': {\n",
    "        'values': [100, 200, 300, 500]\n",
    "    },\n",
    "    'min_samples_split': {\n",
    "        'values': [4, 16, 32]\n",
    "    },\n",
    "    'min_samples_leaf': {\n",
    "        'values': [10, 20, 30]\n",
    "    },\n",
    "    'max_depth': {\n",
    "        'values': [3, 6, 9]\n",
    "    },\n",
    "    'min_impurity_decrease': {\n",
    "        'values': [0.1, 0.2]\n",
    "    },\n",
    "    'min_weight_fraction_leaf': {\n",
    "        'values': [0.0, 0.1]\n",
    "    },\n",
    "    'subsample': {\n",
    "        'values': [0.75, 0.5]\n",
    "    }\n",
    "}\n",
    "sweep_config['parameters'] = parameters_dict"
   ]
  },
  {
   "cell_type": "code",
   "execution_count": null,
   "metadata": {},
   "outputs": [],
   "source": [
    "TRAIN_DATA = BASELINE_W_FEAT_ENG_TRAIN\n",
    "VAL_DATA = BASELINE_W_FEAT_ENG_VAL"
   ]
  },
  {
   "cell_type": "code",
   "execution_count": null,
   "metadata": {},
   "outputs": [],
   "source": [
    "train_set = pd.read_csv(TRAIN_DATA)\n",
    "val_set = pd.read_csv(VAL_DATA)\n",
    "\n",
    "X_train, y_train, _ = split_features_and_rent_per_sqm_label(train_set)\n",
    "X_test, y_test, _ = split_features_and_rent_per_sqm_label(val_set)"
   ]
  },
  {
   "cell_type": "code",
   "execution_count": null,
   "metadata": {},
   "outputs": [],
   "source": [
    "def train():\n",
    "    with wandb.init():\n",
    "        config = wandb.config\n",
    "\n",
    "        regressor = HistGradientBoostingRegressor(\n",
    "            random_state=42,\n",
    "            learning_rate=config.learning_rate,\n",
    "            n_estimators=config.n_estimators,\n",
    "            max_depth=config.max_depth,\n",
    "            subsample=config.subsample,\n",
    "            min_samples_leaf=config.min_samples_leaf,\n",
    "            min_samples_split=config.min_samples_split,\n",
    "            min_impurity_decrease=config.min_impurity_decrease,\n",
    "            min_weight_fraction_leaf=config.min_weight_fraction_leaf)\n",
    "        regressor.fit(X_train, y_train)\n",
    "        \n",
    "        score = regressor.score(X_test, y_test)\n",
    "        y_pred = regressor.predict(X_test)\n",
    "        mse = mean_squared_error(y_test, y_pred)\n",
    "\n",
    "    \n",
    "        # feat_importances = pd.Series(regressor.feature_importances_, index=X_train.columns)\n",
    "        # plt.barh(X_train.columns, feat_importances.nlargest(10))\n",
    "        # wandb.log({'feature_importances': plt})\n",
    "\n",
    "        # wandb.sklearn.plot_regressor(regressor, X_train, X_test, y_train, y_test, 'GradientBoost')\n",
    "        wandb.log(data={\"mse\": mse, \"coefficient_of_determination\": score})"
   ]
  },
  {
   "cell_type": "code",
   "execution_count": null,
   "metadata": {},
   "outputs": [],
   "source": [
    "sweep_id = wandb.sweep(sweep_config, project=\"hdb_rental_prices_ppsm_feat_eng\")\n",
    "wandb.agent(sweep_id, train, count=20)"
   ]
  },
  {
   "attachments": {},
   "cell_type": "markdown",
   "metadata": {},
   "source": [
    "### Model for Baseline Target Encoding Dataset"
   ]
  },
  {
   "cell_type": "code",
   "execution_count": null,
   "metadata": {},
   "outputs": [],
   "source": [
    "sweep_config = {\n",
    "    'method': 'random'\n",
    "}\n",
    "metric = {\n",
    "    'name': 'val_rmse',\n",
    "    'goal': 'minimize'   \n",
    "    }\n",
    "\n",
    "sweep_config['metric'] = metric"
   ]
  },
  {
   "cell_type": "code",
   "execution_count": null,
   "metadata": {},
   "outputs": [],
   "source": [
    "parameters_dict = {\n",
    "    'learning_rate': {\n",
    "        'values': [0.1]\n",
    "    },\n",
    "    'max_iter': {\n",
    "        'values': [100, 200, 300, 500, 1000, 2000]\n",
    "    },\n",
    "    'max_leaf_nodes': {\n",
    "        'values': [10, 31, 50, 100]\n",
    "    },\n",
    "    'max_depth' : {\n",
    "        'values': [3, 4, 5, 6, 7, 8, 9]\n",
    "    },\n",
    "    'min_samples_leaf': {\n",
    "        'values': [20, 40, 60]\n",
    "    },\n",
    "    'l2_regularization': {\n",
    "        'values': [0, 0.1, 0.2, 0.3]\n",
    "    },\n",
    "    'max_bins': {\n",
    "        'values': [255, 128]\n",
    "    }\n",
    "}\n",
    "sweep_config['parameters'] = parameters_dict"
   ]
  },
  {
   "cell_type": "code",
   "execution_count": null,
   "metadata": {},
   "outputs": [],
   "source": [
    "TRAIN_DATA = TARGET_ENC_BASELINE_TRAIN\n",
    "VAL_DATA = TARGET_ENC_BASELINE_VAL"
   ]
  },
  {
   "cell_type": "code",
   "execution_count": null,
   "metadata": {},
   "outputs": [],
   "source": [
    "train_set = pd.read_csv(TRAIN_DATA)\n",
    "val_set = pd.read_csv(VAL_DATA)\n",
    "\n",
    "X_train, y_train = split_features_and_monthly_rent_label(train_set)\n",
    "X_test, y_test = split_features_and_monthly_rent_label(val_set)\n"
   ]
  },
  {
   "cell_type": "code",
   "execution_count": null,
   "metadata": {},
   "outputs": [],
   "source": [
    "def train():\n",
    "    with wandb.init():\n",
    "        config = wandb.config\n",
    "\n",
    "        regressor = HistGradientBoostingRegressor(\n",
    "            random_state=42,\n",
    "            learning_rate=config.learning_rate,\n",
    "            max_iter=config.max_iter,\n",
    "            max_depth=config.max_depth,\n",
    "            max_leaf_nodes=config.max_leaf_nodes,\n",
    "            min_samples_leaf=config.min_samples_leaf,\n",
    "            l2_regularization=config.l2_regularization,\n",
    "            max_bins=config.max_bins)\n",
    "        regressor.fit(X_train, y_train)\n",
    "        train_score = regressor.score(X_train, y_train)\n",
    "        val_score = regressor.score(X_test, y_test)\n",
    "        \n",
    "        y_train_pred = regressor.predict(X_train)\n",
    "        train_rmse = mean_squared_error(y_train, y_train_pred, squared=False)\n",
    "        y_test_pred = regressor.predict(X_test)\n",
    "        val_rmse = mean_squared_error(y_test, y_test_pred, squared=False)\n",
    "\n",
    "\n",
    "    \n",
    "        # feat_importances = pd.Series(regressor.feature_importances_, index=X_train.columns)\n",
    "        # plt.barh(X_train.columns, feat_importances.nlargest(10))\n",
    "        # wandb.log({'feature_importances': plt})\n",
    "\n",
    "        # wandb.sklearn.plot_regressor(regressor, X_train, X_test, y_train, y_test, 'GradientBoost')\n",
    "        wandb.log(data={\"train_rmse\": train_rmse, \"train_score\": train_score, \"val_rmse\": val_rmse, \"val_score\": val_score})\n"
   ]
  },
  {
   "cell_type": "code",
   "execution_count": null,
   "metadata": {},
   "outputs": [],
   "source": [
    "sweep_id = wandb.sweep(sweep_config, project=\"hdb_rental_prices_target_enc_baseline_rmse_histgb\")\n",
    "wandb.agent(sweep_id, train, count=20)"
   ]
  },
  {
   "cell_type": "markdown",
   "metadata": {},
   "source": [
    "### Model for Truncated Baseline + Feature Engineering"
   ]
  },
  {
   "cell_type": "code",
   "execution_count": null,
   "metadata": {},
   "outputs": [],
   "source": [
    "sweep_config = {\n",
    "    'method': 'bayes'\n",
    "}\n",
    "metric = {\n",
    "    'name': 'val_rmse',\n",
    "    'goal': 'minimize'   \n",
    "    }\n",
    "\n",
    "sweep_config['metric'] = metric"
   ]
  },
  {
   "cell_type": "code",
   "execution_count": null,
   "metadata": {},
   "outputs": [],
   "source": [
    "parameters_dict = {\n",
    "    'learning_rate': {\n",
    "        'values': [0.1]\n",
    "    },\n",
    "    'max_iter': {\n",
    "        'values': [100, 200, 300, 500, 1000, 2000]\n",
    "    },\n",
    "    'max_leaf_nodes': {\n",
    "        'values': [10, 31, 50, 100]\n",
    "    },\n",
    "    'max_depth' : {\n",
    "        'values': [3, 4, 5, 6, 7, 8, 9]\n",
    "    },\n",
    "    'min_samples_leaf': {\n",
    "        'values': [20, 40, 60]\n",
    "    },\n",
    "    'l2_regularization': {\n",
    "        'values': [0, 0.1, 0.2, 0.3]\n",
    "    },\n",
    "    'max_bins': {\n",
    "        'values': [255, 128]\n",
    "    }\n",
    "}\n",
    "sweep_config['parameters'] = parameters_dict"
   ]
  },
  {
   "cell_type": "code",
   "execution_count": null,
   "metadata": {},
   "outputs": [],
   "source": [
    "TRAIN_DATA = TRUNCATED_FEAT_ENG_TRAIN\n",
    "VAL_DATA = TRUNCATED_FEAT_ENG_VAL"
   ]
  },
  {
   "cell_type": "code",
   "execution_count": null,
   "metadata": {},
   "outputs": [],
   "source": [
    "train_set = pd.read_csv(TRAIN_DATA)\n",
    "val_set = pd.read_csv(VAL_DATA)\n",
    "\n",
    "X_train, y_train = split_features_and_monthly_rent_label(train_set)\n",
    "X_test, y_test = split_features_and_monthly_rent_label(val_set)"
   ]
  },
  {
   "cell_type": "code",
   "execution_count": null,
   "metadata": {},
   "outputs": [],
   "source": [
    "def train():\n",
    "    with wandb.init():\n",
    "        config = wandb.config\n",
    "\n",
    "        regressor = HistGradientBoostingRegressor(\n",
    "            random_state=42,\n",
    "            learning_rate=config.learning_rate,\n",
    "            max_iter=config.max_iter,\n",
    "            max_depth=config.max_depth,\n",
    "            max_leaf_nodes=config.max_leaf_nodes,\n",
    "            min_samples_leaf=config.min_samples_leaf,\n",
    "            l2_regularization=config.l2_regularization,\n",
    "            max_bins=config.max_bins)\n",
    "        regressor.fit(X_train, y_train)\n",
    "        train_score = regressor.score(X_train, y_train)\n",
    "        val_score = regressor.score(X_test, y_test)\n",
    "        \n",
    "        y_train_pred = regressor.predict(X_train)\n",
    "        train_rmse = mean_squared_error(y_train, y_train_pred, squared=False)\n",
    "        y_test_pred = regressor.predict(X_test)\n",
    "        val_rmse = mean_squared_error(y_test, y_test_pred, squared=False)\n",
    "\n",
    "\n",
    "    \n",
    "        # feat_importances = pd.Series(regressor.feature_importances_, index=X_train.columns)\n",
    "        # plt.barh(X_train.columns, feat_importances.nlargest(10))\n",
    "        # wandb.log({'feature_importances': plt})\n",
    "\n",
    "        # wandb.sklearn.plot_regressor(regressor, X_train, X_test, y_train, y_test, 'GradientBoost')\n",
    "        wandb.log(data={\"train_rmse\": train_rmse, \"train_score\": train_score, \"val_rmse\": val_rmse, \"val_score\": val_score})\n"
   ]
  },
  {
   "cell_type": "code",
   "execution_count": null,
   "metadata": {},
   "outputs": [],
   "source": [
    "sweep_id = wandb.sweep(sweep_config, project=\"hdb_rental_prices_truncated_feat_eng_rmse_histgb\")\n",
    "wandb.agent(sweep_id, train, count=20)"
   ]
  },
  {
   "cell_type": "markdown",
   "metadata": {},
   "source": [
    "### Model for the Truncated Model + Feature Engineering in Price Per Sq Metre"
   ]
  },
  {
   "cell_type": "code",
   "execution_count": 4,
   "metadata": {},
   "outputs": [],
   "source": [
    "sweep_config = {\n",
    "    'method': 'bayes'\n",
    "}\n",
    "metric = {\n",
    "    'name': 'val_rmse',\n",
    "    'goal': 'minimize'   \n",
    "    }\n",
    "\n",
    "sweep_config['metric'] = metric"
   ]
  },
  {
   "cell_type": "code",
   "execution_count": 5,
   "metadata": {},
   "outputs": [],
   "source": [
    "parameters_dict = {\n",
    "    'learning_rate': {\n",
    "        'values': [0.1]\n",
    "    },\n",
    "    'max_iter': {\n",
    "        'values': [100, 200, 300, 500, 1000, 2000]\n",
    "    },\n",
    "    'max_leaf_nodes': {\n",
    "        'values': [10, 31, 50, 100]\n",
    "    },\n",
    "    'max_depth' : {\n",
    "        'values': [3, 4, 5, 6, 7, 8, 9]\n",
    "    },\n",
    "    'min_samples_leaf': {\n",
    "        'values': [20, 40, 60]\n",
    "    },\n",
    "    'l2_regularization': {\n",
    "        'values': [0, 0.1, 0.2, 0.3]\n",
    "    },\n",
    "    'max_bins': {\n",
    "        'values': [255, 128]\n",
    "    }\n",
    "}\n",
    "sweep_config['parameters'] = parameters_dict"
   ]
  },
  {
   "cell_type": "code",
   "execution_count": 6,
   "metadata": {},
   "outputs": [],
   "source": [
    "TRAIN_DATA = TRUNCATED_FEAT_ENG_TRAIN\n",
    "VAL_DATA = TRUNCATED_FEAT_ENG_VAL"
   ]
  },
  {
   "cell_type": "code",
   "execution_count": 7,
   "metadata": {},
   "outputs": [],
   "source": [
    "train_set = pd.read_csv(TRAIN_DATA)\n",
    "val_set = pd.read_csv(VAL_DATA)\n",
    "\n",
    "X_train, y_train, _ = split_features_and_rent_per_sqm_label(train_set)\n",
    "X_test, y_test, _ = split_features_and_rent_per_sqm_label(val_set)"
   ]
  },
  {
   "cell_type": "code",
   "execution_count": 8,
   "metadata": {},
   "outputs": [],
   "source": [
    "def train():\n",
    "    with wandb.init():\n",
    "        config = wandb.config\n",
    "\n",
    "        regressor = HistGradientBoostingRegressor(\n",
    "            random_state=42,\n",
    "            learning_rate=config.learning_rate,\n",
    "            max_iter=config.max_iter,\n",
    "            max_depth=config.max_depth,\n",
    "            max_leaf_nodes=config.max_leaf_nodes,\n",
    "            min_samples_leaf=config.min_samples_leaf,\n",
    "            l2_regularization=config.l2_regularization,\n",
    "            max_bins=config.max_bins)\n",
    "        regressor.fit(X_train, y_train)\n",
    "        train_score = regressor.score(X_train, y_train)\n",
    "        val_score = regressor.score(X_test, y_test)\n",
    "        \n",
    "        y_train_pred = regressor.predict(X_train)\n",
    "        train_rmse = mean_squared_error(y_train, y_train_pred, squared=False)\n",
    "        y_test_pred = regressor.predict(X_test)\n",
    "        val_rmse = mean_squared_error(y_test, y_test_pred, squared=False)\n",
    "\n",
    "\n",
    "    \n",
    "        # feat_importances = pd.Series(regressor.feature_importances_, index=X_train.columns)\n",
    "        # plt.barh(X_train.columns, feat_importances.nlargest(10))\n",
    "        # wandb.log({'feature_importances': plt})\n",
    "\n",
    "        # wandb.sklearn.plot_regressor(regressor, X_train, X_test, y_train, y_test, 'GradientBoost')\n",
    "        wandb.log(data={\"train_rmse\": train_rmse, \"train_score\": train_score, \"val_rmse\": val_rmse, \"val_score\": val_score})"
   ]
  },
  {
   "cell_type": "code",
   "execution_count": 9,
   "metadata": {},
   "outputs": [
    {
     "name": "stdout",
     "output_type": "stream",
     "text": [
      "Create sweep with ID: jjwi9k0g\n",
      "Sweep URL: https://wandb.ai/minjabenho/hdb_rental_prices_truncated_feat_eng_ppsm_rmse_histgb/sweeps/jjwi9k0g\n"
     ]
    },
    {
     "name": "stderr",
     "output_type": "stream",
     "text": [
      "\u001b[34m\u001b[1mwandb\u001b[0m: Agent Starting Run: l5affdxe with config:\n",
      "\u001b[34m\u001b[1mwandb\u001b[0m: \tl2_regularization: 0\n",
      "\u001b[34m\u001b[1mwandb\u001b[0m: \tlearning_rate: 0.1\n",
      "\u001b[34m\u001b[1mwandb\u001b[0m: \tmax_bins: 128\n",
      "\u001b[34m\u001b[1mwandb\u001b[0m: \tmax_depth: 3\n",
      "\u001b[34m\u001b[1mwandb\u001b[0m: \tmax_iter: 100\n",
      "\u001b[34m\u001b[1mwandb\u001b[0m: \tmax_leaf_nodes: 50\n",
      "\u001b[34m\u001b[1mwandb\u001b[0m: \tmin_samples_leaf: 20\n",
      "Failed to detect the name of this notebook, you can set it manually with the WANDB_NOTEBOOK_NAME environment variable to enable code saving.\n"
     ]
    },
    {
     "data": {
      "text/html": [
       "wandb version 0.15.12 is available!  To upgrade, please run:\n",
       " $ pip install wandb --upgrade"
      ],
      "text/plain": [
       "<IPython.core.display.HTML object>"
      ]
     },
     "metadata": {},
     "output_type": "display_data"
    },
    {
     "data": {
      "text/html": [
       "Tracking run with wandb version 0.15.11"
      ],
      "text/plain": [
       "<IPython.core.display.HTML object>"
      ]
     },
     "metadata": {},
     "output_type": "display_data"
    },
    {
     "data": {
      "text/html": [
       "Run data is saved locally in <code>/home/benhgm/workspace/cs5228_flat_rental/wandb/run-20231018_143959-l5affdxe</code>"
      ],
      "text/plain": [
       "<IPython.core.display.HTML object>"
      ]
     },
     "metadata": {},
     "output_type": "display_data"
    },
    {
     "data": {
      "text/html": [
       "Syncing run <strong><a href='https://wandb.ai/minjabenho/hdb_rental_prices_truncated_feat_eng_ppsm_rmse_histgb/runs/l5affdxe' target=\"_blank\">upbeat-sweep-1</a></strong> to <a href='https://wandb.ai/minjabenho/hdb_rental_prices_truncated_feat_eng_ppsm_rmse_histgb' target=\"_blank\">Weights & Biases</a> (<a href='https://wandb.me/run' target=\"_blank\">docs</a>)<br/>Sweep page: <a href='https://wandb.ai/minjabenho/hdb_rental_prices_truncated_feat_eng_ppsm_rmse_histgb/sweeps/jjwi9k0g' target=\"_blank\">https://wandb.ai/minjabenho/hdb_rental_prices_truncated_feat_eng_ppsm_rmse_histgb/sweeps/jjwi9k0g</a>"
      ],
      "text/plain": [
       "<IPython.core.display.HTML object>"
      ]
     },
     "metadata": {},
     "output_type": "display_data"
    },
    {
     "data": {
      "text/html": [
       " View project at <a href='https://wandb.ai/minjabenho/hdb_rental_prices_truncated_feat_eng_ppsm_rmse_histgb' target=\"_blank\">https://wandb.ai/minjabenho/hdb_rental_prices_truncated_feat_eng_ppsm_rmse_histgb</a>"
      ],
      "text/plain": [
       "<IPython.core.display.HTML object>"
      ]
     },
     "metadata": {},
     "output_type": "display_data"
    },
    {
     "data": {
      "text/html": [
       " View sweep at <a href='https://wandb.ai/minjabenho/hdb_rental_prices_truncated_feat_eng_ppsm_rmse_histgb/sweeps/jjwi9k0g' target=\"_blank\">https://wandb.ai/minjabenho/hdb_rental_prices_truncated_feat_eng_ppsm_rmse_histgb/sweeps/jjwi9k0g</a>"
      ],
      "text/plain": [
       "<IPython.core.display.HTML object>"
      ]
     },
     "metadata": {},
     "output_type": "display_data"
    },
    {
     "data": {
      "text/html": [
       " View run at <a href='https://wandb.ai/minjabenho/hdb_rental_prices_truncated_feat_eng_ppsm_rmse_histgb/runs/l5affdxe' target=\"_blank\">https://wandb.ai/minjabenho/hdb_rental_prices_truncated_feat_eng_ppsm_rmse_histgb/runs/l5affdxe</a>"
      ],
      "text/plain": [
       "<IPython.core.display.HTML object>"
      ]
     },
     "metadata": {},
     "output_type": "display_data"
    },
    {
     "data": {
      "text/html": [
       "Waiting for W&B process to finish... <strong style=\"color:green\">(success).</strong>"
      ],
      "text/plain": [
       "<IPython.core.display.HTML object>"
      ]
     },
     "metadata": {},
     "output_type": "display_data"
    },
    {
     "data": {
      "text/html": [
       "<style>\n",
       "    table.wandb td:nth-child(1) { padding: 0 10px; text-align: left ; width: auto;} td:nth-child(2) {text-align: left ; width: 100%}\n",
       "    .wandb-row { display: flex; flex-direction: row; flex-wrap: wrap; justify-content: flex-start; width: 100% }\n",
       "    .wandb-col { display: flex; flex-direction: column; flex-basis: 100%; flex: 1; padding: 10px; }\n",
       "    </style>\n",
       "<div class=\"wandb-row\"><div class=\"wandb-col\"><h3>Run history:</h3><br/><table class=\"wandb\"><tr><td>train_rmse</td><td>▁</td></tr><tr><td>train_score</td><td>▁</td></tr><tr><td>val_rmse</td><td>▁</td></tr><tr><td>val_score</td><td>▁</td></tr></table><br/></div><div class=\"wandb-col\"><h3>Run summary:</h3><br/><table class=\"wandb\"><tr><td>train_rmse</td><td>5.73731</td></tr><tr><td>train_score</td><td>0.59848</td></tr><tr><td>val_rmse</td><td>5.74392</td></tr><tr><td>val_score</td><td>0.58752</td></tr></table><br/></div></div>"
      ],
      "text/plain": [
       "<IPython.core.display.HTML object>"
      ]
     },
     "metadata": {},
     "output_type": "display_data"
    },
    {
     "data": {
      "text/html": [
       " View run <strong style=\"color:#cdcd00\">upbeat-sweep-1</strong> at: <a href='https://wandb.ai/minjabenho/hdb_rental_prices_truncated_feat_eng_ppsm_rmse_histgb/runs/l5affdxe' target=\"_blank\">https://wandb.ai/minjabenho/hdb_rental_prices_truncated_feat_eng_ppsm_rmse_histgb/runs/l5affdxe</a><br/>Synced 5 W&B file(s), 0 media file(s), 0 artifact file(s) and 0 other file(s)"
      ],
      "text/plain": [
       "<IPython.core.display.HTML object>"
      ]
     },
     "metadata": {},
     "output_type": "display_data"
    },
    {
     "data": {
      "text/html": [
       "Find logs at: <code>./wandb/run-20231018_143959-l5affdxe/logs</code>"
      ],
      "text/plain": [
       "<IPython.core.display.HTML object>"
      ]
     },
     "metadata": {},
     "output_type": "display_data"
    },
    {
     "name": "stderr",
     "output_type": "stream",
     "text": [
      "\u001b[34m\u001b[1mwandb\u001b[0m: Agent Starting Run: h632433j with config:\n",
      "\u001b[34m\u001b[1mwandb\u001b[0m: \tl2_regularization: 0.2\n",
      "\u001b[34m\u001b[1mwandb\u001b[0m: \tlearning_rate: 0.1\n",
      "\u001b[34m\u001b[1mwandb\u001b[0m: \tmax_bins: 255\n",
      "\u001b[34m\u001b[1mwandb\u001b[0m: \tmax_depth: 8\n",
      "\u001b[34m\u001b[1mwandb\u001b[0m: \tmax_iter: 1000\n",
      "\u001b[34m\u001b[1mwandb\u001b[0m: \tmax_leaf_nodes: 50\n",
      "\u001b[34m\u001b[1mwandb\u001b[0m: \tmin_samples_leaf: 40\n",
      "Failed to detect the name of this notebook, you can set it manually with the WANDB_NOTEBOOK_NAME environment variable to enable code saving.\n"
     ]
    },
    {
     "data": {
      "text/html": [
       "wandb version 0.15.12 is available!  To upgrade, please run:\n",
       " $ pip install wandb --upgrade"
      ],
      "text/plain": [
       "<IPython.core.display.HTML object>"
      ]
     },
     "metadata": {},
     "output_type": "display_data"
    },
    {
     "data": {
      "text/html": [
       "Tracking run with wandb version 0.15.11"
      ],
      "text/plain": [
       "<IPython.core.display.HTML object>"
      ]
     },
     "metadata": {},
     "output_type": "display_data"
    },
    {
     "data": {
      "text/html": [
       "Run data is saved locally in <code>/home/benhgm/workspace/cs5228_flat_rental/wandb/run-20231018_144011-h632433j</code>"
      ],
      "text/plain": [
       "<IPython.core.display.HTML object>"
      ]
     },
     "metadata": {},
     "output_type": "display_data"
    },
    {
     "data": {
      "text/html": [
       "Syncing run <strong><a href='https://wandb.ai/minjabenho/hdb_rental_prices_truncated_feat_eng_ppsm_rmse_histgb/runs/h632433j' target=\"_blank\">generous-sweep-2</a></strong> to <a href='https://wandb.ai/minjabenho/hdb_rental_prices_truncated_feat_eng_ppsm_rmse_histgb' target=\"_blank\">Weights & Biases</a> (<a href='https://wandb.me/run' target=\"_blank\">docs</a>)<br/>Sweep page: <a href='https://wandb.ai/minjabenho/hdb_rental_prices_truncated_feat_eng_ppsm_rmse_histgb/sweeps/jjwi9k0g' target=\"_blank\">https://wandb.ai/minjabenho/hdb_rental_prices_truncated_feat_eng_ppsm_rmse_histgb/sweeps/jjwi9k0g</a>"
      ],
      "text/plain": [
       "<IPython.core.display.HTML object>"
      ]
     },
     "metadata": {},
     "output_type": "display_data"
    },
    {
     "data": {
      "text/html": [
       " View project at <a href='https://wandb.ai/minjabenho/hdb_rental_prices_truncated_feat_eng_ppsm_rmse_histgb' target=\"_blank\">https://wandb.ai/minjabenho/hdb_rental_prices_truncated_feat_eng_ppsm_rmse_histgb</a>"
      ],
      "text/plain": [
       "<IPython.core.display.HTML object>"
      ]
     },
     "metadata": {},
     "output_type": "display_data"
    },
    {
     "data": {
      "text/html": [
       " View sweep at <a href='https://wandb.ai/minjabenho/hdb_rental_prices_truncated_feat_eng_ppsm_rmse_histgb/sweeps/jjwi9k0g' target=\"_blank\">https://wandb.ai/minjabenho/hdb_rental_prices_truncated_feat_eng_ppsm_rmse_histgb/sweeps/jjwi9k0g</a>"
      ],
      "text/plain": [
       "<IPython.core.display.HTML object>"
      ]
     },
     "metadata": {},
     "output_type": "display_data"
    },
    {
     "data": {
      "text/html": [
       " View run at <a href='https://wandb.ai/minjabenho/hdb_rental_prices_truncated_feat_eng_ppsm_rmse_histgb/runs/h632433j' target=\"_blank\">https://wandb.ai/minjabenho/hdb_rental_prices_truncated_feat_eng_ppsm_rmse_histgb/runs/h632433j</a>"
      ],
      "text/plain": [
       "<IPython.core.display.HTML object>"
      ]
     },
     "metadata": {},
     "output_type": "display_data"
    },
    {
     "data": {
      "text/html": [
       "Waiting for W&B process to finish... <strong style=\"color:green\">(success).</strong>"
      ],
      "text/plain": [
       "<IPython.core.display.HTML object>"
      ]
     },
     "metadata": {},
     "output_type": "display_data"
    },
    {
     "data": {
      "text/html": [
       "<style>\n",
       "    table.wandb td:nth-child(1) { padding: 0 10px; text-align: left ; width: auto;} td:nth-child(2) {text-align: left ; width: 100%}\n",
       "    .wandb-row { display: flex; flex-direction: row; flex-wrap: wrap; justify-content: flex-start; width: 100% }\n",
       "    .wandb-col { display: flex; flex-direction: column; flex-basis: 100%; flex: 1; padding: 10px; }\n",
       "    </style>\n",
       "<div class=\"wandb-row\"><div class=\"wandb-col\"><h3>Run history:</h3><br/><table class=\"wandb\"><tr><td>train_rmse</td><td>▁</td></tr><tr><td>train_score</td><td>▁</td></tr><tr><td>val_rmse</td><td>▁</td></tr><tr><td>val_score</td><td>▁</td></tr></table><br/></div><div class=\"wandb-col\"><h3>Run summary:</h3><br/><table class=\"wandb\"><tr><td>train_rmse</td><td>5.31205</td></tr><tr><td>train_score</td><td>0.6558</td></tr><tr><td>val_rmse</td><td>5.59716</td></tr><tr><td>val_score</td><td>0.60833</td></tr></table><br/></div></div>"
      ],
      "text/plain": [
       "<IPython.core.display.HTML object>"
      ]
     },
     "metadata": {},
     "output_type": "display_data"
    },
    {
     "data": {
      "text/html": [
       " View run <strong style=\"color:#cdcd00\">generous-sweep-2</strong> at: <a href='https://wandb.ai/minjabenho/hdb_rental_prices_truncated_feat_eng_ppsm_rmse_histgb/runs/h632433j' target=\"_blank\">https://wandb.ai/minjabenho/hdb_rental_prices_truncated_feat_eng_ppsm_rmse_histgb/runs/h632433j</a><br/>Synced 5 W&B file(s), 0 media file(s), 0 artifact file(s) and 0 other file(s)"
      ],
      "text/plain": [
       "<IPython.core.display.HTML object>"
      ]
     },
     "metadata": {},
     "output_type": "display_data"
    },
    {
     "data": {
      "text/html": [
       "Find logs at: <code>./wandb/run-20231018_144011-h632433j/logs</code>"
      ],
      "text/plain": [
       "<IPython.core.display.HTML object>"
      ]
     },
     "metadata": {},
     "output_type": "display_data"
    },
    {
     "name": "stderr",
     "output_type": "stream",
     "text": [
      "\u001b[34m\u001b[1mwandb\u001b[0m: Sweep Agent: Waiting for job.\n",
      "\u001b[34m\u001b[1mwandb\u001b[0m: Job received.\n",
      "\u001b[34m\u001b[1mwandb\u001b[0m: Agent Starting Run: qxc678js with config:\n",
      "\u001b[34m\u001b[1mwandb\u001b[0m: \tl2_regularization: 0.2\n",
      "\u001b[34m\u001b[1mwandb\u001b[0m: \tlearning_rate: 0.1\n",
      "\u001b[34m\u001b[1mwandb\u001b[0m: \tmax_bins: 128\n",
      "\u001b[34m\u001b[1mwandb\u001b[0m: \tmax_depth: 8\n",
      "\u001b[34m\u001b[1mwandb\u001b[0m: \tmax_iter: 100\n",
      "\u001b[34m\u001b[1mwandb\u001b[0m: \tmax_leaf_nodes: 31\n",
      "\u001b[34m\u001b[1mwandb\u001b[0m: \tmin_samples_leaf: 20\n",
      "Failed to detect the name of this notebook, you can set it manually with the WANDB_NOTEBOOK_NAME environment variable to enable code saving.\n"
     ]
    },
    {
     "data": {
      "text/html": [
       "wandb version 0.15.12 is available!  To upgrade, please run:\n",
       " $ pip install wandb --upgrade"
      ],
      "text/plain": [
       "<IPython.core.display.HTML object>"
      ]
     },
     "metadata": {},
     "output_type": "display_data"
    },
    {
     "data": {
      "text/html": [
       "Tracking run with wandb version 0.15.11"
      ],
      "text/plain": [
       "<IPython.core.display.HTML object>"
      ]
     },
     "metadata": {},
     "output_type": "display_data"
    },
    {
     "data": {
      "text/html": [
       "Run data is saved locally in <code>/home/benhgm/workspace/cs5228_flat_rental/wandb/run-20231018_144031-qxc678js</code>"
      ],
      "text/plain": [
       "<IPython.core.display.HTML object>"
      ]
     },
     "metadata": {},
     "output_type": "display_data"
    },
    {
     "data": {
      "text/html": [
       "Syncing run <strong><a href='https://wandb.ai/minjabenho/hdb_rental_prices_truncated_feat_eng_ppsm_rmse_histgb/runs/qxc678js' target=\"_blank\">lilac-sweep-3</a></strong> to <a href='https://wandb.ai/minjabenho/hdb_rental_prices_truncated_feat_eng_ppsm_rmse_histgb' target=\"_blank\">Weights & Biases</a> (<a href='https://wandb.me/run' target=\"_blank\">docs</a>)<br/>Sweep page: <a href='https://wandb.ai/minjabenho/hdb_rental_prices_truncated_feat_eng_ppsm_rmse_histgb/sweeps/jjwi9k0g' target=\"_blank\">https://wandb.ai/minjabenho/hdb_rental_prices_truncated_feat_eng_ppsm_rmse_histgb/sweeps/jjwi9k0g</a>"
      ],
      "text/plain": [
       "<IPython.core.display.HTML object>"
      ]
     },
     "metadata": {},
     "output_type": "display_data"
    },
    {
     "data": {
      "text/html": [
       " View project at <a href='https://wandb.ai/minjabenho/hdb_rental_prices_truncated_feat_eng_ppsm_rmse_histgb' target=\"_blank\">https://wandb.ai/minjabenho/hdb_rental_prices_truncated_feat_eng_ppsm_rmse_histgb</a>"
      ],
      "text/plain": [
       "<IPython.core.display.HTML object>"
      ]
     },
     "metadata": {},
     "output_type": "display_data"
    },
    {
     "data": {
      "text/html": [
       " View sweep at <a href='https://wandb.ai/minjabenho/hdb_rental_prices_truncated_feat_eng_ppsm_rmse_histgb/sweeps/jjwi9k0g' target=\"_blank\">https://wandb.ai/minjabenho/hdb_rental_prices_truncated_feat_eng_ppsm_rmse_histgb/sweeps/jjwi9k0g</a>"
      ],
      "text/plain": [
       "<IPython.core.display.HTML object>"
      ]
     },
     "metadata": {},
     "output_type": "display_data"
    },
    {
     "data": {
      "text/html": [
       " View run at <a href='https://wandb.ai/minjabenho/hdb_rental_prices_truncated_feat_eng_ppsm_rmse_histgb/runs/qxc678js' target=\"_blank\">https://wandb.ai/minjabenho/hdb_rental_prices_truncated_feat_eng_ppsm_rmse_histgb/runs/qxc678js</a>"
      ],
      "text/plain": [
       "<IPython.core.display.HTML object>"
      ]
     },
     "metadata": {},
     "output_type": "display_data"
    },
    {
     "data": {
      "text/html": [
       "Waiting for W&B process to finish... <strong style=\"color:green\">(success).</strong>"
      ],
      "text/plain": [
       "<IPython.core.display.HTML object>"
      ]
     },
     "metadata": {},
     "output_type": "display_data"
    },
    {
     "data": {
      "text/html": [
       "<style>\n",
       "    table.wandb td:nth-child(1) { padding: 0 10px; text-align: left ; width: auto;} td:nth-child(2) {text-align: left ; width: 100%}\n",
       "    .wandb-row { display: flex; flex-direction: row; flex-wrap: wrap; justify-content: flex-start; width: 100% }\n",
       "    .wandb-col { display: flex; flex-direction: column; flex-basis: 100%; flex: 1; padding: 10px; }\n",
       "    </style>\n",
       "<div class=\"wandb-row\"><div class=\"wandb-col\"><h3>Run history:</h3><br/><table class=\"wandb\"><tr><td>train_rmse</td><td>▁</td></tr><tr><td>train_score</td><td>▁</td></tr><tr><td>val_rmse</td><td>▁</td></tr><tr><td>val_score</td><td>▁</td></tr></table><br/></div><div class=\"wandb-col\"><h3>Run summary:</h3><br/><table class=\"wandb\"><tr><td>train_rmse</td><td>5.49929</td></tr><tr><td>train_score</td><td>0.6311</td></tr><tr><td>val_rmse</td><td>5.61944</td></tr><tr><td>val_score</td><td>0.6052</td></tr></table><br/></div></div>"
      ],
      "text/plain": [
       "<IPython.core.display.HTML object>"
      ]
     },
     "metadata": {},
     "output_type": "display_data"
    },
    {
     "data": {
      "text/html": [
       " View run <strong style=\"color:#cdcd00\">lilac-sweep-3</strong> at: <a href='https://wandb.ai/minjabenho/hdb_rental_prices_truncated_feat_eng_ppsm_rmse_histgb/runs/qxc678js' target=\"_blank\">https://wandb.ai/minjabenho/hdb_rental_prices_truncated_feat_eng_ppsm_rmse_histgb/runs/qxc678js</a><br/>Synced 5 W&B file(s), 0 media file(s), 0 artifact file(s) and 0 other file(s)"
      ],
      "text/plain": [
       "<IPython.core.display.HTML object>"
      ]
     },
     "metadata": {},
     "output_type": "display_data"
    },
    {
     "data": {
      "text/html": [
       "Find logs at: <code>./wandb/run-20231018_144031-qxc678js/logs</code>"
      ],
      "text/plain": [
       "<IPython.core.display.HTML object>"
      ]
     },
     "metadata": {},
     "output_type": "display_data"
    },
    {
     "name": "stderr",
     "output_type": "stream",
     "text": [
      "\u001b[34m\u001b[1mwandb\u001b[0m: Agent Starting Run: 18xl3ypa with config:\n",
      "\u001b[34m\u001b[1mwandb\u001b[0m: \tl2_regularization: 0.3\n",
      "\u001b[34m\u001b[1mwandb\u001b[0m: \tlearning_rate: 0.1\n",
      "\u001b[34m\u001b[1mwandb\u001b[0m: \tmax_bins: 128\n",
      "\u001b[34m\u001b[1mwandb\u001b[0m: \tmax_depth: 6\n",
      "\u001b[34m\u001b[1mwandb\u001b[0m: \tmax_iter: 1000\n",
      "\u001b[34m\u001b[1mwandb\u001b[0m: \tmax_leaf_nodes: 100\n",
      "\u001b[34m\u001b[1mwandb\u001b[0m: \tmin_samples_leaf: 60\n",
      "Failed to detect the name of this notebook, you can set it manually with the WANDB_NOTEBOOK_NAME environment variable to enable code saving.\n"
     ]
    },
    {
     "data": {
      "text/html": [
       "wandb version 0.15.12 is available!  To upgrade, please run:\n",
       " $ pip install wandb --upgrade"
      ],
      "text/plain": [
       "<IPython.core.display.HTML object>"
      ]
     },
     "metadata": {},
     "output_type": "display_data"
    },
    {
     "data": {
      "text/html": [
       "Tracking run with wandb version 0.15.11"
      ],
      "text/plain": [
       "<IPython.core.display.HTML object>"
      ]
     },
     "metadata": {},
     "output_type": "display_data"
    },
    {
     "data": {
      "text/html": [
       "Run data is saved locally in <code>/home/benhgm/workspace/cs5228_flat_rental/wandb/run-20231018_144042-18xl3ypa</code>"
      ],
      "text/plain": [
       "<IPython.core.display.HTML object>"
      ]
     },
     "metadata": {},
     "output_type": "display_data"
    },
    {
     "data": {
      "text/html": [
       "Syncing run <strong><a href='https://wandb.ai/minjabenho/hdb_rental_prices_truncated_feat_eng_ppsm_rmse_histgb/runs/18xl3ypa' target=\"_blank\">faithful-sweep-4</a></strong> to <a href='https://wandb.ai/minjabenho/hdb_rental_prices_truncated_feat_eng_ppsm_rmse_histgb' target=\"_blank\">Weights & Biases</a> (<a href='https://wandb.me/run' target=\"_blank\">docs</a>)<br/>Sweep page: <a href='https://wandb.ai/minjabenho/hdb_rental_prices_truncated_feat_eng_ppsm_rmse_histgb/sweeps/jjwi9k0g' target=\"_blank\">https://wandb.ai/minjabenho/hdb_rental_prices_truncated_feat_eng_ppsm_rmse_histgb/sweeps/jjwi9k0g</a>"
      ],
      "text/plain": [
       "<IPython.core.display.HTML object>"
      ]
     },
     "metadata": {},
     "output_type": "display_data"
    },
    {
     "data": {
      "text/html": [
       " View project at <a href='https://wandb.ai/minjabenho/hdb_rental_prices_truncated_feat_eng_ppsm_rmse_histgb' target=\"_blank\">https://wandb.ai/minjabenho/hdb_rental_prices_truncated_feat_eng_ppsm_rmse_histgb</a>"
      ],
      "text/plain": [
       "<IPython.core.display.HTML object>"
      ]
     },
     "metadata": {},
     "output_type": "display_data"
    },
    {
     "data": {
      "text/html": [
       " View sweep at <a href='https://wandb.ai/minjabenho/hdb_rental_prices_truncated_feat_eng_ppsm_rmse_histgb/sweeps/jjwi9k0g' target=\"_blank\">https://wandb.ai/minjabenho/hdb_rental_prices_truncated_feat_eng_ppsm_rmse_histgb/sweeps/jjwi9k0g</a>"
      ],
      "text/plain": [
       "<IPython.core.display.HTML object>"
      ]
     },
     "metadata": {},
     "output_type": "display_data"
    },
    {
     "data": {
      "text/html": [
       " View run at <a href='https://wandb.ai/minjabenho/hdb_rental_prices_truncated_feat_eng_ppsm_rmse_histgb/runs/18xl3ypa' target=\"_blank\">https://wandb.ai/minjabenho/hdb_rental_prices_truncated_feat_eng_ppsm_rmse_histgb/runs/18xl3ypa</a>"
      ],
      "text/plain": [
       "<IPython.core.display.HTML object>"
      ]
     },
     "metadata": {},
     "output_type": "display_data"
    },
    {
     "data": {
      "text/html": [
       "Waiting for W&B process to finish... <strong style=\"color:green\">(success).</strong>"
      ],
      "text/plain": [
       "<IPython.core.display.HTML object>"
      ]
     },
     "metadata": {},
     "output_type": "display_data"
    },
    {
     "data": {
      "text/html": [
       "<style>\n",
       "    table.wandb td:nth-child(1) { padding: 0 10px; text-align: left ; width: auto;} td:nth-child(2) {text-align: left ; width: 100%}\n",
       "    .wandb-row { display: flex; flex-direction: row; flex-wrap: wrap; justify-content: flex-start; width: 100% }\n",
       "    .wandb-col { display: flex; flex-direction: column; flex-basis: 100%; flex: 1; padding: 10px; }\n",
       "    </style>\n",
       "<div class=\"wandb-row\"><div class=\"wandb-col\"><h3>Run history:</h3><br/><table class=\"wandb\"><tr><td>train_rmse</td><td>▁</td></tr><tr><td>train_score</td><td>▁</td></tr><tr><td>val_rmse</td><td>▁</td></tr><tr><td>val_score</td><td>▁</td></tr></table><br/></div><div class=\"wandb-col\"><h3>Run summary:</h3><br/><table class=\"wandb\"><tr><td>train_rmse</td><td>5.44361</td></tr><tr><td>train_score</td><td>0.63854</td></tr><tr><td>val_rmse</td><td>5.63125</td></tr><tr><td>val_score</td><td>0.60354</td></tr></table><br/></div></div>"
      ],
      "text/plain": [
       "<IPython.core.display.HTML object>"
      ]
     },
     "metadata": {},
     "output_type": "display_data"
    },
    {
     "data": {
      "text/html": [
       " View run <strong style=\"color:#cdcd00\">faithful-sweep-4</strong> at: <a href='https://wandb.ai/minjabenho/hdb_rental_prices_truncated_feat_eng_ppsm_rmse_histgb/runs/18xl3ypa' target=\"_blank\">https://wandb.ai/minjabenho/hdb_rental_prices_truncated_feat_eng_ppsm_rmse_histgb/runs/18xl3ypa</a><br/>Synced 5 W&B file(s), 0 media file(s), 0 artifact file(s) and 0 other file(s)"
      ],
      "text/plain": [
       "<IPython.core.display.HTML object>"
      ]
     },
     "metadata": {},
     "output_type": "display_data"
    },
    {
     "data": {
      "text/html": [
       "Find logs at: <code>./wandb/run-20231018_144042-18xl3ypa/logs</code>"
      ],
      "text/plain": [
       "<IPython.core.display.HTML object>"
      ]
     },
     "metadata": {},
     "output_type": "display_data"
    },
    {
     "name": "stderr",
     "output_type": "stream",
     "text": [
      "\u001b[34m\u001b[1mwandb\u001b[0m: Agent Starting Run: pg9f2yui with config:\n",
      "\u001b[34m\u001b[1mwandb\u001b[0m: \tl2_regularization: 0.3\n",
      "\u001b[34m\u001b[1mwandb\u001b[0m: \tlearning_rate: 0.1\n",
      "\u001b[34m\u001b[1mwandb\u001b[0m: \tmax_bins: 128\n",
      "\u001b[34m\u001b[1mwandb\u001b[0m: \tmax_depth: 8\n",
      "\u001b[34m\u001b[1mwandb\u001b[0m: \tmax_iter: 1000\n",
      "\u001b[34m\u001b[1mwandb\u001b[0m: \tmax_leaf_nodes: 100\n",
      "\u001b[34m\u001b[1mwandb\u001b[0m: \tmin_samples_leaf: 60\n",
      "Failed to detect the name of this notebook, you can set it manually with the WANDB_NOTEBOOK_NAME environment variable to enable code saving.\n"
     ]
    },
    {
     "data": {
      "text/html": [
       "wandb version 0.15.12 is available!  To upgrade, please run:\n",
       " $ pip install wandb --upgrade"
      ],
      "text/plain": [
       "<IPython.core.display.HTML object>"
      ]
     },
     "metadata": {},
     "output_type": "display_data"
    },
    {
     "data": {
      "text/html": [
       "Tracking run with wandb version 0.15.11"
      ],
      "text/plain": [
       "<IPython.core.display.HTML object>"
      ]
     },
     "metadata": {},
     "output_type": "display_data"
    },
    {
     "data": {
      "text/html": [
       "Run data is saved locally in <code>/home/benhgm/workspace/cs5228_flat_rental/wandb/run-20231018_144054-pg9f2yui</code>"
      ],
      "text/plain": [
       "<IPython.core.display.HTML object>"
      ]
     },
     "metadata": {},
     "output_type": "display_data"
    },
    {
     "data": {
      "text/html": [
       "Syncing run <strong><a href='https://wandb.ai/minjabenho/hdb_rental_prices_truncated_feat_eng_ppsm_rmse_histgb/runs/pg9f2yui' target=\"_blank\">stellar-sweep-5</a></strong> to <a href='https://wandb.ai/minjabenho/hdb_rental_prices_truncated_feat_eng_ppsm_rmse_histgb' target=\"_blank\">Weights & Biases</a> (<a href='https://wandb.me/run' target=\"_blank\">docs</a>)<br/>Sweep page: <a href='https://wandb.ai/minjabenho/hdb_rental_prices_truncated_feat_eng_ppsm_rmse_histgb/sweeps/jjwi9k0g' target=\"_blank\">https://wandb.ai/minjabenho/hdb_rental_prices_truncated_feat_eng_ppsm_rmse_histgb/sweeps/jjwi9k0g</a>"
      ],
      "text/plain": [
       "<IPython.core.display.HTML object>"
      ]
     },
     "metadata": {},
     "output_type": "display_data"
    },
    {
     "data": {
      "text/html": [
       " View project at <a href='https://wandb.ai/minjabenho/hdb_rental_prices_truncated_feat_eng_ppsm_rmse_histgb' target=\"_blank\">https://wandb.ai/minjabenho/hdb_rental_prices_truncated_feat_eng_ppsm_rmse_histgb</a>"
      ],
      "text/plain": [
       "<IPython.core.display.HTML object>"
      ]
     },
     "metadata": {},
     "output_type": "display_data"
    },
    {
     "data": {
      "text/html": [
       " View sweep at <a href='https://wandb.ai/minjabenho/hdb_rental_prices_truncated_feat_eng_ppsm_rmse_histgb/sweeps/jjwi9k0g' target=\"_blank\">https://wandb.ai/minjabenho/hdb_rental_prices_truncated_feat_eng_ppsm_rmse_histgb/sweeps/jjwi9k0g</a>"
      ],
      "text/plain": [
       "<IPython.core.display.HTML object>"
      ]
     },
     "metadata": {},
     "output_type": "display_data"
    },
    {
     "data": {
      "text/html": [
       " View run at <a href='https://wandb.ai/minjabenho/hdb_rental_prices_truncated_feat_eng_ppsm_rmse_histgb/runs/pg9f2yui' target=\"_blank\">https://wandb.ai/minjabenho/hdb_rental_prices_truncated_feat_eng_ppsm_rmse_histgb/runs/pg9f2yui</a>"
      ],
      "text/plain": [
       "<IPython.core.display.HTML object>"
      ]
     },
     "metadata": {},
     "output_type": "display_data"
    },
    {
     "data": {
      "text/html": [
       "Waiting for W&B process to finish... <strong style=\"color:green\">(success).</strong>"
      ],
      "text/plain": [
       "<IPython.core.display.HTML object>"
      ]
     },
     "metadata": {},
     "output_type": "display_data"
    },
    {
     "data": {
      "text/html": [
       "<style>\n",
       "    table.wandb td:nth-child(1) { padding: 0 10px; text-align: left ; width: auto;} td:nth-child(2) {text-align: left ; width: 100%}\n",
       "    .wandb-row { display: flex; flex-direction: row; flex-wrap: wrap; justify-content: flex-start; width: 100% }\n",
       "    .wandb-col { display: flex; flex-direction: column; flex-basis: 100%; flex: 1; padding: 10px; }\n",
       "    </style>\n",
       "<div class=\"wandb-row\"><div class=\"wandb-col\"><h3>Run history:</h3><br/><table class=\"wandb\"><tr><td>train_rmse</td><td>▁</td></tr><tr><td>train_score</td><td>▁</td></tr><tr><td>val_rmse</td><td>▁</td></tr><tr><td>val_score</td><td>▁</td></tr></table><br/></div><div class=\"wandb-col\"><h3>Run summary:</h3><br/><table class=\"wandb\"><tr><td>train_rmse</td><td>5.33776</td></tr><tr><td>train_score</td><td>0.65246</td></tr><tr><td>val_rmse</td><td>5.64244</td></tr><tr><td>val_score</td><td>0.60196</td></tr></table><br/></div></div>"
      ],
      "text/plain": [
       "<IPython.core.display.HTML object>"
      ]
     },
     "metadata": {},
     "output_type": "display_data"
    },
    {
     "data": {
      "text/html": [
       " View run <strong style=\"color:#cdcd00\">stellar-sweep-5</strong> at: <a href='https://wandb.ai/minjabenho/hdb_rental_prices_truncated_feat_eng_ppsm_rmse_histgb/runs/pg9f2yui' target=\"_blank\">https://wandb.ai/minjabenho/hdb_rental_prices_truncated_feat_eng_ppsm_rmse_histgb/runs/pg9f2yui</a><br/>Synced 5 W&B file(s), 0 media file(s), 0 artifact file(s) and 0 other file(s)"
      ],
      "text/plain": [
       "<IPython.core.display.HTML object>"
      ]
     },
     "metadata": {},
     "output_type": "display_data"
    },
    {
     "data": {
      "text/html": [
       "Find logs at: <code>./wandb/run-20231018_144054-pg9f2yui/logs</code>"
      ],
      "text/plain": [
       "<IPython.core.display.HTML object>"
      ]
     },
     "metadata": {},
     "output_type": "display_data"
    },
    {
     "name": "stderr",
     "output_type": "stream",
     "text": [
      "\u001b[34m\u001b[1mwandb\u001b[0m: Agent Starting Run: nyihxhfe with config:\n",
      "\u001b[34m\u001b[1mwandb\u001b[0m: \tl2_regularization: 0.3\n",
      "\u001b[34m\u001b[1mwandb\u001b[0m: \tlearning_rate: 0.1\n",
      "\u001b[34m\u001b[1mwandb\u001b[0m: \tmax_bins: 128\n",
      "\u001b[34m\u001b[1mwandb\u001b[0m: \tmax_depth: 9\n",
      "\u001b[34m\u001b[1mwandb\u001b[0m: \tmax_iter: 2000\n",
      "\u001b[34m\u001b[1mwandb\u001b[0m: \tmax_leaf_nodes: 50\n",
      "\u001b[34m\u001b[1mwandb\u001b[0m: \tmin_samples_leaf: 40\n",
      "Failed to detect the name of this notebook, you can set it manually with the WANDB_NOTEBOOK_NAME environment variable to enable code saving.\n"
     ]
    },
    {
     "data": {
      "text/html": [
       "wandb version 0.15.12 is available!  To upgrade, please run:\n",
       " $ pip install wandb --upgrade"
      ],
      "text/plain": [
       "<IPython.core.display.HTML object>"
      ]
     },
     "metadata": {},
     "output_type": "display_data"
    },
    {
     "data": {
      "text/html": [
       "Tracking run with wandb version 0.15.11"
      ],
      "text/plain": [
       "<IPython.core.display.HTML object>"
      ]
     },
     "metadata": {},
     "output_type": "display_data"
    },
    {
     "data": {
      "text/html": [
       "Run data is saved locally in <code>/home/benhgm/workspace/cs5228_flat_rental/wandb/run-20231018_144105-nyihxhfe</code>"
      ],
      "text/plain": [
       "<IPython.core.display.HTML object>"
      ]
     },
     "metadata": {},
     "output_type": "display_data"
    },
    {
     "data": {
      "text/html": [
       "Syncing run <strong><a href='https://wandb.ai/minjabenho/hdb_rental_prices_truncated_feat_eng_ppsm_rmse_histgb/runs/nyihxhfe' target=\"_blank\">resilient-sweep-6</a></strong> to <a href='https://wandb.ai/minjabenho/hdb_rental_prices_truncated_feat_eng_ppsm_rmse_histgb' target=\"_blank\">Weights & Biases</a> (<a href='https://wandb.me/run' target=\"_blank\">docs</a>)<br/>Sweep page: <a href='https://wandb.ai/minjabenho/hdb_rental_prices_truncated_feat_eng_ppsm_rmse_histgb/sweeps/jjwi9k0g' target=\"_blank\">https://wandb.ai/minjabenho/hdb_rental_prices_truncated_feat_eng_ppsm_rmse_histgb/sweeps/jjwi9k0g</a>"
      ],
      "text/plain": [
       "<IPython.core.display.HTML object>"
      ]
     },
     "metadata": {},
     "output_type": "display_data"
    },
    {
     "data": {
      "text/html": [
       " View project at <a href='https://wandb.ai/minjabenho/hdb_rental_prices_truncated_feat_eng_ppsm_rmse_histgb' target=\"_blank\">https://wandb.ai/minjabenho/hdb_rental_prices_truncated_feat_eng_ppsm_rmse_histgb</a>"
      ],
      "text/plain": [
       "<IPython.core.display.HTML object>"
      ]
     },
     "metadata": {},
     "output_type": "display_data"
    },
    {
     "data": {
      "text/html": [
       " View sweep at <a href='https://wandb.ai/minjabenho/hdb_rental_prices_truncated_feat_eng_ppsm_rmse_histgb/sweeps/jjwi9k0g' target=\"_blank\">https://wandb.ai/minjabenho/hdb_rental_prices_truncated_feat_eng_ppsm_rmse_histgb/sweeps/jjwi9k0g</a>"
      ],
      "text/plain": [
       "<IPython.core.display.HTML object>"
      ]
     },
     "metadata": {},
     "output_type": "display_data"
    },
    {
     "data": {
      "text/html": [
       " View run at <a href='https://wandb.ai/minjabenho/hdb_rental_prices_truncated_feat_eng_ppsm_rmse_histgb/runs/nyihxhfe' target=\"_blank\">https://wandb.ai/minjabenho/hdb_rental_prices_truncated_feat_eng_ppsm_rmse_histgb/runs/nyihxhfe</a>"
      ],
      "text/plain": [
       "<IPython.core.display.HTML object>"
      ]
     },
     "metadata": {},
     "output_type": "display_data"
    },
    {
     "data": {
      "text/html": [
       "Waiting for W&B process to finish... <strong style=\"color:green\">(success).</strong>"
      ],
      "text/plain": [
       "<IPython.core.display.HTML object>"
      ]
     },
     "metadata": {},
     "output_type": "display_data"
    },
    {
     "data": {
      "text/html": [
       "<style>\n",
       "    table.wandb td:nth-child(1) { padding: 0 10px; text-align: left ; width: auto;} td:nth-child(2) {text-align: left ; width: 100%}\n",
       "    .wandb-row { display: flex; flex-direction: row; flex-wrap: wrap; justify-content: flex-start; width: 100% }\n",
       "    .wandb-col { display: flex; flex-direction: column; flex-basis: 100%; flex: 1; padding: 10px; }\n",
       "    </style>\n",
       "<div class=\"wandb-row\"><div class=\"wandb-col\"><h3>Run history:</h3><br/><table class=\"wandb\"><tr><td>train_rmse</td><td>▁</td></tr><tr><td>train_score</td><td>▁</td></tr><tr><td>val_rmse</td><td>▁</td></tr><tr><td>val_score</td><td>▁</td></tr></table><br/></div><div class=\"wandb-col\"><h3>Run summary:</h3><br/><table class=\"wandb\"><tr><td>train_rmse</td><td>5.33614</td></tr><tr><td>train_score</td><td>0.65267</td></tr><tr><td>val_rmse</td><td>5.61202</td></tr><tr><td>val_score</td><td>0.60624</td></tr></table><br/></div></div>"
      ],
      "text/plain": [
       "<IPython.core.display.HTML object>"
      ]
     },
     "metadata": {},
     "output_type": "display_data"
    },
    {
     "data": {
      "text/html": [
       " View run <strong style=\"color:#cdcd00\">resilient-sweep-6</strong> at: <a href='https://wandb.ai/minjabenho/hdb_rental_prices_truncated_feat_eng_ppsm_rmse_histgb/runs/nyihxhfe' target=\"_blank\">https://wandb.ai/minjabenho/hdb_rental_prices_truncated_feat_eng_ppsm_rmse_histgb/runs/nyihxhfe</a><br/>Synced 5 W&B file(s), 0 media file(s), 0 artifact file(s) and 0 other file(s)"
      ],
      "text/plain": [
       "<IPython.core.display.HTML object>"
      ]
     },
     "metadata": {},
     "output_type": "display_data"
    },
    {
     "data": {
      "text/html": [
       "Find logs at: <code>./wandb/run-20231018_144105-nyihxhfe/logs</code>"
      ],
      "text/plain": [
       "<IPython.core.display.HTML object>"
      ]
     },
     "metadata": {},
     "output_type": "display_data"
    },
    {
     "name": "stderr",
     "output_type": "stream",
     "text": [
      "\u001b[34m\u001b[1mwandb\u001b[0m: Sweep Agent: Waiting for job.\n",
      "\u001b[34m\u001b[1mwandb\u001b[0m: Job received.\n",
      "\u001b[34m\u001b[1mwandb\u001b[0m: Agent Starting Run: 6g60arv8 with config:\n",
      "\u001b[34m\u001b[1mwandb\u001b[0m: \tl2_regularization: 0.2\n",
      "\u001b[34m\u001b[1mwandb\u001b[0m: \tlearning_rate: 0.1\n",
      "\u001b[34m\u001b[1mwandb\u001b[0m: \tmax_bins: 255\n",
      "\u001b[34m\u001b[1mwandb\u001b[0m: \tmax_depth: 8\n",
      "\u001b[34m\u001b[1mwandb\u001b[0m: \tmax_iter: 2000\n",
      "\u001b[34m\u001b[1mwandb\u001b[0m: \tmax_leaf_nodes: 31\n",
      "\u001b[34m\u001b[1mwandb\u001b[0m: \tmin_samples_leaf: 40\n",
      "Failed to detect the name of this notebook, you can set it manually with the WANDB_NOTEBOOK_NAME environment variable to enable code saving.\n"
     ]
    },
    {
     "data": {
      "text/html": [
       "wandb version 0.15.12 is available!  To upgrade, please run:\n",
       " $ pip install wandb --upgrade"
      ],
      "text/plain": [
       "<IPython.core.display.HTML object>"
      ]
     },
     "metadata": {},
     "output_type": "display_data"
    },
    {
     "data": {
      "text/html": [
       "Tracking run with wandb version 0.15.11"
      ],
      "text/plain": [
       "<IPython.core.display.HTML object>"
      ]
     },
     "metadata": {},
     "output_type": "display_data"
    },
    {
     "data": {
      "text/html": [
       "Run data is saved locally in <code>/home/benhgm/workspace/cs5228_flat_rental/wandb/run-20231018_144126-6g60arv8</code>"
      ],
      "text/plain": [
       "<IPython.core.display.HTML object>"
      ]
     },
     "metadata": {},
     "output_type": "display_data"
    },
    {
     "data": {
      "text/html": [
       "Syncing run <strong><a href='https://wandb.ai/minjabenho/hdb_rental_prices_truncated_feat_eng_ppsm_rmse_histgb/runs/6g60arv8' target=\"_blank\">charmed-sweep-7</a></strong> to <a href='https://wandb.ai/minjabenho/hdb_rental_prices_truncated_feat_eng_ppsm_rmse_histgb' target=\"_blank\">Weights & Biases</a> (<a href='https://wandb.me/run' target=\"_blank\">docs</a>)<br/>Sweep page: <a href='https://wandb.ai/minjabenho/hdb_rental_prices_truncated_feat_eng_ppsm_rmse_histgb/sweeps/jjwi9k0g' target=\"_blank\">https://wandb.ai/minjabenho/hdb_rental_prices_truncated_feat_eng_ppsm_rmse_histgb/sweeps/jjwi9k0g</a>"
      ],
      "text/plain": [
       "<IPython.core.display.HTML object>"
      ]
     },
     "metadata": {},
     "output_type": "display_data"
    },
    {
     "data": {
      "text/html": [
       " View project at <a href='https://wandb.ai/minjabenho/hdb_rental_prices_truncated_feat_eng_ppsm_rmse_histgb' target=\"_blank\">https://wandb.ai/minjabenho/hdb_rental_prices_truncated_feat_eng_ppsm_rmse_histgb</a>"
      ],
      "text/plain": [
       "<IPython.core.display.HTML object>"
      ]
     },
     "metadata": {},
     "output_type": "display_data"
    },
    {
     "data": {
      "text/html": [
       " View sweep at <a href='https://wandb.ai/minjabenho/hdb_rental_prices_truncated_feat_eng_ppsm_rmse_histgb/sweeps/jjwi9k0g' target=\"_blank\">https://wandb.ai/minjabenho/hdb_rental_prices_truncated_feat_eng_ppsm_rmse_histgb/sweeps/jjwi9k0g</a>"
      ],
      "text/plain": [
       "<IPython.core.display.HTML object>"
      ]
     },
     "metadata": {},
     "output_type": "display_data"
    },
    {
     "data": {
      "text/html": [
       " View run at <a href='https://wandb.ai/minjabenho/hdb_rental_prices_truncated_feat_eng_ppsm_rmse_histgb/runs/6g60arv8' target=\"_blank\">https://wandb.ai/minjabenho/hdb_rental_prices_truncated_feat_eng_ppsm_rmse_histgb/runs/6g60arv8</a>"
      ],
      "text/plain": [
       "<IPython.core.display.HTML object>"
      ]
     },
     "metadata": {},
     "output_type": "display_data"
    },
    {
     "data": {
      "text/html": [
       "Waiting for W&B process to finish... <strong style=\"color:green\">(success).</strong>"
      ],
      "text/plain": [
       "<IPython.core.display.HTML object>"
      ]
     },
     "metadata": {},
     "output_type": "display_data"
    },
    {
     "data": {
      "text/html": [
       "<style>\n",
       "    table.wandb td:nth-child(1) { padding: 0 10px; text-align: left ; width: auto;} td:nth-child(2) {text-align: left ; width: 100%}\n",
       "    .wandb-row { display: flex; flex-direction: row; flex-wrap: wrap; justify-content: flex-start; width: 100% }\n",
       "    .wandb-col { display: flex; flex-direction: column; flex-basis: 100%; flex: 1; padding: 10px; }\n",
       "    </style>\n",
       "<div class=\"wandb-row\"><div class=\"wandb-col\"><h3>Run history:</h3><br/><table class=\"wandb\"><tr><td>train_rmse</td><td>▁</td></tr><tr><td>train_score</td><td>▁</td></tr><tr><td>val_rmse</td><td>▁</td></tr><tr><td>val_score</td><td>▁</td></tr></table><br/></div><div class=\"wandb-col\"><h3>Run summary:</h3><br/><table class=\"wandb\"><tr><td>train_rmse</td><td>5.42568</td></tr><tr><td>train_score</td><td>0.64091</td></tr><tr><td>val_rmse</td><td>5.61092</td></tr><tr><td>val_score</td><td>0.6064</td></tr></table><br/></div></div>"
      ],
      "text/plain": [
       "<IPython.core.display.HTML object>"
      ]
     },
     "metadata": {},
     "output_type": "display_data"
    },
    {
     "data": {
      "text/html": [
       " View run <strong style=\"color:#cdcd00\">charmed-sweep-7</strong> at: <a href='https://wandb.ai/minjabenho/hdb_rental_prices_truncated_feat_eng_ppsm_rmse_histgb/runs/6g60arv8' target=\"_blank\">https://wandb.ai/minjabenho/hdb_rental_prices_truncated_feat_eng_ppsm_rmse_histgb/runs/6g60arv8</a><br/>Synced 5 W&B file(s), 0 media file(s), 0 artifact file(s) and 0 other file(s)"
      ],
      "text/plain": [
       "<IPython.core.display.HTML object>"
      ]
     },
     "metadata": {},
     "output_type": "display_data"
    },
    {
     "data": {
      "text/html": [
       "Find logs at: <code>./wandb/run-20231018_144126-6g60arv8/logs</code>"
      ],
      "text/plain": [
       "<IPython.core.display.HTML object>"
      ]
     },
     "metadata": {},
     "output_type": "display_data"
    },
    {
     "name": "stderr",
     "output_type": "stream",
     "text": [
      "\u001b[34m\u001b[1mwandb\u001b[0m: Agent Starting Run: tsyajfcu with config:\n",
      "\u001b[34m\u001b[1mwandb\u001b[0m: \tl2_regularization: 0.3\n",
      "\u001b[34m\u001b[1mwandb\u001b[0m: \tlearning_rate: 0.1\n",
      "\u001b[34m\u001b[1mwandb\u001b[0m: \tmax_bins: 128\n",
      "\u001b[34m\u001b[1mwandb\u001b[0m: \tmax_depth: 9\n",
      "\u001b[34m\u001b[1mwandb\u001b[0m: \tmax_iter: 1000\n",
      "\u001b[34m\u001b[1mwandb\u001b[0m: \tmax_leaf_nodes: 100\n",
      "\u001b[34m\u001b[1mwandb\u001b[0m: \tmin_samples_leaf: 20\n",
      "Failed to detect the name of this notebook, you can set it manually with the WANDB_NOTEBOOK_NAME environment variable to enable code saving.\n"
     ]
    },
    {
     "data": {
      "text/html": [
       "wandb version 0.15.12 is available!  To upgrade, please run:\n",
       " $ pip install wandb --upgrade"
      ],
      "text/plain": [
       "<IPython.core.display.HTML object>"
      ]
     },
     "metadata": {},
     "output_type": "display_data"
    },
    {
     "data": {
      "text/html": [
       "Tracking run with wandb version 0.15.11"
      ],
      "text/plain": [
       "<IPython.core.display.HTML object>"
      ]
     },
     "metadata": {},
     "output_type": "display_data"
    },
    {
     "data": {
      "text/html": [
       "Run data is saved locally in <code>/home/benhgm/workspace/cs5228_flat_rental/wandb/run-20231018_144137-tsyajfcu</code>"
      ],
      "text/plain": [
       "<IPython.core.display.HTML object>"
      ]
     },
     "metadata": {},
     "output_type": "display_data"
    },
    {
     "data": {
      "text/html": [
       "Syncing run <strong><a href='https://wandb.ai/minjabenho/hdb_rental_prices_truncated_feat_eng_ppsm_rmse_histgb/runs/tsyajfcu' target=\"_blank\">different-sweep-8</a></strong> to <a href='https://wandb.ai/minjabenho/hdb_rental_prices_truncated_feat_eng_ppsm_rmse_histgb' target=\"_blank\">Weights & Biases</a> (<a href='https://wandb.me/run' target=\"_blank\">docs</a>)<br/>Sweep page: <a href='https://wandb.ai/minjabenho/hdb_rental_prices_truncated_feat_eng_ppsm_rmse_histgb/sweeps/jjwi9k0g' target=\"_blank\">https://wandb.ai/minjabenho/hdb_rental_prices_truncated_feat_eng_ppsm_rmse_histgb/sweeps/jjwi9k0g</a>"
      ],
      "text/plain": [
       "<IPython.core.display.HTML object>"
      ]
     },
     "metadata": {},
     "output_type": "display_data"
    },
    {
     "data": {
      "text/html": [
       " View project at <a href='https://wandb.ai/minjabenho/hdb_rental_prices_truncated_feat_eng_ppsm_rmse_histgb' target=\"_blank\">https://wandb.ai/minjabenho/hdb_rental_prices_truncated_feat_eng_ppsm_rmse_histgb</a>"
      ],
      "text/plain": [
       "<IPython.core.display.HTML object>"
      ]
     },
     "metadata": {},
     "output_type": "display_data"
    },
    {
     "data": {
      "text/html": [
       " View sweep at <a href='https://wandb.ai/minjabenho/hdb_rental_prices_truncated_feat_eng_ppsm_rmse_histgb/sweeps/jjwi9k0g' target=\"_blank\">https://wandb.ai/minjabenho/hdb_rental_prices_truncated_feat_eng_ppsm_rmse_histgb/sweeps/jjwi9k0g</a>"
      ],
      "text/plain": [
       "<IPython.core.display.HTML object>"
      ]
     },
     "metadata": {},
     "output_type": "display_data"
    },
    {
     "data": {
      "text/html": [
       " View run at <a href='https://wandb.ai/minjabenho/hdb_rental_prices_truncated_feat_eng_ppsm_rmse_histgb/runs/tsyajfcu' target=\"_blank\">https://wandb.ai/minjabenho/hdb_rental_prices_truncated_feat_eng_ppsm_rmse_histgb/runs/tsyajfcu</a>"
      ],
      "text/plain": [
       "<IPython.core.display.HTML object>"
      ]
     },
     "metadata": {},
     "output_type": "display_data"
    },
    {
     "data": {
      "text/html": [
       "Waiting for W&B process to finish... <strong style=\"color:green\">(success).</strong>"
      ],
      "text/plain": [
       "<IPython.core.display.HTML object>"
      ]
     },
     "metadata": {},
     "output_type": "display_data"
    },
    {
     "data": {
      "text/html": [
       "<style>\n",
       "    table.wandb td:nth-child(1) { padding: 0 10px; text-align: left ; width: auto;} td:nth-child(2) {text-align: left ; width: 100%}\n",
       "    .wandb-row { display: flex; flex-direction: row; flex-wrap: wrap; justify-content: flex-start; width: 100% }\n",
       "    .wandb-col { display: flex; flex-direction: column; flex-basis: 100%; flex: 1; padding: 10px; }\n",
       "    </style>\n",
       "<div class=\"wandb-row\"><div class=\"wandb-col\"><h3>Run history:</h3><br/><table class=\"wandb\"><tr><td>train_rmse</td><td>▁</td></tr><tr><td>train_score</td><td>▁</td></tr><tr><td>val_rmse</td><td>▁</td></tr><tr><td>val_score</td><td>▁</td></tr></table><br/></div><div class=\"wandb-col\"><h3>Run summary:</h3><br/><table class=\"wandb\"><tr><td>train_rmse</td><td>5.25034</td></tr><tr><td>train_score</td><td>0.66375</td></tr><tr><td>val_rmse</td><td>5.63115</td></tr><tr><td>val_score</td><td>0.60356</td></tr></table><br/></div></div>"
      ],
      "text/plain": [
       "<IPython.core.display.HTML object>"
      ]
     },
     "metadata": {},
     "output_type": "display_data"
    },
    {
     "data": {
      "text/html": [
       " View run <strong style=\"color:#cdcd00\">different-sweep-8</strong> at: <a href='https://wandb.ai/minjabenho/hdb_rental_prices_truncated_feat_eng_ppsm_rmse_histgb/runs/tsyajfcu' target=\"_blank\">https://wandb.ai/minjabenho/hdb_rental_prices_truncated_feat_eng_ppsm_rmse_histgb/runs/tsyajfcu</a><br/>Synced 5 W&B file(s), 0 media file(s), 0 artifact file(s) and 0 other file(s)"
      ],
      "text/plain": [
       "<IPython.core.display.HTML object>"
      ]
     },
     "metadata": {},
     "output_type": "display_data"
    },
    {
     "data": {
      "text/html": [
       "Find logs at: <code>./wandb/run-20231018_144137-tsyajfcu/logs</code>"
      ],
      "text/plain": [
       "<IPython.core.display.HTML object>"
      ]
     },
     "metadata": {},
     "output_type": "display_data"
    },
    {
     "name": "stderr",
     "output_type": "stream",
     "text": [
      "\u001b[34m\u001b[1mwandb\u001b[0m: Sweep Agent: Waiting for job.\n",
      "\u001b[34m\u001b[1mwandb\u001b[0m: Job received.\n",
      "\u001b[34m\u001b[1mwandb\u001b[0m: Agent Starting Run: foo7cmne with config:\n",
      "\u001b[34m\u001b[1mwandb\u001b[0m: \tl2_regularization: 0.3\n",
      "\u001b[34m\u001b[1mwandb\u001b[0m: \tlearning_rate: 0.1\n",
      "\u001b[34m\u001b[1mwandb\u001b[0m: \tmax_bins: 255\n",
      "\u001b[34m\u001b[1mwandb\u001b[0m: \tmax_depth: 8\n",
      "\u001b[34m\u001b[1mwandb\u001b[0m: \tmax_iter: 500\n",
      "\u001b[34m\u001b[1mwandb\u001b[0m: \tmax_leaf_nodes: 50\n",
      "\u001b[34m\u001b[1mwandb\u001b[0m: \tmin_samples_leaf: 60\n",
      "Failed to detect the name of this notebook, you can set it manually with the WANDB_NOTEBOOK_NAME environment variable to enable code saving.\n"
     ]
    },
    {
     "data": {
      "text/html": [
       "wandb version 0.15.12 is available!  To upgrade, please run:\n",
       " $ pip install wandb --upgrade"
      ],
      "text/plain": [
       "<IPython.core.display.HTML object>"
      ]
     },
     "metadata": {},
     "output_type": "display_data"
    },
    {
     "data": {
      "text/html": [
       "Tracking run with wandb version 0.15.11"
      ],
      "text/plain": [
       "<IPython.core.display.HTML object>"
      ]
     },
     "metadata": {},
     "output_type": "display_data"
    },
    {
     "data": {
      "text/html": [
       "Run data is saved locally in <code>/home/benhgm/workspace/cs5228_flat_rental/wandb/run-20231018_144159-foo7cmne</code>"
      ],
      "text/plain": [
       "<IPython.core.display.HTML object>"
      ]
     },
     "metadata": {},
     "output_type": "display_data"
    },
    {
     "data": {
      "text/html": [
       "Syncing run <strong><a href='https://wandb.ai/minjabenho/hdb_rental_prices_truncated_feat_eng_ppsm_rmse_histgb/runs/foo7cmne' target=\"_blank\">light-sweep-9</a></strong> to <a href='https://wandb.ai/minjabenho/hdb_rental_prices_truncated_feat_eng_ppsm_rmse_histgb' target=\"_blank\">Weights & Biases</a> (<a href='https://wandb.me/run' target=\"_blank\">docs</a>)<br/>Sweep page: <a href='https://wandb.ai/minjabenho/hdb_rental_prices_truncated_feat_eng_ppsm_rmse_histgb/sweeps/jjwi9k0g' target=\"_blank\">https://wandb.ai/minjabenho/hdb_rental_prices_truncated_feat_eng_ppsm_rmse_histgb/sweeps/jjwi9k0g</a>"
      ],
      "text/plain": [
       "<IPython.core.display.HTML object>"
      ]
     },
     "metadata": {},
     "output_type": "display_data"
    },
    {
     "data": {
      "text/html": [
       " View project at <a href='https://wandb.ai/minjabenho/hdb_rental_prices_truncated_feat_eng_ppsm_rmse_histgb' target=\"_blank\">https://wandb.ai/minjabenho/hdb_rental_prices_truncated_feat_eng_ppsm_rmse_histgb</a>"
      ],
      "text/plain": [
       "<IPython.core.display.HTML object>"
      ]
     },
     "metadata": {},
     "output_type": "display_data"
    },
    {
     "data": {
      "text/html": [
       " View sweep at <a href='https://wandb.ai/minjabenho/hdb_rental_prices_truncated_feat_eng_ppsm_rmse_histgb/sweeps/jjwi9k0g' target=\"_blank\">https://wandb.ai/minjabenho/hdb_rental_prices_truncated_feat_eng_ppsm_rmse_histgb/sweeps/jjwi9k0g</a>"
      ],
      "text/plain": [
       "<IPython.core.display.HTML object>"
      ]
     },
     "metadata": {},
     "output_type": "display_data"
    },
    {
     "data": {
      "text/html": [
       " View run at <a href='https://wandb.ai/minjabenho/hdb_rental_prices_truncated_feat_eng_ppsm_rmse_histgb/runs/foo7cmne' target=\"_blank\">https://wandb.ai/minjabenho/hdb_rental_prices_truncated_feat_eng_ppsm_rmse_histgb/runs/foo7cmne</a>"
      ],
      "text/plain": [
       "<IPython.core.display.HTML object>"
      ]
     },
     "metadata": {},
     "output_type": "display_data"
    },
    {
     "data": {
      "text/html": [
       "Waiting for W&B process to finish... <strong style=\"color:green\">(success).</strong>"
      ],
      "text/plain": [
       "<IPython.core.display.HTML object>"
      ]
     },
     "metadata": {},
     "output_type": "display_data"
    },
    {
     "data": {
      "text/html": [
       "<style>\n",
       "    table.wandb td:nth-child(1) { padding: 0 10px; text-align: left ; width: auto;} td:nth-child(2) {text-align: left ; width: 100%}\n",
       "    .wandb-row { display: flex; flex-direction: row; flex-wrap: wrap; justify-content: flex-start; width: 100% }\n",
       "    .wandb-col { display: flex; flex-direction: column; flex-basis: 100%; flex: 1; padding: 10px; }\n",
       "    </style>\n",
       "<div class=\"wandb-row\"><div class=\"wandb-col\"><h3>Run history:</h3><br/><table class=\"wandb\"><tr><td>train_rmse</td><td>▁</td></tr><tr><td>train_score</td><td>▁</td></tr><tr><td>val_rmse</td><td>▁</td></tr><tr><td>val_score</td><td>▁</td></tr></table><br/></div><div class=\"wandb-col\"><h3>Run summary:</h3><br/><table class=\"wandb\"><tr><td>train_rmse</td><td>5.33893</td></tr><tr><td>train_score</td><td>0.6523</td></tr><tr><td>val_rmse</td><td>5.60446</td></tr><tr><td>val_score</td><td>0.6073</td></tr></table><br/></div></div>"
      ],
      "text/plain": [
       "<IPython.core.display.HTML object>"
      ]
     },
     "metadata": {},
     "output_type": "display_data"
    },
    {
     "data": {
      "text/html": [
       " View run <strong style=\"color:#cdcd00\">light-sweep-9</strong> at: <a href='https://wandb.ai/minjabenho/hdb_rental_prices_truncated_feat_eng_ppsm_rmse_histgb/runs/foo7cmne' target=\"_blank\">https://wandb.ai/minjabenho/hdb_rental_prices_truncated_feat_eng_ppsm_rmse_histgb/runs/foo7cmne</a><br/>Synced 5 W&B file(s), 0 media file(s), 0 artifact file(s) and 0 other file(s)"
      ],
      "text/plain": [
       "<IPython.core.display.HTML object>"
      ]
     },
     "metadata": {},
     "output_type": "display_data"
    },
    {
     "data": {
      "text/html": [
       "Find logs at: <code>./wandb/run-20231018_144159-foo7cmne/logs</code>"
      ],
      "text/plain": [
       "<IPython.core.display.HTML object>"
      ]
     },
     "metadata": {},
     "output_type": "display_data"
    },
    {
     "name": "stderr",
     "output_type": "stream",
     "text": [
      "\u001b[34m\u001b[1mwandb\u001b[0m: Agent Starting Run: w0xr2pcz with config:\n",
      "\u001b[34m\u001b[1mwandb\u001b[0m: \tl2_regularization: 0.2\n",
      "\u001b[34m\u001b[1mwandb\u001b[0m: \tlearning_rate: 0.1\n",
      "\u001b[34m\u001b[1mwandb\u001b[0m: \tmax_bins: 255\n",
      "\u001b[34m\u001b[1mwandb\u001b[0m: \tmax_depth: 9\n",
      "\u001b[34m\u001b[1mwandb\u001b[0m: \tmax_iter: 500\n",
      "\u001b[34m\u001b[1mwandb\u001b[0m: \tmax_leaf_nodes: 50\n",
      "\u001b[34m\u001b[1mwandb\u001b[0m: \tmin_samples_leaf: 40\n",
      "Failed to detect the name of this notebook, you can set it manually with the WANDB_NOTEBOOK_NAME environment variable to enable code saving.\n"
     ]
    },
    {
     "data": {
      "text/html": [
       "wandb version 0.15.12 is available!  To upgrade, please run:\n",
       " $ pip install wandb --upgrade"
      ],
      "text/plain": [
       "<IPython.core.display.HTML object>"
      ]
     },
     "metadata": {},
     "output_type": "display_data"
    },
    {
     "data": {
      "text/html": [
       "Tracking run with wandb version 0.15.11"
      ],
      "text/plain": [
       "<IPython.core.display.HTML object>"
      ]
     },
     "metadata": {},
     "output_type": "display_data"
    },
    {
     "data": {
      "text/html": [
       "Run data is saved locally in <code>/home/benhgm/workspace/cs5228_flat_rental/wandb/run-20231018_144210-w0xr2pcz</code>"
      ],
      "text/plain": [
       "<IPython.core.display.HTML object>"
      ]
     },
     "metadata": {},
     "output_type": "display_data"
    },
    {
     "data": {
      "text/html": [
       "Syncing run <strong><a href='https://wandb.ai/minjabenho/hdb_rental_prices_truncated_feat_eng_ppsm_rmse_histgb/runs/w0xr2pcz' target=\"_blank\">electric-sweep-10</a></strong> to <a href='https://wandb.ai/minjabenho/hdb_rental_prices_truncated_feat_eng_ppsm_rmse_histgb' target=\"_blank\">Weights & Biases</a> (<a href='https://wandb.me/run' target=\"_blank\">docs</a>)<br/>Sweep page: <a href='https://wandb.ai/minjabenho/hdb_rental_prices_truncated_feat_eng_ppsm_rmse_histgb/sweeps/jjwi9k0g' target=\"_blank\">https://wandb.ai/minjabenho/hdb_rental_prices_truncated_feat_eng_ppsm_rmse_histgb/sweeps/jjwi9k0g</a>"
      ],
      "text/plain": [
       "<IPython.core.display.HTML object>"
      ]
     },
     "metadata": {},
     "output_type": "display_data"
    },
    {
     "data": {
      "text/html": [
       " View project at <a href='https://wandb.ai/minjabenho/hdb_rental_prices_truncated_feat_eng_ppsm_rmse_histgb' target=\"_blank\">https://wandb.ai/minjabenho/hdb_rental_prices_truncated_feat_eng_ppsm_rmse_histgb</a>"
      ],
      "text/plain": [
       "<IPython.core.display.HTML object>"
      ]
     },
     "metadata": {},
     "output_type": "display_data"
    },
    {
     "data": {
      "text/html": [
       " View sweep at <a href='https://wandb.ai/minjabenho/hdb_rental_prices_truncated_feat_eng_ppsm_rmse_histgb/sweeps/jjwi9k0g' target=\"_blank\">https://wandb.ai/minjabenho/hdb_rental_prices_truncated_feat_eng_ppsm_rmse_histgb/sweeps/jjwi9k0g</a>"
      ],
      "text/plain": [
       "<IPython.core.display.HTML object>"
      ]
     },
     "metadata": {},
     "output_type": "display_data"
    },
    {
     "data": {
      "text/html": [
       " View run at <a href='https://wandb.ai/minjabenho/hdb_rental_prices_truncated_feat_eng_ppsm_rmse_histgb/runs/w0xr2pcz' target=\"_blank\">https://wandb.ai/minjabenho/hdb_rental_prices_truncated_feat_eng_ppsm_rmse_histgb/runs/w0xr2pcz</a>"
      ],
      "text/plain": [
       "<IPython.core.display.HTML object>"
      ]
     },
     "metadata": {},
     "output_type": "display_data"
    },
    {
     "data": {
      "text/html": [
       "Waiting for W&B process to finish... <strong style=\"color:green\">(success).</strong>"
      ],
      "text/plain": [
       "<IPython.core.display.HTML object>"
      ]
     },
     "metadata": {},
     "output_type": "display_data"
    },
    {
     "data": {
      "text/html": [
       "<style>\n",
       "    table.wandb td:nth-child(1) { padding: 0 10px; text-align: left ; width: auto;} td:nth-child(2) {text-align: left ; width: 100%}\n",
       "    .wandb-row { display: flex; flex-direction: row; flex-wrap: wrap; justify-content: flex-start; width: 100% }\n",
       "    .wandb-col { display: flex; flex-direction: column; flex-basis: 100%; flex: 1; padding: 10px; }\n",
       "    </style>\n",
       "<div class=\"wandb-row\"><div class=\"wandb-col\"><h3>Run history:</h3><br/><table class=\"wandb\"><tr><td>train_rmse</td><td>▁</td></tr><tr><td>train_score</td><td>▁</td></tr><tr><td>val_rmse</td><td>▁</td></tr><tr><td>val_score</td><td>▁</td></tr></table><br/></div><div class=\"wandb-col\"><h3>Run summary:</h3><br/><table class=\"wandb\"><tr><td>train_rmse</td><td>5.33269</td></tr><tr><td>train_score</td><td>0.65312</td></tr><tr><td>val_rmse</td><td>5.60575</td></tr><tr><td>val_score</td><td>0.60712</td></tr></table><br/></div></div>"
      ],
      "text/plain": [
       "<IPython.core.display.HTML object>"
      ]
     },
     "metadata": {},
     "output_type": "display_data"
    },
    {
     "data": {
      "text/html": [
       " View run <strong style=\"color:#cdcd00\">electric-sweep-10</strong> at: <a href='https://wandb.ai/minjabenho/hdb_rental_prices_truncated_feat_eng_ppsm_rmse_histgb/runs/w0xr2pcz' target=\"_blank\">https://wandb.ai/minjabenho/hdb_rental_prices_truncated_feat_eng_ppsm_rmse_histgb/runs/w0xr2pcz</a><br/>Synced 5 W&B file(s), 0 media file(s), 0 artifact file(s) and 0 other file(s)"
      ],
      "text/plain": [
       "<IPython.core.display.HTML object>"
      ]
     },
     "metadata": {},
     "output_type": "display_data"
    },
    {
     "data": {
      "text/html": [
       "Find logs at: <code>./wandb/run-20231018_144210-w0xr2pcz/logs</code>"
      ],
      "text/plain": [
       "<IPython.core.display.HTML object>"
      ]
     },
     "metadata": {},
     "output_type": "display_data"
    },
    {
     "name": "stderr",
     "output_type": "stream",
     "text": [
      "\u001b[34m\u001b[1mwandb\u001b[0m: Sweep Agent: Waiting for job.\n",
      "\u001b[34m\u001b[1mwandb\u001b[0m: Job received.\n",
      "\u001b[34m\u001b[1mwandb\u001b[0m: Agent Starting Run: 1kpd2i9x with config:\n",
      "\u001b[34m\u001b[1mwandb\u001b[0m: \tl2_regularization: 0.3\n",
      "\u001b[34m\u001b[1mwandb\u001b[0m: \tlearning_rate: 0.1\n",
      "\u001b[34m\u001b[1mwandb\u001b[0m: \tmax_bins: 255\n",
      "\u001b[34m\u001b[1mwandb\u001b[0m: \tmax_depth: 8\n",
      "\u001b[34m\u001b[1mwandb\u001b[0m: \tmax_iter: 1000\n",
      "\u001b[34m\u001b[1mwandb\u001b[0m: \tmax_leaf_nodes: 50\n",
      "\u001b[34m\u001b[1mwandb\u001b[0m: \tmin_samples_leaf: 60\n",
      "Failed to detect the name of this notebook, you can set it manually with the WANDB_NOTEBOOK_NAME environment variable to enable code saving.\n"
     ]
    },
    {
     "data": {
      "text/html": [
       "wandb version 0.15.12 is available!  To upgrade, please run:\n",
       " $ pip install wandb --upgrade"
      ],
      "text/plain": [
       "<IPython.core.display.HTML object>"
      ]
     },
     "metadata": {},
     "output_type": "display_data"
    },
    {
     "data": {
      "text/html": [
       "Tracking run with wandb version 0.15.11"
      ],
      "text/plain": [
       "<IPython.core.display.HTML object>"
      ]
     },
     "metadata": {},
     "output_type": "display_data"
    },
    {
     "data": {
      "text/html": [
       "Run data is saved locally in <code>/home/benhgm/workspace/cs5228_flat_rental/wandb/run-20231018_144231-1kpd2i9x</code>"
      ],
      "text/plain": [
       "<IPython.core.display.HTML object>"
      ]
     },
     "metadata": {},
     "output_type": "display_data"
    },
    {
     "data": {
      "text/html": [
       "Syncing run <strong><a href='https://wandb.ai/minjabenho/hdb_rental_prices_truncated_feat_eng_ppsm_rmse_histgb/runs/1kpd2i9x' target=\"_blank\">trim-sweep-11</a></strong> to <a href='https://wandb.ai/minjabenho/hdb_rental_prices_truncated_feat_eng_ppsm_rmse_histgb' target=\"_blank\">Weights & Biases</a> (<a href='https://wandb.me/run' target=\"_blank\">docs</a>)<br/>Sweep page: <a href='https://wandb.ai/minjabenho/hdb_rental_prices_truncated_feat_eng_ppsm_rmse_histgb/sweeps/jjwi9k0g' target=\"_blank\">https://wandb.ai/minjabenho/hdb_rental_prices_truncated_feat_eng_ppsm_rmse_histgb/sweeps/jjwi9k0g</a>"
      ],
      "text/plain": [
       "<IPython.core.display.HTML object>"
      ]
     },
     "metadata": {},
     "output_type": "display_data"
    },
    {
     "data": {
      "text/html": [
       " View project at <a href='https://wandb.ai/minjabenho/hdb_rental_prices_truncated_feat_eng_ppsm_rmse_histgb' target=\"_blank\">https://wandb.ai/minjabenho/hdb_rental_prices_truncated_feat_eng_ppsm_rmse_histgb</a>"
      ],
      "text/plain": [
       "<IPython.core.display.HTML object>"
      ]
     },
     "metadata": {},
     "output_type": "display_data"
    },
    {
     "data": {
      "text/html": [
       " View sweep at <a href='https://wandb.ai/minjabenho/hdb_rental_prices_truncated_feat_eng_ppsm_rmse_histgb/sweeps/jjwi9k0g' target=\"_blank\">https://wandb.ai/minjabenho/hdb_rental_prices_truncated_feat_eng_ppsm_rmse_histgb/sweeps/jjwi9k0g</a>"
      ],
      "text/plain": [
       "<IPython.core.display.HTML object>"
      ]
     },
     "metadata": {},
     "output_type": "display_data"
    },
    {
     "data": {
      "text/html": [
       " View run at <a href='https://wandb.ai/minjabenho/hdb_rental_prices_truncated_feat_eng_ppsm_rmse_histgb/runs/1kpd2i9x' target=\"_blank\">https://wandb.ai/minjabenho/hdb_rental_prices_truncated_feat_eng_ppsm_rmse_histgb/runs/1kpd2i9x</a>"
      ],
      "text/plain": [
       "<IPython.core.display.HTML object>"
      ]
     },
     "metadata": {},
     "output_type": "display_data"
    },
    {
     "data": {
      "text/html": [
       "Waiting for W&B process to finish... <strong style=\"color:green\">(success).</strong>"
      ],
      "text/plain": [
       "<IPython.core.display.HTML object>"
      ]
     },
     "metadata": {},
     "output_type": "display_data"
    },
    {
     "data": {
      "text/html": [
       "<style>\n",
       "    table.wandb td:nth-child(1) { padding: 0 10px; text-align: left ; width: auto;} td:nth-child(2) {text-align: left ; width: 100%}\n",
       "    .wandb-row { display: flex; flex-direction: row; flex-wrap: wrap; justify-content: flex-start; width: 100% }\n",
       "    .wandb-col { display: flex; flex-direction: column; flex-basis: 100%; flex: 1; padding: 10px; }\n",
       "    </style>\n",
       "<div class=\"wandb-row\"><div class=\"wandb-col\"><h3>Run history:</h3><br/><table class=\"wandb\"><tr><td>train_rmse</td><td>▁</td></tr><tr><td>train_score</td><td>▁</td></tr><tr><td>val_rmse</td><td>▁</td></tr><tr><td>val_score</td><td>▁</td></tr></table><br/></div><div class=\"wandb-col\"><h3>Run summary:</h3><br/><table class=\"wandb\"><tr><td>train_rmse</td><td>5.33893</td></tr><tr><td>train_score</td><td>0.6523</td></tr><tr><td>val_rmse</td><td>5.60446</td></tr><tr><td>val_score</td><td>0.6073</td></tr></table><br/></div></div>"
      ],
      "text/plain": [
       "<IPython.core.display.HTML object>"
      ]
     },
     "metadata": {},
     "output_type": "display_data"
    },
    {
     "data": {
      "text/html": [
       " View run <strong style=\"color:#cdcd00\">trim-sweep-11</strong> at: <a href='https://wandb.ai/minjabenho/hdb_rental_prices_truncated_feat_eng_ppsm_rmse_histgb/runs/1kpd2i9x' target=\"_blank\">https://wandb.ai/minjabenho/hdb_rental_prices_truncated_feat_eng_ppsm_rmse_histgb/runs/1kpd2i9x</a><br/>Synced 5 W&B file(s), 0 media file(s), 0 artifact file(s) and 0 other file(s)"
      ],
      "text/plain": [
       "<IPython.core.display.HTML object>"
      ]
     },
     "metadata": {},
     "output_type": "display_data"
    },
    {
     "data": {
      "text/html": [
       "Find logs at: <code>./wandb/run-20231018_144231-1kpd2i9x/logs</code>"
      ],
      "text/plain": [
       "<IPython.core.display.HTML object>"
      ]
     },
     "metadata": {},
     "output_type": "display_data"
    },
    {
     "name": "stderr",
     "output_type": "stream",
     "text": [
      "\u001b[34m\u001b[1mwandb\u001b[0m: Agent Starting Run: 1czf8hrx with config:\n",
      "\u001b[34m\u001b[1mwandb\u001b[0m: \tl2_regularization: 0.3\n",
      "\u001b[34m\u001b[1mwandb\u001b[0m: \tlearning_rate: 0.1\n",
      "\u001b[34m\u001b[1mwandb\u001b[0m: \tmax_bins: 255\n",
      "\u001b[34m\u001b[1mwandb\u001b[0m: \tmax_depth: 9\n",
      "\u001b[34m\u001b[1mwandb\u001b[0m: \tmax_iter: 500\n",
      "\u001b[34m\u001b[1mwandb\u001b[0m: \tmax_leaf_nodes: 100\n",
      "\u001b[34m\u001b[1mwandb\u001b[0m: \tmin_samples_leaf: 40\n",
      "Failed to detect the name of this notebook, you can set it manually with the WANDB_NOTEBOOK_NAME environment variable to enable code saving.\n"
     ]
    },
    {
     "data": {
      "text/html": [
       "wandb version 0.15.12 is available!  To upgrade, please run:\n",
       " $ pip install wandb --upgrade"
      ],
      "text/plain": [
       "<IPython.core.display.HTML object>"
      ]
     },
     "metadata": {},
     "output_type": "display_data"
    },
    {
     "data": {
      "text/html": [
       "Tracking run with wandb version 0.15.11"
      ],
      "text/plain": [
       "<IPython.core.display.HTML object>"
      ]
     },
     "metadata": {},
     "output_type": "display_data"
    },
    {
     "data": {
      "text/html": [
       "Run data is saved locally in <code>/home/benhgm/workspace/cs5228_flat_rental/wandb/run-20231018_144243-1czf8hrx</code>"
      ],
      "text/plain": [
       "<IPython.core.display.HTML object>"
      ]
     },
     "metadata": {},
     "output_type": "display_data"
    },
    {
     "data": {
      "text/html": [
       "Syncing run <strong><a href='https://wandb.ai/minjabenho/hdb_rental_prices_truncated_feat_eng_ppsm_rmse_histgb/runs/1czf8hrx' target=\"_blank\">serene-sweep-12</a></strong> to <a href='https://wandb.ai/minjabenho/hdb_rental_prices_truncated_feat_eng_ppsm_rmse_histgb' target=\"_blank\">Weights & Biases</a> (<a href='https://wandb.me/run' target=\"_blank\">docs</a>)<br/>Sweep page: <a href='https://wandb.ai/minjabenho/hdb_rental_prices_truncated_feat_eng_ppsm_rmse_histgb/sweeps/jjwi9k0g' target=\"_blank\">https://wandb.ai/minjabenho/hdb_rental_prices_truncated_feat_eng_ppsm_rmse_histgb/sweeps/jjwi9k0g</a>"
      ],
      "text/plain": [
       "<IPython.core.display.HTML object>"
      ]
     },
     "metadata": {},
     "output_type": "display_data"
    },
    {
     "data": {
      "text/html": [
       " View project at <a href='https://wandb.ai/minjabenho/hdb_rental_prices_truncated_feat_eng_ppsm_rmse_histgb' target=\"_blank\">https://wandb.ai/minjabenho/hdb_rental_prices_truncated_feat_eng_ppsm_rmse_histgb</a>"
      ],
      "text/plain": [
       "<IPython.core.display.HTML object>"
      ]
     },
     "metadata": {},
     "output_type": "display_data"
    },
    {
     "data": {
      "text/html": [
       " View sweep at <a href='https://wandb.ai/minjabenho/hdb_rental_prices_truncated_feat_eng_ppsm_rmse_histgb/sweeps/jjwi9k0g' target=\"_blank\">https://wandb.ai/minjabenho/hdb_rental_prices_truncated_feat_eng_ppsm_rmse_histgb/sweeps/jjwi9k0g</a>"
      ],
      "text/plain": [
       "<IPython.core.display.HTML object>"
      ]
     },
     "metadata": {},
     "output_type": "display_data"
    },
    {
     "data": {
      "text/html": [
       " View run at <a href='https://wandb.ai/minjabenho/hdb_rental_prices_truncated_feat_eng_ppsm_rmse_histgb/runs/1czf8hrx' target=\"_blank\">https://wandb.ai/minjabenho/hdb_rental_prices_truncated_feat_eng_ppsm_rmse_histgb/runs/1czf8hrx</a>"
      ],
      "text/plain": [
       "<IPython.core.display.HTML object>"
      ]
     },
     "metadata": {},
     "output_type": "display_data"
    },
    {
     "data": {
      "text/html": [
       "Waiting for W&B process to finish... <strong style=\"color:green\">(success).</strong>"
      ],
      "text/plain": [
       "<IPython.core.display.HTML object>"
      ]
     },
     "metadata": {},
     "output_type": "display_data"
    },
    {
     "data": {
      "text/html": [
       "<style>\n",
       "    table.wandb td:nth-child(1) { padding: 0 10px; text-align: left ; width: auto;} td:nth-child(2) {text-align: left ; width: 100%}\n",
       "    .wandb-row { display: flex; flex-direction: row; flex-wrap: wrap; justify-content: flex-start; width: 100% }\n",
       "    .wandb-col { display: flex; flex-direction: column; flex-basis: 100%; flex: 1; padding: 10px; }\n",
       "    </style>\n",
       "<div class=\"wandb-row\"><div class=\"wandb-col\"><h3>Run history:</h3><br/><table class=\"wandb\"><tr><td>train_rmse</td><td>▁</td></tr><tr><td>train_score</td><td>▁</td></tr><tr><td>val_rmse</td><td>▁</td></tr><tr><td>val_score</td><td>▁</td></tr></table><br/></div><div class=\"wandb-col\"><h3>Run summary:</h3><br/><table class=\"wandb\"><tr><td>train_rmse</td><td>5.26195</td></tr><tr><td>train_score</td><td>0.66226</td></tr><tr><td>val_rmse</td><td>5.61496</td></tr><tr><td>val_score</td><td>0.60583</td></tr></table><br/></div></div>"
      ],
      "text/plain": [
       "<IPython.core.display.HTML object>"
      ]
     },
     "metadata": {},
     "output_type": "display_data"
    },
    {
     "data": {
      "text/html": [
       " View run <strong style=\"color:#cdcd00\">serene-sweep-12</strong> at: <a href='https://wandb.ai/minjabenho/hdb_rental_prices_truncated_feat_eng_ppsm_rmse_histgb/runs/1czf8hrx' target=\"_blank\">https://wandb.ai/minjabenho/hdb_rental_prices_truncated_feat_eng_ppsm_rmse_histgb/runs/1czf8hrx</a><br/>Synced 5 W&B file(s), 0 media file(s), 0 artifact file(s) and 0 other file(s)"
      ],
      "text/plain": [
       "<IPython.core.display.HTML object>"
      ]
     },
     "metadata": {},
     "output_type": "display_data"
    },
    {
     "data": {
      "text/html": [
       "Find logs at: <code>./wandb/run-20231018_144243-1czf8hrx/logs</code>"
      ],
      "text/plain": [
       "<IPython.core.display.HTML object>"
      ]
     },
     "metadata": {},
     "output_type": "display_data"
    },
    {
     "name": "stderr",
     "output_type": "stream",
     "text": [
      "\u001b[34m\u001b[1mwandb\u001b[0m: Agent Starting Run: ohmcmqk5 with config:\n",
      "\u001b[34m\u001b[1mwandb\u001b[0m: \tl2_regularization: 0.3\n",
      "\u001b[34m\u001b[1mwandb\u001b[0m: \tlearning_rate: 0.1\n",
      "\u001b[34m\u001b[1mwandb\u001b[0m: \tmax_bins: 255\n",
      "\u001b[34m\u001b[1mwandb\u001b[0m: \tmax_depth: 9\n",
      "\u001b[34m\u001b[1mwandb\u001b[0m: \tmax_iter: 500\n",
      "\u001b[34m\u001b[1mwandb\u001b[0m: \tmax_leaf_nodes: 50\n",
      "\u001b[34m\u001b[1mwandb\u001b[0m: \tmin_samples_leaf: 60\n",
      "Failed to detect the name of this notebook, you can set it manually with the WANDB_NOTEBOOK_NAME environment variable to enable code saving.\n"
     ]
    },
    {
     "data": {
      "text/html": [
       "wandb version 0.15.12 is available!  To upgrade, please run:\n",
       " $ pip install wandb --upgrade"
      ],
      "text/plain": [
       "<IPython.core.display.HTML object>"
      ]
     },
     "metadata": {},
     "output_type": "display_data"
    },
    {
     "data": {
      "text/html": [
       "Tracking run with wandb version 0.15.11"
      ],
      "text/plain": [
       "<IPython.core.display.HTML object>"
      ]
     },
     "metadata": {},
     "output_type": "display_data"
    },
    {
     "data": {
      "text/html": [
       "Run data is saved locally in <code>/home/benhgm/workspace/cs5228_flat_rental/wandb/run-20231018_144253-ohmcmqk5</code>"
      ],
      "text/plain": [
       "<IPython.core.display.HTML object>"
      ]
     },
     "metadata": {},
     "output_type": "display_data"
    },
    {
     "data": {
      "text/html": [
       "Syncing run <strong><a href='https://wandb.ai/minjabenho/hdb_rental_prices_truncated_feat_eng_ppsm_rmse_histgb/runs/ohmcmqk5' target=\"_blank\">denim-sweep-13</a></strong> to <a href='https://wandb.ai/minjabenho/hdb_rental_prices_truncated_feat_eng_ppsm_rmse_histgb' target=\"_blank\">Weights & Biases</a> (<a href='https://wandb.me/run' target=\"_blank\">docs</a>)<br/>Sweep page: <a href='https://wandb.ai/minjabenho/hdb_rental_prices_truncated_feat_eng_ppsm_rmse_histgb/sweeps/jjwi9k0g' target=\"_blank\">https://wandb.ai/minjabenho/hdb_rental_prices_truncated_feat_eng_ppsm_rmse_histgb/sweeps/jjwi9k0g</a>"
      ],
      "text/plain": [
       "<IPython.core.display.HTML object>"
      ]
     },
     "metadata": {},
     "output_type": "display_data"
    },
    {
     "data": {
      "text/html": [
       " View project at <a href='https://wandb.ai/minjabenho/hdb_rental_prices_truncated_feat_eng_ppsm_rmse_histgb' target=\"_blank\">https://wandb.ai/minjabenho/hdb_rental_prices_truncated_feat_eng_ppsm_rmse_histgb</a>"
      ],
      "text/plain": [
       "<IPython.core.display.HTML object>"
      ]
     },
     "metadata": {},
     "output_type": "display_data"
    },
    {
     "data": {
      "text/html": [
       " View sweep at <a href='https://wandb.ai/minjabenho/hdb_rental_prices_truncated_feat_eng_ppsm_rmse_histgb/sweeps/jjwi9k0g' target=\"_blank\">https://wandb.ai/minjabenho/hdb_rental_prices_truncated_feat_eng_ppsm_rmse_histgb/sweeps/jjwi9k0g</a>"
      ],
      "text/plain": [
       "<IPython.core.display.HTML object>"
      ]
     },
     "metadata": {},
     "output_type": "display_data"
    },
    {
     "data": {
      "text/html": [
       " View run at <a href='https://wandb.ai/minjabenho/hdb_rental_prices_truncated_feat_eng_ppsm_rmse_histgb/runs/ohmcmqk5' target=\"_blank\">https://wandb.ai/minjabenho/hdb_rental_prices_truncated_feat_eng_ppsm_rmse_histgb/runs/ohmcmqk5</a>"
      ],
      "text/plain": [
       "<IPython.core.display.HTML object>"
      ]
     },
     "metadata": {},
     "output_type": "display_data"
    },
    {
     "data": {
      "text/html": [
       "Waiting for W&B process to finish... <strong style=\"color:green\">(success).</strong>"
      ],
      "text/plain": [
       "<IPython.core.display.HTML object>"
      ]
     },
     "metadata": {},
     "output_type": "display_data"
    },
    {
     "data": {
      "text/html": [
       "<style>\n",
       "    table.wandb td:nth-child(1) { padding: 0 10px; text-align: left ; width: auto;} td:nth-child(2) {text-align: left ; width: 100%}\n",
       "    .wandb-row { display: flex; flex-direction: row; flex-wrap: wrap; justify-content: flex-start; width: 100% }\n",
       "    .wandb-col { display: flex; flex-direction: column; flex-basis: 100%; flex: 1; padding: 10px; }\n",
       "    </style>\n",
       "<div class=\"wandb-row\"><div class=\"wandb-col\"><h3>Run history:</h3><br/><table class=\"wandb\"><tr><td>train_rmse</td><td>▁</td></tr><tr><td>train_score</td><td>▁</td></tr><tr><td>val_rmse</td><td>▁</td></tr><tr><td>val_score</td><td>▁</td></tr></table><br/></div><div class=\"wandb-col\"><h3>Run summary:</h3><br/><table class=\"wandb\"><tr><td>train_rmse</td><td>5.30039</td></tr><tr><td>train_score</td><td>0.65731</td></tr><tr><td>val_rmse</td><td>5.59156</td></tr><tr><td>val_score</td><td>0.60911</td></tr></table><br/></div></div>"
      ],
      "text/plain": [
       "<IPython.core.display.HTML object>"
      ]
     },
     "metadata": {},
     "output_type": "display_data"
    },
    {
     "data": {
      "text/html": [
       " View run <strong style=\"color:#cdcd00\">denim-sweep-13</strong> at: <a href='https://wandb.ai/minjabenho/hdb_rental_prices_truncated_feat_eng_ppsm_rmse_histgb/runs/ohmcmqk5' target=\"_blank\">https://wandb.ai/minjabenho/hdb_rental_prices_truncated_feat_eng_ppsm_rmse_histgb/runs/ohmcmqk5</a><br/>Synced 5 W&B file(s), 0 media file(s), 0 artifact file(s) and 0 other file(s)"
      ],
      "text/plain": [
       "<IPython.core.display.HTML object>"
      ]
     },
     "metadata": {},
     "output_type": "display_data"
    },
    {
     "data": {
      "text/html": [
       "Find logs at: <code>./wandb/run-20231018_144253-ohmcmqk5/logs</code>"
      ],
      "text/plain": [
       "<IPython.core.display.HTML object>"
      ]
     },
     "metadata": {},
     "output_type": "display_data"
    },
    {
     "name": "stderr",
     "output_type": "stream",
     "text": [
      "\u001b[34m\u001b[1mwandb\u001b[0m: Agent Starting Run: 2zlr55c4 with config:\n",
      "\u001b[34m\u001b[1mwandb\u001b[0m: \tl2_regularization: 0.3\n",
      "\u001b[34m\u001b[1mwandb\u001b[0m: \tlearning_rate: 0.1\n",
      "\u001b[34m\u001b[1mwandb\u001b[0m: \tmax_bins: 255\n",
      "\u001b[34m\u001b[1mwandb\u001b[0m: \tmax_depth: 9\n",
      "\u001b[34m\u001b[1mwandb\u001b[0m: \tmax_iter: 500\n",
      "\u001b[34m\u001b[1mwandb\u001b[0m: \tmax_leaf_nodes: 50\n",
      "\u001b[34m\u001b[1mwandb\u001b[0m: \tmin_samples_leaf: 60\n",
      "Failed to detect the name of this notebook, you can set it manually with the WANDB_NOTEBOOK_NAME environment variable to enable code saving.\n"
     ]
    },
    {
     "data": {
      "text/html": [
       "wandb version 0.15.12 is available!  To upgrade, please run:\n",
       " $ pip install wandb --upgrade"
      ],
      "text/plain": [
       "<IPython.core.display.HTML object>"
      ]
     },
     "metadata": {},
     "output_type": "display_data"
    },
    {
     "data": {
      "text/html": [
       "Tracking run with wandb version 0.15.11"
      ],
      "text/plain": [
       "<IPython.core.display.HTML object>"
      ]
     },
     "metadata": {},
     "output_type": "display_data"
    },
    {
     "data": {
      "text/html": [
       "Run data is saved locally in <code>/home/benhgm/workspace/cs5228_flat_rental/wandb/run-20231018_144305-2zlr55c4</code>"
      ],
      "text/plain": [
       "<IPython.core.display.HTML object>"
      ]
     },
     "metadata": {},
     "output_type": "display_data"
    },
    {
     "data": {
      "text/html": [
       "Syncing run <strong><a href='https://wandb.ai/minjabenho/hdb_rental_prices_truncated_feat_eng_ppsm_rmse_histgb/runs/2zlr55c4' target=\"_blank\">apricot-sweep-14</a></strong> to <a href='https://wandb.ai/minjabenho/hdb_rental_prices_truncated_feat_eng_ppsm_rmse_histgb' target=\"_blank\">Weights & Biases</a> (<a href='https://wandb.me/run' target=\"_blank\">docs</a>)<br/>Sweep page: <a href='https://wandb.ai/minjabenho/hdb_rental_prices_truncated_feat_eng_ppsm_rmse_histgb/sweeps/jjwi9k0g' target=\"_blank\">https://wandb.ai/minjabenho/hdb_rental_prices_truncated_feat_eng_ppsm_rmse_histgb/sweeps/jjwi9k0g</a>"
      ],
      "text/plain": [
       "<IPython.core.display.HTML object>"
      ]
     },
     "metadata": {},
     "output_type": "display_data"
    },
    {
     "data": {
      "text/html": [
       " View project at <a href='https://wandb.ai/minjabenho/hdb_rental_prices_truncated_feat_eng_ppsm_rmse_histgb' target=\"_blank\">https://wandb.ai/minjabenho/hdb_rental_prices_truncated_feat_eng_ppsm_rmse_histgb</a>"
      ],
      "text/plain": [
       "<IPython.core.display.HTML object>"
      ]
     },
     "metadata": {},
     "output_type": "display_data"
    },
    {
     "data": {
      "text/html": [
       " View sweep at <a href='https://wandb.ai/minjabenho/hdb_rental_prices_truncated_feat_eng_ppsm_rmse_histgb/sweeps/jjwi9k0g' target=\"_blank\">https://wandb.ai/minjabenho/hdb_rental_prices_truncated_feat_eng_ppsm_rmse_histgb/sweeps/jjwi9k0g</a>"
      ],
      "text/plain": [
       "<IPython.core.display.HTML object>"
      ]
     },
     "metadata": {},
     "output_type": "display_data"
    },
    {
     "data": {
      "text/html": [
       " View run at <a href='https://wandb.ai/minjabenho/hdb_rental_prices_truncated_feat_eng_ppsm_rmse_histgb/runs/2zlr55c4' target=\"_blank\">https://wandb.ai/minjabenho/hdb_rental_prices_truncated_feat_eng_ppsm_rmse_histgb/runs/2zlr55c4</a>"
      ],
      "text/plain": [
       "<IPython.core.display.HTML object>"
      ]
     },
     "metadata": {},
     "output_type": "display_data"
    },
    {
     "data": {
      "text/html": [
       "Waiting for W&B process to finish... <strong style=\"color:green\">(success).</strong>"
      ],
      "text/plain": [
       "<IPython.core.display.HTML object>"
      ]
     },
     "metadata": {},
     "output_type": "display_data"
    },
    {
     "data": {
      "text/html": [
       "<style>\n",
       "    table.wandb td:nth-child(1) { padding: 0 10px; text-align: left ; width: auto;} td:nth-child(2) {text-align: left ; width: 100%}\n",
       "    .wandb-row { display: flex; flex-direction: row; flex-wrap: wrap; justify-content: flex-start; width: 100% }\n",
       "    .wandb-col { display: flex; flex-direction: column; flex-basis: 100%; flex: 1; padding: 10px; }\n",
       "    </style>\n",
       "<div class=\"wandb-row\"><div class=\"wandb-col\"><h3>Run history:</h3><br/><table class=\"wandb\"><tr><td>train_rmse</td><td>▁</td></tr><tr><td>train_score</td><td>▁</td></tr><tr><td>val_rmse</td><td>▁</td></tr><tr><td>val_score</td><td>▁</td></tr></table><br/></div><div class=\"wandb-col\"><h3>Run summary:</h3><br/><table class=\"wandb\"><tr><td>train_rmse</td><td>5.30039</td></tr><tr><td>train_score</td><td>0.65731</td></tr><tr><td>val_rmse</td><td>5.59156</td></tr><tr><td>val_score</td><td>0.60911</td></tr></table><br/></div></div>"
      ],
      "text/plain": [
       "<IPython.core.display.HTML object>"
      ]
     },
     "metadata": {},
     "output_type": "display_data"
    },
    {
     "data": {
      "text/html": [
       " View run <strong style=\"color:#cdcd00\">apricot-sweep-14</strong> at: <a href='https://wandb.ai/minjabenho/hdb_rental_prices_truncated_feat_eng_ppsm_rmse_histgb/runs/2zlr55c4' target=\"_blank\">https://wandb.ai/minjabenho/hdb_rental_prices_truncated_feat_eng_ppsm_rmse_histgb/runs/2zlr55c4</a><br/>Synced 5 W&B file(s), 0 media file(s), 0 artifact file(s) and 0 other file(s)"
      ],
      "text/plain": [
       "<IPython.core.display.HTML object>"
      ]
     },
     "metadata": {},
     "output_type": "display_data"
    },
    {
     "data": {
      "text/html": [
       "Find logs at: <code>./wandb/run-20231018_144305-2zlr55c4/logs</code>"
      ],
      "text/plain": [
       "<IPython.core.display.HTML object>"
      ]
     },
     "metadata": {},
     "output_type": "display_data"
    },
    {
     "name": "stderr",
     "output_type": "stream",
     "text": [
      "\u001b[34m\u001b[1mwandb\u001b[0m: Sweep Agent: Waiting for job.\n",
      "\u001b[34m\u001b[1mwandb\u001b[0m: Job received.\n",
      "\u001b[34m\u001b[1mwandb\u001b[0m: Agent Starting Run: l5s6zcwb with config:\n",
      "\u001b[34m\u001b[1mwandb\u001b[0m: \tl2_regularization: 0.3\n",
      "\u001b[34m\u001b[1mwandb\u001b[0m: \tlearning_rate: 0.1\n",
      "\u001b[34m\u001b[1mwandb\u001b[0m: \tmax_bins: 255\n",
      "\u001b[34m\u001b[1mwandb\u001b[0m: \tmax_depth: 9\n",
      "\u001b[34m\u001b[1mwandb\u001b[0m: \tmax_iter: 2000\n",
      "\u001b[34m\u001b[1mwandb\u001b[0m: \tmax_leaf_nodes: 100\n",
      "\u001b[34m\u001b[1mwandb\u001b[0m: \tmin_samples_leaf: 60\n",
      "Failed to detect the name of this notebook, you can set it manually with the WANDB_NOTEBOOK_NAME environment variable to enable code saving.\n"
     ]
    },
    {
     "data": {
      "text/html": [
       "wandb version 0.15.12 is available!  To upgrade, please run:\n",
       " $ pip install wandb --upgrade"
      ],
      "text/plain": [
       "<IPython.core.display.HTML object>"
      ]
     },
     "metadata": {},
     "output_type": "display_data"
    },
    {
     "data": {
      "text/html": [
       "Tracking run with wandb version 0.15.11"
      ],
      "text/plain": [
       "<IPython.core.display.HTML object>"
      ]
     },
     "metadata": {},
     "output_type": "display_data"
    },
    {
     "data": {
      "text/html": [
       "Run data is saved locally in <code>/home/benhgm/workspace/cs5228_flat_rental/wandb/run-20231018_144325-l5s6zcwb</code>"
      ],
      "text/plain": [
       "<IPython.core.display.HTML object>"
      ]
     },
     "metadata": {},
     "output_type": "display_data"
    },
    {
     "data": {
      "text/html": [
       "Syncing run <strong><a href='https://wandb.ai/minjabenho/hdb_rental_prices_truncated_feat_eng_ppsm_rmse_histgb/runs/l5s6zcwb' target=\"_blank\">lucky-sweep-15</a></strong> to <a href='https://wandb.ai/minjabenho/hdb_rental_prices_truncated_feat_eng_ppsm_rmse_histgb' target=\"_blank\">Weights & Biases</a> (<a href='https://wandb.me/run' target=\"_blank\">docs</a>)<br/>Sweep page: <a href='https://wandb.ai/minjabenho/hdb_rental_prices_truncated_feat_eng_ppsm_rmse_histgb/sweeps/jjwi9k0g' target=\"_blank\">https://wandb.ai/minjabenho/hdb_rental_prices_truncated_feat_eng_ppsm_rmse_histgb/sweeps/jjwi9k0g</a>"
      ],
      "text/plain": [
       "<IPython.core.display.HTML object>"
      ]
     },
     "metadata": {},
     "output_type": "display_data"
    },
    {
     "data": {
      "text/html": [
       " View project at <a href='https://wandb.ai/minjabenho/hdb_rental_prices_truncated_feat_eng_ppsm_rmse_histgb' target=\"_blank\">https://wandb.ai/minjabenho/hdb_rental_prices_truncated_feat_eng_ppsm_rmse_histgb</a>"
      ],
      "text/plain": [
       "<IPython.core.display.HTML object>"
      ]
     },
     "metadata": {},
     "output_type": "display_data"
    },
    {
     "data": {
      "text/html": [
       " View sweep at <a href='https://wandb.ai/minjabenho/hdb_rental_prices_truncated_feat_eng_ppsm_rmse_histgb/sweeps/jjwi9k0g' target=\"_blank\">https://wandb.ai/minjabenho/hdb_rental_prices_truncated_feat_eng_ppsm_rmse_histgb/sweeps/jjwi9k0g</a>"
      ],
      "text/plain": [
       "<IPython.core.display.HTML object>"
      ]
     },
     "metadata": {},
     "output_type": "display_data"
    },
    {
     "data": {
      "text/html": [
       " View run at <a href='https://wandb.ai/minjabenho/hdb_rental_prices_truncated_feat_eng_ppsm_rmse_histgb/runs/l5s6zcwb' target=\"_blank\">https://wandb.ai/minjabenho/hdb_rental_prices_truncated_feat_eng_ppsm_rmse_histgb/runs/l5s6zcwb</a>"
      ],
      "text/plain": [
       "<IPython.core.display.HTML object>"
      ]
     },
     "metadata": {},
     "output_type": "display_data"
    },
    {
     "data": {
      "text/html": [
       "Waiting for W&B process to finish... <strong style=\"color:green\">(success).</strong>"
      ],
      "text/plain": [
       "<IPython.core.display.HTML object>"
      ]
     },
     "metadata": {},
     "output_type": "display_data"
    },
    {
     "data": {
      "text/html": [
       "<style>\n",
       "    table.wandb td:nth-child(1) { padding: 0 10px; text-align: left ; width: auto;} td:nth-child(2) {text-align: left ; width: 100%}\n",
       "    .wandb-row { display: flex; flex-direction: row; flex-wrap: wrap; justify-content: flex-start; width: 100% }\n",
       "    .wandb-col { display: flex; flex-direction: column; flex-basis: 100%; flex: 1; padding: 10px; }\n",
       "    </style>\n",
       "<div class=\"wandb-row\"><div class=\"wandb-col\"><h3>Run history:</h3><br/><table class=\"wandb\"><tr><td>train_rmse</td><td>▁</td></tr><tr><td>train_score</td><td>▁</td></tr><tr><td>val_rmse</td><td>▁</td></tr><tr><td>val_score</td><td>▁</td></tr></table><br/></div><div class=\"wandb-col\"><h3>Run summary:</h3><br/><table class=\"wandb\"><tr><td>train_rmse</td><td>5.25876</td></tr><tr><td>train_score</td><td>0.66267</td></tr><tr><td>val_rmse</td><td>5.60762</td></tr><tr><td>val_score</td><td>0.60686</td></tr></table><br/></div></div>"
      ],
      "text/plain": [
       "<IPython.core.display.HTML object>"
      ]
     },
     "metadata": {},
     "output_type": "display_data"
    },
    {
     "data": {
      "text/html": [
       " View run <strong style=\"color:#cdcd00\">lucky-sweep-15</strong> at: <a href='https://wandb.ai/minjabenho/hdb_rental_prices_truncated_feat_eng_ppsm_rmse_histgb/runs/l5s6zcwb' target=\"_blank\">https://wandb.ai/minjabenho/hdb_rental_prices_truncated_feat_eng_ppsm_rmse_histgb/runs/l5s6zcwb</a><br/>Synced 5 W&B file(s), 0 media file(s), 0 artifact file(s) and 0 other file(s)"
      ],
      "text/plain": [
       "<IPython.core.display.HTML object>"
      ]
     },
     "metadata": {},
     "output_type": "display_data"
    },
    {
     "data": {
      "text/html": [
       "Find logs at: <code>./wandb/run-20231018_144325-l5s6zcwb/logs</code>"
      ],
      "text/plain": [
       "<IPython.core.display.HTML object>"
      ]
     },
     "metadata": {},
     "output_type": "display_data"
    },
    {
     "name": "stderr",
     "output_type": "stream",
     "text": [
      "\u001b[34m\u001b[1mwandb\u001b[0m: Agent Starting Run: kn9m2c2s with config:\n",
      "\u001b[34m\u001b[1mwandb\u001b[0m: \tl2_regularization: 0.3\n",
      "\u001b[34m\u001b[1mwandb\u001b[0m: \tlearning_rate: 0.1\n",
      "\u001b[34m\u001b[1mwandb\u001b[0m: \tmax_bins: 255\n",
      "\u001b[34m\u001b[1mwandb\u001b[0m: \tmax_depth: 9\n",
      "\u001b[34m\u001b[1mwandb\u001b[0m: \tmax_iter: 200\n",
      "\u001b[34m\u001b[1mwandb\u001b[0m: \tmax_leaf_nodes: 50\n",
      "\u001b[34m\u001b[1mwandb\u001b[0m: \tmin_samples_leaf: 60\n",
      "Failed to detect the name of this notebook, you can set it manually with the WANDB_NOTEBOOK_NAME environment variable to enable code saving.\n"
     ]
    },
    {
     "data": {
      "text/html": [
       "wandb version 0.15.12 is available!  To upgrade, please run:\n",
       " $ pip install wandb --upgrade"
      ],
      "text/plain": [
       "<IPython.core.display.HTML object>"
      ]
     },
     "metadata": {},
     "output_type": "display_data"
    },
    {
     "data": {
      "text/html": [
       "Tracking run with wandb version 0.15.11"
      ],
      "text/plain": [
       "<IPython.core.display.HTML object>"
      ]
     },
     "metadata": {},
     "output_type": "display_data"
    },
    {
     "data": {
      "text/html": [
       "Run data is saved locally in <code>/home/benhgm/workspace/cs5228_flat_rental/wandb/run-20231018_144337-kn9m2c2s</code>"
      ],
      "text/plain": [
       "<IPython.core.display.HTML object>"
      ]
     },
     "metadata": {},
     "output_type": "display_data"
    },
    {
     "data": {
      "text/html": [
       "Syncing run <strong><a href='https://wandb.ai/minjabenho/hdb_rental_prices_truncated_feat_eng_ppsm_rmse_histgb/runs/kn9m2c2s' target=\"_blank\">fiery-sweep-16</a></strong> to <a href='https://wandb.ai/minjabenho/hdb_rental_prices_truncated_feat_eng_ppsm_rmse_histgb' target=\"_blank\">Weights & Biases</a> (<a href='https://wandb.me/run' target=\"_blank\">docs</a>)<br/>Sweep page: <a href='https://wandb.ai/minjabenho/hdb_rental_prices_truncated_feat_eng_ppsm_rmse_histgb/sweeps/jjwi9k0g' target=\"_blank\">https://wandb.ai/minjabenho/hdb_rental_prices_truncated_feat_eng_ppsm_rmse_histgb/sweeps/jjwi9k0g</a>"
      ],
      "text/plain": [
       "<IPython.core.display.HTML object>"
      ]
     },
     "metadata": {},
     "output_type": "display_data"
    },
    {
     "data": {
      "text/html": [
       " View project at <a href='https://wandb.ai/minjabenho/hdb_rental_prices_truncated_feat_eng_ppsm_rmse_histgb' target=\"_blank\">https://wandb.ai/minjabenho/hdb_rental_prices_truncated_feat_eng_ppsm_rmse_histgb</a>"
      ],
      "text/plain": [
       "<IPython.core.display.HTML object>"
      ]
     },
     "metadata": {},
     "output_type": "display_data"
    },
    {
     "data": {
      "text/html": [
       " View sweep at <a href='https://wandb.ai/minjabenho/hdb_rental_prices_truncated_feat_eng_ppsm_rmse_histgb/sweeps/jjwi9k0g' target=\"_blank\">https://wandb.ai/minjabenho/hdb_rental_prices_truncated_feat_eng_ppsm_rmse_histgb/sweeps/jjwi9k0g</a>"
      ],
      "text/plain": [
       "<IPython.core.display.HTML object>"
      ]
     },
     "metadata": {},
     "output_type": "display_data"
    },
    {
     "data": {
      "text/html": [
       " View run at <a href='https://wandb.ai/minjabenho/hdb_rental_prices_truncated_feat_eng_ppsm_rmse_histgb/runs/kn9m2c2s' target=\"_blank\">https://wandb.ai/minjabenho/hdb_rental_prices_truncated_feat_eng_ppsm_rmse_histgb/runs/kn9m2c2s</a>"
      ],
      "text/plain": [
       "<IPython.core.display.HTML object>"
      ]
     },
     "metadata": {},
     "output_type": "display_data"
    },
    {
     "data": {
      "text/html": [
       "Waiting for W&B process to finish... <strong style=\"color:green\">(success).</strong>"
      ],
      "text/plain": [
       "<IPython.core.display.HTML object>"
      ]
     },
     "metadata": {},
     "output_type": "display_data"
    },
    {
     "data": {
      "text/html": [
       "<style>\n",
       "    table.wandb td:nth-child(1) { padding: 0 10px; text-align: left ; width: auto;} td:nth-child(2) {text-align: left ; width: 100%}\n",
       "    .wandb-row { display: flex; flex-direction: row; flex-wrap: wrap; justify-content: flex-start; width: 100% }\n",
       "    .wandb-col { display: flex; flex-direction: column; flex-basis: 100%; flex: 1; padding: 10px; }\n",
       "    </style>\n",
       "<div class=\"wandb-row\"><div class=\"wandb-col\"><h3>Run history:</h3><br/><table class=\"wandb\"><tr><td>train_rmse</td><td>▁</td></tr><tr><td>train_score</td><td>▁</td></tr><tr><td>val_rmse</td><td>▁</td></tr><tr><td>val_score</td><td>▁</td></tr></table><br/></div><div class=\"wandb-col\"><h3>Run summary:</h3><br/><table class=\"wandb\"><tr><td>train_rmse</td><td>5.30039</td></tr><tr><td>train_score</td><td>0.65731</td></tr><tr><td>val_rmse</td><td>5.59156</td></tr><tr><td>val_score</td><td>0.60911</td></tr></table><br/></div></div>"
      ],
      "text/plain": [
       "<IPython.core.display.HTML object>"
      ]
     },
     "metadata": {},
     "output_type": "display_data"
    },
    {
     "data": {
      "text/html": [
       " View run <strong style=\"color:#cdcd00\">fiery-sweep-16</strong> at: <a href='https://wandb.ai/minjabenho/hdb_rental_prices_truncated_feat_eng_ppsm_rmse_histgb/runs/kn9m2c2s' target=\"_blank\">https://wandb.ai/minjabenho/hdb_rental_prices_truncated_feat_eng_ppsm_rmse_histgb/runs/kn9m2c2s</a><br/>Synced 5 W&B file(s), 0 media file(s), 0 artifact file(s) and 0 other file(s)"
      ],
      "text/plain": [
       "<IPython.core.display.HTML object>"
      ]
     },
     "metadata": {},
     "output_type": "display_data"
    },
    {
     "data": {
      "text/html": [
       "Find logs at: <code>./wandb/run-20231018_144337-kn9m2c2s/logs</code>"
      ],
      "text/plain": [
       "<IPython.core.display.HTML object>"
      ]
     },
     "metadata": {},
     "output_type": "display_data"
    },
    {
     "name": "stderr",
     "output_type": "stream",
     "text": [
      "\u001b[34m\u001b[1mwandb\u001b[0m: Agent Starting Run: upokach5 with config:\n",
      "\u001b[34m\u001b[1mwandb\u001b[0m: \tl2_regularization: 0.3\n",
      "\u001b[34m\u001b[1mwandb\u001b[0m: \tlearning_rate: 0.1\n",
      "\u001b[34m\u001b[1mwandb\u001b[0m: \tmax_bins: 255\n",
      "\u001b[34m\u001b[1mwandb\u001b[0m: \tmax_depth: 9\n",
      "\u001b[34m\u001b[1mwandb\u001b[0m: \tmax_iter: 2000\n",
      "\u001b[34m\u001b[1mwandb\u001b[0m: \tmax_leaf_nodes: 50\n",
      "\u001b[34m\u001b[1mwandb\u001b[0m: \tmin_samples_leaf: 60\n",
      "Failed to detect the name of this notebook, you can set it manually with the WANDB_NOTEBOOK_NAME environment variable to enable code saving.\n"
     ]
    },
    {
     "data": {
      "text/html": [
       "wandb version 0.15.12 is available!  To upgrade, please run:\n",
       " $ pip install wandb --upgrade"
      ],
      "text/plain": [
       "<IPython.core.display.HTML object>"
      ]
     },
     "metadata": {},
     "output_type": "display_data"
    },
    {
     "data": {
      "text/html": [
       "Tracking run with wandb version 0.15.11"
      ],
      "text/plain": [
       "<IPython.core.display.HTML object>"
      ]
     },
     "metadata": {},
     "output_type": "display_data"
    },
    {
     "data": {
      "text/html": [
       "Run data is saved locally in <code>/home/benhgm/workspace/cs5228_flat_rental/wandb/run-20231018_144348-upokach5</code>"
      ],
      "text/plain": [
       "<IPython.core.display.HTML object>"
      ]
     },
     "metadata": {},
     "output_type": "display_data"
    },
    {
     "data": {
      "text/html": [
       "Syncing run <strong><a href='https://wandb.ai/minjabenho/hdb_rental_prices_truncated_feat_eng_ppsm_rmse_histgb/runs/upokach5' target=\"_blank\">gentle-sweep-17</a></strong> to <a href='https://wandb.ai/minjabenho/hdb_rental_prices_truncated_feat_eng_ppsm_rmse_histgb' target=\"_blank\">Weights & Biases</a> (<a href='https://wandb.me/run' target=\"_blank\">docs</a>)<br/>Sweep page: <a href='https://wandb.ai/minjabenho/hdb_rental_prices_truncated_feat_eng_ppsm_rmse_histgb/sweeps/jjwi9k0g' target=\"_blank\">https://wandb.ai/minjabenho/hdb_rental_prices_truncated_feat_eng_ppsm_rmse_histgb/sweeps/jjwi9k0g</a>"
      ],
      "text/plain": [
       "<IPython.core.display.HTML object>"
      ]
     },
     "metadata": {},
     "output_type": "display_data"
    },
    {
     "data": {
      "text/html": [
       " View project at <a href='https://wandb.ai/minjabenho/hdb_rental_prices_truncated_feat_eng_ppsm_rmse_histgb' target=\"_blank\">https://wandb.ai/minjabenho/hdb_rental_prices_truncated_feat_eng_ppsm_rmse_histgb</a>"
      ],
      "text/plain": [
       "<IPython.core.display.HTML object>"
      ]
     },
     "metadata": {},
     "output_type": "display_data"
    },
    {
     "data": {
      "text/html": [
       " View sweep at <a href='https://wandb.ai/minjabenho/hdb_rental_prices_truncated_feat_eng_ppsm_rmse_histgb/sweeps/jjwi9k0g' target=\"_blank\">https://wandb.ai/minjabenho/hdb_rental_prices_truncated_feat_eng_ppsm_rmse_histgb/sweeps/jjwi9k0g</a>"
      ],
      "text/plain": [
       "<IPython.core.display.HTML object>"
      ]
     },
     "metadata": {},
     "output_type": "display_data"
    },
    {
     "data": {
      "text/html": [
       " View run at <a href='https://wandb.ai/minjabenho/hdb_rental_prices_truncated_feat_eng_ppsm_rmse_histgb/runs/upokach5' target=\"_blank\">https://wandb.ai/minjabenho/hdb_rental_prices_truncated_feat_eng_ppsm_rmse_histgb/runs/upokach5</a>"
      ],
      "text/plain": [
       "<IPython.core.display.HTML object>"
      ]
     },
     "metadata": {},
     "output_type": "display_data"
    },
    {
     "data": {
      "text/html": [
       "Waiting for W&B process to finish... <strong style=\"color:green\">(success).</strong>"
      ],
      "text/plain": [
       "<IPython.core.display.HTML object>"
      ]
     },
     "metadata": {},
     "output_type": "display_data"
    },
    {
     "data": {
      "text/html": [
       "<style>\n",
       "    table.wandb td:nth-child(1) { padding: 0 10px; text-align: left ; width: auto;} td:nth-child(2) {text-align: left ; width: 100%}\n",
       "    .wandb-row { display: flex; flex-direction: row; flex-wrap: wrap; justify-content: flex-start; width: 100% }\n",
       "    .wandb-col { display: flex; flex-direction: column; flex-basis: 100%; flex: 1; padding: 10px; }\n",
       "    </style>\n",
       "<div class=\"wandb-row\"><div class=\"wandb-col\"><h3>Run history:</h3><br/><table class=\"wandb\"><tr><td>train_rmse</td><td>▁</td></tr><tr><td>train_score</td><td>▁</td></tr><tr><td>val_rmse</td><td>▁</td></tr><tr><td>val_score</td><td>▁</td></tr></table><br/></div><div class=\"wandb-col\"><h3>Run summary:</h3><br/><table class=\"wandb\"><tr><td>train_rmse</td><td>5.30039</td></tr><tr><td>train_score</td><td>0.65731</td></tr><tr><td>val_rmse</td><td>5.59156</td></tr><tr><td>val_score</td><td>0.60911</td></tr></table><br/></div></div>"
      ],
      "text/plain": [
       "<IPython.core.display.HTML object>"
      ]
     },
     "metadata": {},
     "output_type": "display_data"
    },
    {
     "data": {
      "text/html": [
       " View run <strong style=\"color:#cdcd00\">gentle-sweep-17</strong> at: <a href='https://wandb.ai/minjabenho/hdb_rental_prices_truncated_feat_eng_ppsm_rmse_histgb/runs/upokach5' target=\"_blank\">https://wandb.ai/minjabenho/hdb_rental_prices_truncated_feat_eng_ppsm_rmse_histgb/runs/upokach5</a><br/>Synced 5 W&B file(s), 0 media file(s), 0 artifact file(s) and 0 other file(s)"
      ],
      "text/plain": [
       "<IPython.core.display.HTML object>"
      ]
     },
     "metadata": {},
     "output_type": "display_data"
    },
    {
     "data": {
      "text/html": [
       "Find logs at: <code>./wandb/run-20231018_144348-upokach5/logs</code>"
      ],
      "text/plain": [
       "<IPython.core.display.HTML object>"
      ]
     },
     "metadata": {},
     "output_type": "display_data"
    },
    {
     "name": "stderr",
     "output_type": "stream",
     "text": [
      "\u001b[34m\u001b[1mwandb\u001b[0m: Agent Starting Run: jlf7f3zt with config:\n",
      "\u001b[34m\u001b[1mwandb\u001b[0m: \tl2_regularization: 0.3\n",
      "\u001b[34m\u001b[1mwandb\u001b[0m: \tlearning_rate: 0.1\n",
      "\u001b[34m\u001b[1mwandb\u001b[0m: \tmax_bins: 255\n",
      "\u001b[34m\u001b[1mwandb\u001b[0m: \tmax_depth: 9\n",
      "\u001b[34m\u001b[1mwandb\u001b[0m: \tmax_iter: 2000\n",
      "\u001b[34m\u001b[1mwandb\u001b[0m: \tmax_leaf_nodes: 31\n",
      "\u001b[34m\u001b[1mwandb\u001b[0m: \tmin_samples_leaf: 60\n",
      "Failed to detect the name of this notebook, you can set it manually with the WANDB_NOTEBOOK_NAME environment variable to enable code saving.\n"
     ]
    },
    {
     "data": {
      "text/html": [
       "wandb version 0.15.12 is available!  To upgrade, please run:\n",
       " $ pip install wandb --upgrade"
      ],
      "text/plain": [
       "<IPython.core.display.HTML object>"
      ]
     },
     "metadata": {},
     "output_type": "display_data"
    },
    {
     "data": {
      "text/html": [
       "Tracking run with wandb version 0.15.11"
      ],
      "text/plain": [
       "<IPython.core.display.HTML object>"
      ]
     },
     "metadata": {},
     "output_type": "display_data"
    },
    {
     "data": {
      "text/html": [
       "Run data is saved locally in <code>/home/benhgm/workspace/cs5228_flat_rental/wandb/run-20231018_144403-jlf7f3zt</code>"
      ],
      "text/plain": [
       "<IPython.core.display.HTML object>"
      ]
     },
     "metadata": {},
     "output_type": "display_data"
    },
    {
     "data": {
      "text/html": [
       "Syncing run <strong><a href='https://wandb.ai/minjabenho/hdb_rental_prices_truncated_feat_eng_ppsm_rmse_histgb/runs/jlf7f3zt' target=\"_blank\">silvery-sweep-18</a></strong> to <a href='https://wandb.ai/minjabenho/hdb_rental_prices_truncated_feat_eng_ppsm_rmse_histgb' target=\"_blank\">Weights & Biases</a> (<a href='https://wandb.me/run' target=\"_blank\">docs</a>)<br/>Sweep page: <a href='https://wandb.ai/minjabenho/hdb_rental_prices_truncated_feat_eng_ppsm_rmse_histgb/sweeps/jjwi9k0g' target=\"_blank\">https://wandb.ai/minjabenho/hdb_rental_prices_truncated_feat_eng_ppsm_rmse_histgb/sweeps/jjwi9k0g</a>"
      ],
      "text/plain": [
       "<IPython.core.display.HTML object>"
      ]
     },
     "metadata": {},
     "output_type": "display_data"
    },
    {
     "data": {
      "text/html": [
       " View project at <a href='https://wandb.ai/minjabenho/hdb_rental_prices_truncated_feat_eng_ppsm_rmse_histgb' target=\"_blank\">https://wandb.ai/minjabenho/hdb_rental_prices_truncated_feat_eng_ppsm_rmse_histgb</a>"
      ],
      "text/plain": [
       "<IPython.core.display.HTML object>"
      ]
     },
     "metadata": {},
     "output_type": "display_data"
    },
    {
     "data": {
      "text/html": [
       " View sweep at <a href='https://wandb.ai/minjabenho/hdb_rental_prices_truncated_feat_eng_ppsm_rmse_histgb/sweeps/jjwi9k0g' target=\"_blank\">https://wandb.ai/minjabenho/hdb_rental_prices_truncated_feat_eng_ppsm_rmse_histgb/sweeps/jjwi9k0g</a>"
      ],
      "text/plain": [
       "<IPython.core.display.HTML object>"
      ]
     },
     "metadata": {},
     "output_type": "display_data"
    },
    {
     "data": {
      "text/html": [
       " View run at <a href='https://wandb.ai/minjabenho/hdb_rental_prices_truncated_feat_eng_ppsm_rmse_histgb/runs/jlf7f3zt' target=\"_blank\">https://wandb.ai/minjabenho/hdb_rental_prices_truncated_feat_eng_ppsm_rmse_histgb/runs/jlf7f3zt</a>"
      ],
      "text/plain": [
       "<IPython.core.display.HTML object>"
      ]
     },
     "metadata": {},
     "output_type": "display_data"
    },
    {
     "data": {
      "text/html": [
       "Waiting for W&B process to finish... <strong style=\"color:green\">(success).</strong>"
      ],
      "text/plain": [
       "<IPython.core.display.HTML object>"
      ]
     },
     "metadata": {},
     "output_type": "display_data"
    },
    {
     "data": {
      "text/html": [
       "<style>\n",
       "    table.wandb td:nth-child(1) { padding: 0 10px; text-align: left ; width: auto;} td:nth-child(2) {text-align: left ; width: 100%}\n",
       "    .wandb-row { display: flex; flex-direction: row; flex-wrap: wrap; justify-content: flex-start; width: 100% }\n",
       "    .wandb-col { display: flex; flex-direction: column; flex-basis: 100%; flex: 1; padding: 10px; }\n",
       "    </style>\n",
       "<div class=\"wandb-row\"><div class=\"wandb-col\"><h3>Run history:</h3><br/><table class=\"wandb\"><tr><td>train_rmse</td><td>▁</td></tr><tr><td>train_score</td><td>▁</td></tr><tr><td>val_rmse</td><td>▁</td></tr><tr><td>val_score</td><td>▁</td></tr></table><br/></div><div class=\"wandb-col\"><h3>Run summary:</h3><br/><table class=\"wandb\"><tr><td>train_rmse</td><td>5.38656</td></tr><tr><td>train_score</td><td>0.64607</td></tr><tr><td>val_rmse</td><td>5.60197</td></tr><tr><td>val_score</td><td>0.60765</td></tr></table><br/></div></div>"
      ],
      "text/plain": [
       "<IPython.core.display.HTML object>"
      ]
     },
     "metadata": {},
     "output_type": "display_data"
    },
    {
     "data": {
      "text/html": [
       " View run <strong style=\"color:#cdcd00\">silvery-sweep-18</strong> at: <a href='https://wandb.ai/minjabenho/hdb_rental_prices_truncated_feat_eng_ppsm_rmse_histgb/runs/jlf7f3zt' target=\"_blank\">https://wandb.ai/minjabenho/hdb_rental_prices_truncated_feat_eng_ppsm_rmse_histgb/runs/jlf7f3zt</a><br/>Synced 5 W&B file(s), 0 media file(s), 0 artifact file(s) and 0 other file(s)"
      ],
      "text/plain": [
       "<IPython.core.display.HTML object>"
      ]
     },
     "metadata": {},
     "output_type": "display_data"
    },
    {
     "data": {
      "text/html": [
       "Find logs at: <code>./wandb/run-20231018_144403-jlf7f3zt/logs</code>"
      ],
      "text/plain": [
       "<IPython.core.display.HTML object>"
      ]
     },
     "metadata": {},
     "output_type": "display_data"
    },
    {
     "name": "stderr",
     "output_type": "stream",
     "text": [
      "\u001b[34m\u001b[1mwandb\u001b[0m: Sweep Agent: Waiting for job.\n",
      "\u001b[34m\u001b[1mwandb\u001b[0m: Job received.\n",
      "\u001b[34m\u001b[1mwandb\u001b[0m: Agent Starting Run: 1q1k9z16 with config:\n",
      "\u001b[34m\u001b[1mwandb\u001b[0m: \tl2_regularization: 0.3\n",
      "\u001b[34m\u001b[1mwandb\u001b[0m: \tlearning_rate: 0.1\n",
      "\u001b[34m\u001b[1mwandb\u001b[0m: \tmax_bins: 255\n",
      "\u001b[34m\u001b[1mwandb\u001b[0m: \tmax_depth: 9\n",
      "\u001b[34m\u001b[1mwandb\u001b[0m: \tmax_iter: 100\n",
      "\u001b[34m\u001b[1mwandb\u001b[0m: \tmax_leaf_nodes: 31\n",
      "\u001b[34m\u001b[1mwandb\u001b[0m: \tmin_samples_leaf: 60\n",
      "Failed to detect the name of this notebook, you can set it manually with the WANDB_NOTEBOOK_NAME environment variable to enable code saving.\n"
     ]
    },
    {
     "data": {
      "text/html": [
       "wandb version 0.15.12 is available!  To upgrade, please run:\n",
       " $ pip install wandb --upgrade"
      ],
      "text/plain": [
       "<IPython.core.display.HTML object>"
      ]
     },
     "metadata": {},
     "output_type": "display_data"
    },
    {
     "data": {
      "text/html": [
       "Tracking run with wandb version 0.15.11"
      ],
      "text/plain": [
       "<IPython.core.display.HTML object>"
      ]
     },
     "metadata": {},
     "output_type": "display_data"
    },
    {
     "data": {
      "text/html": [
       "Run data is saved locally in <code>/home/benhgm/workspace/cs5228_flat_rental/wandb/run-20231018_144424-1q1k9z16</code>"
      ],
      "text/plain": [
       "<IPython.core.display.HTML object>"
      ]
     },
     "metadata": {},
     "output_type": "display_data"
    },
    {
     "data": {
      "text/html": [
       "Syncing run <strong><a href='https://wandb.ai/minjabenho/hdb_rental_prices_truncated_feat_eng_ppsm_rmse_histgb/runs/1q1k9z16' target=\"_blank\">vague-sweep-19</a></strong> to <a href='https://wandb.ai/minjabenho/hdb_rental_prices_truncated_feat_eng_ppsm_rmse_histgb' target=\"_blank\">Weights & Biases</a> (<a href='https://wandb.me/run' target=\"_blank\">docs</a>)<br/>Sweep page: <a href='https://wandb.ai/minjabenho/hdb_rental_prices_truncated_feat_eng_ppsm_rmse_histgb/sweeps/jjwi9k0g' target=\"_blank\">https://wandb.ai/minjabenho/hdb_rental_prices_truncated_feat_eng_ppsm_rmse_histgb/sweeps/jjwi9k0g</a>"
      ],
      "text/plain": [
       "<IPython.core.display.HTML object>"
      ]
     },
     "metadata": {},
     "output_type": "display_data"
    },
    {
     "data": {
      "text/html": [
       " View project at <a href='https://wandb.ai/minjabenho/hdb_rental_prices_truncated_feat_eng_ppsm_rmse_histgb' target=\"_blank\">https://wandb.ai/minjabenho/hdb_rental_prices_truncated_feat_eng_ppsm_rmse_histgb</a>"
      ],
      "text/plain": [
       "<IPython.core.display.HTML object>"
      ]
     },
     "metadata": {},
     "output_type": "display_data"
    },
    {
     "data": {
      "text/html": [
       " View sweep at <a href='https://wandb.ai/minjabenho/hdb_rental_prices_truncated_feat_eng_ppsm_rmse_histgb/sweeps/jjwi9k0g' target=\"_blank\">https://wandb.ai/minjabenho/hdb_rental_prices_truncated_feat_eng_ppsm_rmse_histgb/sweeps/jjwi9k0g</a>"
      ],
      "text/plain": [
       "<IPython.core.display.HTML object>"
      ]
     },
     "metadata": {},
     "output_type": "display_data"
    },
    {
     "data": {
      "text/html": [
       " View run at <a href='https://wandb.ai/minjabenho/hdb_rental_prices_truncated_feat_eng_ppsm_rmse_histgb/runs/1q1k9z16' target=\"_blank\">https://wandb.ai/minjabenho/hdb_rental_prices_truncated_feat_eng_ppsm_rmse_histgb/runs/1q1k9z16</a>"
      ],
      "text/plain": [
       "<IPython.core.display.HTML object>"
      ]
     },
     "metadata": {},
     "output_type": "display_data"
    },
    {
     "data": {
      "text/html": [
       "Waiting for W&B process to finish... <strong style=\"color:green\">(success).</strong>"
      ],
      "text/plain": [
       "<IPython.core.display.HTML object>"
      ]
     },
     "metadata": {},
     "output_type": "display_data"
    },
    {
     "data": {
      "text/html": [
       "<style>\n",
       "    table.wandb td:nth-child(1) { padding: 0 10px; text-align: left ; width: auto;} td:nth-child(2) {text-align: left ; width: 100%}\n",
       "    .wandb-row { display: flex; flex-direction: row; flex-wrap: wrap; justify-content: flex-start; width: 100% }\n",
       "    .wandb-col { display: flex; flex-direction: column; flex-basis: 100%; flex: 1; padding: 10px; }\n",
       "    </style>\n",
       "<div class=\"wandb-row\"><div class=\"wandb-col\"><h3>Run history:</h3><br/><table class=\"wandb\"><tr><td>train_rmse</td><td>▁</td></tr><tr><td>train_score</td><td>▁</td></tr><tr><td>val_rmse</td><td>▁</td></tr><tr><td>val_score</td><td>▁</td></tr></table><br/></div><div class=\"wandb-col\"><h3>Run summary:</h3><br/><table class=\"wandb\"><tr><td>train_rmse</td><td>5.51526</td></tr><tr><td>train_score</td><td>0.62896</td></tr><tr><td>val_rmse</td><td>5.63219</td></tr><tr><td>val_score</td><td>0.60341</td></tr></table><br/></div></div>"
      ],
      "text/plain": [
       "<IPython.core.display.HTML object>"
      ]
     },
     "metadata": {},
     "output_type": "display_data"
    },
    {
     "data": {
      "text/html": [
       " View run <strong style=\"color:#cdcd00\">vague-sweep-19</strong> at: <a href='https://wandb.ai/minjabenho/hdb_rental_prices_truncated_feat_eng_ppsm_rmse_histgb/runs/1q1k9z16' target=\"_blank\">https://wandb.ai/minjabenho/hdb_rental_prices_truncated_feat_eng_ppsm_rmse_histgb/runs/1q1k9z16</a><br/>Synced 5 W&B file(s), 0 media file(s), 0 artifact file(s) and 0 other file(s)"
      ],
      "text/plain": [
       "<IPython.core.display.HTML object>"
      ]
     },
     "metadata": {},
     "output_type": "display_data"
    },
    {
     "data": {
      "text/html": [
       "Find logs at: <code>./wandb/run-20231018_144424-1q1k9z16/logs</code>"
      ],
      "text/plain": [
       "<IPython.core.display.HTML object>"
      ]
     },
     "metadata": {},
     "output_type": "display_data"
    },
    {
     "name": "stderr",
     "output_type": "stream",
     "text": [
      "\u001b[34m\u001b[1mwandb\u001b[0m: Agent Starting Run: yp0i8o4q with config:\n",
      "\u001b[34m\u001b[1mwandb\u001b[0m: \tl2_regularization: 0.2\n",
      "\u001b[34m\u001b[1mwandb\u001b[0m: \tlearning_rate: 0.1\n",
      "\u001b[34m\u001b[1mwandb\u001b[0m: \tmax_bins: 255\n",
      "\u001b[34m\u001b[1mwandb\u001b[0m: \tmax_depth: 9\n",
      "\u001b[34m\u001b[1mwandb\u001b[0m: \tmax_iter: 2000\n",
      "\u001b[34m\u001b[1mwandb\u001b[0m: \tmax_leaf_nodes: 100\n",
      "\u001b[34m\u001b[1mwandb\u001b[0m: \tmin_samples_leaf: 60\n",
      "Failed to detect the name of this notebook, you can set it manually with the WANDB_NOTEBOOK_NAME environment variable to enable code saving.\n"
     ]
    },
    {
     "data": {
      "text/html": [
       "wandb version 0.15.12 is available!  To upgrade, please run:\n",
       " $ pip install wandb --upgrade"
      ],
      "text/plain": [
       "<IPython.core.display.HTML object>"
      ]
     },
     "metadata": {},
     "output_type": "display_data"
    },
    {
     "data": {
      "text/html": [
       "Tracking run with wandb version 0.15.11"
      ],
      "text/plain": [
       "<IPython.core.display.HTML object>"
      ]
     },
     "metadata": {},
     "output_type": "display_data"
    },
    {
     "data": {
      "text/html": [
       "Run data is saved locally in <code>/home/benhgm/workspace/cs5228_flat_rental/wandb/run-20231018_144436-yp0i8o4q</code>"
      ],
      "text/plain": [
       "<IPython.core.display.HTML object>"
      ]
     },
     "metadata": {},
     "output_type": "display_data"
    },
    {
     "data": {
      "text/html": [
       "Syncing run <strong><a href='https://wandb.ai/minjabenho/hdb_rental_prices_truncated_feat_eng_ppsm_rmse_histgb/runs/yp0i8o4q' target=\"_blank\">royal-sweep-20</a></strong> to <a href='https://wandb.ai/minjabenho/hdb_rental_prices_truncated_feat_eng_ppsm_rmse_histgb' target=\"_blank\">Weights & Biases</a> (<a href='https://wandb.me/run' target=\"_blank\">docs</a>)<br/>Sweep page: <a href='https://wandb.ai/minjabenho/hdb_rental_prices_truncated_feat_eng_ppsm_rmse_histgb/sweeps/jjwi9k0g' target=\"_blank\">https://wandb.ai/minjabenho/hdb_rental_prices_truncated_feat_eng_ppsm_rmse_histgb/sweeps/jjwi9k0g</a>"
      ],
      "text/plain": [
       "<IPython.core.display.HTML object>"
      ]
     },
     "metadata": {},
     "output_type": "display_data"
    },
    {
     "data": {
      "text/html": [
       " View project at <a href='https://wandb.ai/minjabenho/hdb_rental_prices_truncated_feat_eng_ppsm_rmse_histgb' target=\"_blank\">https://wandb.ai/minjabenho/hdb_rental_prices_truncated_feat_eng_ppsm_rmse_histgb</a>"
      ],
      "text/plain": [
       "<IPython.core.display.HTML object>"
      ]
     },
     "metadata": {},
     "output_type": "display_data"
    },
    {
     "data": {
      "text/html": [
       " View sweep at <a href='https://wandb.ai/minjabenho/hdb_rental_prices_truncated_feat_eng_ppsm_rmse_histgb/sweeps/jjwi9k0g' target=\"_blank\">https://wandb.ai/minjabenho/hdb_rental_prices_truncated_feat_eng_ppsm_rmse_histgb/sweeps/jjwi9k0g</a>"
      ],
      "text/plain": [
       "<IPython.core.display.HTML object>"
      ]
     },
     "metadata": {},
     "output_type": "display_data"
    },
    {
     "data": {
      "text/html": [
       " View run at <a href='https://wandb.ai/minjabenho/hdb_rental_prices_truncated_feat_eng_ppsm_rmse_histgb/runs/yp0i8o4q' target=\"_blank\">https://wandb.ai/minjabenho/hdb_rental_prices_truncated_feat_eng_ppsm_rmse_histgb/runs/yp0i8o4q</a>"
      ],
      "text/plain": [
       "<IPython.core.display.HTML object>"
      ]
     },
     "metadata": {},
     "output_type": "display_data"
    },
    {
     "data": {
      "text/html": [
       "Waiting for W&B process to finish... <strong style=\"color:green\">(success).</strong>"
      ],
      "text/plain": [
       "<IPython.core.display.HTML object>"
      ]
     },
     "metadata": {},
     "output_type": "display_data"
    },
    {
     "data": {
      "text/html": [
       "<style>\n",
       "    table.wandb td:nth-child(1) { padding: 0 10px; text-align: left ; width: auto;} td:nth-child(2) {text-align: left ; width: 100%}\n",
       "    .wandb-row { display: flex; flex-direction: row; flex-wrap: wrap; justify-content: flex-start; width: 100% }\n",
       "    .wandb-col { display: flex; flex-direction: column; flex-basis: 100%; flex: 1; padding: 10px; }\n",
       "    </style>\n",
       "<div class=\"wandb-row\"><div class=\"wandb-col\"><h3>Run history:</h3><br/><table class=\"wandb\"><tr><td>train_rmse</td><td>▁</td></tr><tr><td>train_score</td><td>▁</td></tr><tr><td>val_rmse</td><td>▁</td></tr><tr><td>val_score</td><td>▁</td></tr></table><br/></div><div class=\"wandb-col\"><h3>Run summary:</h3><br/><table class=\"wandb\"><tr><td>train_rmse</td><td>5.2749</td></tr><tr><td>train_score</td><td>0.66059</td></tr><tr><td>val_rmse</td><td>5.62542</td></tr><tr><td>val_score</td><td>0.60436</td></tr></table><br/></div></div>"
      ],
      "text/plain": [
       "<IPython.core.display.HTML object>"
      ]
     },
     "metadata": {},
     "output_type": "display_data"
    },
    {
     "data": {
      "text/html": [
       " View run <strong style=\"color:#cdcd00\">royal-sweep-20</strong> at: <a href='https://wandb.ai/minjabenho/hdb_rental_prices_truncated_feat_eng_ppsm_rmse_histgb/runs/yp0i8o4q' target=\"_blank\">https://wandb.ai/minjabenho/hdb_rental_prices_truncated_feat_eng_ppsm_rmse_histgb/runs/yp0i8o4q</a><br/>Synced 5 W&B file(s), 0 media file(s), 0 artifact file(s) and 0 other file(s)"
      ],
      "text/plain": [
       "<IPython.core.display.HTML object>"
      ]
     },
     "metadata": {},
     "output_type": "display_data"
    },
    {
     "data": {
      "text/html": [
       "Find logs at: <code>./wandb/run-20231018_144436-yp0i8o4q/logs</code>"
      ],
      "text/plain": [
       "<IPython.core.display.HTML object>"
      ]
     },
     "metadata": {},
     "output_type": "display_data"
    }
   ],
   "source": [
    "sweep_id = wandb.sweep(sweep_config, project=\"hdb_rental_prices_truncated_feat_eng_ppsm_rmse_histgb\")\n",
    "wandb.agent(sweep_id, train, count=20)"
   ]
  },
  {
   "cell_type": "code",
   "execution_count": null,
   "metadata": {},
   "outputs": [],
   "source": []
  }
 ],
 "metadata": {
  "kernelspec": {
   "display_name": "Python 3 (ipykernel)",
   "language": "python",
   "name": "python3"
  },
  "language_info": {
   "codemirror_mode": {
    "name": "ipython",
    "version": 3
   },
   "file_extension": ".py",
   "mimetype": "text/x-python",
   "name": "python",
   "nbconvert_exporter": "python",
   "pygments_lexer": "ipython3",
   "version": "3.7.16"
  }
 },
 "nbformat": 4,
 "nbformat_minor": 2
}
