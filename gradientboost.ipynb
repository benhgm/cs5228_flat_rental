{
 "cells": [
  {
   "cell_type": "code",
   "execution_count": 1,
   "metadata": {},
   "outputs": [],
   "source": [
    "import pandas as pd\n",
    "import wandb\n",
    "from sklearn.ensemble import GradientBoostingRegressor\n",
    "from sklearn.metrics import mean_squared_error\n",
    "import matplotlib.pyplot as plt"
   ]
  },
  {
   "cell_type": "code",
   "execution_count": 2,
   "metadata": {},
   "outputs": [
    {
     "name": "stderr",
     "output_type": "stream",
     "text": [
      "Failed to detect the name of this notebook, you can set it manually with the WANDB_NOTEBOOK_NAME environment variable to enable code saving.\n",
      "\u001b[34m\u001b[1mwandb\u001b[0m: Currently logged in as: \u001b[33mminjabenho\u001b[0m. Use \u001b[1m`wandb login --relogin`\u001b[0m to force relogin\n"
     ]
    },
    {
     "data": {
      "text/plain": [
       "True"
      ]
     },
     "execution_count": 2,
     "metadata": {},
     "output_type": "execute_result"
    }
   ],
   "source": [
    "wandb.login()"
   ]
  },
  {
   "cell_type": "code",
   "execution_count": 4,
   "metadata": {},
   "outputs": [],
   "source": [
    "# Datasets\n",
    "BASELINE_TRAIN = \"data/train/baseline_train.csv\"\n",
    "BASELINE_VAL = \"data/train/baseline_val.csv\"\n",
    "TRUNCATED_BASELINE_TRAIN = \"data/train/baseline_truncated_train.csv\"\n",
    "TRUNCATED_BASLINE_VAL = \"data/train/baseline_truncated_val.csv\"\n",
    "BASELINE_W_FEAT_ENG_TRAIN = \"data/train/baseline_w_feature_eng_train.csv\"\n",
    "BASELINE_W_FEAT_ENG_VAL = \"data/train/baseline_w_feature_eng_val.csv\"\n",
    "PPSM_BASELINE_TRAIN = \"data/train/ppsm_baseline_train.csv\"\n",
    "PPSM_BASELINE_VAL = \"data/train/ppsm_baseline_val.csv\""
   ]
  },
  {
   "cell_type": "code",
   "execution_count": 5,
   "metadata": {},
   "outputs": [],
   "source": [
    "def train():\n",
    "    with wandb.init():\n",
    "        config = wandb.config\n",
    "\n",
    "        regressor = GradientBoostingRegressor(\n",
    "            random_state=42,\n",
    "            learning_rate=config.learning_rate,\n",
    "            n_estimators=config.n_estimators,\n",
    "            max_depth=config.max_depth,\n",
    "            subsample=config.subsample,\n",
    "            min_samples_leaf=config.min_samples_leaf,\n",
    "            min_samples_split=config.min_samples_split,\n",
    "            min_impurity_decrease=config.min_impurity_decrease,\n",
    "            min_weight_fraction_leaf=config.min_weight_fraction_leaf)\n",
    "        regressor.fit(X_train, y_train)\n",
    "        score = regressor.score(X_test, y_test)\n",
    "        y_pred = regressor.predict(X_test)\n",
    "        mse = mean_squared_error(y_test, y_pred)\n",
    "\n",
    "    \n",
    "        # feat_importances = pd.Series(regressor.feature_importances_, index=X_train.columns)\n",
    "        # plt.barh(X_train.columns, feat_importances.nlargest(10))\n",
    "        # wandb.log({'feature_importances': plt})\n",
    "\n",
    "        # wandb.sklearn.plot_regressor(regressor, X_train, X_test, y_train, y_test, 'GradientBoost')\n",
    "        wandb.log(data={\"mse\": mse, \"coefficient_of_determination\": score})\n",
    "\n"
   ]
  },
  {
   "attachments": {},
   "cell_type": "markdown",
   "metadata": {},
   "source": [
    "### Model For the Baseline Dataset"
   ]
  },
  {
   "cell_type": "code",
   "execution_count": 3,
   "metadata": {},
   "outputs": [],
   "source": [
    "sweep_config = {\n",
    "    'method': 'bayes'\n",
    "}\n",
    "metric = {\n",
    "    'name': 'mse',\n",
    "    'goal': 'minimize'   \n",
    "    }\n",
    "\n",
    "sweep_config['metric'] = metric\n"
   ]
  },
  {
   "cell_type": "code",
   "execution_count": null,
   "metadata": {},
   "outputs": [],
   "source": [
    "parameters_dict = {\n",
    "    'learning_rate': {\n",
    "        'values': [0.1]\n",
    "    },\n",
    "    'n_estimators': {\n",
    "        'values': [100, 200, 300, 500]\n",
    "    },\n",
    "    'min_samples_split': {\n",
    "        'values': [4, 16, 32]\n",
    "    },\n",
    "    'min_samples_leaf': {\n",
    "        'values': [20]\n",
    "    },\n",
    "    'max_depth': {\n",
    "        'values': [3, 6]\n",
    "    },\n",
    "    'min_impurity_decrease': {\n",
    "        'values': [0.1, 0.2]\n",
    "    },\n",
    "    'min_weight_fraction_leaf': {\n",
    "        'values': [0.0]\n",
    "    },\n",
    "    'subsample': {\n",
    "        'values': [0.75, 0.5]\n",
    "    }\n",
    "}\n",
    "sweep_config['parameters'] = parameters_dict"
   ]
  },
  {
   "cell_type": "code",
   "execution_count": null,
   "metadata": {},
   "outputs": [],
   "source": [
    "TRAIN_DATA = BASELINE_TRAIN\n",
    "VAL_DATA = BASELINE_VAL"
   ]
  },
  {
   "cell_type": "code",
   "execution_count": null,
   "metadata": {},
   "outputs": [],
   "source": [
    "train_set = pd.read_csv(TRAIN_DATA)\n",
    "val_set = pd.read_csv(VAL_DATA)\n",
    "\n",
    "y_train = train_set[\"monthly_rent\"]\n",
    "X_train = train_set.drop(columns=['monthly_rent'])\n",
    "\n",
    "y_test = val_set['monthly_rent']\n",
    "X_test = val_set.drop(columns=['monthly_rent'])\n"
   ]
  },
  {
   "cell_type": "code",
   "execution_count": null,
   "metadata": {},
   "outputs": [],
   "source": [
    "sweep_id = wandb.sweep(sweep_config, project=\"hdb_rental_prices_baseline\")\n",
    "wandb.agent(sweep_id, train(X_train, y_train, X_test, y_test), count=20)"
   ]
  },
  {
   "attachments": {},
   "cell_type": "markdown",
   "metadata": {},
   "source": [
    "### Model for the Truncated Baseline Set"
   ]
  },
  {
   "cell_type": "code",
   "execution_count": null,
   "metadata": {},
   "outputs": [],
   "source": [
    "TRAIN_DATA = TRUNCATED_BASELINE_TRAIN\n",
    "VAL_DATA = TRUNCATED_BASLINE_VAL"
   ]
  },
  {
   "cell_type": "code",
   "execution_count": null,
   "metadata": {},
   "outputs": [],
   "source": [
    "train_set = pd.read_csv(TRAIN_DATA)\n",
    "val_set = pd.read_csv(VAL_DATA)\n",
    "\n",
    "y_train = train_set[\"monthly_rent\"]\n",
    "X_train = train_set.drop(columns=['monthly_rent'])\n",
    "\n",
    "y_test = val_set['monthly_rent']\n",
    "X_test = val_set.drop(columns=['monthly_rent'])"
   ]
  },
  {
   "attachments": {},
   "cell_type": "markdown",
   "metadata": {},
   "source": [
    "### Model for the Feature Engineering Set"
   ]
  },
  {
   "cell_type": "code",
   "execution_count": null,
   "metadata": {},
   "outputs": [],
   "source": [
    "TRAIN_DATA = BASELINE_W_FEAT_ENG_TRAIN\n",
    "VAL_DATA = BASELINE_W_FEAT_ENG_VAL"
   ]
  },
  {
   "cell_type": "code",
   "execution_count": null,
   "metadata": {},
   "outputs": [],
   "source": [
    "train_set = pd.read_csv(TRAIN_DATA)\n",
    "val_set = pd.read_csv(VAL_DATA)\n",
    "\n",
    "y_train = train_set[\"monthly_rent\"]\n",
    "X_train = train_set.drop(columns=['monthly_rent'])\n",
    "\n",
    "y_test = val_set['monthly_rent']\n",
    "X_test = val_set.drop(columns=['monthly_rent'])"
   ]
  },
  {
   "cell_type": "markdown",
   "metadata": {},
   "source": [
    "### Model for the Price Per Square Metre Set"
   ]
  },
  {
   "cell_type": "code",
   "execution_count": 10,
   "metadata": {},
   "outputs": [],
   "source": [
    "sweep_config = {\n",
    "    'method': 'bayes'\n",
    "}\n",
    "metric = {\n",
    "    'name': 'mse',\n",
    "    'goal': 'minimize'   \n",
    "    }\n",
    "\n",
    "sweep_config['metric'] = metric"
   ]
  },
  {
   "cell_type": "code",
   "execution_count": 11,
   "metadata": {},
   "outputs": [],
   "source": [
    "parameters_dict = {\n",
    "    'learning_rate': {\n",
    "        'values': [0.1]\n",
    "    },\n",
    "    'n_estimators': {\n",
    "        'values': [100, 200, 300, 500]\n",
    "    },\n",
    "    'min_samples_split': {\n",
    "        'values': [4, 16, 32]\n",
    "    },\n",
    "    'min_samples_leaf': {\n",
    "        'values': [20]\n",
    "    },\n",
    "    'max_depth': {\n",
    "        'values': [3, 6]\n",
    "    },\n",
    "    'min_impurity_decrease': {\n",
    "        'values': [0.1, 0.2]\n",
    "    },\n",
    "    'min_weight_fraction_leaf': {\n",
    "        'values': [0.0]\n",
    "    },\n",
    "    'subsample': {\n",
    "        'values': [0.75, 0.5]\n",
    "    }\n",
    "}\n",
    "sweep_config['parameters'] = parameters_dict"
   ]
  },
  {
   "cell_type": "code",
   "execution_count": 12,
   "metadata": {},
   "outputs": [],
   "source": [
    "TRAIN_DATA = PPSM_BASELINE_TRAIN\n",
    "VAL_DATA = PPSM_BASELINE_VAL"
   ]
  },
  {
   "cell_type": "code",
   "execution_count": 13,
   "metadata": {},
   "outputs": [],
   "source": [
    "train_set = pd.read_csv(TRAIN_DATA)\n",
    "val_set = pd.read_csv(VAL_DATA)\n",
    "\n",
    "y_train = train_set[\"rent_per_sqm\"]\n",
    "X_train = train_set.drop(columns=['rent_per_sqm'])\n",
    "\n",
    "y_test = val_set['rent_per_sqm']\n",
    "X_test = val_set.drop(columns=['rent_per_sqm'])"
   ]
  },
  {
   "cell_type": "code",
   "execution_count": 14,
   "metadata": {},
   "outputs": [
    {
     "name": "stdout",
     "output_type": "stream",
     "text": [
      "Create sweep with ID: w6iqpm1j\n",
      "Sweep URL: https://wandb.ai/minjabenho/hdb_rental_prices_ppsm_baseline/sweeps/w6iqpm1j\n"
     ]
    },
    {
     "data": {
      "text/html": [
       "Changes to your `wandb` environment variables will be ignored because your `wandb` session has already started. For more information on how to modify your settings with `wandb.init()` arguments, please refer to <a href='https://wandb.me/wandb-init' target=\"_blank\">the W&B docs</a>."
      ],
      "text/plain": [
       "<IPython.core.display.HTML object>"
      ]
     },
     "metadata": {},
     "output_type": "display_data"
    },
    {
     "data": {
      "text/html": [
       "wandb version 0.15.12 is available!  To upgrade, please run:\n",
       " $ pip install wandb --upgrade"
      ],
      "text/plain": [
       "<IPython.core.display.HTML object>"
      ]
     },
     "metadata": {},
     "output_type": "display_data"
    },
    {
     "data": {
      "text/html": [
       "Tracking run with wandb version 0.15.11"
      ],
      "text/plain": [
       "<IPython.core.display.HTML object>"
      ]
     },
     "metadata": {},
     "output_type": "display_data"
    },
    {
     "data": {
      "text/html": [
       "Run data is saved locally in <code>/home/benhgm/workspace/cs5228_flat_rental/wandb/run-20231016_135651-nt01rh7z</code>"
      ],
      "text/plain": [
       "<IPython.core.display.HTML object>"
      ]
     },
     "metadata": {},
     "output_type": "display_data"
    },
    {
     "data": {
      "text/html": [
       "Syncing run <strong><a href='https://wandb.ai/minjabenho/cs5228_flat_rental/runs/nt01rh7z' target=\"_blank\">olive-mountain-9</a></strong> to <a href='https://wandb.ai/minjabenho/cs5228_flat_rental' target=\"_blank\">Weights & Biases</a> (<a href='https://wandb.me/run' target=\"_blank\">docs</a>)<br/>"
      ],
      "text/plain": [
       "<IPython.core.display.HTML object>"
      ]
     },
     "metadata": {},
     "output_type": "display_data"
    },
    {
     "data": {
      "text/html": [
       " View project at <a href='https://wandb.ai/minjabenho/cs5228_flat_rental' target=\"_blank\">https://wandb.ai/minjabenho/cs5228_flat_rental</a>"
      ],
      "text/plain": [
       "<IPython.core.display.HTML object>"
      ]
     },
     "metadata": {},
     "output_type": "display_data"
    },
    {
     "data": {
      "text/html": [
       " View run at <a href='https://wandb.ai/minjabenho/cs5228_flat_rental/runs/nt01rh7z' target=\"_blank\">https://wandb.ai/minjabenho/cs5228_flat_rental/runs/nt01rh7z</a>"
      ],
      "text/plain": [
       "<IPython.core.display.HTML object>"
      ]
     },
     "metadata": {},
     "output_type": "display_data"
    },
    {
     "name": "stderr",
     "output_type": "stream",
     "text": [
      "Traceback (most recent call last):\n",
      "  File \"/home/benhgm/miniconda3/envs/agents/lib/python3.10/site-packages/wandb/sdk/wandb_config.py\", line 162, in __getattr__\n",
      "    return self.__getitem__(key)\n",
      "  File \"/home/benhgm/miniconda3/envs/agents/lib/python3.10/site-packages/wandb/sdk/wandb_config.py\", line 130, in __getitem__\n",
      "    return self._items[key]\n",
      "KeyError: 'learning_rate'\n",
      "\n",
      "The above exception was the direct cause of the following exception:\n",
      "\n",
      "Traceback (most recent call last):\n",
      "  File \"/tmp/ipykernel_700758/4271729088.py\", line 7, in train\n",
      "    learning_rate=config.learning_rate,\n",
      "  File \"/home/benhgm/miniconda3/envs/agents/lib/python3.10/site-packages/wandb/sdk/wandb_config.py\", line 164, in __getattr__\n",
      "    raise AttributeError(\n",
      "AttributeError: <class 'wandb.sdk.wandb_config.Config'> object has no attribute 'learning_rate'\n"
     ]
    },
    {
     "data": {
      "text/html": [
       "Waiting for W&B process to finish... <strong style=\"color:red\">(failed 1).</strong> Press Control-C to abort syncing."
      ],
      "text/plain": [
       "<IPython.core.display.HTML object>"
      ]
     },
     "metadata": {},
     "output_type": "display_data"
    },
    {
     "name": "stderr",
     "output_type": "stream",
     "text": [
      "wandb: WARNING Source type is set to 'repo' but some required information is missing from the environment. A job will not be created from this run. See https://docs.wandb.ai/guides/launch/create-job\n"
     ]
    },
    {
     "data": {
      "text/html": [
       " View run <strong style=\"color:#cdcd00\">olive-mountain-9</strong> at: <a href='https://wandb.ai/minjabenho/cs5228_flat_rental/runs/nt01rh7z' target=\"_blank\">https://wandb.ai/minjabenho/cs5228_flat_rental/runs/nt01rh7z</a><br/>Synced 6 W&B file(s), 0 media file(s), 0 artifact file(s) and 0 other file(s)"
      ],
      "text/plain": [
       "<IPython.core.display.HTML object>"
      ]
     },
     "metadata": {},
     "output_type": "display_data"
    },
    {
     "data": {
      "text/html": [
       "Find logs at: <code>./wandb/run-20231016_135651-nt01rh7z/logs</code>"
      ],
      "text/plain": [
       "<IPython.core.display.HTML object>"
      ]
     },
     "metadata": {},
     "output_type": "display_data"
    },
    {
     "ename": "AttributeError",
     "evalue": "<class 'wandb.sdk.wandb_config.Config'> object has no attribute 'learning_rate'",
     "output_type": "error",
     "traceback": [
      "\u001b[0;31m---------------------------------------------------------------------------\u001b[0m",
      "\u001b[0;31mKeyError\u001b[0m                                  Traceback (most recent call last)",
      "File \u001b[0;32m~/miniconda3/envs/agents/lib/python3.10/site-packages/wandb/sdk/wandb_config.py:162\u001b[0m, in \u001b[0;36mConfig.__getattr__\u001b[0;34m(self, key)\u001b[0m\n\u001b[1;32m    161\u001b[0m \u001b[39mtry\u001b[39;00m:\n\u001b[0;32m--> 162\u001b[0m     \u001b[39mreturn\u001b[39;00m \u001b[39mself\u001b[39;49m\u001b[39m.\u001b[39;49m\u001b[39m__getitem__\u001b[39;49m(key)\n\u001b[1;32m    163\u001b[0m \u001b[39mexcept\u001b[39;00m \u001b[39mKeyError\u001b[39;00m \u001b[39mas\u001b[39;00m ke:\n",
      "File \u001b[0;32m~/miniconda3/envs/agents/lib/python3.10/site-packages/wandb/sdk/wandb_config.py:130\u001b[0m, in \u001b[0;36mConfig.__getitem__\u001b[0;34m(self, key)\u001b[0m\n\u001b[1;32m    129\u001b[0m \u001b[39mdef\u001b[39;00m \u001b[39m__getitem__\u001b[39m(\u001b[39mself\u001b[39m, key):\n\u001b[0;32m--> 130\u001b[0m     \u001b[39mreturn\u001b[39;00m \u001b[39mself\u001b[39;49m\u001b[39m.\u001b[39;49m_items[key]\n",
      "\u001b[0;31mKeyError\u001b[0m: 'learning_rate'",
      "\nThe above exception was the direct cause of the following exception:\n",
      "\u001b[0;31mAttributeError\u001b[0m                            Traceback (most recent call last)",
      "\u001b[1;32m/home/benhgm/workspace/cs5228_flat_rental/gradientboost.ipynb Cell 22\u001b[0m line \u001b[0;36m2\n\u001b[1;32m      <a href='vscode-notebook-cell:/home/benhgm/workspace/cs5228_flat_rental/gradientboost.ipynb#Y101sZmlsZQ%3D%3D?line=0'>1</a>\u001b[0m sweep_id \u001b[39m=\u001b[39m wandb\u001b[39m.\u001b[39msweep(sweep_config, project\u001b[39m=\u001b[39m\u001b[39m\"\u001b[39m\u001b[39mhdb_rental_prices_ppsm_baseline\u001b[39m\u001b[39m\"\u001b[39m)\n\u001b[0;32m----> <a href='vscode-notebook-cell:/home/benhgm/workspace/cs5228_flat_rental/gradientboost.ipynb#Y101sZmlsZQ%3D%3D?line=1'>2</a>\u001b[0m wandb\u001b[39m.\u001b[39magent(sweep_id, train(X_train, y_train, X_test, y_test), count\u001b[39m=\u001b[39m\u001b[39m20\u001b[39m)\n",
      "\u001b[1;32m/home/benhgm/workspace/cs5228_flat_rental/gradientboost.ipynb Cell 22\u001b[0m line \u001b[0;36m7\n\u001b[1;32m      <a href='vscode-notebook-cell:/home/benhgm/workspace/cs5228_flat_rental/gradientboost.ipynb#Y101sZmlsZQ%3D%3D?line=1'>2</a>\u001b[0m \u001b[39mwith\u001b[39;00m wandb\u001b[39m.\u001b[39minit():\n\u001b[1;32m      <a href='vscode-notebook-cell:/home/benhgm/workspace/cs5228_flat_rental/gradientboost.ipynb#Y101sZmlsZQ%3D%3D?line=2'>3</a>\u001b[0m     config \u001b[39m=\u001b[39m wandb\u001b[39m.\u001b[39mconfig\n\u001b[1;32m      <a href='vscode-notebook-cell:/home/benhgm/workspace/cs5228_flat_rental/gradientboost.ipynb#Y101sZmlsZQ%3D%3D?line=4'>5</a>\u001b[0m     regressor \u001b[39m=\u001b[39m GradientBoostingRegressor(\n\u001b[1;32m      <a href='vscode-notebook-cell:/home/benhgm/workspace/cs5228_flat_rental/gradientboost.ipynb#Y101sZmlsZQ%3D%3D?line=5'>6</a>\u001b[0m         random_state\u001b[39m=\u001b[39m\u001b[39m42\u001b[39m,\n\u001b[0;32m----> <a href='vscode-notebook-cell:/home/benhgm/workspace/cs5228_flat_rental/gradientboost.ipynb#Y101sZmlsZQ%3D%3D?line=6'>7</a>\u001b[0m         learning_rate\u001b[39m=\u001b[39mconfig\u001b[39m.\u001b[39;49mlearning_rate,\n\u001b[1;32m      <a href='vscode-notebook-cell:/home/benhgm/workspace/cs5228_flat_rental/gradientboost.ipynb#Y101sZmlsZQ%3D%3D?line=7'>8</a>\u001b[0m         n_estimators\u001b[39m=\u001b[39mconfig\u001b[39m.\u001b[39mn_estimators,\n\u001b[1;32m      <a href='vscode-notebook-cell:/home/benhgm/workspace/cs5228_flat_rental/gradientboost.ipynb#Y101sZmlsZQ%3D%3D?line=8'>9</a>\u001b[0m         max_depth\u001b[39m=\u001b[39mconfig\u001b[39m.\u001b[39mmax_depth,\n\u001b[1;32m     <a href='vscode-notebook-cell:/home/benhgm/workspace/cs5228_flat_rental/gradientboost.ipynb#Y101sZmlsZQ%3D%3D?line=9'>10</a>\u001b[0m         subsample\u001b[39m=\u001b[39mconfig\u001b[39m.\u001b[39msubsample,\n\u001b[1;32m     <a href='vscode-notebook-cell:/home/benhgm/workspace/cs5228_flat_rental/gradientboost.ipynb#Y101sZmlsZQ%3D%3D?line=10'>11</a>\u001b[0m         min_samples_leaf\u001b[39m=\u001b[39mconfig\u001b[39m.\u001b[39mmin_samples_leaf,\n\u001b[1;32m     <a href='vscode-notebook-cell:/home/benhgm/workspace/cs5228_flat_rental/gradientboost.ipynb#Y101sZmlsZQ%3D%3D?line=11'>12</a>\u001b[0m         min_samples_split\u001b[39m=\u001b[39mconfig\u001b[39m.\u001b[39mmin_samples_split,\n\u001b[1;32m     <a href='vscode-notebook-cell:/home/benhgm/workspace/cs5228_flat_rental/gradientboost.ipynb#Y101sZmlsZQ%3D%3D?line=12'>13</a>\u001b[0m         min_impurity_decrease\u001b[39m=\u001b[39mconfig\u001b[39m.\u001b[39mmin_impurity_decrease,\n\u001b[1;32m     <a href='vscode-notebook-cell:/home/benhgm/workspace/cs5228_flat_rental/gradientboost.ipynb#Y101sZmlsZQ%3D%3D?line=13'>14</a>\u001b[0m         min_weight_fraction_leaf\u001b[39m=\u001b[39mconfig\u001b[39m.\u001b[39mmin_weight_fraction_leaf)\n\u001b[1;32m     <a href='vscode-notebook-cell:/home/benhgm/workspace/cs5228_flat_rental/gradientboost.ipynb#Y101sZmlsZQ%3D%3D?line=14'>15</a>\u001b[0m     regressor\u001b[39m.\u001b[39mfit(X_train, y_train)\n\u001b[1;32m     <a href='vscode-notebook-cell:/home/benhgm/workspace/cs5228_flat_rental/gradientboost.ipynb#Y101sZmlsZQ%3D%3D?line=15'>16</a>\u001b[0m     score \u001b[39m=\u001b[39m regressor\u001b[39m.\u001b[39mscore(X_test, y_test)\n",
      "File \u001b[0;32m~/miniconda3/envs/agents/lib/python3.10/site-packages/wandb/sdk/wandb_config.py:164\u001b[0m, in \u001b[0;36mConfig.__getattr__\u001b[0;34m(self, key)\u001b[0m\n\u001b[1;32m    162\u001b[0m     \u001b[39mreturn\u001b[39;00m \u001b[39mself\u001b[39m\u001b[39m.\u001b[39m\u001b[39m__getitem__\u001b[39m(key)\n\u001b[1;32m    163\u001b[0m \u001b[39mexcept\u001b[39;00m \u001b[39mKeyError\u001b[39;00m \u001b[39mas\u001b[39;00m ke:\n\u001b[0;32m--> 164\u001b[0m     \u001b[39mraise\u001b[39;00m \u001b[39mAttributeError\u001b[39;00m(\n\u001b[1;32m    165\u001b[0m         \u001b[39mf\u001b[39m\u001b[39m\"\u001b[39m\u001b[39m{\u001b[39;00m\u001b[39mself\u001b[39m\u001b[39m.\u001b[39m\u001b[39m__class__\u001b[39m\u001b[39m!r}\u001b[39;00m\u001b[39m object has no attribute \u001b[39m\u001b[39m{\u001b[39;00mkey\u001b[39m!r}\u001b[39;00m\u001b[39m\"\u001b[39m\n\u001b[1;32m    166\u001b[0m     ) \u001b[39mfrom\u001b[39;00m \u001b[39mke\u001b[39;00m\n",
      "\u001b[0;31mAttributeError\u001b[0m: <class 'wandb.sdk.wandb_config.Config'> object has no attribute 'learning_rate'"
     ]
    }
   ],
   "source": [
    "sweep_id = wandb.sweep(sweep_config, project=\"hdb_rental_prices_ppsm_baseline\")\n",
    "wandb.agent(sweep_id, train(X_train, y_train, X_test, y_test), count=20)"
   ]
  },
  {
   "cell_type": "code",
   "execution_count": null,
   "metadata": {},
   "outputs": [],
   "source": []
  }
 ],
 "metadata": {
  "kernelspec": {
   "display_name": "nlp",
   "language": "python",
   "name": "python3"
  },
  "language_info": {
   "codemirror_mode": {
    "name": "ipython",
    "version": 3
   },
   "file_extension": ".py",
   "mimetype": "text/x-python",
   "name": "python",
   "nbconvert_exporter": "python",
   "pygments_lexer": "ipython3",
   "version": "3.10.13"
  },
  "orig_nbformat": 4
 },
 "nbformat": 4,
 "nbformat_minor": 2
}
