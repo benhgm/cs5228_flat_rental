{
 "cells": [
  {
   "cell_type": "code",
   "execution_count": 1,
   "metadata": {},
   "outputs": [],
   "source": [
    "import pandas as pd\n",
    "import wandb\n",
    "from sklearn.ensemble import GradientBoostingRegressor\n",
    "from sklearn.metrics import mean_squared_error\n",
    "import matplotlib.pyplot as plt"
   ]
  },
  {
   "cell_type": "code",
   "execution_count": 2,
   "metadata": {},
   "outputs": [
    {
     "name": "stderr",
     "output_type": "stream",
     "text": [
      "Failed to detect the name of this notebook, you can set it manually with the WANDB_NOTEBOOK_NAME environment variable to enable code saving.\n",
      "\u001b[34m\u001b[1mwandb\u001b[0m: Currently logged in as: \u001b[33mminjabenho\u001b[0m. Use \u001b[1m`wandb login --relogin`\u001b[0m to force relogin\n"
     ]
    },
    {
     "data": {
      "text/plain": [
       "True"
      ]
     },
     "execution_count": 2,
     "metadata": {},
     "output_type": "execute_result"
    }
   ],
   "source": [
    "wandb.login()"
   ]
  },
  {
   "cell_type": "code",
   "execution_count": 3,
   "metadata": {},
   "outputs": [],
   "source": [
    "# Datasets\n",
    "BASELINE_TRAIN = \"data/train/baseline_train.csv\"\n",
    "BASELINE_VAL = \"data/train/baseline_val.csv\"\n",
    "TRUNCATED_BASELINE_TRAIN = \"data/train/baseline_truncated_train.csv\"\n",
    "TRUNCATED_BASLINE_VAL = \"data/train/baseline_truncated_val.csv\"\n",
    "BASELINE_W_FEAT_ENG_TRAIN = \"data/train/baseline_w_feature_eng_train.csv\"\n",
    "BASELINE_W_FEAT_ENG_VAL = \"data/train/baseline_w_feature_eng_val.csv\"\n",
    "PPSM_BASELINE_TRAIN = \"data/train/ppsm_baseline_train.csv\"\n",
    "PPSM_BASELINE_VAL = \"data/train/ppsm_baseline_val.csv\"\n",
    "PPSM_FEAT_ENG_TRAIN = \"data/train/feature_eng_ppsm_train.csv\"\n",
    "PPSM_FEAT_ENG_VAL = \"data/train/feature_eng_ppsm_val.csv\""
   ]
  },
  {
   "attachments": {},
   "cell_type": "markdown",
   "metadata": {},
   "source": [
    "### Model For the Baseline Dataset"
   ]
  },
  {
   "cell_type": "code",
   "execution_count": null,
   "metadata": {},
   "outputs": [],
   "source": [
    "sweep_config = {\n",
    "    'method': 'bayes'\n",
    "}\n",
    "metric = {\n",
    "    'name': 'mse',\n",
    "    'goal': 'minimize'   \n",
    "    }\n",
    "\n",
    "sweep_config['metric'] = metric\n"
   ]
  },
  {
   "cell_type": "code",
   "execution_count": null,
   "metadata": {},
   "outputs": [],
   "source": [
    "parameters_dict = {\n",
    "    'learning_rate': {\n",
    "        'values': [0.1]\n",
    "    },\n",
    "    'n_estimators': {\n",
    "        'values': [100, 200, 300, 500]\n",
    "    },\n",
    "    'min_samples_split': {\n",
    "        'values': [4, 16, 32]\n",
    "    },\n",
    "    'min_samples_leaf': {\n",
    "        'values': [20]\n",
    "    },\n",
    "    'max_depth': {\n",
    "        'values': [3, 6]\n",
    "    },\n",
    "    'min_impurity_decrease': {\n",
    "        'values': [0.1, 0.2]\n",
    "    },\n",
    "    'min_weight_fraction_leaf': {\n",
    "        'values': [0.0]\n",
    "    },\n",
    "    'subsample': {\n",
    "        'values': [0.75, 0.5]\n",
    "    }\n",
    "}\n",
    "sweep_config['parameters'] = parameters_dict"
   ]
  },
  {
   "cell_type": "code",
   "execution_count": null,
   "metadata": {},
   "outputs": [],
   "source": [
    "TRAIN_DATA = BASELINE_TRAIN\n",
    "VAL_DATA = BASELINE_VAL"
   ]
  },
  {
   "cell_type": "code",
   "execution_count": null,
   "metadata": {},
   "outputs": [],
   "source": [
    "train_set = pd.read_csv(TRAIN_DATA)\n",
    "val_set = pd.read_csv(VAL_DATA)\n",
    "\n",
    "y_train = train_set[\"monthly_rent\"]\n",
    "X_train = train_set.drop(columns=['monthly_rent'])\n",
    "\n",
    "y_test = val_set['monthly_rent']\n",
    "X_test = val_set.drop(columns=['monthly_rent'])\n"
   ]
  },
  {
   "cell_type": "code",
   "execution_count": null,
   "metadata": {},
   "outputs": [],
   "source": [
    "def train():\n",
    "    with wandb.init():\n",
    "        config = wandb.config\n",
    "\n",
    "        regressor = GradientBoostingRegressor(\n",
    "            random_state=42,\n",
    "            learning_rate=config.learning_rate,\n",
    "            n_estimators=config.n_estimators,\n",
    "            max_depth=config.max_depth,\n",
    "            subsample=config.subsample,\n",
    "            min_samples_leaf=config.min_samples_leaf,\n",
    "            min_samples_split=config.min_samples_split,\n",
    "            min_impurity_decrease=config.min_impurity_decrease,\n",
    "            min_weight_fraction_leaf=config.min_weight_fraction_leaf)\n",
    "        regressor.fit(X_train, y_train)\n",
    "        score = regressor.score(X_test, y_test)\n",
    "        y_pred = regressor.predict(X_test)\n",
    "        mse = mean_squared_error(y_test, y_pred)\n",
    "\n",
    "    \n",
    "        # feat_importances = pd.Series(regressor.feature_importances_, index=X_train.columns)\n",
    "        # plt.barh(X_train.columns, feat_importances.nlargest(10))\n",
    "        # wandb.log({'feature_importances': plt})\n",
    "\n",
    "        # wandb.sklearn.plot_regressor(regressor, X_train, X_test, y_train, y_test, 'GradientBoost')\n",
    "        wandb.log(data={\"mse\": mse, \"coefficient_of_determination\": score})\n",
    "\n"
   ]
  },
  {
   "cell_type": "code",
   "execution_count": null,
   "metadata": {},
   "outputs": [],
   "source": [
    "sweep_id = wandb.sweep(sweep_config, project=\"hdb_rental_prices_baseline\")\n",
    "wandb.agent(sweep_id, train(X_train, y_train, X_test, y_test), count=20)"
   ]
  },
  {
   "attachments": {},
   "cell_type": "markdown",
   "metadata": {},
   "source": [
    "### Model for the Truncated Baseline Set"
   ]
  },
  {
   "cell_type": "code",
   "execution_count": null,
   "metadata": {},
   "outputs": [],
   "source": [
    "sweep_config = {\n",
    "    'method': 'bayes'\n",
    "}\n",
    "metric = {\n",
    "    'name': 'mse',\n",
    "    'goal': 'minimize'   \n",
    "    }\n",
    "\n",
    "sweep_config['metric'] = metric"
   ]
  },
  {
   "cell_type": "code",
   "execution_count": null,
   "metadata": {},
   "outputs": [],
   "source": [
    "parameters_dict = {\n",
    "    'learning_rate': {\n",
    "        'values': [0.1]\n",
    "    },\n",
    "    'n_estimators': {\n",
    "        'values': [100, 200, 300, 500]\n",
    "    },\n",
    "    'min_samples_split': {\n",
    "        'values': [4, 16, 32]\n",
    "    },\n",
    "    'min_samples_leaf': {\n",
    "        'values': [20]\n",
    "    },\n",
    "    'max_depth': {\n",
    "        'values': [3, 6]\n",
    "    },\n",
    "    'min_impurity_decrease': {\n",
    "        'values': [0.1, 0.2]\n",
    "    },\n",
    "    'min_weight_fraction_leaf': {\n",
    "        'values': [0.0]\n",
    "    },\n",
    "    'subsample': {\n",
    "        'values': [0.75, 0.5]\n",
    "    }\n",
    "}\n",
    "sweep_config['parameters'] = parameters_dict"
   ]
  },
  {
   "cell_type": "code",
   "execution_count": null,
   "metadata": {},
   "outputs": [],
   "source": [
    "TRAIN_DATA = TRUNCATED_BASELINE_TRAIN\n",
    "VAL_DATA = TRUNCATED_BASLINE_VAL"
   ]
  },
  {
   "cell_type": "code",
   "execution_count": null,
   "metadata": {},
   "outputs": [],
   "source": [
    "train_set = pd.read_csv(TRAIN_DATA)\n",
    "val_set = pd.read_csv(VAL_DATA)\n",
    "\n",
    "y_train = train_set[\"monthly_rent\"]\n",
    "X_train = train_set.drop(columns=['monthly_rent'])\n",
    "\n",
    "y_test = val_set['monthly_rent']\n",
    "X_test = val_set.drop(columns=['monthly_rent'])"
   ]
  },
  {
   "cell_type": "code",
   "execution_count": null,
   "metadata": {},
   "outputs": [],
   "source": [
    "def train():\n",
    "    with wandb.init():\n",
    "        config = wandb.config\n",
    "\n",
    "        regressor = GradientBoostingRegressor(\n",
    "            random_state=42,\n",
    "            learning_rate=config.learning_rate,\n",
    "            n_estimators=config.n_estimators,\n",
    "            max_depth=config.max_depth,\n",
    "            subsample=config.subsample,\n",
    "            min_samples_leaf=config.min_samples_leaf,\n",
    "            min_samples_split=config.min_samples_split,\n",
    "            min_impurity_decrease=config.min_impurity_decrease,\n",
    "            min_weight_fraction_leaf=config.min_weight_fraction_leaf)\n",
    "        regressor.fit(X_train, y_train)\n",
    "        score = regressor.score(X_test, y_test)\n",
    "        y_pred = regressor.predict(X_test)\n",
    "        mse = mean_squared_error(y_test, y_pred)\n",
    "\n",
    "    \n",
    "        # feat_importances = pd.Series(regressor.feature_importances_, index=X_train.columns)\n",
    "        # plt.barh(X_train.columns, feat_importances.nlargest(10))\n",
    "        # wandb.log({'feature_importances': plt})\n",
    "\n",
    "        # wandb.sklearn.plot_regressor(regressor, X_train, X_test, y_train, y_test, 'GradientBoost')\n",
    "        wandb.log(data={\"mse\": mse, \"coefficient_of_determination\": score})"
   ]
  },
  {
   "cell_type": "code",
   "execution_count": null,
   "metadata": {},
   "outputs": [],
   "source": [
    "sweep_id = wandb.sweep(sweep_config, project=\"hdb_rental_prices_truncated_baseline\")\n",
    "wandb.agent(sweep_id, train, count=20)"
   ]
  },
  {
   "attachments": {},
   "cell_type": "markdown",
   "metadata": {},
   "source": [
    "### Model for the Feature Engineering Set"
   ]
  },
  {
   "cell_type": "code",
   "execution_count": 4,
   "metadata": {},
   "outputs": [],
   "source": [
    "sweep_config = {\n",
    "    'method': 'bayes'\n",
    "}\n",
    "metric = {\n",
    "    'name': 'mse',\n",
    "    'goal': 'minimize'   \n",
    "    }\n",
    "\n",
    "sweep_config['metric'] = metric"
   ]
  },
  {
   "cell_type": "code",
   "execution_count": 5,
   "metadata": {},
   "outputs": [],
   "source": [
    "parameters_dict = {\n",
    "    'learning_rate': {\n",
    "        'values': [0.1]\n",
    "    },\n",
    "    'n_estimators': {\n",
    "        'values': [100, 200, 300, 500]\n",
    "    },\n",
    "    'min_samples_split': {\n",
    "        'values': [4, 16, 32]\n",
    "    },\n",
    "    'min_samples_leaf': {\n",
    "        'values': [20]\n",
    "    },\n",
    "    'max_depth': {\n",
    "        'values': [3, 6]\n",
    "    },\n",
    "    'min_impurity_decrease': {\n",
    "        'values': [0.1, 0.2]\n",
    "    },\n",
    "    'min_weight_fraction_leaf': {\n",
    "        'values': [0.0]\n",
    "    },\n",
    "    'subsample': {\n",
    "        'values': [0.75, 0.5]\n",
    "    }\n",
    "}\n",
    "sweep_config['parameters'] = parameters_dict"
   ]
  },
  {
   "cell_type": "code",
   "execution_count": 6,
   "metadata": {},
   "outputs": [],
   "source": [
    "TRAIN_DATA = BASELINE_W_FEAT_ENG_TRAIN\n",
    "VAL_DATA = BASELINE_W_FEAT_ENG_VAL"
   ]
  },
  {
   "cell_type": "code",
   "execution_count": 7,
   "metadata": {},
   "outputs": [],
   "source": [
    "train_set = pd.read_csv(TRAIN_DATA)\n",
    "val_set = pd.read_csv(VAL_DATA)\n",
    "\n",
    "y_train = train_set[\"monthly_rent\"]\n",
    "X_train = train_set.drop(columns=['monthly_rent'])\n",
    "\n",
    "y_test = val_set['monthly_rent']\n",
    "X_test = val_set.drop(columns=['monthly_rent'])"
   ]
  },
  {
   "cell_type": "code",
   "execution_count": 8,
   "metadata": {},
   "outputs": [],
   "source": [
    "def train():\n",
    "    with wandb.init():\n",
    "        config = wandb.config\n",
    "\n",
    "        regressor = GradientBoostingRegressor(\n",
    "            random_state=42,\n",
    "            learning_rate=config.learning_rate,\n",
    "            n_estimators=config.n_estimators,\n",
    "            max_depth=config.max_depth,\n",
    "            subsample=config.subsample,\n",
    "            min_samples_leaf=config.min_samples_leaf,\n",
    "            min_samples_split=config.min_samples_split,\n",
    "            min_impurity_decrease=config.min_impurity_decrease,\n",
    "            min_weight_fraction_leaf=config.min_weight_fraction_leaf)\n",
    "        regressor.fit(X_train, y_train)\n",
    "        score = regressor.score(X_test, y_test)\n",
    "        y_pred = regressor.predict(X_test)\n",
    "        mse = mean_squared_error(y_test, y_pred)\n",
    "\n",
    "    \n",
    "        # feat_importances = pd.Series(regressor.feature_importances_, index=X_train.columns)\n",
    "        # plt.barh(X_train.columns, feat_importances.nlargest(10))\n",
    "        # wandb.log({'feature_importances': plt})\n",
    "\n",
    "        # wandb.sklearn.plot_regressor(regressor, X_train, X_test, y_train, y_test, 'GradientBoost')\n",
    "        wandb.log(data={\"mse\": mse, \"coefficient_of_determination\": score})"
   ]
  },
  {
   "cell_type": "code",
   "execution_count": 9,
   "metadata": {},
   "outputs": [
    {
     "name": "stdout",
     "output_type": "stream",
     "text": [
      "Create sweep with ID: 0jp3waxw\n",
      "Sweep URL: https://wandb.ai/minjabenho/hdb_rental_prices_feature_eng/sweeps/0jp3waxw\n"
     ]
    },
    {
     "name": "stderr",
     "output_type": "stream",
     "text": [
      "\u001b[34m\u001b[1mwandb\u001b[0m: Agent Starting Run: 6c77sxc1 with config:\n",
      "\u001b[34m\u001b[1mwandb\u001b[0m: \tlearning_rate: 0.1\n",
      "\u001b[34m\u001b[1mwandb\u001b[0m: \tmax_depth: 3\n",
      "\u001b[34m\u001b[1mwandb\u001b[0m: \tmin_impurity_decrease: 0.1\n",
      "\u001b[34m\u001b[1mwandb\u001b[0m: \tmin_samples_leaf: 20\n",
      "\u001b[34m\u001b[1mwandb\u001b[0m: \tmin_samples_split: 16\n",
      "\u001b[34m\u001b[1mwandb\u001b[0m: \tmin_weight_fraction_leaf: 0\n",
      "\u001b[34m\u001b[1mwandb\u001b[0m: \tn_estimators: 500\n",
      "\u001b[34m\u001b[1mwandb\u001b[0m: \tsubsample: 0.5\n",
      "Failed to detect the name of this notebook, you can set it manually with the WANDB_NOTEBOOK_NAME environment variable to enable code saving.\n"
     ]
    },
    {
     "data": {
      "text/html": [
       "wandb version 0.15.12 is available!  To upgrade, please run:\n",
       " $ pip install wandb --upgrade"
      ],
      "text/plain": [
       "<IPython.core.display.HTML object>"
      ]
     },
     "metadata": {},
     "output_type": "display_data"
    },
    {
     "data": {
      "text/html": [
       "Tracking run with wandb version 0.15.11"
      ],
      "text/plain": [
       "<IPython.core.display.HTML object>"
      ]
     },
     "metadata": {},
     "output_type": "display_data"
    },
    {
     "data": {
      "text/html": [
       "Run data is saved locally in <code>/home/benhgm/workspace/cs5228_flat_rental/wandb/run-20231016_151331-6c77sxc1</code>"
      ],
      "text/plain": [
       "<IPython.core.display.HTML object>"
      ]
     },
     "metadata": {},
     "output_type": "display_data"
    },
    {
     "data": {
      "text/html": [
       "Syncing run <strong><a href='https://wandb.ai/minjabenho/hdb_rental_prices_feature_eng/runs/6c77sxc1' target=\"_blank\">northern-sweep-1</a></strong> to <a href='https://wandb.ai/minjabenho/hdb_rental_prices_feature_eng' target=\"_blank\">Weights & Biases</a> (<a href='https://wandb.me/run' target=\"_blank\">docs</a>)<br/>Sweep page: <a href='https://wandb.ai/minjabenho/hdb_rental_prices_feature_eng/sweeps/0jp3waxw' target=\"_blank\">https://wandb.ai/minjabenho/hdb_rental_prices_feature_eng/sweeps/0jp3waxw</a>"
      ],
      "text/plain": [
       "<IPython.core.display.HTML object>"
      ]
     },
     "metadata": {},
     "output_type": "display_data"
    },
    {
     "data": {
      "text/html": [
       " View project at <a href='https://wandb.ai/minjabenho/hdb_rental_prices_feature_eng' target=\"_blank\">https://wandb.ai/minjabenho/hdb_rental_prices_feature_eng</a>"
      ],
      "text/plain": [
       "<IPython.core.display.HTML object>"
      ]
     },
     "metadata": {},
     "output_type": "display_data"
    },
    {
     "data": {
      "text/html": [
       " View sweep at <a href='https://wandb.ai/minjabenho/hdb_rental_prices_feature_eng/sweeps/0jp3waxw' target=\"_blank\">https://wandb.ai/minjabenho/hdb_rental_prices_feature_eng/sweeps/0jp3waxw</a>"
      ],
      "text/plain": [
       "<IPython.core.display.HTML object>"
      ]
     },
     "metadata": {},
     "output_type": "display_data"
    },
    {
     "data": {
      "text/html": [
       " View run at <a href='https://wandb.ai/minjabenho/hdb_rental_prices_feature_eng/runs/6c77sxc1' target=\"_blank\">https://wandb.ai/minjabenho/hdb_rental_prices_feature_eng/runs/6c77sxc1</a>"
      ],
      "text/plain": [
       "<IPython.core.display.HTML object>"
      ]
     },
     "metadata": {},
     "output_type": "display_data"
    },
    {
     "data": {
      "text/html": [
       "Waiting for W&B process to finish... <strong style=\"color:green\">(success).</strong>"
      ],
      "text/plain": [
       "<IPython.core.display.HTML object>"
      ]
     },
     "metadata": {},
     "output_type": "display_data"
    },
    {
     "data": {
      "text/html": [
       "<style>\n",
       "    table.wandb td:nth-child(1) { padding: 0 10px; text-align: left ; width: auto;} td:nth-child(2) {text-align: left ; width: 100%}\n",
       "    .wandb-row { display: flex; flex-direction: row; flex-wrap: wrap; justify-content: flex-start; width: 100% }\n",
       "    .wandb-col { display: flex; flex-direction: column; flex-basis: 100%; flex: 1; padding: 10px; }\n",
       "    </style>\n",
       "<div class=\"wandb-row\"><div class=\"wandb-col\"><h3>Run history:</h3><br/><table class=\"wandb\"><tr><td>coefficient_of_determination</td><td>▁</td></tr><tr><td>mse</td><td>▁</td></tr></table><br/></div><div class=\"wandb-col\"><h3>Run summary:</h3><br/><table class=\"wandb\"><tr><td>coefficient_of_determination</td><td>0.53936</td></tr><tr><td>mse</td><td>225881.99885</td></tr></table><br/></div></div>"
      ],
      "text/plain": [
       "<IPython.core.display.HTML object>"
      ]
     },
     "metadata": {},
     "output_type": "display_data"
    },
    {
     "data": {
      "text/html": [
       " View run <strong style=\"color:#cdcd00\">northern-sweep-1</strong> at: <a href='https://wandb.ai/minjabenho/hdb_rental_prices_feature_eng/runs/6c77sxc1' target=\"_blank\">https://wandb.ai/minjabenho/hdb_rental_prices_feature_eng/runs/6c77sxc1</a><br/>Synced 5 W&B file(s), 0 media file(s), 0 artifact file(s) and 0 other file(s)"
      ],
      "text/plain": [
       "<IPython.core.display.HTML object>"
      ]
     },
     "metadata": {},
     "output_type": "display_data"
    },
    {
     "data": {
      "text/html": [
       "Find logs at: <code>./wandb/run-20231016_151331-6c77sxc1/logs</code>"
      ],
      "text/plain": [
       "<IPython.core.display.HTML object>"
      ]
     },
     "metadata": {},
     "output_type": "display_data"
    },
    {
     "name": "stderr",
     "output_type": "stream",
     "text": [
      "\u001b[34m\u001b[1mwandb\u001b[0m: Agent Starting Run: fqyvoktc with config:\n",
      "\u001b[34m\u001b[1mwandb\u001b[0m: \tlearning_rate: 0.1\n",
      "\u001b[34m\u001b[1mwandb\u001b[0m: \tmax_depth: 3\n",
      "\u001b[34m\u001b[1mwandb\u001b[0m: \tmin_impurity_decrease: 0.1\n",
      "\u001b[34m\u001b[1mwandb\u001b[0m: \tmin_samples_leaf: 20\n",
      "\u001b[34m\u001b[1mwandb\u001b[0m: \tmin_samples_split: 4\n",
      "\u001b[34m\u001b[1mwandb\u001b[0m: \tmin_weight_fraction_leaf: 0\n",
      "\u001b[34m\u001b[1mwandb\u001b[0m: \tn_estimators: 200\n",
      "\u001b[34m\u001b[1mwandb\u001b[0m: \tsubsample: 0.5\n",
      "Failed to detect the name of this notebook, you can set it manually with the WANDB_NOTEBOOK_NAME environment variable to enable code saving.\n"
     ]
    },
    {
     "data": {
      "text/html": [
       "wandb version 0.15.12 is available!  To upgrade, please run:\n",
       " $ pip install wandb --upgrade"
      ],
      "text/plain": [
       "<IPython.core.display.HTML object>"
      ]
     },
     "metadata": {},
     "output_type": "display_data"
    },
    {
     "data": {
      "text/html": [
       "Tracking run with wandb version 0.15.11"
      ],
      "text/plain": [
       "<IPython.core.display.HTML object>"
      ]
     },
     "metadata": {},
     "output_type": "display_data"
    },
    {
     "data": {
      "text/html": [
       "Run data is saved locally in <code>/home/benhgm/workspace/cs5228_flat_rental/wandb/run-20231016_151439-fqyvoktc</code>"
      ],
      "text/plain": [
       "<IPython.core.display.HTML object>"
      ]
     },
     "metadata": {},
     "output_type": "display_data"
    },
    {
     "data": {
      "text/html": [
       "Syncing run <strong><a href='https://wandb.ai/minjabenho/hdb_rental_prices_feature_eng/runs/fqyvoktc' target=\"_blank\">pretty-sweep-2</a></strong> to <a href='https://wandb.ai/minjabenho/hdb_rental_prices_feature_eng' target=\"_blank\">Weights & Biases</a> (<a href='https://wandb.me/run' target=\"_blank\">docs</a>)<br/>Sweep page: <a href='https://wandb.ai/minjabenho/hdb_rental_prices_feature_eng/sweeps/0jp3waxw' target=\"_blank\">https://wandb.ai/minjabenho/hdb_rental_prices_feature_eng/sweeps/0jp3waxw</a>"
      ],
      "text/plain": [
       "<IPython.core.display.HTML object>"
      ]
     },
     "metadata": {},
     "output_type": "display_data"
    },
    {
     "data": {
      "text/html": [
       " View project at <a href='https://wandb.ai/minjabenho/hdb_rental_prices_feature_eng' target=\"_blank\">https://wandb.ai/minjabenho/hdb_rental_prices_feature_eng</a>"
      ],
      "text/plain": [
       "<IPython.core.display.HTML object>"
      ]
     },
     "metadata": {},
     "output_type": "display_data"
    },
    {
     "data": {
      "text/html": [
       " View sweep at <a href='https://wandb.ai/minjabenho/hdb_rental_prices_feature_eng/sweeps/0jp3waxw' target=\"_blank\">https://wandb.ai/minjabenho/hdb_rental_prices_feature_eng/sweeps/0jp3waxw</a>"
      ],
      "text/plain": [
       "<IPython.core.display.HTML object>"
      ]
     },
     "metadata": {},
     "output_type": "display_data"
    },
    {
     "data": {
      "text/html": [
       " View run at <a href='https://wandb.ai/minjabenho/hdb_rental_prices_feature_eng/runs/fqyvoktc' target=\"_blank\">https://wandb.ai/minjabenho/hdb_rental_prices_feature_eng/runs/fqyvoktc</a>"
      ],
      "text/plain": [
       "<IPython.core.display.HTML object>"
      ]
     },
     "metadata": {},
     "output_type": "display_data"
    },
    {
     "data": {
      "text/html": [
       "Waiting for W&B process to finish... <strong style=\"color:green\">(success).</strong>"
      ],
      "text/plain": [
       "<IPython.core.display.HTML object>"
      ]
     },
     "metadata": {},
     "output_type": "display_data"
    },
    {
     "data": {
      "text/html": [
       "<style>\n",
       "    table.wandb td:nth-child(1) { padding: 0 10px; text-align: left ; width: auto;} td:nth-child(2) {text-align: left ; width: 100%}\n",
       "    .wandb-row { display: flex; flex-direction: row; flex-wrap: wrap; justify-content: flex-start; width: 100% }\n",
       "    .wandb-col { display: flex; flex-direction: column; flex-basis: 100%; flex: 1; padding: 10px; }\n",
       "    </style>\n",
       "<div class=\"wandb-row\"><div class=\"wandb-col\"><h3>Run history:</h3><br/><table class=\"wandb\"><tr><td>coefficient_of_determination</td><td>▁</td></tr><tr><td>mse</td><td>▁</td></tr></table><br/></div><div class=\"wandb-col\"><h3>Run summary:</h3><br/><table class=\"wandb\"><tr><td>coefficient_of_determination</td><td>0.53667</td></tr><tr><td>mse</td><td>227201.26337</td></tr></table><br/></div></div>"
      ],
      "text/plain": [
       "<IPython.core.display.HTML object>"
      ]
     },
     "metadata": {},
     "output_type": "display_data"
    },
    {
     "data": {
      "text/html": [
       " View run <strong style=\"color:#cdcd00\">pretty-sweep-2</strong> at: <a href='https://wandb.ai/minjabenho/hdb_rental_prices_feature_eng/runs/fqyvoktc' target=\"_blank\">https://wandb.ai/minjabenho/hdb_rental_prices_feature_eng/runs/fqyvoktc</a><br/>Synced 5 W&B file(s), 0 media file(s), 0 artifact file(s) and 0 other file(s)"
      ],
      "text/plain": [
       "<IPython.core.display.HTML object>"
      ]
     },
     "metadata": {},
     "output_type": "display_data"
    },
    {
     "data": {
      "text/html": [
       "Find logs at: <code>./wandb/run-20231016_151439-fqyvoktc/logs</code>"
      ],
      "text/plain": [
       "<IPython.core.display.HTML object>"
      ]
     },
     "metadata": {},
     "output_type": "display_data"
    },
    {
     "name": "stderr",
     "output_type": "stream",
     "text": [
      "\u001b[34m\u001b[1mwandb\u001b[0m: Agent Starting Run: poa1jh9e with config:\n",
      "\u001b[34m\u001b[1mwandb\u001b[0m: \tlearning_rate: 0.1\n",
      "\u001b[34m\u001b[1mwandb\u001b[0m: \tmax_depth: 3\n",
      "\u001b[34m\u001b[1mwandb\u001b[0m: \tmin_impurity_decrease: 0.2\n",
      "\u001b[34m\u001b[1mwandb\u001b[0m: \tmin_samples_leaf: 20\n",
      "\u001b[34m\u001b[1mwandb\u001b[0m: \tmin_samples_split: 32\n",
      "\u001b[34m\u001b[1mwandb\u001b[0m: \tmin_weight_fraction_leaf: 0\n",
      "\u001b[34m\u001b[1mwandb\u001b[0m: \tn_estimators: 500\n",
      "\u001b[34m\u001b[1mwandb\u001b[0m: \tsubsample: 0.75\n",
      "Failed to detect the name of this notebook, you can set it manually with the WANDB_NOTEBOOK_NAME environment variable to enable code saving.\n"
     ]
    },
    {
     "data": {
      "text/html": [
       "wandb version 0.15.12 is available!  To upgrade, please run:\n",
       " $ pip install wandb --upgrade"
      ],
      "text/plain": [
       "<IPython.core.display.HTML object>"
      ]
     },
     "metadata": {},
     "output_type": "display_data"
    },
    {
     "data": {
      "text/html": [
       "Tracking run with wandb version 0.15.11"
      ],
      "text/plain": [
       "<IPython.core.display.HTML object>"
      ]
     },
     "metadata": {},
     "output_type": "display_data"
    },
    {
     "data": {
      "text/html": [
       "Run data is saved locally in <code>/home/benhgm/workspace/cs5228_flat_rental/wandb/run-20231016_151512-poa1jh9e</code>"
      ],
      "text/plain": [
       "<IPython.core.display.HTML object>"
      ]
     },
     "metadata": {},
     "output_type": "display_data"
    },
    {
     "data": {
      "text/html": [
       "Syncing run <strong><a href='https://wandb.ai/minjabenho/hdb_rental_prices_feature_eng/runs/poa1jh9e' target=\"_blank\">charmed-sweep-3</a></strong> to <a href='https://wandb.ai/minjabenho/hdb_rental_prices_feature_eng' target=\"_blank\">Weights & Biases</a> (<a href='https://wandb.me/run' target=\"_blank\">docs</a>)<br/>Sweep page: <a href='https://wandb.ai/minjabenho/hdb_rental_prices_feature_eng/sweeps/0jp3waxw' target=\"_blank\">https://wandb.ai/minjabenho/hdb_rental_prices_feature_eng/sweeps/0jp3waxw</a>"
      ],
      "text/plain": [
       "<IPython.core.display.HTML object>"
      ]
     },
     "metadata": {},
     "output_type": "display_data"
    },
    {
     "data": {
      "text/html": [
       " View project at <a href='https://wandb.ai/minjabenho/hdb_rental_prices_feature_eng' target=\"_blank\">https://wandb.ai/minjabenho/hdb_rental_prices_feature_eng</a>"
      ],
      "text/plain": [
       "<IPython.core.display.HTML object>"
      ]
     },
     "metadata": {},
     "output_type": "display_data"
    },
    {
     "data": {
      "text/html": [
       " View sweep at <a href='https://wandb.ai/minjabenho/hdb_rental_prices_feature_eng/sweeps/0jp3waxw' target=\"_blank\">https://wandb.ai/minjabenho/hdb_rental_prices_feature_eng/sweeps/0jp3waxw</a>"
      ],
      "text/plain": [
       "<IPython.core.display.HTML object>"
      ]
     },
     "metadata": {},
     "output_type": "display_data"
    },
    {
     "data": {
      "text/html": [
       " View run at <a href='https://wandb.ai/minjabenho/hdb_rental_prices_feature_eng/runs/poa1jh9e' target=\"_blank\">https://wandb.ai/minjabenho/hdb_rental_prices_feature_eng/runs/poa1jh9e</a>"
      ],
      "text/plain": [
       "<IPython.core.display.HTML object>"
      ]
     },
     "metadata": {},
     "output_type": "display_data"
    },
    {
     "data": {
      "text/html": [
       "Waiting for W&B process to finish... <strong style=\"color:green\">(success).</strong>"
      ],
      "text/plain": [
       "<IPython.core.display.HTML object>"
      ]
     },
     "metadata": {},
     "output_type": "display_data"
    },
    {
     "data": {
      "text/html": [
       "<style>\n",
       "    table.wandb td:nth-child(1) { padding: 0 10px; text-align: left ; width: auto;} td:nth-child(2) {text-align: left ; width: 100%}\n",
       "    .wandb-row { display: flex; flex-direction: row; flex-wrap: wrap; justify-content: flex-start; width: 100% }\n",
       "    .wandb-col { display: flex; flex-direction: column; flex-basis: 100%; flex: 1; padding: 10px; }\n",
       "    </style>\n",
       "<div class=\"wandb-row\"><div class=\"wandb-col\"><h3>Run history:</h3><br/><table class=\"wandb\"><tr><td>coefficient_of_determination</td><td>▁</td></tr><tr><td>mse</td><td>▁</td></tr></table><br/></div><div class=\"wandb-col\"><h3>Run summary:</h3><br/><table class=\"wandb\"><tr><td>coefficient_of_determination</td><td>0.54034</td></tr><tr><td>mse</td><td>225401.31931</td></tr></table><br/></div></div>"
      ],
      "text/plain": [
       "<IPython.core.display.HTML object>"
      ]
     },
     "metadata": {},
     "output_type": "display_data"
    },
    {
     "data": {
      "text/html": [
       " View run <strong style=\"color:#cdcd00\">charmed-sweep-3</strong> at: <a href='https://wandb.ai/minjabenho/hdb_rental_prices_feature_eng/runs/poa1jh9e' target=\"_blank\">https://wandb.ai/minjabenho/hdb_rental_prices_feature_eng/runs/poa1jh9e</a><br/>Synced 5 W&B file(s), 0 media file(s), 0 artifact file(s) and 0 other file(s)"
      ],
      "text/plain": [
       "<IPython.core.display.HTML object>"
      ]
     },
     "metadata": {},
     "output_type": "display_data"
    },
    {
     "data": {
      "text/html": [
       "Find logs at: <code>./wandb/run-20231016_151512-poa1jh9e/logs</code>"
      ],
      "text/plain": [
       "<IPython.core.display.HTML object>"
      ]
     },
     "metadata": {},
     "output_type": "display_data"
    },
    {
     "name": "stderr",
     "output_type": "stream",
     "text": [
      "\u001b[34m\u001b[1mwandb\u001b[0m: Sweep Agent: Waiting for job.\n",
      "\u001b[34m\u001b[1mwandb\u001b[0m: Job received.\n",
      "\u001b[34m\u001b[1mwandb\u001b[0m: Agent Starting Run: vbdtmr4j with config:\n",
      "\u001b[34m\u001b[1mwandb\u001b[0m: \tlearning_rate: 0.1\n",
      "\u001b[34m\u001b[1mwandb\u001b[0m: \tmax_depth: 6\n",
      "\u001b[34m\u001b[1mwandb\u001b[0m: \tmin_impurity_decrease: 0.1\n",
      "\u001b[34m\u001b[1mwandb\u001b[0m: \tmin_samples_leaf: 20\n",
      "\u001b[34m\u001b[1mwandb\u001b[0m: \tmin_samples_split: 4\n",
      "\u001b[34m\u001b[1mwandb\u001b[0m: \tmin_weight_fraction_leaf: 0\n",
      "\u001b[34m\u001b[1mwandb\u001b[0m: \tn_estimators: 100\n",
      "\u001b[34m\u001b[1mwandb\u001b[0m: \tsubsample: 0.5\n",
      "Failed to detect the name of this notebook, you can set it manually with the WANDB_NOTEBOOK_NAME environment variable to enable code saving.\n"
     ]
    },
    {
     "data": {
      "text/html": [
       "wandb version 0.15.12 is available!  To upgrade, please run:\n",
       " $ pip install wandb --upgrade"
      ],
      "text/plain": [
       "<IPython.core.display.HTML object>"
      ]
     },
     "metadata": {},
     "output_type": "display_data"
    },
    {
     "data": {
      "text/html": [
       "Tracking run with wandb version 0.15.11"
      ],
      "text/plain": [
       "<IPython.core.display.HTML object>"
      ]
     },
     "metadata": {},
     "output_type": "display_data"
    },
    {
     "data": {
      "text/html": [
       "Run data is saved locally in <code>/home/benhgm/workspace/cs5228_flat_rental/wandb/run-20231016_151704-vbdtmr4j</code>"
      ],
      "text/plain": [
       "<IPython.core.display.HTML object>"
      ]
     },
     "metadata": {},
     "output_type": "display_data"
    },
    {
     "data": {
      "text/html": [
       "Syncing run <strong><a href='https://wandb.ai/minjabenho/hdb_rental_prices_feature_eng/runs/vbdtmr4j' target=\"_blank\">super-sweep-4</a></strong> to <a href='https://wandb.ai/minjabenho/hdb_rental_prices_feature_eng' target=\"_blank\">Weights & Biases</a> (<a href='https://wandb.me/run' target=\"_blank\">docs</a>)<br/>Sweep page: <a href='https://wandb.ai/minjabenho/hdb_rental_prices_feature_eng/sweeps/0jp3waxw' target=\"_blank\">https://wandb.ai/minjabenho/hdb_rental_prices_feature_eng/sweeps/0jp3waxw</a>"
      ],
      "text/plain": [
       "<IPython.core.display.HTML object>"
      ]
     },
     "metadata": {},
     "output_type": "display_data"
    },
    {
     "data": {
      "text/html": [
       " View project at <a href='https://wandb.ai/minjabenho/hdb_rental_prices_feature_eng' target=\"_blank\">https://wandb.ai/minjabenho/hdb_rental_prices_feature_eng</a>"
      ],
      "text/plain": [
       "<IPython.core.display.HTML object>"
      ]
     },
     "metadata": {},
     "output_type": "display_data"
    },
    {
     "data": {
      "text/html": [
       " View sweep at <a href='https://wandb.ai/minjabenho/hdb_rental_prices_feature_eng/sweeps/0jp3waxw' target=\"_blank\">https://wandb.ai/minjabenho/hdb_rental_prices_feature_eng/sweeps/0jp3waxw</a>"
      ],
      "text/plain": [
       "<IPython.core.display.HTML object>"
      ]
     },
     "metadata": {},
     "output_type": "display_data"
    },
    {
     "data": {
      "text/html": [
       " View run at <a href='https://wandb.ai/minjabenho/hdb_rental_prices_feature_eng/runs/vbdtmr4j' target=\"_blank\">https://wandb.ai/minjabenho/hdb_rental_prices_feature_eng/runs/vbdtmr4j</a>"
      ],
      "text/plain": [
       "<IPython.core.display.HTML object>"
      ]
     },
     "metadata": {},
     "output_type": "display_data"
    },
    {
     "data": {
      "text/html": [
       "Waiting for W&B process to finish... <strong style=\"color:green\">(success).</strong>"
      ],
      "text/plain": [
       "<IPython.core.display.HTML object>"
      ]
     },
     "metadata": {},
     "output_type": "display_data"
    },
    {
     "data": {
      "text/html": [
       "<style>\n",
       "    table.wandb td:nth-child(1) { padding: 0 10px; text-align: left ; width: auto;} td:nth-child(2) {text-align: left ; width: 100%}\n",
       "    .wandb-row { display: flex; flex-direction: row; flex-wrap: wrap; justify-content: flex-start; width: 100% }\n",
       "    .wandb-col { display: flex; flex-direction: column; flex-basis: 100%; flex: 1; padding: 10px; }\n",
       "    </style>\n",
       "<div class=\"wandb-row\"><div class=\"wandb-col\"><h3>Run history:</h3><br/><table class=\"wandb\"><tr><td>coefficient_of_determination</td><td>▁</td></tr><tr><td>mse</td><td>▁</td></tr></table><br/></div><div class=\"wandb-col\"><h3>Run summary:</h3><br/><table class=\"wandb\"><tr><td>coefficient_of_determination</td><td>0.54095</td></tr><tr><td>mse</td><td>225100.69559</td></tr></table><br/></div></div>"
      ],
      "text/plain": [
       "<IPython.core.display.HTML object>"
      ]
     },
     "metadata": {},
     "output_type": "display_data"
    },
    {
     "data": {
      "text/html": [
       " View run <strong style=\"color:#cdcd00\">super-sweep-4</strong> at: <a href='https://wandb.ai/minjabenho/hdb_rental_prices_feature_eng/runs/vbdtmr4j' target=\"_blank\">https://wandb.ai/minjabenho/hdb_rental_prices_feature_eng/runs/vbdtmr4j</a><br/>Synced 5 W&B file(s), 0 media file(s), 0 artifact file(s) and 0 other file(s)"
      ],
      "text/plain": [
       "<IPython.core.display.HTML object>"
      ]
     },
     "metadata": {},
     "output_type": "display_data"
    },
    {
     "data": {
      "text/html": [
       "Find logs at: <code>./wandb/run-20231016_151704-vbdtmr4j/logs</code>"
      ],
      "text/plain": [
       "<IPython.core.display.HTML object>"
      ]
     },
     "metadata": {},
     "output_type": "display_data"
    },
    {
     "name": "stderr",
     "output_type": "stream",
     "text": [
      "\u001b[34m\u001b[1mwandb\u001b[0m: Agent Starting Run: 7mi0unlz with config:\n",
      "\u001b[34m\u001b[1mwandb\u001b[0m: \tlearning_rate: 0.1\n",
      "\u001b[34m\u001b[1mwandb\u001b[0m: \tmax_depth: 3\n",
      "\u001b[34m\u001b[1mwandb\u001b[0m: \tmin_impurity_decrease: 0.1\n",
      "\u001b[34m\u001b[1mwandb\u001b[0m: \tmin_samples_leaf: 20\n",
      "\u001b[34m\u001b[1mwandb\u001b[0m: \tmin_samples_split: 32\n",
      "\u001b[34m\u001b[1mwandb\u001b[0m: \tmin_weight_fraction_leaf: 0\n",
      "\u001b[34m\u001b[1mwandb\u001b[0m: \tn_estimators: 200\n",
      "\u001b[34m\u001b[1mwandb\u001b[0m: \tsubsample: 0.5\n",
      "Failed to detect the name of this notebook, you can set it manually with the WANDB_NOTEBOOK_NAME environment variable to enable code saving.\n"
     ]
    },
    {
     "data": {
      "text/html": [
       "wandb version 0.15.12 is available!  To upgrade, please run:\n",
       " $ pip install wandb --upgrade"
      ],
      "text/plain": [
       "<IPython.core.display.HTML object>"
      ]
     },
     "metadata": {},
     "output_type": "display_data"
    },
    {
     "data": {
      "text/html": [
       "Tracking run with wandb version 0.15.11"
      ],
      "text/plain": [
       "<IPython.core.display.HTML object>"
      ]
     },
     "metadata": {},
     "output_type": "display_data"
    },
    {
     "data": {
      "text/html": [
       "Run data is saved locally in <code>/home/benhgm/workspace/cs5228_flat_rental/wandb/run-20231016_151737-7mi0unlz</code>"
      ],
      "text/plain": [
       "<IPython.core.display.HTML object>"
      ]
     },
     "metadata": {},
     "output_type": "display_data"
    },
    {
     "data": {
      "text/html": [
       "Syncing run <strong><a href='https://wandb.ai/minjabenho/hdb_rental_prices_feature_eng/runs/7mi0unlz' target=\"_blank\">splendid-sweep-5</a></strong> to <a href='https://wandb.ai/minjabenho/hdb_rental_prices_feature_eng' target=\"_blank\">Weights & Biases</a> (<a href='https://wandb.me/run' target=\"_blank\">docs</a>)<br/>Sweep page: <a href='https://wandb.ai/minjabenho/hdb_rental_prices_feature_eng/sweeps/0jp3waxw' target=\"_blank\">https://wandb.ai/minjabenho/hdb_rental_prices_feature_eng/sweeps/0jp3waxw</a>"
      ],
      "text/plain": [
       "<IPython.core.display.HTML object>"
      ]
     },
     "metadata": {},
     "output_type": "display_data"
    },
    {
     "data": {
      "text/html": [
       " View project at <a href='https://wandb.ai/minjabenho/hdb_rental_prices_feature_eng' target=\"_blank\">https://wandb.ai/minjabenho/hdb_rental_prices_feature_eng</a>"
      ],
      "text/plain": [
       "<IPython.core.display.HTML object>"
      ]
     },
     "metadata": {},
     "output_type": "display_data"
    },
    {
     "data": {
      "text/html": [
       " View sweep at <a href='https://wandb.ai/minjabenho/hdb_rental_prices_feature_eng/sweeps/0jp3waxw' target=\"_blank\">https://wandb.ai/minjabenho/hdb_rental_prices_feature_eng/sweeps/0jp3waxw</a>"
      ],
      "text/plain": [
       "<IPython.core.display.HTML object>"
      ]
     },
     "metadata": {},
     "output_type": "display_data"
    },
    {
     "data": {
      "text/html": [
       " View run at <a href='https://wandb.ai/minjabenho/hdb_rental_prices_feature_eng/runs/7mi0unlz' target=\"_blank\">https://wandb.ai/minjabenho/hdb_rental_prices_feature_eng/runs/7mi0unlz</a>"
      ],
      "text/plain": [
       "<IPython.core.display.HTML object>"
      ]
     },
     "metadata": {},
     "output_type": "display_data"
    },
    {
     "data": {
      "text/html": [
       "Waiting for W&B process to finish... <strong style=\"color:green\">(success).</strong>"
      ],
      "text/plain": [
       "<IPython.core.display.HTML object>"
      ]
     },
     "metadata": {},
     "output_type": "display_data"
    },
    {
     "data": {
      "text/html": [
       "<style>\n",
       "    table.wandb td:nth-child(1) { padding: 0 10px; text-align: left ; width: auto;} td:nth-child(2) {text-align: left ; width: 100%}\n",
       "    .wandb-row { display: flex; flex-direction: row; flex-wrap: wrap; justify-content: flex-start; width: 100% }\n",
       "    .wandb-col { display: flex; flex-direction: column; flex-basis: 100%; flex: 1; padding: 10px; }\n",
       "    </style>\n",
       "<div class=\"wandb-row\"><div class=\"wandb-col\"><h3>Run history:</h3><br/><table class=\"wandb\"><tr><td>coefficient_of_determination</td><td>▁</td></tr><tr><td>mse</td><td>▁</td></tr></table><br/></div><div class=\"wandb-col\"><h3>Run summary:</h3><br/><table class=\"wandb\"><tr><td>coefficient_of_determination</td><td>0.53667</td></tr><tr><td>mse</td><td>227201.26337</td></tr></table><br/></div></div>"
      ],
      "text/plain": [
       "<IPython.core.display.HTML object>"
      ]
     },
     "metadata": {},
     "output_type": "display_data"
    },
    {
     "data": {
      "text/html": [
       " View run <strong style=\"color:#cdcd00\">splendid-sweep-5</strong> at: <a href='https://wandb.ai/minjabenho/hdb_rental_prices_feature_eng/runs/7mi0unlz' target=\"_blank\">https://wandb.ai/minjabenho/hdb_rental_prices_feature_eng/runs/7mi0unlz</a><br/>Synced 5 W&B file(s), 0 media file(s), 0 artifact file(s) and 0 other file(s)"
      ],
      "text/plain": [
       "<IPython.core.display.HTML object>"
      ]
     },
     "metadata": {},
     "output_type": "display_data"
    },
    {
     "data": {
      "text/html": [
       "Find logs at: <code>./wandb/run-20231016_151737-7mi0unlz/logs</code>"
      ],
      "text/plain": [
       "<IPython.core.display.HTML object>"
      ]
     },
     "metadata": {},
     "output_type": "display_data"
    },
    {
     "name": "stderr",
     "output_type": "stream",
     "text": [
      "\u001b[34m\u001b[1mwandb\u001b[0m: Agent Starting Run: wcb64ijp with config:\n",
      "\u001b[34m\u001b[1mwandb\u001b[0m: \tlearning_rate: 0.1\n",
      "\u001b[34m\u001b[1mwandb\u001b[0m: \tmax_depth: 6\n",
      "\u001b[34m\u001b[1mwandb\u001b[0m: \tmin_impurity_decrease: 0.2\n",
      "\u001b[34m\u001b[1mwandb\u001b[0m: \tmin_samples_leaf: 20\n",
      "\u001b[34m\u001b[1mwandb\u001b[0m: \tmin_samples_split: 4\n",
      "\u001b[34m\u001b[1mwandb\u001b[0m: \tmin_weight_fraction_leaf: 0\n",
      "\u001b[34m\u001b[1mwandb\u001b[0m: \tn_estimators: 200\n",
      "\u001b[34m\u001b[1mwandb\u001b[0m: \tsubsample: 0.75\n",
      "Failed to detect the name of this notebook, you can set it manually with the WANDB_NOTEBOOK_NAME environment variable to enable code saving.\n"
     ]
    },
    {
     "data": {
      "text/html": [
       "wandb version 0.15.12 is available!  To upgrade, please run:\n",
       " $ pip install wandb --upgrade"
      ],
      "text/plain": [
       "<IPython.core.display.HTML object>"
      ]
     },
     "metadata": {},
     "output_type": "display_data"
    },
    {
     "data": {
      "text/html": [
       "Tracking run with wandb version 0.15.11"
      ],
      "text/plain": [
       "<IPython.core.display.HTML object>"
      ]
     },
     "metadata": {},
     "output_type": "display_data"
    },
    {
     "data": {
      "text/html": [
       "Run data is saved locally in <code>/home/benhgm/workspace/cs5228_flat_rental/wandb/run-20231016_151814-wcb64ijp</code>"
      ],
      "text/plain": [
       "<IPython.core.display.HTML object>"
      ]
     },
     "metadata": {},
     "output_type": "display_data"
    },
    {
     "data": {
      "text/html": [
       "Syncing run <strong><a href='https://wandb.ai/minjabenho/hdb_rental_prices_feature_eng/runs/wcb64ijp' target=\"_blank\">comic-sweep-6</a></strong> to <a href='https://wandb.ai/minjabenho/hdb_rental_prices_feature_eng' target=\"_blank\">Weights & Biases</a> (<a href='https://wandb.me/run' target=\"_blank\">docs</a>)<br/>Sweep page: <a href='https://wandb.ai/minjabenho/hdb_rental_prices_feature_eng/sweeps/0jp3waxw' target=\"_blank\">https://wandb.ai/minjabenho/hdb_rental_prices_feature_eng/sweeps/0jp3waxw</a>"
      ],
      "text/plain": [
       "<IPython.core.display.HTML object>"
      ]
     },
     "metadata": {},
     "output_type": "display_data"
    },
    {
     "data": {
      "text/html": [
       " View project at <a href='https://wandb.ai/minjabenho/hdb_rental_prices_feature_eng' target=\"_blank\">https://wandb.ai/minjabenho/hdb_rental_prices_feature_eng</a>"
      ],
      "text/plain": [
       "<IPython.core.display.HTML object>"
      ]
     },
     "metadata": {},
     "output_type": "display_data"
    },
    {
     "data": {
      "text/html": [
       " View sweep at <a href='https://wandb.ai/minjabenho/hdb_rental_prices_feature_eng/sweeps/0jp3waxw' target=\"_blank\">https://wandb.ai/minjabenho/hdb_rental_prices_feature_eng/sweeps/0jp3waxw</a>"
      ],
      "text/plain": [
       "<IPython.core.display.HTML object>"
      ]
     },
     "metadata": {},
     "output_type": "display_data"
    },
    {
     "data": {
      "text/html": [
       " View run at <a href='https://wandb.ai/minjabenho/hdb_rental_prices_feature_eng/runs/wcb64ijp' target=\"_blank\">https://wandb.ai/minjabenho/hdb_rental_prices_feature_eng/runs/wcb64ijp</a>"
      ],
      "text/plain": [
       "<IPython.core.display.HTML object>"
      ]
     },
     "metadata": {},
     "output_type": "display_data"
    },
    {
     "data": {
      "text/html": [
       "Waiting for W&B process to finish... <strong style=\"color:green\">(success).</strong>"
      ],
      "text/plain": [
       "<IPython.core.display.HTML object>"
      ]
     },
     "metadata": {},
     "output_type": "display_data"
    },
    {
     "data": {
      "text/html": [
       "<style>\n",
       "    table.wandb td:nth-child(1) { padding: 0 10px; text-align: left ; width: auto;} td:nth-child(2) {text-align: left ; width: 100%}\n",
       "    .wandb-row { display: flex; flex-direction: row; flex-wrap: wrap; justify-content: flex-start; width: 100% }\n",
       "    .wandb-col { display: flex; flex-direction: column; flex-basis: 100%; flex: 1; padding: 10px; }\n",
       "    </style>\n",
       "<div class=\"wandb-row\"><div class=\"wandb-col\"><h3>Run history:</h3><br/><table class=\"wandb\"><tr><td>coefficient_of_determination</td><td>▁</td></tr><tr><td>mse</td><td>▁</td></tr></table><br/></div><div class=\"wandb-col\"><h3>Run summary:</h3><br/><table class=\"wandb\"><tr><td>coefficient_of_determination</td><td>0.5398</td></tr><tr><td>mse</td><td>225667.87298</td></tr></table><br/></div></div>"
      ],
      "text/plain": [
       "<IPython.core.display.HTML object>"
      ]
     },
     "metadata": {},
     "output_type": "display_data"
    },
    {
     "data": {
      "text/html": [
       " View run <strong style=\"color:#cdcd00\">comic-sweep-6</strong> at: <a href='https://wandb.ai/minjabenho/hdb_rental_prices_feature_eng/runs/wcb64ijp' target=\"_blank\">https://wandb.ai/minjabenho/hdb_rental_prices_feature_eng/runs/wcb64ijp</a><br/>Synced 5 W&B file(s), 0 media file(s), 0 artifact file(s) and 0 other file(s)"
      ],
      "text/plain": [
       "<IPython.core.display.HTML object>"
      ]
     },
     "metadata": {},
     "output_type": "display_data"
    },
    {
     "data": {
      "text/html": [
       "Find logs at: <code>./wandb/run-20231016_151814-wcb64ijp/logs</code>"
      ],
      "text/plain": [
       "<IPython.core.display.HTML object>"
      ]
     },
     "metadata": {},
     "output_type": "display_data"
    },
    {
     "name": "stderr",
     "output_type": "stream",
     "text": [
      "\u001b[34m\u001b[1mwandb\u001b[0m: Agent Starting Run: 3eclldko with config:\n",
      "\u001b[34m\u001b[1mwandb\u001b[0m: \tlearning_rate: 0.1\n",
      "\u001b[34m\u001b[1mwandb\u001b[0m: \tmax_depth: 6\n",
      "\u001b[34m\u001b[1mwandb\u001b[0m: \tmin_impurity_decrease: 0.2\n",
      "\u001b[34m\u001b[1mwandb\u001b[0m: \tmin_samples_leaf: 20\n",
      "\u001b[34m\u001b[1mwandb\u001b[0m: \tmin_samples_split: 16\n",
      "\u001b[34m\u001b[1mwandb\u001b[0m: \tmin_weight_fraction_leaf: 0\n",
      "\u001b[34m\u001b[1mwandb\u001b[0m: \tn_estimators: 100\n",
      "\u001b[34m\u001b[1mwandb\u001b[0m: \tsubsample: 0.5\n",
      "Failed to detect the name of this notebook, you can set it manually with the WANDB_NOTEBOOK_NAME environment variable to enable code saving.\n"
     ]
    },
    {
     "data": {
      "text/html": [
       "wandb version 0.15.12 is available!  To upgrade, please run:\n",
       " $ pip install wandb --upgrade"
      ],
      "text/plain": [
       "<IPython.core.display.HTML object>"
      ]
     },
     "metadata": {},
     "output_type": "display_data"
    },
    {
     "data": {
      "text/html": [
       "Tracking run with wandb version 0.15.11"
      ],
      "text/plain": [
       "<IPython.core.display.HTML object>"
      ]
     },
     "metadata": {},
     "output_type": "display_data"
    },
    {
     "data": {
      "text/html": [
       "Run data is saved locally in <code>/home/benhgm/workspace/cs5228_flat_rental/wandb/run-20231016_151922-3eclldko</code>"
      ],
      "text/plain": [
       "<IPython.core.display.HTML object>"
      ]
     },
     "metadata": {},
     "output_type": "display_data"
    },
    {
     "data": {
      "text/html": [
       "Syncing run <strong><a href='https://wandb.ai/minjabenho/hdb_rental_prices_feature_eng/runs/3eclldko' target=\"_blank\">cerulean-sweep-7</a></strong> to <a href='https://wandb.ai/minjabenho/hdb_rental_prices_feature_eng' target=\"_blank\">Weights & Biases</a> (<a href='https://wandb.me/run' target=\"_blank\">docs</a>)<br/>Sweep page: <a href='https://wandb.ai/minjabenho/hdb_rental_prices_feature_eng/sweeps/0jp3waxw' target=\"_blank\">https://wandb.ai/minjabenho/hdb_rental_prices_feature_eng/sweeps/0jp3waxw</a>"
      ],
      "text/plain": [
       "<IPython.core.display.HTML object>"
      ]
     },
     "metadata": {},
     "output_type": "display_data"
    },
    {
     "data": {
      "text/html": [
       " View project at <a href='https://wandb.ai/minjabenho/hdb_rental_prices_feature_eng' target=\"_blank\">https://wandb.ai/minjabenho/hdb_rental_prices_feature_eng</a>"
      ],
      "text/plain": [
       "<IPython.core.display.HTML object>"
      ]
     },
     "metadata": {},
     "output_type": "display_data"
    },
    {
     "data": {
      "text/html": [
       " View sweep at <a href='https://wandb.ai/minjabenho/hdb_rental_prices_feature_eng/sweeps/0jp3waxw' target=\"_blank\">https://wandb.ai/minjabenho/hdb_rental_prices_feature_eng/sweeps/0jp3waxw</a>"
      ],
      "text/plain": [
       "<IPython.core.display.HTML object>"
      ]
     },
     "metadata": {},
     "output_type": "display_data"
    },
    {
     "data": {
      "text/html": [
       " View run at <a href='https://wandb.ai/minjabenho/hdb_rental_prices_feature_eng/runs/3eclldko' target=\"_blank\">https://wandb.ai/minjabenho/hdb_rental_prices_feature_eng/runs/3eclldko</a>"
      ],
      "text/plain": [
       "<IPython.core.display.HTML object>"
      ]
     },
     "metadata": {},
     "output_type": "display_data"
    },
    {
     "data": {
      "text/html": [
       "Waiting for W&B process to finish... <strong style=\"color:green\">(success).</strong>"
      ],
      "text/plain": [
       "<IPython.core.display.HTML object>"
      ]
     },
     "metadata": {},
     "output_type": "display_data"
    },
    {
     "data": {
      "text/html": [
       "<style>\n",
       "    table.wandb td:nth-child(1) { padding: 0 10px; text-align: left ; width: auto;} td:nth-child(2) {text-align: left ; width: 100%}\n",
       "    .wandb-row { display: flex; flex-direction: row; flex-wrap: wrap; justify-content: flex-start; width: 100% }\n",
       "    .wandb-col { display: flex; flex-direction: column; flex-basis: 100%; flex: 1; padding: 10px; }\n",
       "    </style>\n",
       "<div class=\"wandb-row\"><div class=\"wandb-col\"><h3>Run history:</h3><br/><table class=\"wandb\"><tr><td>coefficient_of_determination</td><td>▁</td></tr><tr><td>mse</td><td>▁</td></tr></table><br/></div><div class=\"wandb-col\"><h3>Run summary:</h3><br/><table class=\"wandb\"><tr><td>coefficient_of_determination</td><td>0.54095</td></tr><tr><td>mse</td><td>225100.69559</td></tr></table><br/></div></div>"
      ],
      "text/plain": [
       "<IPython.core.display.HTML object>"
      ]
     },
     "metadata": {},
     "output_type": "display_data"
    },
    {
     "data": {
      "text/html": [
       " View run <strong style=\"color:#cdcd00\">cerulean-sweep-7</strong> at: <a href='https://wandb.ai/minjabenho/hdb_rental_prices_feature_eng/runs/3eclldko' target=\"_blank\">https://wandb.ai/minjabenho/hdb_rental_prices_feature_eng/runs/3eclldko</a><br/>Synced 5 W&B file(s), 0 media file(s), 0 artifact file(s) and 0 other file(s)"
      ],
      "text/plain": [
       "<IPython.core.display.HTML object>"
      ]
     },
     "metadata": {},
     "output_type": "display_data"
    },
    {
     "data": {
      "text/html": [
       "Find logs at: <code>./wandb/run-20231016_151922-3eclldko/logs</code>"
      ],
      "text/plain": [
       "<IPython.core.display.HTML object>"
      ]
     },
     "metadata": {},
     "output_type": "display_data"
    },
    {
     "name": "stderr",
     "output_type": "stream",
     "text": [
      "\u001b[34m\u001b[1mwandb\u001b[0m: Agent Starting Run: cm3lvoe9 with config:\n",
      "\u001b[34m\u001b[1mwandb\u001b[0m: \tlearning_rate: 0.1\n",
      "\u001b[34m\u001b[1mwandb\u001b[0m: \tmax_depth: 3\n",
      "\u001b[34m\u001b[1mwandb\u001b[0m: \tmin_impurity_decrease: 0.1\n",
      "\u001b[34m\u001b[1mwandb\u001b[0m: \tmin_samples_leaf: 20\n",
      "\u001b[34m\u001b[1mwandb\u001b[0m: \tmin_samples_split: 16\n",
      "\u001b[34m\u001b[1mwandb\u001b[0m: \tmin_weight_fraction_leaf: 0\n",
      "\u001b[34m\u001b[1mwandb\u001b[0m: \tn_estimators: 200\n",
      "\u001b[34m\u001b[1mwandb\u001b[0m: \tsubsample: 0.75\n",
      "Failed to detect the name of this notebook, you can set it manually with the WANDB_NOTEBOOK_NAME environment variable to enable code saving.\n"
     ]
    },
    {
     "data": {
      "text/html": [
       "wandb version 0.15.12 is available!  To upgrade, please run:\n",
       " $ pip install wandb --upgrade"
      ],
      "text/plain": [
       "<IPython.core.display.HTML object>"
      ]
     },
     "metadata": {},
     "output_type": "display_data"
    },
    {
     "data": {
      "text/html": [
       "Tracking run with wandb version 0.15.11"
      ],
      "text/plain": [
       "<IPython.core.display.HTML object>"
      ]
     },
     "metadata": {},
     "output_type": "display_data"
    },
    {
     "data": {
      "text/html": [
       "Run data is saved locally in <code>/home/benhgm/workspace/cs5228_flat_rental/wandb/run-20231016_151954-cm3lvoe9</code>"
      ],
      "text/plain": [
       "<IPython.core.display.HTML object>"
      ]
     },
     "metadata": {},
     "output_type": "display_data"
    },
    {
     "data": {
      "text/html": [
       "Syncing run <strong><a href='https://wandb.ai/minjabenho/hdb_rental_prices_feature_eng/runs/cm3lvoe9' target=\"_blank\">fine-sweep-8</a></strong> to <a href='https://wandb.ai/minjabenho/hdb_rental_prices_feature_eng' target=\"_blank\">Weights & Biases</a> (<a href='https://wandb.me/run' target=\"_blank\">docs</a>)<br/>Sweep page: <a href='https://wandb.ai/minjabenho/hdb_rental_prices_feature_eng/sweeps/0jp3waxw' target=\"_blank\">https://wandb.ai/minjabenho/hdb_rental_prices_feature_eng/sweeps/0jp3waxw</a>"
      ],
      "text/plain": [
       "<IPython.core.display.HTML object>"
      ]
     },
     "metadata": {},
     "output_type": "display_data"
    },
    {
     "data": {
      "text/html": [
       " View project at <a href='https://wandb.ai/minjabenho/hdb_rental_prices_feature_eng' target=\"_blank\">https://wandb.ai/minjabenho/hdb_rental_prices_feature_eng</a>"
      ],
      "text/plain": [
       "<IPython.core.display.HTML object>"
      ]
     },
     "metadata": {},
     "output_type": "display_data"
    },
    {
     "data": {
      "text/html": [
       " View sweep at <a href='https://wandb.ai/minjabenho/hdb_rental_prices_feature_eng/sweeps/0jp3waxw' target=\"_blank\">https://wandb.ai/minjabenho/hdb_rental_prices_feature_eng/sweeps/0jp3waxw</a>"
      ],
      "text/plain": [
       "<IPython.core.display.HTML object>"
      ]
     },
     "metadata": {},
     "output_type": "display_data"
    },
    {
     "data": {
      "text/html": [
       " View run at <a href='https://wandb.ai/minjabenho/hdb_rental_prices_feature_eng/runs/cm3lvoe9' target=\"_blank\">https://wandb.ai/minjabenho/hdb_rental_prices_feature_eng/runs/cm3lvoe9</a>"
      ],
      "text/plain": [
       "<IPython.core.display.HTML object>"
      ]
     },
     "metadata": {},
     "output_type": "display_data"
    },
    {
     "data": {
      "text/html": [
       "Waiting for W&B process to finish... <strong style=\"color:green\">(success).</strong>"
      ],
      "text/plain": [
       "<IPython.core.display.HTML object>"
      ]
     },
     "metadata": {},
     "output_type": "display_data"
    },
    {
     "data": {
      "text/html": [
       "<style>\n",
       "    table.wandb td:nth-child(1) { padding: 0 10px; text-align: left ; width: auto;} td:nth-child(2) {text-align: left ; width: 100%}\n",
       "    .wandb-row { display: flex; flex-direction: row; flex-wrap: wrap; justify-content: flex-start; width: 100% }\n",
       "    .wandb-col { display: flex; flex-direction: column; flex-basis: 100%; flex: 1; padding: 10px; }\n",
       "    </style>\n",
       "<div class=\"wandb-row\"><div class=\"wandb-col\"><h3>Run history:</h3><br/><table class=\"wandb\"><tr><td>coefficient_of_determination</td><td>▁</td></tr><tr><td>mse</td><td>▁</td></tr></table><br/></div><div class=\"wandb-col\"><h3>Run summary:</h3><br/><table class=\"wandb\"><tr><td>coefficient_of_determination</td><td>0.53746</td></tr><tr><td>mse</td><td>226814.02398</td></tr></table><br/></div></div>"
      ],
      "text/plain": [
       "<IPython.core.display.HTML object>"
      ]
     },
     "metadata": {},
     "output_type": "display_data"
    },
    {
     "data": {
      "text/html": [
       " View run <strong style=\"color:#cdcd00\">fine-sweep-8</strong> at: <a href='https://wandb.ai/minjabenho/hdb_rental_prices_feature_eng/runs/cm3lvoe9' target=\"_blank\">https://wandb.ai/minjabenho/hdb_rental_prices_feature_eng/runs/cm3lvoe9</a><br/>Synced 5 W&B file(s), 0 media file(s), 0 artifact file(s) and 0 other file(s)"
      ],
      "text/plain": [
       "<IPython.core.display.HTML object>"
      ]
     },
     "metadata": {},
     "output_type": "display_data"
    },
    {
     "data": {
      "text/html": [
       "Find logs at: <code>./wandb/run-20231016_151954-cm3lvoe9/logs</code>"
      ],
      "text/plain": [
       "<IPython.core.display.HTML object>"
      ]
     },
     "metadata": {},
     "output_type": "display_data"
    },
    {
     "name": "stderr",
     "output_type": "stream",
     "text": [
      "\u001b[34m\u001b[1mwandb\u001b[0m: Agent Starting Run: hoa23249 with config:\n",
      "\u001b[34m\u001b[1mwandb\u001b[0m: \tlearning_rate: 0.1\n",
      "\u001b[34m\u001b[1mwandb\u001b[0m: \tmax_depth: 6\n",
      "\u001b[34m\u001b[1mwandb\u001b[0m: \tmin_impurity_decrease: 0.2\n",
      "\u001b[34m\u001b[1mwandb\u001b[0m: \tmin_samples_leaf: 20\n",
      "\u001b[34m\u001b[1mwandb\u001b[0m: \tmin_samples_split: 16\n",
      "\u001b[34m\u001b[1mwandb\u001b[0m: \tmin_weight_fraction_leaf: 0\n",
      "\u001b[34m\u001b[1mwandb\u001b[0m: \tn_estimators: 200\n",
      "\u001b[34m\u001b[1mwandb\u001b[0m: \tsubsample: 0.5\n",
      "Failed to detect the name of this notebook, you can set it manually with the WANDB_NOTEBOOK_NAME environment variable to enable code saving.\n"
     ]
    },
    {
     "data": {
      "text/html": [
       "wandb version 0.15.12 is available!  To upgrade, please run:\n",
       " $ pip install wandb --upgrade"
      ],
      "text/plain": [
       "<IPython.core.display.HTML object>"
      ]
     },
     "metadata": {},
     "output_type": "display_data"
    },
    {
     "data": {
      "text/html": [
       "Tracking run with wandb version 0.15.11"
      ],
      "text/plain": [
       "<IPython.core.display.HTML object>"
      ]
     },
     "metadata": {},
     "output_type": "display_data"
    },
    {
     "data": {
      "text/html": [
       "Run data is saved locally in <code>/home/benhgm/workspace/cs5228_flat_rental/wandb/run-20231016_152037-hoa23249</code>"
      ],
      "text/plain": [
       "<IPython.core.display.HTML object>"
      ]
     },
     "metadata": {},
     "output_type": "display_data"
    },
    {
     "data": {
      "text/html": [
       "Syncing run <strong><a href='https://wandb.ai/minjabenho/hdb_rental_prices_feature_eng/runs/hoa23249' target=\"_blank\">graceful-sweep-9</a></strong> to <a href='https://wandb.ai/minjabenho/hdb_rental_prices_feature_eng' target=\"_blank\">Weights & Biases</a> (<a href='https://wandb.me/run' target=\"_blank\">docs</a>)<br/>Sweep page: <a href='https://wandb.ai/minjabenho/hdb_rental_prices_feature_eng/sweeps/0jp3waxw' target=\"_blank\">https://wandb.ai/minjabenho/hdb_rental_prices_feature_eng/sweeps/0jp3waxw</a>"
      ],
      "text/plain": [
       "<IPython.core.display.HTML object>"
      ]
     },
     "metadata": {},
     "output_type": "display_data"
    },
    {
     "data": {
      "text/html": [
       " View project at <a href='https://wandb.ai/minjabenho/hdb_rental_prices_feature_eng' target=\"_blank\">https://wandb.ai/minjabenho/hdb_rental_prices_feature_eng</a>"
      ],
      "text/plain": [
       "<IPython.core.display.HTML object>"
      ]
     },
     "metadata": {},
     "output_type": "display_data"
    },
    {
     "data": {
      "text/html": [
       " View sweep at <a href='https://wandb.ai/minjabenho/hdb_rental_prices_feature_eng/sweeps/0jp3waxw' target=\"_blank\">https://wandb.ai/minjabenho/hdb_rental_prices_feature_eng/sweeps/0jp3waxw</a>"
      ],
      "text/plain": [
       "<IPython.core.display.HTML object>"
      ]
     },
     "metadata": {},
     "output_type": "display_data"
    },
    {
     "data": {
      "text/html": [
       " View run at <a href='https://wandb.ai/minjabenho/hdb_rental_prices_feature_eng/runs/hoa23249' target=\"_blank\">https://wandb.ai/minjabenho/hdb_rental_prices_feature_eng/runs/hoa23249</a>"
      ],
      "text/plain": [
       "<IPython.core.display.HTML object>"
      ]
     },
     "metadata": {},
     "output_type": "display_data"
    },
    {
     "data": {
      "text/html": [
       "Waiting for W&B process to finish... <strong style=\"color:green\">(success).</strong>"
      ],
      "text/plain": [
       "<IPython.core.display.HTML object>"
      ]
     },
     "metadata": {},
     "output_type": "display_data"
    },
    {
     "data": {
      "text/html": [
       "<style>\n",
       "    table.wandb td:nth-child(1) { padding: 0 10px; text-align: left ; width: auto;} td:nth-child(2) {text-align: left ; width: 100%}\n",
       "    .wandb-row { display: flex; flex-direction: row; flex-wrap: wrap; justify-content: flex-start; width: 100% }\n",
       "    .wandb-col { display: flex; flex-direction: column; flex-basis: 100%; flex: 1; padding: 10px; }\n",
       "    </style>\n",
       "<div class=\"wandb-row\"><div class=\"wandb-col\"><h3>Run history:</h3><br/><table class=\"wandb\"><tr><td>coefficient_of_determination</td><td>▁</td></tr><tr><td>mse</td><td>▁</td></tr></table><br/></div><div class=\"wandb-col\"><h3>Run summary:</h3><br/><table class=\"wandb\"><tr><td>coefficient_of_determination</td><td>0.5407</td></tr><tr><td>mse</td><td>225225.1865</td></tr></table><br/></div></div>"
      ],
      "text/plain": [
       "<IPython.core.display.HTML object>"
      ]
     },
     "metadata": {},
     "output_type": "display_data"
    },
    {
     "data": {
      "text/html": [
       " View run <strong style=\"color:#cdcd00\">graceful-sweep-9</strong> at: <a href='https://wandb.ai/minjabenho/hdb_rental_prices_feature_eng/runs/hoa23249' target=\"_blank\">https://wandb.ai/minjabenho/hdb_rental_prices_feature_eng/runs/hoa23249</a><br/>Synced 5 W&B file(s), 0 media file(s), 0 artifact file(s) and 0 other file(s)"
      ],
      "text/plain": [
       "<IPython.core.display.HTML object>"
      ]
     },
     "metadata": {},
     "output_type": "display_data"
    },
    {
     "data": {
      "text/html": [
       "Find logs at: <code>./wandb/run-20231016_152037-hoa23249/logs</code>"
      ],
      "text/plain": [
       "<IPython.core.display.HTML object>"
      ]
     },
     "metadata": {},
     "output_type": "display_data"
    },
    {
     "name": "stderr",
     "output_type": "stream",
     "text": [
      "\u001b[34m\u001b[1mwandb\u001b[0m: Agent Starting Run: 74bu9vuc with config:\n",
      "\u001b[34m\u001b[1mwandb\u001b[0m: \tlearning_rate: 0.1\n",
      "\u001b[34m\u001b[1mwandb\u001b[0m: \tmax_depth: 6\n",
      "\u001b[34m\u001b[1mwandb\u001b[0m: \tmin_impurity_decrease: 0.2\n",
      "\u001b[34m\u001b[1mwandb\u001b[0m: \tmin_samples_leaf: 20\n",
      "\u001b[34m\u001b[1mwandb\u001b[0m: \tmin_samples_split: 16\n",
      "\u001b[34m\u001b[1mwandb\u001b[0m: \tmin_weight_fraction_leaf: 0\n",
      "\u001b[34m\u001b[1mwandb\u001b[0m: \tn_estimators: 100\n",
      "\u001b[34m\u001b[1mwandb\u001b[0m: \tsubsample: 0.5\n",
      "Failed to detect the name of this notebook, you can set it manually with the WANDB_NOTEBOOK_NAME environment variable to enable code saving.\n"
     ]
    },
    {
     "data": {
      "text/html": [
       "wandb version 0.15.12 is available!  To upgrade, please run:\n",
       " $ pip install wandb --upgrade"
      ],
      "text/plain": [
       "<IPython.core.display.HTML object>"
      ]
     },
     "metadata": {},
     "output_type": "display_data"
    },
    {
     "data": {
      "text/html": [
       "Tracking run with wandb version 0.15.11"
      ],
      "text/plain": [
       "<IPython.core.display.HTML object>"
      ]
     },
     "metadata": {},
     "output_type": "display_data"
    },
    {
     "data": {
      "text/html": [
       "Run data is saved locally in <code>/home/benhgm/workspace/cs5228_flat_rental/wandb/run-20231016_152129-74bu9vuc</code>"
      ],
      "text/plain": [
       "<IPython.core.display.HTML object>"
      ]
     },
     "metadata": {},
     "output_type": "display_data"
    },
    {
     "data": {
      "text/html": [
       "Syncing run <strong><a href='https://wandb.ai/minjabenho/hdb_rental_prices_feature_eng/runs/74bu9vuc' target=\"_blank\">pretty-sweep-10</a></strong> to <a href='https://wandb.ai/minjabenho/hdb_rental_prices_feature_eng' target=\"_blank\">Weights & Biases</a> (<a href='https://wandb.me/run' target=\"_blank\">docs</a>)<br/>Sweep page: <a href='https://wandb.ai/minjabenho/hdb_rental_prices_feature_eng/sweeps/0jp3waxw' target=\"_blank\">https://wandb.ai/minjabenho/hdb_rental_prices_feature_eng/sweeps/0jp3waxw</a>"
      ],
      "text/plain": [
       "<IPython.core.display.HTML object>"
      ]
     },
     "metadata": {},
     "output_type": "display_data"
    },
    {
     "data": {
      "text/html": [
       " View project at <a href='https://wandb.ai/minjabenho/hdb_rental_prices_feature_eng' target=\"_blank\">https://wandb.ai/minjabenho/hdb_rental_prices_feature_eng</a>"
      ],
      "text/plain": [
       "<IPython.core.display.HTML object>"
      ]
     },
     "metadata": {},
     "output_type": "display_data"
    },
    {
     "data": {
      "text/html": [
       " View sweep at <a href='https://wandb.ai/minjabenho/hdb_rental_prices_feature_eng/sweeps/0jp3waxw' target=\"_blank\">https://wandb.ai/minjabenho/hdb_rental_prices_feature_eng/sweeps/0jp3waxw</a>"
      ],
      "text/plain": [
       "<IPython.core.display.HTML object>"
      ]
     },
     "metadata": {},
     "output_type": "display_data"
    },
    {
     "data": {
      "text/html": [
       " View run at <a href='https://wandb.ai/minjabenho/hdb_rental_prices_feature_eng/runs/74bu9vuc' target=\"_blank\">https://wandb.ai/minjabenho/hdb_rental_prices_feature_eng/runs/74bu9vuc</a>"
      ],
      "text/plain": [
       "<IPython.core.display.HTML object>"
      ]
     },
     "metadata": {},
     "output_type": "display_data"
    },
    {
     "data": {
      "text/html": [
       "Waiting for W&B process to finish... <strong style=\"color:green\">(success).</strong>"
      ],
      "text/plain": [
       "<IPython.core.display.HTML object>"
      ]
     },
     "metadata": {},
     "output_type": "display_data"
    },
    {
     "data": {
      "text/html": [
       "<style>\n",
       "    table.wandb td:nth-child(1) { padding: 0 10px; text-align: left ; width: auto;} td:nth-child(2) {text-align: left ; width: 100%}\n",
       "    .wandb-row { display: flex; flex-direction: row; flex-wrap: wrap; justify-content: flex-start; width: 100% }\n",
       "    .wandb-col { display: flex; flex-direction: column; flex-basis: 100%; flex: 1; padding: 10px; }\n",
       "    </style>\n",
       "<div class=\"wandb-row\"><div class=\"wandb-col\"><h3>Run history:</h3><br/><table class=\"wandb\"><tr><td>coefficient_of_determination</td><td>▁</td></tr><tr><td>mse</td><td>▁</td></tr></table><br/></div><div class=\"wandb-col\"><h3>Run summary:</h3><br/><table class=\"wandb\"><tr><td>coefficient_of_determination</td><td>0.54095</td></tr><tr><td>mse</td><td>225100.69559</td></tr></table><br/></div></div>"
      ],
      "text/plain": [
       "<IPython.core.display.HTML object>"
      ]
     },
     "metadata": {},
     "output_type": "display_data"
    },
    {
     "data": {
      "text/html": [
       " View run <strong style=\"color:#cdcd00\">pretty-sweep-10</strong> at: <a href='https://wandb.ai/minjabenho/hdb_rental_prices_feature_eng/runs/74bu9vuc' target=\"_blank\">https://wandb.ai/minjabenho/hdb_rental_prices_feature_eng/runs/74bu9vuc</a><br/>Synced 5 W&B file(s), 0 media file(s), 0 artifact file(s) and 0 other file(s)"
      ],
      "text/plain": [
       "<IPython.core.display.HTML object>"
      ]
     },
     "metadata": {},
     "output_type": "display_data"
    },
    {
     "data": {
      "text/html": [
       "Find logs at: <code>./wandb/run-20231016_152129-74bu9vuc/logs</code>"
      ],
      "text/plain": [
       "<IPython.core.display.HTML object>"
      ]
     },
     "metadata": {},
     "output_type": "display_data"
    },
    {
     "name": "stderr",
     "output_type": "stream",
     "text": [
      "\u001b[34m\u001b[1mwandb\u001b[0m: Agent Starting Run: h6kv9m2a with config:\n",
      "\u001b[34m\u001b[1mwandb\u001b[0m: \tlearning_rate: 0.1\n",
      "\u001b[34m\u001b[1mwandb\u001b[0m: \tmax_depth: 6\n",
      "\u001b[34m\u001b[1mwandb\u001b[0m: \tmin_impurity_decrease: 0.1\n",
      "\u001b[34m\u001b[1mwandb\u001b[0m: \tmin_samples_leaf: 20\n",
      "\u001b[34m\u001b[1mwandb\u001b[0m: \tmin_samples_split: 4\n",
      "\u001b[34m\u001b[1mwandb\u001b[0m: \tmin_weight_fraction_leaf: 0\n",
      "\u001b[34m\u001b[1mwandb\u001b[0m: \tn_estimators: 100\n",
      "\u001b[34m\u001b[1mwandb\u001b[0m: \tsubsample: 0.5\n",
      "Failed to detect the name of this notebook, you can set it manually with the WANDB_NOTEBOOK_NAME environment variable to enable code saving.\n"
     ]
    },
    {
     "data": {
      "text/html": [
       "wandb version 0.15.12 is available!  To upgrade, please run:\n",
       " $ pip install wandb --upgrade"
      ],
      "text/plain": [
       "<IPython.core.display.HTML object>"
      ]
     },
     "metadata": {},
     "output_type": "display_data"
    },
    {
     "data": {
      "text/html": [
       "Tracking run with wandb version 0.15.11"
      ],
      "text/plain": [
       "<IPython.core.display.HTML object>"
      ]
     },
     "metadata": {},
     "output_type": "display_data"
    },
    {
     "data": {
      "text/html": [
       "Run data is saved locally in <code>/home/benhgm/workspace/cs5228_flat_rental/wandb/run-20231016_152201-h6kv9m2a</code>"
      ],
      "text/plain": [
       "<IPython.core.display.HTML object>"
      ]
     },
     "metadata": {},
     "output_type": "display_data"
    },
    {
     "data": {
      "text/html": [
       "Syncing run <strong><a href='https://wandb.ai/minjabenho/hdb_rental_prices_feature_eng/runs/h6kv9m2a' target=\"_blank\">distinctive-sweep-11</a></strong> to <a href='https://wandb.ai/minjabenho/hdb_rental_prices_feature_eng' target=\"_blank\">Weights & Biases</a> (<a href='https://wandb.me/run' target=\"_blank\">docs</a>)<br/>Sweep page: <a href='https://wandb.ai/minjabenho/hdb_rental_prices_feature_eng/sweeps/0jp3waxw' target=\"_blank\">https://wandb.ai/minjabenho/hdb_rental_prices_feature_eng/sweeps/0jp3waxw</a>"
      ],
      "text/plain": [
       "<IPython.core.display.HTML object>"
      ]
     },
     "metadata": {},
     "output_type": "display_data"
    },
    {
     "data": {
      "text/html": [
       " View project at <a href='https://wandb.ai/minjabenho/hdb_rental_prices_feature_eng' target=\"_blank\">https://wandb.ai/minjabenho/hdb_rental_prices_feature_eng</a>"
      ],
      "text/plain": [
       "<IPython.core.display.HTML object>"
      ]
     },
     "metadata": {},
     "output_type": "display_data"
    },
    {
     "data": {
      "text/html": [
       " View sweep at <a href='https://wandb.ai/minjabenho/hdb_rental_prices_feature_eng/sweeps/0jp3waxw' target=\"_blank\">https://wandb.ai/minjabenho/hdb_rental_prices_feature_eng/sweeps/0jp3waxw</a>"
      ],
      "text/plain": [
       "<IPython.core.display.HTML object>"
      ]
     },
     "metadata": {},
     "output_type": "display_data"
    },
    {
     "data": {
      "text/html": [
       " View run at <a href='https://wandb.ai/minjabenho/hdb_rental_prices_feature_eng/runs/h6kv9m2a' target=\"_blank\">https://wandb.ai/minjabenho/hdb_rental_prices_feature_eng/runs/h6kv9m2a</a>"
      ],
      "text/plain": [
       "<IPython.core.display.HTML object>"
      ]
     },
     "metadata": {},
     "output_type": "display_data"
    },
    {
     "data": {
      "text/html": [
       "Waiting for W&B process to finish... <strong style=\"color:green\">(success).</strong>"
      ],
      "text/plain": [
       "<IPython.core.display.HTML object>"
      ]
     },
     "metadata": {},
     "output_type": "display_data"
    },
    {
     "data": {
      "text/html": [
       "<style>\n",
       "    table.wandb td:nth-child(1) { padding: 0 10px; text-align: left ; width: auto;} td:nth-child(2) {text-align: left ; width: 100%}\n",
       "    .wandb-row { display: flex; flex-direction: row; flex-wrap: wrap; justify-content: flex-start; width: 100% }\n",
       "    .wandb-col { display: flex; flex-direction: column; flex-basis: 100%; flex: 1; padding: 10px; }\n",
       "    </style>\n",
       "<div class=\"wandb-row\"><div class=\"wandb-col\"><h3>Run history:</h3><br/><table class=\"wandb\"><tr><td>coefficient_of_determination</td><td>▁</td></tr><tr><td>mse</td><td>▁</td></tr></table><br/></div><div class=\"wandb-col\"><h3>Run summary:</h3><br/><table class=\"wandb\"><tr><td>coefficient_of_determination</td><td>0.54095</td></tr><tr><td>mse</td><td>225100.69559</td></tr></table><br/></div></div>"
      ],
      "text/plain": [
       "<IPython.core.display.HTML object>"
      ]
     },
     "metadata": {},
     "output_type": "display_data"
    },
    {
     "data": {
      "text/html": [
       " View run <strong style=\"color:#cdcd00\">distinctive-sweep-11</strong> at: <a href='https://wandb.ai/minjabenho/hdb_rental_prices_feature_eng/runs/h6kv9m2a' target=\"_blank\">https://wandb.ai/minjabenho/hdb_rental_prices_feature_eng/runs/h6kv9m2a</a><br/>Synced 5 W&B file(s), 0 media file(s), 0 artifact file(s) and 0 other file(s)"
      ],
      "text/plain": [
       "<IPython.core.display.HTML object>"
      ]
     },
     "metadata": {},
     "output_type": "display_data"
    },
    {
     "data": {
      "text/html": [
       "Find logs at: <code>./wandb/run-20231016_152201-h6kv9m2a/logs</code>"
      ],
      "text/plain": [
       "<IPython.core.display.HTML object>"
      ]
     },
     "metadata": {},
     "output_type": "display_data"
    },
    {
     "name": "stderr",
     "output_type": "stream",
     "text": [
      "\u001b[34m\u001b[1mwandb\u001b[0m: Agent Starting Run: foa9itso with config:\n",
      "\u001b[34m\u001b[1mwandb\u001b[0m: \tlearning_rate: 0.1\n",
      "\u001b[34m\u001b[1mwandb\u001b[0m: \tmax_depth: 6\n",
      "\u001b[34m\u001b[1mwandb\u001b[0m: \tmin_impurity_decrease: 0.2\n",
      "\u001b[34m\u001b[1mwandb\u001b[0m: \tmin_samples_leaf: 20\n",
      "\u001b[34m\u001b[1mwandb\u001b[0m: \tmin_samples_split: 32\n",
      "\u001b[34m\u001b[1mwandb\u001b[0m: \tmin_weight_fraction_leaf: 0\n",
      "\u001b[34m\u001b[1mwandb\u001b[0m: \tn_estimators: 100\n",
      "\u001b[34m\u001b[1mwandb\u001b[0m: \tsubsample: 0.5\n",
      "Failed to detect the name of this notebook, you can set it manually with the WANDB_NOTEBOOK_NAME environment variable to enable code saving.\n"
     ]
    },
    {
     "data": {
      "text/html": [
       "wandb version 0.15.12 is available!  To upgrade, please run:\n",
       " $ pip install wandb --upgrade"
      ],
      "text/plain": [
       "<IPython.core.display.HTML object>"
      ]
     },
     "metadata": {},
     "output_type": "display_data"
    },
    {
     "data": {
      "text/html": [
       "Tracking run with wandb version 0.15.11"
      ],
      "text/plain": [
       "<IPython.core.display.HTML object>"
      ]
     },
     "metadata": {},
     "output_type": "display_data"
    },
    {
     "data": {
      "text/html": [
       "Run data is saved locally in <code>/home/benhgm/workspace/cs5228_flat_rental/wandb/run-20231016_152233-foa9itso</code>"
      ],
      "text/plain": [
       "<IPython.core.display.HTML object>"
      ]
     },
     "metadata": {},
     "output_type": "display_data"
    },
    {
     "data": {
      "text/html": [
       "Syncing run <strong><a href='https://wandb.ai/minjabenho/hdb_rental_prices_feature_eng/runs/foa9itso' target=\"_blank\">cerulean-sweep-12</a></strong> to <a href='https://wandb.ai/minjabenho/hdb_rental_prices_feature_eng' target=\"_blank\">Weights & Biases</a> (<a href='https://wandb.me/run' target=\"_blank\">docs</a>)<br/>Sweep page: <a href='https://wandb.ai/minjabenho/hdb_rental_prices_feature_eng/sweeps/0jp3waxw' target=\"_blank\">https://wandb.ai/minjabenho/hdb_rental_prices_feature_eng/sweeps/0jp3waxw</a>"
      ],
      "text/plain": [
       "<IPython.core.display.HTML object>"
      ]
     },
     "metadata": {},
     "output_type": "display_data"
    },
    {
     "data": {
      "text/html": [
       " View project at <a href='https://wandb.ai/minjabenho/hdb_rental_prices_feature_eng' target=\"_blank\">https://wandb.ai/minjabenho/hdb_rental_prices_feature_eng</a>"
      ],
      "text/plain": [
       "<IPython.core.display.HTML object>"
      ]
     },
     "metadata": {},
     "output_type": "display_data"
    },
    {
     "data": {
      "text/html": [
       " View sweep at <a href='https://wandb.ai/minjabenho/hdb_rental_prices_feature_eng/sweeps/0jp3waxw' target=\"_blank\">https://wandb.ai/minjabenho/hdb_rental_prices_feature_eng/sweeps/0jp3waxw</a>"
      ],
      "text/plain": [
       "<IPython.core.display.HTML object>"
      ]
     },
     "metadata": {},
     "output_type": "display_data"
    },
    {
     "data": {
      "text/html": [
       " View run at <a href='https://wandb.ai/minjabenho/hdb_rental_prices_feature_eng/runs/foa9itso' target=\"_blank\">https://wandb.ai/minjabenho/hdb_rental_prices_feature_eng/runs/foa9itso</a>"
      ],
      "text/plain": [
       "<IPython.core.display.HTML object>"
      ]
     },
     "metadata": {},
     "output_type": "display_data"
    },
    {
     "data": {
      "text/html": [
       "Waiting for W&B process to finish... <strong style=\"color:green\">(success).</strong>"
      ],
      "text/plain": [
       "<IPython.core.display.HTML object>"
      ]
     },
     "metadata": {},
     "output_type": "display_data"
    },
    {
     "data": {
      "text/html": [
       "<style>\n",
       "    table.wandb td:nth-child(1) { padding: 0 10px; text-align: left ; width: auto;} td:nth-child(2) {text-align: left ; width: 100%}\n",
       "    .wandb-row { display: flex; flex-direction: row; flex-wrap: wrap; justify-content: flex-start; width: 100% }\n",
       "    .wandb-col { display: flex; flex-direction: column; flex-basis: 100%; flex: 1; padding: 10px; }\n",
       "    </style>\n",
       "<div class=\"wandb-row\"><div class=\"wandb-col\"><h3>Run history:</h3><br/><table class=\"wandb\"><tr><td>coefficient_of_determination</td><td>▁</td></tr><tr><td>mse</td><td>▁</td></tr></table><br/></div><div class=\"wandb-col\"><h3>Run summary:</h3><br/><table class=\"wandb\"><tr><td>coefficient_of_determination</td><td>0.54095</td></tr><tr><td>mse</td><td>225100.69559</td></tr></table><br/></div></div>"
      ],
      "text/plain": [
       "<IPython.core.display.HTML object>"
      ]
     },
     "metadata": {},
     "output_type": "display_data"
    },
    {
     "data": {
      "text/html": [
       " View run <strong style=\"color:#cdcd00\">cerulean-sweep-12</strong> at: <a href='https://wandb.ai/minjabenho/hdb_rental_prices_feature_eng/runs/foa9itso' target=\"_blank\">https://wandb.ai/minjabenho/hdb_rental_prices_feature_eng/runs/foa9itso</a><br/>Synced 5 W&B file(s), 0 media file(s), 0 artifact file(s) and 0 other file(s)"
      ],
      "text/plain": [
       "<IPython.core.display.HTML object>"
      ]
     },
     "metadata": {},
     "output_type": "display_data"
    },
    {
     "data": {
      "text/html": [
       "Find logs at: <code>./wandb/run-20231016_152233-foa9itso/logs</code>"
      ],
      "text/plain": [
       "<IPython.core.display.HTML object>"
      ]
     },
     "metadata": {},
     "output_type": "display_data"
    },
    {
     "name": "stderr",
     "output_type": "stream",
     "text": [
      "\u001b[34m\u001b[1mwandb\u001b[0m: Agent Starting Run: o9mcgkdi with config:\n",
      "\u001b[34m\u001b[1mwandb\u001b[0m: \tlearning_rate: 0.1\n",
      "\u001b[34m\u001b[1mwandb\u001b[0m: \tmax_depth: 6\n",
      "\u001b[34m\u001b[1mwandb\u001b[0m: \tmin_impurity_decrease: 0.2\n",
      "\u001b[34m\u001b[1mwandb\u001b[0m: \tmin_samples_leaf: 20\n",
      "\u001b[34m\u001b[1mwandb\u001b[0m: \tmin_samples_split: 4\n",
      "\u001b[34m\u001b[1mwandb\u001b[0m: \tmin_weight_fraction_leaf: 0\n",
      "\u001b[34m\u001b[1mwandb\u001b[0m: \tn_estimators: 100\n",
      "\u001b[34m\u001b[1mwandb\u001b[0m: \tsubsample: 0.5\n",
      "Failed to detect the name of this notebook, you can set it manually with the WANDB_NOTEBOOK_NAME environment variable to enable code saving.\n"
     ]
    },
    {
     "data": {
      "text/html": [
       "wandb version 0.15.12 is available!  To upgrade, please run:\n",
       " $ pip install wandb --upgrade"
      ],
      "text/plain": [
       "<IPython.core.display.HTML object>"
      ]
     },
     "metadata": {},
     "output_type": "display_data"
    },
    {
     "data": {
      "text/html": [
       "Tracking run with wandb version 0.15.11"
      ],
      "text/plain": [
       "<IPython.core.display.HTML object>"
      ]
     },
     "metadata": {},
     "output_type": "display_data"
    },
    {
     "data": {
      "text/html": [
       "Run data is saved locally in <code>/home/benhgm/workspace/cs5228_flat_rental/wandb/run-20231016_152310-o9mcgkdi</code>"
      ],
      "text/plain": [
       "<IPython.core.display.HTML object>"
      ]
     },
     "metadata": {},
     "output_type": "display_data"
    },
    {
     "data": {
      "text/html": [
       "Syncing run <strong><a href='https://wandb.ai/minjabenho/hdb_rental_prices_feature_eng/runs/o9mcgkdi' target=\"_blank\">ancient-sweep-13</a></strong> to <a href='https://wandb.ai/minjabenho/hdb_rental_prices_feature_eng' target=\"_blank\">Weights & Biases</a> (<a href='https://wandb.me/run' target=\"_blank\">docs</a>)<br/>Sweep page: <a href='https://wandb.ai/minjabenho/hdb_rental_prices_feature_eng/sweeps/0jp3waxw' target=\"_blank\">https://wandb.ai/minjabenho/hdb_rental_prices_feature_eng/sweeps/0jp3waxw</a>"
      ],
      "text/plain": [
       "<IPython.core.display.HTML object>"
      ]
     },
     "metadata": {},
     "output_type": "display_data"
    },
    {
     "data": {
      "text/html": [
       " View project at <a href='https://wandb.ai/minjabenho/hdb_rental_prices_feature_eng' target=\"_blank\">https://wandb.ai/minjabenho/hdb_rental_prices_feature_eng</a>"
      ],
      "text/plain": [
       "<IPython.core.display.HTML object>"
      ]
     },
     "metadata": {},
     "output_type": "display_data"
    },
    {
     "data": {
      "text/html": [
       " View sweep at <a href='https://wandb.ai/minjabenho/hdb_rental_prices_feature_eng/sweeps/0jp3waxw' target=\"_blank\">https://wandb.ai/minjabenho/hdb_rental_prices_feature_eng/sweeps/0jp3waxw</a>"
      ],
      "text/plain": [
       "<IPython.core.display.HTML object>"
      ]
     },
     "metadata": {},
     "output_type": "display_data"
    },
    {
     "data": {
      "text/html": [
       " View run at <a href='https://wandb.ai/minjabenho/hdb_rental_prices_feature_eng/runs/o9mcgkdi' target=\"_blank\">https://wandb.ai/minjabenho/hdb_rental_prices_feature_eng/runs/o9mcgkdi</a>"
      ],
      "text/plain": [
       "<IPython.core.display.HTML object>"
      ]
     },
     "metadata": {},
     "output_type": "display_data"
    },
    {
     "data": {
      "text/html": [
       "Waiting for W&B process to finish... <strong style=\"color:green\">(success).</strong>"
      ],
      "text/plain": [
       "<IPython.core.display.HTML object>"
      ]
     },
     "metadata": {},
     "output_type": "display_data"
    },
    {
     "data": {
      "text/html": [
       "<style>\n",
       "    table.wandb td:nth-child(1) { padding: 0 10px; text-align: left ; width: auto;} td:nth-child(2) {text-align: left ; width: 100%}\n",
       "    .wandb-row { display: flex; flex-direction: row; flex-wrap: wrap; justify-content: flex-start; width: 100% }\n",
       "    .wandb-col { display: flex; flex-direction: column; flex-basis: 100%; flex: 1; padding: 10px; }\n",
       "    </style>\n",
       "<div class=\"wandb-row\"><div class=\"wandb-col\"><h3>Run history:</h3><br/><table class=\"wandb\"><tr><td>coefficient_of_determination</td><td>▁</td></tr><tr><td>mse</td><td>▁</td></tr></table><br/></div><div class=\"wandb-col\"><h3>Run summary:</h3><br/><table class=\"wandb\"><tr><td>coefficient_of_determination</td><td>0.54095</td></tr><tr><td>mse</td><td>225100.69559</td></tr></table><br/></div></div>"
      ],
      "text/plain": [
       "<IPython.core.display.HTML object>"
      ]
     },
     "metadata": {},
     "output_type": "display_data"
    },
    {
     "data": {
      "text/html": [
       " View run <strong style=\"color:#cdcd00\">ancient-sweep-13</strong> at: <a href='https://wandb.ai/minjabenho/hdb_rental_prices_feature_eng/runs/o9mcgkdi' target=\"_blank\">https://wandb.ai/minjabenho/hdb_rental_prices_feature_eng/runs/o9mcgkdi</a><br/>Synced 5 W&B file(s), 0 media file(s), 0 artifact file(s) and 0 other file(s)"
      ],
      "text/plain": [
       "<IPython.core.display.HTML object>"
      ]
     },
     "metadata": {},
     "output_type": "display_data"
    },
    {
     "data": {
      "text/html": [
       "Find logs at: <code>./wandb/run-20231016_152310-o9mcgkdi/logs</code>"
      ],
      "text/plain": [
       "<IPython.core.display.HTML object>"
      ]
     },
     "metadata": {},
     "output_type": "display_data"
    },
    {
     "name": "stderr",
     "output_type": "stream",
     "text": [
      "\u001b[34m\u001b[1mwandb\u001b[0m: Sweep Agent: Waiting for job.\n",
      "\u001b[34m\u001b[1mwandb\u001b[0m: Job received.\n",
      "\u001b[34m\u001b[1mwandb\u001b[0m: Agent Starting Run: 6piyz98x with config:\n",
      "\u001b[34m\u001b[1mwandb\u001b[0m: \tlearning_rate: 0.1\n",
      "\u001b[34m\u001b[1mwandb\u001b[0m: \tmax_depth: 6\n",
      "\u001b[34m\u001b[1mwandb\u001b[0m: \tmin_impurity_decrease: 0.2\n",
      "\u001b[34m\u001b[1mwandb\u001b[0m: \tmin_samples_leaf: 20\n",
      "\u001b[34m\u001b[1mwandb\u001b[0m: \tmin_samples_split: 4\n",
      "\u001b[34m\u001b[1mwandb\u001b[0m: \tmin_weight_fraction_leaf: 0\n",
      "\u001b[34m\u001b[1mwandb\u001b[0m: \tn_estimators: 100\n",
      "\u001b[34m\u001b[1mwandb\u001b[0m: \tsubsample: 0.5\n",
      "Failed to detect the name of this notebook, you can set it manually with the WANDB_NOTEBOOK_NAME environment variable to enable code saving.\n"
     ]
    },
    {
     "data": {
      "text/html": [
       "wandb version 0.15.12 is available!  To upgrade, please run:\n",
       " $ pip install wandb --upgrade"
      ],
      "text/plain": [
       "<IPython.core.display.HTML object>"
      ]
     },
     "metadata": {},
     "output_type": "display_data"
    },
    {
     "data": {
      "text/html": [
       "Tracking run with wandb version 0.15.11"
      ],
      "text/plain": [
       "<IPython.core.display.HTML object>"
      ]
     },
     "metadata": {},
     "output_type": "display_data"
    },
    {
     "data": {
      "text/html": [
       "Run data is saved locally in <code>/home/benhgm/workspace/cs5228_flat_rental/wandb/run-20231016_152352-6piyz98x</code>"
      ],
      "text/plain": [
       "<IPython.core.display.HTML object>"
      ]
     },
     "metadata": {},
     "output_type": "display_data"
    },
    {
     "data": {
      "text/html": [
       "Syncing run <strong><a href='https://wandb.ai/minjabenho/hdb_rental_prices_feature_eng/runs/6piyz98x' target=\"_blank\">fine-sweep-14</a></strong> to <a href='https://wandb.ai/minjabenho/hdb_rental_prices_feature_eng' target=\"_blank\">Weights & Biases</a> (<a href='https://wandb.me/run' target=\"_blank\">docs</a>)<br/>Sweep page: <a href='https://wandb.ai/minjabenho/hdb_rental_prices_feature_eng/sweeps/0jp3waxw' target=\"_blank\">https://wandb.ai/minjabenho/hdb_rental_prices_feature_eng/sweeps/0jp3waxw</a>"
      ],
      "text/plain": [
       "<IPython.core.display.HTML object>"
      ]
     },
     "metadata": {},
     "output_type": "display_data"
    },
    {
     "data": {
      "text/html": [
       " View project at <a href='https://wandb.ai/minjabenho/hdb_rental_prices_feature_eng' target=\"_blank\">https://wandb.ai/minjabenho/hdb_rental_prices_feature_eng</a>"
      ],
      "text/plain": [
       "<IPython.core.display.HTML object>"
      ]
     },
     "metadata": {},
     "output_type": "display_data"
    },
    {
     "data": {
      "text/html": [
       " View sweep at <a href='https://wandb.ai/minjabenho/hdb_rental_prices_feature_eng/sweeps/0jp3waxw' target=\"_blank\">https://wandb.ai/minjabenho/hdb_rental_prices_feature_eng/sweeps/0jp3waxw</a>"
      ],
      "text/plain": [
       "<IPython.core.display.HTML object>"
      ]
     },
     "metadata": {},
     "output_type": "display_data"
    },
    {
     "data": {
      "text/html": [
       " View run at <a href='https://wandb.ai/minjabenho/hdb_rental_prices_feature_eng/runs/6piyz98x' target=\"_blank\">https://wandb.ai/minjabenho/hdb_rental_prices_feature_eng/runs/6piyz98x</a>"
      ],
      "text/plain": [
       "<IPython.core.display.HTML object>"
      ]
     },
     "metadata": {},
     "output_type": "display_data"
    },
    {
     "data": {
      "text/html": [
       "Waiting for W&B process to finish... <strong style=\"color:green\">(success).</strong>"
      ],
      "text/plain": [
       "<IPython.core.display.HTML object>"
      ]
     },
     "metadata": {},
     "output_type": "display_data"
    },
    {
     "data": {
      "text/html": [
       "<style>\n",
       "    table.wandb td:nth-child(1) { padding: 0 10px; text-align: left ; width: auto;} td:nth-child(2) {text-align: left ; width: 100%}\n",
       "    .wandb-row { display: flex; flex-direction: row; flex-wrap: wrap; justify-content: flex-start; width: 100% }\n",
       "    .wandb-col { display: flex; flex-direction: column; flex-basis: 100%; flex: 1; padding: 10px; }\n",
       "    </style>\n",
       "<div class=\"wandb-row\"><div class=\"wandb-col\"><h3>Run history:</h3><br/><table class=\"wandb\"><tr><td>coefficient_of_determination</td><td>▁</td></tr><tr><td>mse</td><td>▁</td></tr></table><br/></div><div class=\"wandb-col\"><h3>Run summary:</h3><br/><table class=\"wandb\"><tr><td>coefficient_of_determination</td><td>0.54095</td></tr><tr><td>mse</td><td>225100.69559</td></tr></table><br/></div></div>"
      ],
      "text/plain": [
       "<IPython.core.display.HTML object>"
      ]
     },
     "metadata": {},
     "output_type": "display_data"
    },
    {
     "data": {
      "text/html": [
       " View run <strong style=\"color:#cdcd00\">fine-sweep-14</strong> at: <a href='https://wandb.ai/minjabenho/hdb_rental_prices_feature_eng/runs/6piyz98x' target=\"_blank\">https://wandb.ai/minjabenho/hdb_rental_prices_feature_eng/runs/6piyz98x</a><br/>Synced 5 W&B file(s), 0 media file(s), 0 artifact file(s) and 0 other file(s)"
      ],
      "text/plain": [
       "<IPython.core.display.HTML object>"
      ]
     },
     "metadata": {},
     "output_type": "display_data"
    },
    {
     "data": {
      "text/html": [
       "Find logs at: <code>./wandb/run-20231016_152352-6piyz98x/logs</code>"
      ],
      "text/plain": [
       "<IPython.core.display.HTML object>"
      ]
     },
     "metadata": {},
     "output_type": "display_data"
    },
    {
     "name": "stderr",
     "output_type": "stream",
     "text": [
      "\u001b[34m\u001b[1mwandb\u001b[0m: Agent Starting Run: bx1bgs1p with config:\n",
      "\u001b[34m\u001b[1mwandb\u001b[0m: \tlearning_rate: 0.1\n",
      "\u001b[34m\u001b[1mwandb\u001b[0m: \tmax_depth: 6\n",
      "\u001b[34m\u001b[1mwandb\u001b[0m: \tmin_impurity_decrease: 0.2\n",
      "\u001b[34m\u001b[1mwandb\u001b[0m: \tmin_samples_leaf: 20\n",
      "\u001b[34m\u001b[1mwandb\u001b[0m: \tmin_samples_split: 32\n",
      "\u001b[34m\u001b[1mwandb\u001b[0m: \tmin_weight_fraction_leaf: 0\n",
      "\u001b[34m\u001b[1mwandb\u001b[0m: \tn_estimators: 100\n",
      "\u001b[34m\u001b[1mwandb\u001b[0m: \tsubsample: 0.5\n",
      "Failed to detect the name of this notebook, you can set it manually with the WANDB_NOTEBOOK_NAME environment variable to enable code saving.\n"
     ]
    },
    {
     "data": {
      "text/html": [
       "wandb version 0.15.12 is available!  To upgrade, please run:\n",
       " $ pip install wandb --upgrade"
      ],
      "text/plain": [
       "<IPython.core.display.HTML object>"
      ]
     },
     "metadata": {},
     "output_type": "display_data"
    },
    {
     "data": {
      "text/html": [
       "Tracking run with wandb version 0.15.11"
      ],
      "text/plain": [
       "<IPython.core.display.HTML object>"
      ]
     },
     "metadata": {},
     "output_type": "display_data"
    },
    {
     "data": {
      "text/html": [
       "Run data is saved locally in <code>/home/benhgm/workspace/cs5228_flat_rental/wandb/run-20231016_152424-bx1bgs1p</code>"
      ],
      "text/plain": [
       "<IPython.core.display.HTML object>"
      ]
     },
     "metadata": {},
     "output_type": "display_data"
    },
    {
     "data": {
      "text/html": [
       "Syncing run <strong><a href='https://wandb.ai/minjabenho/hdb_rental_prices_feature_eng/runs/bx1bgs1p' target=\"_blank\">rural-sweep-15</a></strong> to <a href='https://wandb.ai/minjabenho/hdb_rental_prices_feature_eng' target=\"_blank\">Weights & Biases</a> (<a href='https://wandb.me/run' target=\"_blank\">docs</a>)<br/>Sweep page: <a href='https://wandb.ai/minjabenho/hdb_rental_prices_feature_eng/sweeps/0jp3waxw' target=\"_blank\">https://wandb.ai/minjabenho/hdb_rental_prices_feature_eng/sweeps/0jp3waxw</a>"
      ],
      "text/plain": [
       "<IPython.core.display.HTML object>"
      ]
     },
     "metadata": {},
     "output_type": "display_data"
    },
    {
     "data": {
      "text/html": [
       " View project at <a href='https://wandb.ai/minjabenho/hdb_rental_prices_feature_eng' target=\"_blank\">https://wandb.ai/minjabenho/hdb_rental_prices_feature_eng</a>"
      ],
      "text/plain": [
       "<IPython.core.display.HTML object>"
      ]
     },
     "metadata": {},
     "output_type": "display_data"
    },
    {
     "data": {
      "text/html": [
       " View sweep at <a href='https://wandb.ai/minjabenho/hdb_rental_prices_feature_eng/sweeps/0jp3waxw' target=\"_blank\">https://wandb.ai/minjabenho/hdb_rental_prices_feature_eng/sweeps/0jp3waxw</a>"
      ],
      "text/plain": [
       "<IPython.core.display.HTML object>"
      ]
     },
     "metadata": {},
     "output_type": "display_data"
    },
    {
     "data": {
      "text/html": [
       " View run at <a href='https://wandb.ai/minjabenho/hdb_rental_prices_feature_eng/runs/bx1bgs1p' target=\"_blank\">https://wandb.ai/minjabenho/hdb_rental_prices_feature_eng/runs/bx1bgs1p</a>"
      ],
      "text/plain": [
       "<IPython.core.display.HTML object>"
      ]
     },
     "metadata": {},
     "output_type": "display_data"
    },
    {
     "data": {
      "text/html": [
       "Waiting for W&B process to finish... <strong style=\"color:green\">(success).</strong>"
      ],
      "text/plain": [
       "<IPython.core.display.HTML object>"
      ]
     },
     "metadata": {},
     "output_type": "display_data"
    },
    {
     "data": {
      "text/html": [
       "<style>\n",
       "    table.wandb td:nth-child(1) { padding: 0 10px; text-align: left ; width: auto;} td:nth-child(2) {text-align: left ; width: 100%}\n",
       "    .wandb-row { display: flex; flex-direction: row; flex-wrap: wrap; justify-content: flex-start; width: 100% }\n",
       "    .wandb-col { display: flex; flex-direction: column; flex-basis: 100%; flex: 1; padding: 10px; }\n",
       "    </style>\n",
       "<div class=\"wandb-row\"><div class=\"wandb-col\"><h3>Run history:</h3><br/><table class=\"wandb\"><tr><td>coefficient_of_determination</td><td>▁</td></tr><tr><td>mse</td><td>▁</td></tr></table><br/></div><div class=\"wandb-col\"><h3>Run summary:</h3><br/><table class=\"wandb\"><tr><td>coefficient_of_determination</td><td>0.54095</td></tr><tr><td>mse</td><td>225100.69559</td></tr></table><br/></div></div>"
      ],
      "text/plain": [
       "<IPython.core.display.HTML object>"
      ]
     },
     "metadata": {},
     "output_type": "display_data"
    },
    {
     "data": {
      "text/html": [
       " View run <strong style=\"color:#cdcd00\">rural-sweep-15</strong> at: <a href='https://wandb.ai/minjabenho/hdb_rental_prices_feature_eng/runs/bx1bgs1p' target=\"_blank\">https://wandb.ai/minjabenho/hdb_rental_prices_feature_eng/runs/bx1bgs1p</a><br/>Synced 5 W&B file(s), 0 media file(s), 0 artifact file(s) and 0 other file(s)"
      ],
      "text/plain": [
       "<IPython.core.display.HTML object>"
      ]
     },
     "metadata": {},
     "output_type": "display_data"
    },
    {
     "data": {
      "text/html": [
       "Find logs at: <code>./wandb/run-20231016_152424-bx1bgs1p/logs</code>"
      ],
      "text/plain": [
       "<IPython.core.display.HTML object>"
      ]
     },
     "metadata": {},
     "output_type": "display_data"
    },
    {
     "name": "stderr",
     "output_type": "stream",
     "text": [
      "\u001b[34m\u001b[1mwandb\u001b[0m: Agent Starting Run: pxr3jfnx with config:\n",
      "\u001b[34m\u001b[1mwandb\u001b[0m: \tlearning_rate: 0.1\n",
      "\u001b[34m\u001b[1mwandb\u001b[0m: \tmax_depth: 6\n",
      "\u001b[34m\u001b[1mwandb\u001b[0m: \tmin_impurity_decrease: 0.2\n",
      "\u001b[34m\u001b[1mwandb\u001b[0m: \tmin_samples_leaf: 20\n",
      "\u001b[34m\u001b[1mwandb\u001b[0m: \tmin_samples_split: 16\n",
      "\u001b[34m\u001b[1mwandb\u001b[0m: \tmin_weight_fraction_leaf: 0\n",
      "\u001b[34m\u001b[1mwandb\u001b[0m: \tn_estimators: 100\n",
      "\u001b[34m\u001b[1mwandb\u001b[0m: \tsubsample: 0.5\n",
      "Failed to detect the name of this notebook, you can set it manually with the WANDB_NOTEBOOK_NAME environment variable to enable code saving.\n"
     ]
    },
    {
     "data": {
      "text/html": [
       "wandb version 0.15.12 is available!  To upgrade, please run:\n",
       " $ pip install wandb --upgrade"
      ],
      "text/plain": [
       "<IPython.core.display.HTML object>"
      ]
     },
     "metadata": {},
     "output_type": "display_data"
    },
    {
     "data": {
      "text/html": [
       "Tracking run with wandb version 0.15.11"
      ],
      "text/plain": [
       "<IPython.core.display.HTML object>"
      ]
     },
     "metadata": {},
     "output_type": "display_data"
    },
    {
     "data": {
      "text/html": [
       "Run data is saved locally in <code>/home/benhgm/workspace/cs5228_flat_rental/wandb/run-20231016_152456-pxr3jfnx</code>"
      ],
      "text/plain": [
       "<IPython.core.display.HTML object>"
      ]
     },
     "metadata": {},
     "output_type": "display_data"
    },
    {
     "data": {
      "text/html": [
       "Syncing run <strong><a href='https://wandb.ai/minjabenho/hdb_rental_prices_feature_eng/runs/pxr3jfnx' target=\"_blank\">vague-sweep-16</a></strong> to <a href='https://wandb.ai/minjabenho/hdb_rental_prices_feature_eng' target=\"_blank\">Weights & Biases</a> (<a href='https://wandb.me/run' target=\"_blank\">docs</a>)<br/>Sweep page: <a href='https://wandb.ai/minjabenho/hdb_rental_prices_feature_eng/sweeps/0jp3waxw' target=\"_blank\">https://wandb.ai/minjabenho/hdb_rental_prices_feature_eng/sweeps/0jp3waxw</a>"
      ],
      "text/plain": [
       "<IPython.core.display.HTML object>"
      ]
     },
     "metadata": {},
     "output_type": "display_data"
    },
    {
     "data": {
      "text/html": [
       " View project at <a href='https://wandb.ai/minjabenho/hdb_rental_prices_feature_eng' target=\"_blank\">https://wandb.ai/minjabenho/hdb_rental_prices_feature_eng</a>"
      ],
      "text/plain": [
       "<IPython.core.display.HTML object>"
      ]
     },
     "metadata": {},
     "output_type": "display_data"
    },
    {
     "data": {
      "text/html": [
       " View sweep at <a href='https://wandb.ai/minjabenho/hdb_rental_prices_feature_eng/sweeps/0jp3waxw' target=\"_blank\">https://wandb.ai/minjabenho/hdb_rental_prices_feature_eng/sweeps/0jp3waxw</a>"
      ],
      "text/plain": [
       "<IPython.core.display.HTML object>"
      ]
     },
     "metadata": {},
     "output_type": "display_data"
    },
    {
     "data": {
      "text/html": [
       " View run at <a href='https://wandb.ai/minjabenho/hdb_rental_prices_feature_eng/runs/pxr3jfnx' target=\"_blank\">https://wandb.ai/minjabenho/hdb_rental_prices_feature_eng/runs/pxr3jfnx</a>"
      ],
      "text/plain": [
       "<IPython.core.display.HTML object>"
      ]
     },
     "metadata": {},
     "output_type": "display_data"
    },
    {
     "data": {
      "text/html": [
       "Waiting for W&B process to finish... <strong style=\"color:green\">(success).</strong>"
      ],
      "text/plain": [
       "<IPython.core.display.HTML object>"
      ]
     },
     "metadata": {},
     "output_type": "display_data"
    },
    {
     "data": {
      "text/html": [
       "<style>\n",
       "    table.wandb td:nth-child(1) { padding: 0 10px; text-align: left ; width: auto;} td:nth-child(2) {text-align: left ; width: 100%}\n",
       "    .wandb-row { display: flex; flex-direction: row; flex-wrap: wrap; justify-content: flex-start; width: 100% }\n",
       "    .wandb-col { display: flex; flex-direction: column; flex-basis: 100%; flex: 1; padding: 10px; }\n",
       "    </style>\n",
       "<div class=\"wandb-row\"><div class=\"wandb-col\"><h3>Run history:</h3><br/><table class=\"wandb\"><tr><td>coefficient_of_determination</td><td>▁</td></tr><tr><td>mse</td><td>▁</td></tr></table><br/></div><div class=\"wandb-col\"><h3>Run summary:</h3><br/><table class=\"wandb\"><tr><td>coefficient_of_determination</td><td>0.54095</td></tr><tr><td>mse</td><td>225100.69559</td></tr></table><br/></div></div>"
      ],
      "text/plain": [
       "<IPython.core.display.HTML object>"
      ]
     },
     "metadata": {},
     "output_type": "display_data"
    },
    {
     "data": {
      "text/html": [
       " View run <strong style=\"color:#cdcd00\">vague-sweep-16</strong> at: <a href='https://wandb.ai/minjabenho/hdb_rental_prices_feature_eng/runs/pxr3jfnx' target=\"_blank\">https://wandb.ai/minjabenho/hdb_rental_prices_feature_eng/runs/pxr3jfnx</a><br/>Synced 5 W&B file(s), 0 media file(s), 0 artifact file(s) and 0 other file(s)"
      ],
      "text/plain": [
       "<IPython.core.display.HTML object>"
      ]
     },
     "metadata": {},
     "output_type": "display_data"
    },
    {
     "data": {
      "text/html": [
       "Find logs at: <code>./wandb/run-20231016_152456-pxr3jfnx/logs</code>"
      ],
      "text/plain": [
       "<IPython.core.display.HTML object>"
      ]
     },
     "metadata": {},
     "output_type": "display_data"
    },
    {
     "name": "stderr",
     "output_type": "stream",
     "text": [
      "\u001b[34m\u001b[1mwandb\u001b[0m: Agent Starting Run: mvijeccq with config:\n",
      "\u001b[34m\u001b[1mwandb\u001b[0m: \tlearning_rate: 0.1\n",
      "\u001b[34m\u001b[1mwandb\u001b[0m: \tmax_depth: 6\n",
      "\u001b[34m\u001b[1mwandb\u001b[0m: \tmin_impurity_decrease: 0.2\n",
      "\u001b[34m\u001b[1mwandb\u001b[0m: \tmin_samples_leaf: 20\n",
      "\u001b[34m\u001b[1mwandb\u001b[0m: \tmin_samples_split: 4\n",
      "\u001b[34m\u001b[1mwandb\u001b[0m: \tmin_weight_fraction_leaf: 0\n",
      "\u001b[34m\u001b[1mwandb\u001b[0m: \tn_estimators: 100\n",
      "\u001b[34m\u001b[1mwandb\u001b[0m: \tsubsample: 0.5\n",
      "Failed to detect the name of this notebook, you can set it manually with the WANDB_NOTEBOOK_NAME environment variable to enable code saving.\n"
     ]
    },
    {
     "data": {
      "text/html": [
       "wandb version 0.15.12 is available!  To upgrade, please run:\n",
       " $ pip install wandb --upgrade"
      ],
      "text/plain": [
       "<IPython.core.display.HTML object>"
      ]
     },
     "metadata": {},
     "output_type": "display_data"
    },
    {
     "data": {
      "text/html": [
       "Tracking run with wandb version 0.15.11"
      ],
      "text/plain": [
       "<IPython.core.display.HTML object>"
      ]
     },
     "metadata": {},
     "output_type": "display_data"
    },
    {
     "data": {
      "text/html": [
       "Run data is saved locally in <code>/home/benhgm/workspace/cs5228_flat_rental/wandb/run-20231016_152528-mvijeccq</code>"
      ],
      "text/plain": [
       "<IPython.core.display.HTML object>"
      ]
     },
     "metadata": {},
     "output_type": "display_data"
    },
    {
     "data": {
      "text/html": [
       "Syncing run <strong><a href='https://wandb.ai/minjabenho/hdb_rental_prices_feature_eng/runs/mvijeccq' target=\"_blank\">firm-sweep-17</a></strong> to <a href='https://wandb.ai/minjabenho/hdb_rental_prices_feature_eng' target=\"_blank\">Weights & Biases</a> (<a href='https://wandb.me/run' target=\"_blank\">docs</a>)<br/>Sweep page: <a href='https://wandb.ai/minjabenho/hdb_rental_prices_feature_eng/sweeps/0jp3waxw' target=\"_blank\">https://wandb.ai/minjabenho/hdb_rental_prices_feature_eng/sweeps/0jp3waxw</a>"
      ],
      "text/plain": [
       "<IPython.core.display.HTML object>"
      ]
     },
     "metadata": {},
     "output_type": "display_data"
    },
    {
     "data": {
      "text/html": [
       " View project at <a href='https://wandb.ai/minjabenho/hdb_rental_prices_feature_eng' target=\"_blank\">https://wandb.ai/minjabenho/hdb_rental_prices_feature_eng</a>"
      ],
      "text/plain": [
       "<IPython.core.display.HTML object>"
      ]
     },
     "metadata": {},
     "output_type": "display_data"
    },
    {
     "data": {
      "text/html": [
       " View sweep at <a href='https://wandb.ai/minjabenho/hdb_rental_prices_feature_eng/sweeps/0jp3waxw' target=\"_blank\">https://wandb.ai/minjabenho/hdb_rental_prices_feature_eng/sweeps/0jp3waxw</a>"
      ],
      "text/plain": [
       "<IPython.core.display.HTML object>"
      ]
     },
     "metadata": {},
     "output_type": "display_data"
    },
    {
     "data": {
      "text/html": [
       " View run at <a href='https://wandb.ai/minjabenho/hdb_rental_prices_feature_eng/runs/mvijeccq' target=\"_blank\">https://wandb.ai/minjabenho/hdb_rental_prices_feature_eng/runs/mvijeccq</a>"
      ],
      "text/plain": [
       "<IPython.core.display.HTML object>"
      ]
     },
     "metadata": {},
     "output_type": "display_data"
    },
    {
     "data": {
      "text/html": [
       "Waiting for W&B process to finish... <strong style=\"color:green\">(success).</strong>"
      ],
      "text/plain": [
       "<IPython.core.display.HTML object>"
      ]
     },
     "metadata": {},
     "output_type": "display_data"
    },
    {
     "data": {
      "text/html": [
       "<style>\n",
       "    table.wandb td:nth-child(1) { padding: 0 10px; text-align: left ; width: auto;} td:nth-child(2) {text-align: left ; width: 100%}\n",
       "    .wandb-row { display: flex; flex-direction: row; flex-wrap: wrap; justify-content: flex-start; width: 100% }\n",
       "    .wandb-col { display: flex; flex-direction: column; flex-basis: 100%; flex: 1; padding: 10px; }\n",
       "    </style>\n",
       "<div class=\"wandb-row\"><div class=\"wandb-col\"><h3>Run history:</h3><br/><table class=\"wandb\"><tr><td>coefficient_of_determination</td><td>▁</td></tr><tr><td>mse</td><td>▁</td></tr></table><br/></div><div class=\"wandb-col\"><h3>Run summary:</h3><br/><table class=\"wandb\"><tr><td>coefficient_of_determination</td><td>0.54095</td></tr><tr><td>mse</td><td>225100.69559</td></tr></table><br/></div></div>"
      ],
      "text/plain": [
       "<IPython.core.display.HTML object>"
      ]
     },
     "metadata": {},
     "output_type": "display_data"
    },
    {
     "data": {
      "text/html": [
       " View run <strong style=\"color:#cdcd00\">firm-sweep-17</strong> at: <a href='https://wandb.ai/minjabenho/hdb_rental_prices_feature_eng/runs/mvijeccq' target=\"_blank\">https://wandb.ai/minjabenho/hdb_rental_prices_feature_eng/runs/mvijeccq</a><br/>Synced 5 W&B file(s), 0 media file(s), 0 artifact file(s) and 0 other file(s)"
      ],
      "text/plain": [
       "<IPython.core.display.HTML object>"
      ]
     },
     "metadata": {},
     "output_type": "display_data"
    },
    {
     "data": {
      "text/html": [
       "Find logs at: <code>./wandb/run-20231016_152528-mvijeccq/logs</code>"
      ],
      "text/plain": [
       "<IPython.core.display.HTML object>"
      ]
     },
     "metadata": {},
     "output_type": "display_data"
    },
    {
     "name": "stderr",
     "output_type": "stream",
     "text": [
      "\u001b[34m\u001b[1mwandb\u001b[0m: Agent Starting Run: mfei53hs with config:\n",
      "\u001b[34m\u001b[1mwandb\u001b[0m: \tlearning_rate: 0.1\n",
      "\u001b[34m\u001b[1mwandb\u001b[0m: \tmax_depth: 6\n",
      "\u001b[34m\u001b[1mwandb\u001b[0m: \tmin_impurity_decrease: 0.2\n",
      "\u001b[34m\u001b[1mwandb\u001b[0m: \tmin_samples_leaf: 20\n",
      "\u001b[34m\u001b[1mwandb\u001b[0m: \tmin_samples_split: 4\n",
      "\u001b[34m\u001b[1mwandb\u001b[0m: \tmin_weight_fraction_leaf: 0\n",
      "\u001b[34m\u001b[1mwandb\u001b[0m: \tn_estimators: 100\n",
      "\u001b[34m\u001b[1mwandb\u001b[0m: \tsubsample: 0.5\n",
      "Failed to detect the name of this notebook, you can set it manually with the WANDB_NOTEBOOK_NAME environment variable to enable code saving.\n"
     ]
    },
    {
     "data": {
      "text/html": [
       "wandb version 0.15.12 is available!  To upgrade, please run:\n",
       " $ pip install wandb --upgrade"
      ],
      "text/plain": [
       "<IPython.core.display.HTML object>"
      ]
     },
     "metadata": {},
     "output_type": "display_data"
    },
    {
     "data": {
      "text/html": [
       "Tracking run with wandb version 0.15.11"
      ],
      "text/plain": [
       "<IPython.core.display.HTML object>"
      ]
     },
     "metadata": {},
     "output_type": "display_data"
    },
    {
     "data": {
      "text/html": [
       "Run data is saved locally in <code>/home/benhgm/workspace/cs5228_flat_rental/wandb/run-20231016_152600-mfei53hs</code>"
      ],
      "text/plain": [
       "<IPython.core.display.HTML object>"
      ]
     },
     "metadata": {},
     "output_type": "display_data"
    },
    {
     "data": {
      "text/html": [
       "Syncing run <strong><a href='https://wandb.ai/minjabenho/hdb_rental_prices_feature_eng/runs/mfei53hs' target=\"_blank\">unique-sweep-18</a></strong> to <a href='https://wandb.ai/minjabenho/hdb_rental_prices_feature_eng' target=\"_blank\">Weights & Biases</a> (<a href='https://wandb.me/run' target=\"_blank\">docs</a>)<br/>Sweep page: <a href='https://wandb.ai/minjabenho/hdb_rental_prices_feature_eng/sweeps/0jp3waxw' target=\"_blank\">https://wandb.ai/minjabenho/hdb_rental_prices_feature_eng/sweeps/0jp3waxw</a>"
      ],
      "text/plain": [
       "<IPython.core.display.HTML object>"
      ]
     },
     "metadata": {},
     "output_type": "display_data"
    },
    {
     "data": {
      "text/html": [
       " View project at <a href='https://wandb.ai/minjabenho/hdb_rental_prices_feature_eng' target=\"_blank\">https://wandb.ai/minjabenho/hdb_rental_prices_feature_eng</a>"
      ],
      "text/plain": [
       "<IPython.core.display.HTML object>"
      ]
     },
     "metadata": {},
     "output_type": "display_data"
    },
    {
     "data": {
      "text/html": [
       " View sweep at <a href='https://wandb.ai/minjabenho/hdb_rental_prices_feature_eng/sweeps/0jp3waxw' target=\"_blank\">https://wandb.ai/minjabenho/hdb_rental_prices_feature_eng/sweeps/0jp3waxw</a>"
      ],
      "text/plain": [
       "<IPython.core.display.HTML object>"
      ]
     },
     "metadata": {},
     "output_type": "display_data"
    },
    {
     "data": {
      "text/html": [
       " View run at <a href='https://wandb.ai/minjabenho/hdb_rental_prices_feature_eng/runs/mfei53hs' target=\"_blank\">https://wandb.ai/minjabenho/hdb_rental_prices_feature_eng/runs/mfei53hs</a>"
      ],
      "text/plain": [
       "<IPython.core.display.HTML object>"
      ]
     },
     "metadata": {},
     "output_type": "display_data"
    },
    {
     "data": {
      "text/html": [
       "Waiting for W&B process to finish... <strong style=\"color:green\">(success).</strong>"
      ],
      "text/plain": [
       "<IPython.core.display.HTML object>"
      ]
     },
     "metadata": {},
     "output_type": "display_data"
    },
    {
     "data": {
      "text/html": [
       "<style>\n",
       "    table.wandb td:nth-child(1) { padding: 0 10px; text-align: left ; width: auto;} td:nth-child(2) {text-align: left ; width: 100%}\n",
       "    .wandb-row { display: flex; flex-direction: row; flex-wrap: wrap; justify-content: flex-start; width: 100% }\n",
       "    .wandb-col { display: flex; flex-direction: column; flex-basis: 100%; flex: 1; padding: 10px; }\n",
       "    </style>\n",
       "<div class=\"wandb-row\"><div class=\"wandb-col\"><h3>Run history:</h3><br/><table class=\"wandb\"><tr><td>coefficient_of_determination</td><td>▁</td></tr><tr><td>mse</td><td>▁</td></tr></table><br/></div><div class=\"wandb-col\"><h3>Run summary:</h3><br/><table class=\"wandb\"><tr><td>coefficient_of_determination</td><td>0.54095</td></tr><tr><td>mse</td><td>225100.69559</td></tr></table><br/></div></div>"
      ],
      "text/plain": [
       "<IPython.core.display.HTML object>"
      ]
     },
     "metadata": {},
     "output_type": "display_data"
    },
    {
     "data": {
      "text/html": [
       " View run <strong style=\"color:#cdcd00\">unique-sweep-18</strong> at: <a href='https://wandb.ai/minjabenho/hdb_rental_prices_feature_eng/runs/mfei53hs' target=\"_blank\">https://wandb.ai/minjabenho/hdb_rental_prices_feature_eng/runs/mfei53hs</a><br/>Synced 5 W&B file(s), 0 media file(s), 0 artifact file(s) and 0 other file(s)"
      ],
      "text/plain": [
       "<IPython.core.display.HTML object>"
      ]
     },
     "metadata": {},
     "output_type": "display_data"
    },
    {
     "data": {
      "text/html": [
       "Find logs at: <code>./wandb/run-20231016_152600-mfei53hs/logs</code>"
      ],
      "text/plain": [
       "<IPython.core.display.HTML object>"
      ]
     },
     "metadata": {},
     "output_type": "display_data"
    },
    {
     "name": "stderr",
     "output_type": "stream",
     "text": [
      "\u001b[34m\u001b[1mwandb\u001b[0m: Agent Starting Run: ylwwqvey with config:\n",
      "\u001b[34m\u001b[1mwandb\u001b[0m: \tlearning_rate: 0.1\n",
      "\u001b[34m\u001b[1mwandb\u001b[0m: \tmax_depth: 6\n",
      "\u001b[34m\u001b[1mwandb\u001b[0m: \tmin_impurity_decrease: 0.2\n",
      "\u001b[34m\u001b[1mwandb\u001b[0m: \tmin_samples_leaf: 20\n",
      "\u001b[34m\u001b[1mwandb\u001b[0m: \tmin_samples_split: 16\n",
      "\u001b[34m\u001b[1mwandb\u001b[0m: \tmin_weight_fraction_leaf: 0\n",
      "\u001b[34m\u001b[1mwandb\u001b[0m: \tn_estimators: 100\n",
      "\u001b[34m\u001b[1mwandb\u001b[0m: \tsubsample: 0.5\n",
      "Failed to detect the name of this notebook, you can set it manually with the WANDB_NOTEBOOK_NAME environment variable to enable code saving.\n"
     ]
    },
    {
     "data": {
      "text/html": [
       "wandb version 0.15.12 is available!  To upgrade, please run:\n",
       " $ pip install wandb --upgrade"
      ],
      "text/plain": [
       "<IPython.core.display.HTML object>"
      ]
     },
     "metadata": {},
     "output_type": "display_data"
    },
    {
     "data": {
      "text/html": [
       "Tracking run with wandb version 0.15.11"
      ],
      "text/plain": [
       "<IPython.core.display.HTML object>"
      ]
     },
     "metadata": {},
     "output_type": "display_data"
    },
    {
     "data": {
      "text/html": [
       "Run data is saved locally in <code>/home/benhgm/workspace/cs5228_flat_rental/wandb/run-20231016_152631-ylwwqvey</code>"
      ],
      "text/plain": [
       "<IPython.core.display.HTML object>"
      ]
     },
     "metadata": {},
     "output_type": "display_data"
    },
    {
     "data": {
      "text/html": [
       "Syncing run <strong><a href='https://wandb.ai/minjabenho/hdb_rental_prices_feature_eng/runs/ylwwqvey' target=\"_blank\">winter-sweep-19</a></strong> to <a href='https://wandb.ai/minjabenho/hdb_rental_prices_feature_eng' target=\"_blank\">Weights & Biases</a> (<a href='https://wandb.me/run' target=\"_blank\">docs</a>)<br/>Sweep page: <a href='https://wandb.ai/minjabenho/hdb_rental_prices_feature_eng/sweeps/0jp3waxw' target=\"_blank\">https://wandb.ai/minjabenho/hdb_rental_prices_feature_eng/sweeps/0jp3waxw</a>"
      ],
      "text/plain": [
       "<IPython.core.display.HTML object>"
      ]
     },
     "metadata": {},
     "output_type": "display_data"
    },
    {
     "data": {
      "text/html": [
       " View project at <a href='https://wandb.ai/minjabenho/hdb_rental_prices_feature_eng' target=\"_blank\">https://wandb.ai/minjabenho/hdb_rental_prices_feature_eng</a>"
      ],
      "text/plain": [
       "<IPython.core.display.HTML object>"
      ]
     },
     "metadata": {},
     "output_type": "display_data"
    },
    {
     "data": {
      "text/html": [
       " View sweep at <a href='https://wandb.ai/minjabenho/hdb_rental_prices_feature_eng/sweeps/0jp3waxw' target=\"_blank\">https://wandb.ai/minjabenho/hdb_rental_prices_feature_eng/sweeps/0jp3waxw</a>"
      ],
      "text/plain": [
       "<IPython.core.display.HTML object>"
      ]
     },
     "metadata": {},
     "output_type": "display_data"
    },
    {
     "data": {
      "text/html": [
       " View run at <a href='https://wandb.ai/minjabenho/hdb_rental_prices_feature_eng/runs/ylwwqvey' target=\"_blank\">https://wandb.ai/minjabenho/hdb_rental_prices_feature_eng/runs/ylwwqvey</a>"
      ],
      "text/plain": [
       "<IPython.core.display.HTML object>"
      ]
     },
     "metadata": {},
     "output_type": "display_data"
    },
    {
     "data": {
      "text/html": [
       "Waiting for W&B process to finish... <strong style=\"color:green\">(success).</strong>"
      ],
      "text/plain": [
       "<IPython.core.display.HTML object>"
      ]
     },
     "metadata": {},
     "output_type": "display_data"
    },
    {
     "data": {
      "text/html": [
       "<style>\n",
       "    table.wandb td:nth-child(1) { padding: 0 10px; text-align: left ; width: auto;} td:nth-child(2) {text-align: left ; width: 100%}\n",
       "    .wandb-row { display: flex; flex-direction: row; flex-wrap: wrap; justify-content: flex-start; width: 100% }\n",
       "    .wandb-col { display: flex; flex-direction: column; flex-basis: 100%; flex: 1; padding: 10px; }\n",
       "    </style>\n",
       "<div class=\"wandb-row\"><div class=\"wandb-col\"><h3>Run history:</h3><br/><table class=\"wandb\"><tr><td>coefficient_of_determination</td><td>▁</td></tr><tr><td>mse</td><td>▁</td></tr></table><br/></div><div class=\"wandb-col\"><h3>Run summary:</h3><br/><table class=\"wandb\"><tr><td>coefficient_of_determination</td><td>0.54095</td></tr><tr><td>mse</td><td>225100.69559</td></tr></table><br/></div></div>"
      ],
      "text/plain": [
       "<IPython.core.display.HTML object>"
      ]
     },
     "metadata": {},
     "output_type": "display_data"
    },
    {
     "data": {
      "text/html": [
       " View run <strong style=\"color:#cdcd00\">winter-sweep-19</strong> at: <a href='https://wandb.ai/minjabenho/hdb_rental_prices_feature_eng/runs/ylwwqvey' target=\"_blank\">https://wandb.ai/minjabenho/hdb_rental_prices_feature_eng/runs/ylwwqvey</a><br/>Synced 5 W&B file(s), 0 media file(s), 0 artifact file(s) and 0 other file(s)"
      ],
      "text/plain": [
       "<IPython.core.display.HTML object>"
      ]
     },
     "metadata": {},
     "output_type": "display_data"
    },
    {
     "data": {
      "text/html": [
       "Find logs at: <code>./wandb/run-20231016_152631-ylwwqvey/logs</code>"
      ],
      "text/plain": [
       "<IPython.core.display.HTML object>"
      ]
     },
     "metadata": {},
     "output_type": "display_data"
    },
    {
     "name": "stderr",
     "output_type": "stream",
     "text": [
      "\u001b[34m\u001b[1mwandb\u001b[0m: Agent Starting Run: 56cqnbr4 with config:\n",
      "\u001b[34m\u001b[1mwandb\u001b[0m: \tlearning_rate: 0.1\n",
      "\u001b[34m\u001b[1mwandb\u001b[0m: \tmax_depth: 6\n",
      "\u001b[34m\u001b[1mwandb\u001b[0m: \tmin_impurity_decrease: 0.2\n",
      "\u001b[34m\u001b[1mwandb\u001b[0m: \tmin_samples_leaf: 20\n",
      "\u001b[34m\u001b[1mwandb\u001b[0m: \tmin_samples_split: 4\n",
      "\u001b[34m\u001b[1mwandb\u001b[0m: \tmin_weight_fraction_leaf: 0\n",
      "\u001b[34m\u001b[1mwandb\u001b[0m: \tn_estimators: 100\n",
      "\u001b[34m\u001b[1mwandb\u001b[0m: \tsubsample: 0.5\n",
      "Failed to detect the name of this notebook, you can set it manually with the WANDB_NOTEBOOK_NAME environment variable to enable code saving.\n"
     ]
    },
    {
     "data": {
      "text/html": [
       "wandb version 0.15.12 is available!  To upgrade, please run:\n",
       " $ pip install wandb --upgrade"
      ],
      "text/plain": [
       "<IPython.core.display.HTML object>"
      ]
     },
     "metadata": {},
     "output_type": "display_data"
    },
    {
     "data": {
      "text/html": [
       "Tracking run with wandb version 0.15.11"
      ],
      "text/plain": [
       "<IPython.core.display.HTML object>"
      ]
     },
     "metadata": {},
     "output_type": "display_data"
    },
    {
     "data": {
      "text/html": [
       "Run data is saved locally in <code>/home/benhgm/workspace/cs5228_flat_rental/wandb/run-20231016_152703-56cqnbr4</code>"
      ],
      "text/plain": [
       "<IPython.core.display.HTML object>"
      ]
     },
     "metadata": {},
     "output_type": "display_data"
    },
    {
     "data": {
      "text/html": [
       "Syncing run <strong><a href='https://wandb.ai/minjabenho/hdb_rental_prices_feature_eng/runs/56cqnbr4' target=\"_blank\">kind-sweep-20</a></strong> to <a href='https://wandb.ai/minjabenho/hdb_rental_prices_feature_eng' target=\"_blank\">Weights & Biases</a> (<a href='https://wandb.me/run' target=\"_blank\">docs</a>)<br/>Sweep page: <a href='https://wandb.ai/minjabenho/hdb_rental_prices_feature_eng/sweeps/0jp3waxw' target=\"_blank\">https://wandb.ai/minjabenho/hdb_rental_prices_feature_eng/sweeps/0jp3waxw</a>"
      ],
      "text/plain": [
       "<IPython.core.display.HTML object>"
      ]
     },
     "metadata": {},
     "output_type": "display_data"
    },
    {
     "data": {
      "text/html": [
       " View project at <a href='https://wandb.ai/minjabenho/hdb_rental_prices_feature_eng' target=\"_blank\">https://wandb.ai/minjabenho/hdb_rental_prices_feature_eng</a>"
      ],
      "text/plain": [
       "<IPython.core.display.HTML object>"
      ]
     },
     "metadata": {},
     "output_type": "display_data"
    },
    {
     "data": {
      "text/html": [
       " View sweep at <a href='https://wandb.ai/minjabenho/hdb_rental_prices_feature_eng/sweeps/0jp3waxw' target=\"_blank\">https://wandb.ai/minjabenho/hdb_rental_prices_feature_eng/sweeps/0jp3waxw</a>"
      ],
      "text/plain": [
       "<IPython.core.display.HTML object>"
      ]
     },
     "metadata": {},
     "output_type": "display_data"
    },
    {
     "data": {
      "text/html": [
       " View run at <a href='https://wandb.ai/minjabenho/hdb_rental_prices_feature_eng/runs/56cqnbr4' target=\"_blank\">https://wandb.ai/minjabenho/hdb_rental_prices_feature_eng/runs/56cqnbr4</a>"
      ],
      "text/plain": [
       "<IPython.core.display.HTML object>"
      ]
     },
     "metadata": {},
     "output_type": "display_data"
    },
    {
     "data": {
      "text/html": [
       "Waiting for W&B process to finish... <strong style=\"color:green\">(success).</strong>"
      ],
      "text/plain": [
       "<IPython.core.display.HTML object>"
      ]
     },
     "metadata": {},
     "output_type": "display_data"
    },
    {
     "data": {
      "text/html": [
       "<style>\n",
       "    table.wandb td:nth-child(1) { padding: 0 10px; text-align: left ; width: auto;} td:nth-child(2) {text-align: left ; width: 100%}\n",
       "    .wandb-row { display: flex; flex-direction: row; flex-wrap: wrap; justify-content: flex-start; width: 100% }\n",
       "    .wandb-col { display: flex; flex-direction: column; flex-basis: 100%; flex: 1; padding: 10px; }\n",
       "    </style>\n",
       "<div class=\"wandb-row\"><div class=\"wandb-col\"><h3>Run history:</h3><br/><table class=\"wandb\"><tr><td>coefficient_of_determination</td><td>▁</td></tr><tr><td>mse</td><td>▁</td></tr></table><br/></div><div class=\"wandb-col\"><h3>Run summary:</h3><br/><table class=\"wandb\"><tr><td>coefficient_of_determination</td><td>0.54095</td></tr><tr><td>mse</td><td>225100.69559</td></tr></table><br/></div></div>"
      ],
      "text/plain": [
       "<IPython.core.display.HTML object>"
      ]
     },
     "metadata": {},
     "output_type": "display_data"
    },
    {
     "data": {
      "text/html": [
       " View run <strong style=\"color:#cdcd00\">kind-sweep-20</strong> at: <a href='https://wandb.ai/minjabenho/hdb_rental_prices_feature_eng/runs/56cqnbr4' target=\"_blank\">https://wandb.ai/minjabenho/hdb_rental_prices_feature_eng/runs/56cqnbr4</a><br/>Synced 5 W&B file(s), 0 media file(s), 0 artifact file(s) and 0 other file(s)"
      ],
      "text/plain": [
       "<IPython.core.display.HTML object>"
      ]
     },
     "metadata": {},
     "output_type": "display_data"
    },
    {
     "data": {
      "text/html": [
       "Find logs at: <code>./wandb/run-20231016_152703-56cqnbr4/logs</code>"
      ],
      "text/plain": [
       "<IPython.core.display.HTML object>"
      ]
     },
     "metadata": {},
     "output_type": "display_data"
    }
   ],
   "source": [
    "sweep_id = wandb.sweep(sweep_config, project=\"hdb_rental_prices_feature_eng\")\n",
    "wandb.agent(sweep_id, train, count=20)"
   ]
  },
  {
   "cell_type": "markdown",
   "metadata": {},
   "source": [
    "### Model for the Price Per Square Metre Set"
   ]
  },
  {
   "cell_type": "code",
   "execution_count": null,
   "metadata": {},
   "outputs": [],
   "source": [
    "sweep_config = {\n",
    "    'method': 'bayes'\n",
    "}\n",
    "metric = {\n",
    "    'name': 'mse',\n",
    "    'goal': 'minimize'   \n",
    "    }\n",
    "\n",
    "sweep_config['metric'] = metric"
   ]
  },
  {
   "cell_type": "code",
   "execution_count": null,
   "metadata": {},
   "outputs": [],
   "source": [
    "parameters_dict = {\n",
    "    'learning_rate': {\n",
    "        'values': [0.1]\n",
    "    },\n",
    "    'n_estimators': {\n",
    "        'values': [100, 200, 300, 500]\n",
    "    },\n",
    "    'min_samples_split': {\n",
    "        'values': [4, 16, 32]\n",
    "    },\n",
    "    'min_samples_leaf': {\n",
    "        'values': [20]\n",
    "    },\n",
    "    'max_depth': {\n",
    "        'values': [3, 6]\n",
    "    },\n",
    "    'min_impurity_decrease': {\n",
    "        'values': [0.1, 0.2]\n",
    "    },\n",
    "    'min_weight_fraction_leaf': {\n",
    "        'values': [0.0]\n",
    "    },\n",
    "    'subsample': {\n",
    "        'values': [0.75, 0.5]\n",
    "    }\n",
    "}\n",
    "sweep_config['parameters'] = parameters_dict"
   ]
  },
  {
   "cell_type": "code",
   "execution_count": null,
   "metadata": {},
   "outputs": [],
   "source": [
    "TRAIN_DATA = PPSM_BASELINE_TRAIN\n",
    "VAL_DATA = PPSM_BASELINE_VAL"
   ]
  },
  {
   "cell_type": "code",
   "execution_count": null,
   "metadata": {},
   "outputs": [],
   "source": [
    "train_set = pd.read_csv(TRAIN_DATA)\n",
    "val_set = pd.read_csv(VAL_DATA)\n",
    "\n",
    "y_train = train_set[\"rent_per_sqm\"]\n",
    "X_train = train_set.drop(columns=['rent_per_sqm'])\n",
    "\n",
    "y_test = val_set['rent_per_sqm']\n",
    "X_test = val_set.drop(columns=['rent_per_sqm'])"
   ]
  },
  {
   "cell_type": "code",
   "execution_count": null,
   "metadata": {},
   "outputs": [],
   "source": [
    "def train():\n",
    "    with wandb.init():\n",
    "        config = wandb.config\n",
    "\n",
    "        regressor = GradientBoostingRegressor(\n",
    "            random_state=42,\n",
    "            learning_rate=config.learning_rate,\n",
    "            n_estimators=config.n_estimators,\n",
    "            max_depth=config.max_depth,\n",
    "            subsample=config.subsample,\n",
    "            min_samples_leaf=config.min_samples_leaf,\n",
    "            min_samples_split=config.min_samples_split,\n",
    "            min_impurity_decrease=config.min_impurity_decrease,\n",
    "            min_weight_fraction_leaf=config.min_weight_fraction_leaf)\n",
    "        regressor.fit(X_train, y_train)\n",
    "        score = regressor.score(X_test, y_test)\n",
    "        y_pred = regressor.predict(X_test)\n",
    "        mse = mean_squared_error(y_test, y_pred)\n",
    "\n",
    "    \n",
    "        # feat_importances = pd.Series(regressor.feature_importances_, index=X_train.columns)\n",
    "        # plt.barh(X_train.columns, feat_importances.nlargest(10))\n",
    "        # wandb.log({'feature_importances': plt})\n",
    "\n",
    "        # wandb.sklearn.plot_regressor(regressor, X_train, X_test, y_train, y_test, 'GradientBoost')\n",
    "        wandb.log(data={\"mse\": mse, \"coefficient_of_determination\": score})"
   ]
  },
  {
   "cell_type": "code",
   "execution_count": null,
   "metadata": {},
   "outputs": [],
   "source": [
    "sweep_id = wandb.sweep(sweep_config, project=\"hdb_rental_prices_ppsm_baseline\")\n",
    "wandb.agent(sweep_id, train, count=20)"
   ]
  },
  {
   "cell_type": "markdown",
   "metadata": {},
   "source": [
    "### Model for the Price Per Square Metre Set with Feature Engineering"
   ]
  },
  {
   "cell_type": "code",
   "execution_count": null,
   "metadata": {},
   "outputs": [],
   "source": [
    "sweep_config = {\n",
    "    'method': 'bayes'\n",
    "}\n",
    "metric = {\n",
    "    'name': 'mse',\n",
    "    'goal': 'minimize'   \n",
    "    }\n",
    "\n",
    "sweep_config['metric'] = metric"
   ]
  },
  {
   "cell_type": "code",
   "execution_count": null,
   "metadata": {},
   "outputs": [],
   "source": [
    "parameters_dict = {\n",
    "    'learning_rate': {\n",
    "        'values': [0.01, 0.1]\n",
    "    },\n",
    "    'n_estimators': {\n",
    "        'values': [100, 200, 300, 500]\n",
    "    },\n",
    "    'min_samples_split': {\n",
    "        'values': [4, 16, 32]\n",
    "    },\n",
    "    'min_samples_leaf': {\n",
    "        'values': [10, 20, 30]\n",
    "    },\n",
    "    'max_depth': {\n",
    "        'values': [3, 6, 9]\n",
    "    },\n",
    "    'min_impurity_decrease': {\n",
    "        'values': [0.1, 0.2]\n",
    "    },\n",
    "    'min_weight_fraction_leaf': {\n",
    "        'values': [0.0, 0.1]\n",
    "    },\n",
    "    'subsample': {\n",
    "        'values': [0.75, 0.5]\n",
    "    }\n",
    "}\n",
    "sweep_config['parameters'] = parameters_dict"
   ]
  },
  {
   "cell_type": "code",
   "execution_count": null,
   "metadata": {},
   "outputs": [],
   "source": [
    "TRAIN_DATA = PPSM_FEAT_ENG_TRAIN\n",
    "VAL_DATA = PPSM_FEAT_ENG_VAL"
   ]
  },
  {
   "cell_type": "code",
   "execution_count": null,
   "metadata": {},
   "outputs": [],
   "source": [
    "train_set = pd.read_csv(TRAIN_DATA)\n",
    "val_set = pd.read_csv(VAL_DATA)\n",
    "\n",
    "y_train = train_set[\"rent_per_sqm\"]\n",
    "X_train = train_set.drop(columns=['rent_per_sqm'])\n",
    "\n",
    "y_test = val_set['rent_per_sqm']\n",
    "X_test = val_set.drop(columns=['rent_per_sqm'])"
   ]
  },
  {
   "cell_type": "code",
   "execution_count": null,
   "metadata": {},
   "outputs": [],
   "source": [
    "def train():\n",
    "    with wandb.init():\n",
    "        config = wandb.config\n",
    "\n",
    "        regressor = GradientBoostingRegressor(\n",
    "            random_state=42,\n",
    "            learning_rate=config.learning_rate,\n",
    "            n_estimators=config.n_estimators,\n",
    "            max_depth=config.max_depth,\n",
    "            subsample=config.subsample,\n",
    "            min_samples_leaf=config.min_samples_leaf,\n",
    "            min_samples_split=config.min_samples_split,\n",
    "            min_impurity_decrease=config.min_impurity_decrease,\n",
    "            min_weight_fraction_leaf=config.min_weight_fraction_leaf)\n",
    "        regressor.fit(X_train, y_train)\n",
    "        score = regressor.score(X_test, y_test)\n",
    "        y_pred = regressor.predict(X_test)\n",
    "        mse = mean_squared_error(y_test, y_pred)\n",
    "\n",
    "    \n",
    "        # feat_importances = pd.Series(regressor.feature_importances_, index=X_train.columns)\n",
    "        # plt.barh(X_train.columns, feat_importances.nlargest(10))\n",
    "        # wandb.log({'feature_importances': plt})\n",
    "\n",
    "        # wandb.sklearn.plot_regressor(regressor, X_train, X_test, y_train, y_test, 'GradientBoost')\n",
    "        wandb.log(data={\"mse\": mse, \"coefficient_of_determination\": score})"
   ]
  },
  {
   "cell_type": "code",
   "execution_count": null,
   "metadata": {},
   "outputs": [],
   "source": [
    "sweep_id = wandb.sweep(sweep_config, project=\"hdb_rental_prices_ppsm_feat_eng\")\n",
    "wandb.agent(sweep_id, train, count=20)"
   ]
  },
  {
   "cell_type": "code",
   "execution_count": null,
   "metadata": {},
   "outputs": [],
   "source": []
  }
 ],
 "metadata": {
  "kernelspec": {
   "display_name": "nlp",
   "language": "python",
   "name": "python3"
  },
  "language_info": {
   "codemirror_mode": {
    "name": "ipython",
    "version": 3
   },
   "file_extension": ".py",
   "mimetype": "text/x-python",
   "name": "python",
   "nbconvert_exporter": "python",
   "pygments_lexer": "ipython3",
   "version": "3.10.13"
  },
  "orig_nbformat": 4
 },
 "nbformat": 4,
 "nbformat_minor": 2
}
