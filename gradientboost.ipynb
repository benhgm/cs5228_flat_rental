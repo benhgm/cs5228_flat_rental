{
 "cells": [
  {
   "cell_type": "code",
   "execution_count": 1,
   "metadata": {},
   "outputs": [],
   "source": [
    "import pandas as pd\n",
    "import wandb\n",
    "from sklearn.ensemble import GradientBoostingRegressor\n",
    "from sklearn.metrics import mean_squared_error\n",
    "import matplotlib.pyplot as plt"
   ]
  },
  {
   "cell_type": "code",
   "execution_count": 2,
   "metadata": {},
   "outputs": [
    {
     "name": "stderr",
     "output_type": "stream",
     "text": [
      "Failed to detect the name of this notebook, you can set it manually with the WANDB_NOTEBOOK_NAME environment variable to enable code saving.\n",
      "\u001b[34m\u001b[1mwandb\u001b[0m: Currently logged in as: \u001b[33mminjabenho\u001b[0m. Use \u001b[1m`wandb login --relogin`\u001b[0m to force relogin\n"
     ]
    },
    {
     "data": {
      "text/plain": [
       "True"
      ]
     },
     "execution_count": 2,
     "metadata": {},
     "output_type": "execute_result"
    }
   ],
   "source": [
    "wandb.login()"
   ]
  },
  {
   "cell_type": "code",
   "execution_count": 3,
   "metadata": {},
   "outputs": [],
   "source": [
    "# Datasets\n",
    "BASELINE_TRAIN = \"data/train/baseline_train.csv\"\n",
    "BASELINE_VAL = \"data/train/baseline_val.csv\"\n",
    "TRUNCATED_BASELINE_TRAIN = \"data/train/baseline_truncated_train.csv\"\n",
    "TRUNCATED_BASLINE_VAL = \"data/train/baseline_truncated_val.csv\"\n",
    "BASELINE_W_FEAT_ENG_TRAIN = \"data/train/baseline_w_feature_eng_train.csv\"\n",
    "BASELINE_W_FEAT_ENG_VAL = \"data/train/baseline_w_feature_eng_val.csv\"\n",
    "PPSM_BASELINE_TRAIN = \"data/train/ppsm_baseline_train.csv\"\n",
    "PPSM_BASELINE_VAL = \"data/train/ppsm_baseline_val.csv\"\n",
    "PPSM_FEAT_ENG_TRAIN = \"data/train/feature_eng_ppsm_train.csv\"\n",
    "PPSM_FEAT_ENG_VAL = \"data/train/feature_eng_ppsm_val.csv\""
   ]
  },
  {
   "attachments": {},
   "cell_type": "markdown",
   "metadata": {},
   "source": [
    "### Model For the Baseline Dataset"
   ]
  },
  {
   "cell_type": "code",
   "execution_count": null,
   "metadata": {},
   "outputs": [],
   "source": [
    "sweep_config = {\n",
    "    'method': 'bayes'\n",
    "}\n",
    "metric = {\n",
    "    'name': 'mse',\n",
    "    'goal': 'minimize'   \n",
    "    }\n",
    "\n",
    "sweep_config['metric'] = metric\n"
   ]
  },
  {
   "cell_type": "code",
   "execution_count": null,
   "metadata": {},
   "outputs": [],
   "source": [
    "parameters_dict = {\n",
    "    'learning_rate': {\n",
    "        'values': [0.1]\n",
    "    },\n",
    "    'n_estimators': {\n",
    "        'values': [100, 200, 300, 500]\n",
    "    },\n",
    "    'min_samples_split': {\n",
    "        'values': [4, 16, 32]\n",
    "    },\n",
    "    'min_samples_leaf': {\n",
    "        'values': [20]\n",
    "    },\n",
    "    'max_depth': {\n",
    "        'values': [3, 6]\n",
    "    },\n",
    "    'min_impurity_decrease': {\n",
    "        'values': [0.1, 0.2]\n",
    "    },\n",
    "    'min_weight_fraction_leaf': {\n",
    "        'values': [0.0]\n",
    "    },\n",
    "    'subsample': {\n",
    "        'values': [0.75, 0.5]\n",
    "    }\n",
    "}\n",
    "sweep_config['parameters'] = parameters_dict"
   ]
  },
  {
   "cell_type": "code",
   "execution_count": null,
   "metadata": {},
   "outputs": [],
   "source": [
    "TRAIN_DATA = BASELINE_TRAIN\n",
    "VAL_DATA = BASELINE_VAL"
   ]
  },
  {
   "cell_type": "code",
   "execution_count": null,
   "metadata": {},
   "outputs": [],
   "source": [
    "train_set = pd.read_csv(TRAIN_DATA)\n",
    "val_set = pd.read_csv(VAL_DATA)\n",
    "\n",
    "y_train = train_set[\"monthly_rent\"]\n",
    "X_train = train_set.drop(columns=['monthly_rent'])\n",
    "\n",
    "y_test = val_set['monthly_rent']\n",
    "X_test = val_set.drop(columns=['monthly_rent'])\n"
   ]
  },
  {
   "cell_type": "code",
   "execution_count": null,
   "metadata": {},
   "outputs": [],
   "source": [
    "def train():\n",
    "    with wandb.init():\n",
    "        config = wandb.config\n",
    "\n",
    "        regressor = GradientBoostingRegressor(\n",
    "            random_state=42,\n",
    "            learning_rate=config.learning_rate,\n",
    "            n_estimators=config.n_estimators,\n",
    "            max_depth=config.max_depth,\n",
    "            subsample=config.subsample,\n",
    "            min_samples_leaf=config.min_samples_leaf,\n",
    "            min_samples_split=config.min_samples_split,\n",
    "            min_impurity_decrease=config.min_impurity_decrease,\n",
    "            min_weight_fraction_leaf=config.min_weight_fraction_leaf)\n",
    "        regressor.fit(X_train, y_train)\n",
    "        score = regressor.score(X_test, y_test)\n",
    "        y_pred = regressor.predict(X_test)\n",
    "        mse = mean_squared_error(y_test, y_pred)\n",
    "\n",
    "    \n",
    "        # feat_importances = pd.Series(regressor.feature_importances_, index=X_train.columns)\n",
    "        # plt.barh(X_train.columns, feat_importances.nlargest(10))\n",
    "        # wandb.log({'feature_importances': plt})\n",
    "\n",
    "        # wandb.sklearn.plot_regressor(regressor, X_train, X_test, y_train, y_test, 'GradientBoost')\n",
    "        wandb.log(data={\"mse\": mse, \"coefficient_of_determination\": score})\n",
    "\n"
   ]
  },
  {
   "cell_type": "code",
   "execution_count": null,
   "metadata": {},
   "outputs": [],
   "source": [
    "sweep_id = wandb.sweep(sweep_config, project=\"hdb_rental_prices_baseline\")\n",
    "wandb.agent(sweep_id, train(X_train, y_train, X_test, y_test), count=20)"
   ]
  },
  {
   "attachments": {},
   "cell_type": "markdown",
   "metadata": {},
   "source": [
    "### Model for the Truncated Baseline Set"
   ]
  },
  {
   "cell_type": "code",
   "execution_count": 4,
   "metadata": {},
   "outputs": [],
   "source": [
    "sweep_config = {\n",
    "    'method': 'bayes'\n",
    "}\n",
    "metric = {\n",
    "    'name': 'mse',\n",
    "    'goal': 'minimize'   \n",
    "    }\n",
    "\n",
    "sweep_config['metric'] = metric"
   ]
  },
  {
   "cell_type": "code",
   "execution_count": 5,
   "metadata": {},
   "outputs": [],
   "source": [
    "parameters_dict = {\n",
    "    'learning_rate': {\n",
    "        'values': [0.1]\n",
    "    },\n",
    "    'n_estimators': {\n",
    "        'values': [100, 200, 300, 500]\n",
    "    },\n",
    "    'min_samples_split': {\n",
    "        'values': [4, 16, 32]\n",
    "    },\n",
    "    'min_samples_leaf': {\n",
    "        'values': [20]\n",
    "    },\n",
    "    'max_depth': {\n",
    "        'values': [3, 6]\n",
    "    },\n",
    "    'min_impurity_decrease': {\n",
    "        'values': [0.1, 0.2]\n",
    "    },\n",
    "    'min_weight_fraction_leaf': {\n",
    "        'values': [0.0]\n",
    "    },\n",
    "    'subsample': {\n",
    "        'values': [0.75, 0.5]\n",
    "    }\n",
    "}\n",
    "sweep_config['parameters'] = parameters_dict"
   ]
  },
  {
   "cell_type": "code",
   "execution_count": 6,
   "metadata": {},
   "outputs": [],
   "source": [
    "TRAIN_DATA = TRUNCATED_BASELINE_TRAIN\n",
    "VAL_DATA = TRUNCATED_BASLINE_VAL"
   ]
  },
  {
   "cell_type": "code",
   "execution_count": 7,
   "metadata": {},
   "outputs": [],
   "source": [
    "train_set = pd.read_csv(TRAIN_DATA)\n",
    "val_set = pd.read_csv(VAL_DATA)\n",
    "\n",
    "y_train = train_set[\"monthly_rent\"]\n",
    "X_train = train_set.drop(columns=['monthly_rent'])\n",
    "\n",
    "y_test = val_set['monthly_rent']\n",
    "X_test = val_set.drop(columns=['monthly_rent'])"
   ]
  },
  {
   "cell_type": "code",
   "execution_count": 8,
   "metadata": {},
   "outputs": [],
   "source": [
    "def train():\n",
    "    with wandb.init():\n",
    "        config = wandb.config\n",
    "\n",
    "        regressor = GradientBoostingRegressor(\n",
    "            random_state=42,\n",
    "            learning_rate=config.learning_rate,\n",
    "            n_estimators=config.n_estimators,\n",
    "            max_depth=config.max_depth,\n",
    "            subsample=config.subsample,\n",
    "            min_samples_leaf=config.min_samples_leaf,\n",
    "            min_samples_split=config.min_samples_split,\n",
    "            min_impurity_decrease=config.min_impurity_decrease,\n",
    "            min_weight_fraction_leaf=config.min_weight_fraction_leaf)\n",
    "        regressor.fit(X_train, y_train)\n",
    "        score = regressor.score(X_test, y_test)\n",
    "        y_pred = regressor.predict(X_test)\n",
    "        mse = mean_squared_error(y_test, y_pred)\n",
    "\n",
    "    \n",
    "        # feat_importances = pd.Series(regressor.feature_importances_, index=X_train.columns)\n",
    "        # plt.barh(X_train.columns, feat_importances.nlargest(10))\n",
    "        # wandb.log({'feature_importances': plt})\n",
    "\n",
    "        # wandb.sklearn.plot_regressor(regressor, X_train, X_test, y_train, y_test, 'GradientBoost')\n",
    "        wandb.log(data={\"mse\": mse, \"coefficient_of_determination\": score})"
   ]
  },
  {
   "cell_type": "code",
   "execution_count": 9,
   "metadata": {},
   "outputs": [
    {
     "name": "stdout",
     "output_type": "stream",
     "text": [
      "Create sweep with ID: iwn1amxo\n",
      "Sweep URL: https://wandb.ai/minjabenho/hdb_rental_prices_truncated_baseline/sweeps/iwn1amxo\n"
     ]
    },
    {
     "name": "stderr",
     "output_type": "stream",
     "text": [
      "\u001b[34m\u001b[1mwandb\u001b[0m: Agent Starting Run: 26fia3s7 with config:\n",
      "\u001b[34m\u001b[1mwandb\u001b[0m: \tlearning_rate: 0.1\n",
      "\u001b[34m\u001b[1mwandb\u001b[0m: \tmax_depth: 6\n",
      "\u001b[34m\u001b[1mwandb\u001b[0m: \tmin_impurity_decrease: 0.2\n",
      "\u001b[34m\u001b[1mwandb\u001b[0m: \tmin_samples_leaf: 20\n",
      "\u001b[34m\u001b[1mwandb\u001b[0m: \tmin_samples_split: 32\n",
      "\u001b[34m\u001b[1mwandb\u001b[0m: \tmin_weight_fraction_leaf: 0\n",
      "\u001b[34m\u001b[1mwandb\u001b[0m: \tn_estimators: 200\n",
      "\u001b[34m\u001b[1mwandb\u001b[0m: \tsubsample: 0.5\n",
      "Failed to detect the name of this notebook, you can set it manually with the WANDB_NOTEBOOK_NAME environment variable to enable code saving.\n"
     ]
    },
    {
     "data": {
      "text/html": [
       "wandb version 0.15.12 is available!  To upgrade, please run:\n",
       " $ pip install wandb --upgrade"
      ],
      "text/plain": [
       "<IPython.core.display.HTML object>"
      ]
     },
     "metadata": {},
     "output_type": "display_data"
    },
    {
     "data": {
      "text/html": [
       "Tracking run with wandb version 0.15.11"
      ],
      "text/plain": [
       "<IPython.core.display.HTML object>"
      ]
     },
     "metadata": {},
     "output_type": "display_data"
    },
    {
     "data": {
      "text/html": [
       "Run data is saved locally in <code>/home/benhgm/workspace/cs5228_flat_rental/wandb/run-20231016_151138-26fia3s7</code>"
      ],
      "text/plain": [
       "<IPython.core.display.HTML object>"
      ]
     },
     "metadata": {},
     "output_type": "display_data"
    },
    {
     "data": {
      "text/html": [
       "Syncing run <strong><a href='https://wandb.ai/minjabenho/hdb_rental_prices_truncated_baseline/runs/26fia3s7' target=\"_blank\">dauntless-sweep-1</a></strong> to <a href='https://wandb.ai/minjabenho/hdb_rental_prices_truncated_baseline' target=\"_blank\">Weights & Biases</a> (<a href='https://wandb.me/run' target=\"_blank\">docs</a>)<br/>Sweep page: <a href='https://wandb.ai/minjabenho/hdb_rental_prices_truncated_baseline/sweeps/iwn1amxo' target=\"_blank\">https://wandb.ai/minjabenho/hdb_rental_prices_truncated_baseline/sweeps/iwn1amxo</a>"
      ],
      "text/plain": [
       "<IPython.core.display.HTML object>"
      ]
     },
     "metadata": {},
     "output_type": "display_data"
    },
    {
     "data": {
      "text/html": [
       " View project at <a href='https://wandb.ai/minjabenho/hdb_rental_prices_truncated_baseline' target=\"_blank\">https://wandb.ai/minjabenho/hdb_rental_prices_truncated_baseline</a>"
      ],
      "text/plain": [
       "<IPython.core.display.HTML object>"
      ]
     },
     "metadata": {},
     "output_type": "display_data"
    },
    {
     "data": {
      "text/html": [
       " View sweep at <a href='https://wandb.ai/minjabenho/hdb_rental_prices_truncated_baseline/sweeps/iwn1amxo' target=\"_blank\">https://wandb.ai/minjabenho/hdb_rental_prices_truncated_baseline/sweeps/iwn1amxo</a>"
      ],
      "text/plain": [
       "<IPython.core.display.HTML object>"
      ]
     },
     "metadata": {},
     "output_type": "display_data"
    },
    {
     "data": {
      "text/html": [
       " View run at <a href='https://wandb.ai/minjabenho/hdb_rental_prices_truncated_baseline/runs/26fia3s7' target=\"_blank\">https://wandb.ai/minjabenho/hdb_rental_prices_truncated_baseline/runs/26fia3s7</a>"
      ],
      "text/plain": [
       "<IPython.core.display.HTML object>"
      ]
     },
     "metadata": {},
     "output_type": "display_data"
    },
    {
     "data": {
      "text/html": [
       "Waiting for W&B process to finish... <strong style=\"color:green\">(success).</strong>"
      ],
      "text/plain": [
       "<IPython.core.display.HTML object>"
      ]
     },
     "metadata": {},
     "output_type": "display_data"
    },
    {
     "data": {
      "text/html": [
       "<style>\n",
       "    table.wandb td:nth-child(1) { padding: 0 10px; text-align: left ; width: auto;} td:nth-child(2) {text-align: left ; width: 100%}\n",
       "    .wandb-row { display: flex; flex-direction: row; flex-wrap: wrap; justify-content: flex-start; width: 100% }\n",
       "    .wandb-col { display: flex; flex-direction: column; flex-basis: 100%; flex: 1; padding: 10px; }\n",
       "    </style>\n",
       "<div class=\"wandb-row\"><div class=\"wandb-col\"><h3>Run history:</h3><br/><table class=\"wandb\"><tr><td>coefficient_of_determination</td><td>▁</td></tr><tr><td>mse</td><td>▁</td></tr></table><br/></div><div class=\"wandb-col\"><h3>Run summary:</h3><br/><table class=\"wandb\"><tr><td>coefficient_of_determination</td><td>0.53993</td></tr><tr><td>mse</td><td>0.22555</td></tr></table><br/></div></div>"
      ],
      "text/plain": [
       "<IPython.core.display.HTML object>"
      ]
     },
     "metadata": {},
     "output_type": "display_data"
    },
    {
     "data": {
      "text/html": [
       " View run <strong style=\"color:#cdcd00\">dauntless-sweep-1</strong> at: <a href='https://wandb.ai/minjabenho/hdb_rental_prices_truncated_baseline/runs/26fia3s7' target=\"_blank\">https://wandb.ai/minjabenho/hdb_rental_prices_truncated_baseline/runs/26fia3s7</a><br/>Synced 5 W&B file(s), 0 media file(s), 0 artifact file(s) and 0 other file(s)"
      ],
      "text/plain": [
       "<IPython.core.display.HTML object>"
      ]
     },
     "metadata": {},
     "output_type": "display_data"
    },
    {
     "data": {
      "text/html": [
       "Find logs at: <code>./wandb/run-20231016_151138-26fia3s7/logs</code>"
      ],
      "text/plain": [
       "<IPython.core.display.HTML object>"
      ]
     },
     "metadata": {},
     "output_type": "display_data"
    },
    {
     "name": "stderr",
     "output_type": "stream",
     "text": [
      "\u001b[34m\u001b[1mwandb\u001b[0m: Agent Starting Run: 86befci5 with config:\n",
      "\u001b[34m\u001b[1mwandb\u001b[0m: \tlearning_rate: 0.1\n",
      "\u001b[34m\u001b[1mwandb\u001b[0m: \tmax_depth: 6\n",
      "\u001b[34m\u001b[1mwandb\u001b[0m: \tmin_impurity_decrease: 0.2\n",
      "\u001b[34m\u001b[1mwandb\u001b[0m: \tmin_samples_leaf: 20\n",
      "\u001b[34m\u001b[1mwandb\u001b[0m: \tmin_samples_split: 16\n",
      "\u001b[34m\u001b[1mwandb\u001b[0m: \tmin_weight_fraction_leaf: 0\n",
      "\u001b[34m\u001b[1mwandb\u001b[0m: \tn_estimators: 300\n",
      "\u001b[34m\u001b[1mwandb\u001b[0m: \tsubsample: 0.5\n",
      "Failed to detect the name of this notebook, you can set it manually with the WANDB_NOTEBOOK_NAME environment variable to enable code saving.\n"
     ]
    },
    {
     "data": {
      "text/html": [
       "wandb version 0.15.12 is available!  To upgrade, please run:\n",
       " $ pip install wandb --upgrade"
      ],
      "text/plain": [
       "<IPython.core.display.HTML object>"
      ]
     },
     "metadata": {},
     "output_type": "display_data"
    },
    {
     "data": {
      "text/html": [
       "Tracking run with wandb version 0.15.11"
      ],
      "text/plain": [
       "<IPython.core.display.HTML object>"
      ]
     },
     "metadata": {},
     "output_type": "display_data"
    },
    {
     "data": {
      "text/html": [
       "Run data is saved locally in <code>/home/benhgm/workspace/cs5228_flat_rental/wandb/run-20231016_151200-86befci5</code>"
      ],
      "text/plain": [
       "<IPython.core.display.HTML object>"
      ]
     },
     "metadata": {},
     "output_type": "display_data"
    },
    {
     "data": {
      "text/html": [
       "Syncing run <strong><a href='https://wandb.ai/minjabenho/hdb_rental_prices_truncated_baseline/runs/86befci5' target=\"_blank\">fragrant-sweep-2</a></strong> to <a href='https://wandb.ai/minjabenho/hdb_rental_prices_truncated_baseline' target=\"_blank\">Weights & Biases</a> (<a href='https://wandb.me/run' target=\"_blank\">docs</a>)<br/>Sweep page: <a href='https://wandb.ai/minjabenho/hdb_rental_prices_truncated_baseline/sweeps/iwn1amxo' target=\"_blank\">https://wandb.ai/minjabenho/hdb_rental_prices_truncated_baseline/sweeps/iwn1amxo</a>"
      ],
      "text/plain": [
       "<IPython.core.display.HTML object>"
      ]
     },
     "metadata": {},
     "output_type": "display_data"
    },
    {
     "data": {
      "text/html": [
       " View project at <a href='https://wandb.ai/minjabenho/hdb_rental_prices_truncated_baseline' target=\"_blank\">https://wandb.ai/minjabenho/hdb_rental_prices_truncated_baseline</a>"
      ],
      "text/plain": [
       "<IPython.core.display.HTML object>"
      ]
     },
     "metadata": {},
     "output_type": "display_data"
    },
    {
     "data": {
      "text/html": [
       " View sweep at <a href='https://wandb.ai/minjabenho/hdb_rental_prices_truncated_baseline/sweeps/iwn1amxo' target=\"_blank\">https://wandb.ai/minjabenho/hdb_rental_prices_truncated_baseline/sweeps/iwn1amxo</a>"
      ],
      "text/plain": [
       "<IPython.core.display.HTML object>"
      ]
     },
     "metadata": {},
     "output_type": "display_data"
    },
    {
     "data": {
      "text/html": [
       " View run at <a href='https://wandb.ai/minjabenho/hdb_rental_prices_truncated_baseline/runs/86befci5' target=\"_blank\">https://wandb.ai/minjabenho/hdb_rental_prices_truncated_baseline/runs/86befci5</a>"
      ],
      "text/plain": [
       "<IPython.core.display.HTML object>"
      ]
     },
     "metadata": {},
     "output_type": "display_data"
    },
    {
     "name": "stderr",
     "output_type": "stream",
     "text": [
      "\u001b[34m\u001b[1mwandb\u001b[0m: Ctrl + C detected. Stopping sweep.\n"
     ]
    },
    {
     "data": {
      "text/html": [
       "Waiting for W&B process to finish... <strong style=\"color:green\">(success).</strong>"
      ],
      "text/plain": [
       "<IPython.core.display.HTML object>"
      ]
     },
     "metadata": {},
     "output_type": "display_data"
    }
   ],
   "source": [
    "sweep_id = wandb.sweep(sweep_config, project=\"hdb_rental_prices_truncated_baseline\")\n",
    "wandb.agent(sweep_id, train, count=20)"
   ]
  },
  {
   "attachments": {},
   "cell_type": "markdown",
   "metadata": {},
   "source": [
    "### Model for the Feature Engineering Set"
   ]
  },
  {
   "cell_type": "code",
   "execution_count": null,
   "metadata": {},
   "outputs": [],
   "source": [
    "sweep_config = {\n",
    "    'method': 'bayes'\n",
    "}\n",
    "metric = {\n",
    "    'name': 'mse',\n",
    "    'goal': 'minimize'   \n",
    "    }\n",
    "\n",
    "sweep_config['metric'] = metric"
   ]
  },
  {
   "cell_type": "code",
   "execution_count": null,
   "metadata": {},
   "outputs": [],
   "source": [
    "parameters_dict = {\n",
    "    'learning_rate': {\n",
    "        'values': [0.1]\n",
    "    },\n",
    "    'n_estimators': {\n",
    "        'values': [100, 200, 300, 500]\n",
    "    },\n",
    "    'min_samples_split': {\n",
    "        'values': [4, 16, 32]\n",
    "    },\n",
    "    'min_samples_leaf': {\n",
    "        'values': [20]\n",
    "    },\n",
    "    'max_depth': {\n",
    "        'values': [3, 6]\n",
    "    },\n",
    "    'min_impurity_decrease': {\n",
    "        'values': [0.1, 0.2]\n",
    "    },\n",
    "    'min_weight_fraction_leaf': {\n",
    "        'values': [0.0]\n",
    "    },\n",
    "    'subsample': {\n",
    "        'values': [0.75, 0.5]\n",
    "    }\n",
    "}\n",
    "sweep_config['parameters'] = parameters_dict"
   ]
  },
  {
   "cell_type": "code",
   "execution_count": null,
   "metadata": {},
   "outputs": [],
   "source": [
    "TRAIN_DATA = BASELINE_W_FEAT_ENG_TRAIN\n",
    "VAL_DATA = BASELINE_W_FEAT_ENG_VAL"
   ]
  },
  {
   "cell_type": "code",
   "execution_count": null,
   "metadata": {},
   "outputs": [],
   "source": [
    "train_set = pd.read_csv(TRAIN_DATA)\n",
    "val_set = pd.read_csv(VAL_DATA)\n",
    "\n",
    "y_train = train_set[\"monthly_rent\"]\n",
    "X_train = train_set.drop(columns=['monthly_rent'])\n",
    "\n",
    "y_test = val_set['monthly_rent']\n",
    "X_test = val_set.drop(columns=['monthly_rent'])"
   ]
  },
  {
   "cell_type": "code",
   "execution_count": null,
   "metadata": {},
   "outputs": [],
   "source": [
    "def train():\n",
    "    with wandb.init():\n",
    "        config = wandb.config\n",
    "\n",
    "        regressor = GradientBoostingRegressor(\n",
    "            random_state=42,\n",
    "            learning_rate=config.learning_rate,\n",
    "            n_estimators=config.n_estimators,\n",
    "            max_depth=config.max_depth,\n",
    "            subsample=config.subsample,\n",
    "            min_samples_leaf=config.min_samples_leaf,\n",
    "            min_samples_split=config.min_samples_split,\n",
    "            min_impurity_decrease=config.min_impurity_decrease,\n",
    "            min_weight_fraction_leaf=config.min_weight_fraction_leaf)\n",
    "        regressor.fit(X_train, y_train)\n",
    "        score = regressor.score(X_test, y_test)\n",
    "        y_pred = regressor.predict(X_test)\n",
    "        mse = mean_squared_error(y_test, y_pred)\n",
    "\n",
    "    \n",
    "        # feat_importances = pd.Series(regressor.feature_importances_, index=X_train.columns)\n",
    "        # plt.barh(X_train.columns, feat_importances.nlargest(10))\n",
    "        # wandb.log({'feature_importances': plt})\n",
    "\n",
    "        # wandb.sklearn.plot_regressor(regressor, X_train, X_test, y_train, y_test, 'GradientBoost')\n",
    "        wandb.log(data={\"mse\": mse, \"coefficient_of_determination\": score})"
   ]
  },
  {
   "cell_type": "code",
   "execution_count": null,
   "metadata": {},
   "outputs": [],
   "source": [
    "sweep_id = wandb.sweep(sweep_config, project=\"hdb_rental_prices_feature_eng\")\n",
    "wandb.agent(sweep_id, train(X_train, y_train, X_test, y_test), count=20)"
   ]
  },
  {
   "cell_type": "markdown",
   "metadata": {},
   "source": [
    "### Model for the Price Per Square Metre Set"
   ]
  },
  {
   "cell_type": "code",
   "execution_count": 22,
   "metadata": {},
   "outputs": [
    {
     "name": "stderr",
     "output_type": "stream",
     "text": [
      "\u001b[34m\u001b[1mwandb\u001b[0m: \u001b[32m\u001b[41mERROR\u001b[0m Problem finishing run\n",
      "Exception in thread Thread-51 (_run_job):\n",
      "Traceback (most recent call last):\n",
      "  File \"/home/benhgm/miniconda3/envs/agents/lib/python3.10/site-packages/wandb/sdk/wandb_run.py\", line 2177, in _atexit_cleanup\n",
      "    self._on_finish()\n",
      "  File \"/home/benhgm/miniconda3/envs/agents/lib/python3.10/site-packages/wandb/sdk/wandb_run.py\", line 2412, in _on_finish\n",
      "    self._footer_exit_status_info(\n",
      "  File \"/home/benhgm/miniconda3/envs/agents/lib/python3.10/site-packages/wandb/sdk/wandb_run.py\", line 3352, in _footer_exit_status_info\n",
      "    printer.display(f'{\" \".join(info)}')\n",
      "  File \"/home/benhgm/miniconda3/envs/agents/lib/python3.10/site-packages/wandb/sdk/lib/printer.py\", line 68, in display\n",
      "    self._display(text, level=level, default_text=default_text)\n",
      "  File \"/home/benhgm/miniconda3/envs/agents/lib/python3.10/site-packages/wandb/sdk/lib/printer.py\", line 247, in _display\n",
      "    self._display_fn_mapping(level)(text)\n",
      "  File \"/home/benhgm/miniconda3/envs/agents/lib/python3.10/site-packages/wandb/sdk/lib/ipython.py\", line 81, in display_html\n",
      "    return display(HTML(html))\n",
      "  File \"/home/benhgm/miniconda3/envs/agents/lib/python3.10/site-packages/IPython/core/display_functions.py\", line 305, in display\n",
      "    publish_display_data(data=format_dict, metadata=md_dict, **kwargs)\n",
      "  File \"/home/benhgm/miniconda3/envs/agents/lib/python3.10/site-packages/IPython/core/display_functions.py\", line 93, in publish_display_data\n",
      "    display_pub.publish(\n",
      "  File \"/home/benhgm/miniconda3/envs/agents/lib/python3.10/site-packages/ipykernel/zmqshell.py\", line 102, in publish\n",
      "    self._flush_streams()\n",
      "  File \"/home/benhgm/miniconda3/envs/agents/lib/python3.10/site-packages/ipykernel/zmqshell.py\", line 65, in _flush_streams\n",
      "    sys.stdout.flush()\n",
      "  File \"/home/benhgm/miniconda3/envs/agents/lib/python3.10/site-packages/ipykernel/iostream.py\", line 575, in flush\n",
      "    self.pub_thread.schedule(self._flush)\n",
      "  File \"/home/benhgm/miniconda3/envs/agents/lib/python3.10/site-packages/ipykernel/iostream.py\", line 267, in schedule\n",
      "    self._event_pipe.send(b\"\")\n",
      "  File \"/home/benhgm/miniconda3/envs/agents/lib/python3.10/site-packages/zmq/sugar/socket.py\", line 696, in send\n",
      "    return super().send(data, flags=flags, copy=copy, track=track)\n",
      "  File \"zmq/backend/cython/socket.pyx\", line 742, in zmq.backend.cython.socket.Socket.send\n",
      "  File \"zmq/backend/cython/socket.pyx\", line 783, in zmq.backend.cython.socket.Socket.send\n",
      "  File \"zmq/backend/cython/socket.pyx\", line 138, in zmq.backend.cython.socket._check_closed\n",
      "zmq.error.ZMQError: Socket operation on non-socket\n",
      "\n",
      "During handling of the above exception, another exception occurred:\n",
      "\n",
      "Traceback (most recent call last):\n",
      "  File \"/home/benhgm/miniconda3/envs/agents/lib/python3.10/site-packages/wandb/agents/pyagent.py\", line 298, in _run_job\n",
      "    self._function()\n",
      "  File \"/tmp/ipykernel_700758/4285541666.py\", line 2, in train\n",
      "  File \"/home/benhgm/miniconda3/envs/agents/lib/python3.10/site-packages/wandb/sdk/wandb_run.py\", line 3120, in __exit__\n",
      "    self._finish(exit_code=exit_code)\n",
      "  File \"/home/benhgm/miniconda3/envs/agents/lib/python3.10/site-packages/wandb/sdk/wandb_run.py\", line 1940, in _finish\n",
      "    self._atexit_cleanup(exit_code=exit_code)\n",
      "  File \"/home/benhgm/miniconda3/envs/agents/lib/python3.10/site-packages/wandb/sdk/wandb_run.py\", line 2190, in _atexit_cleanup\n",
      "    wandb.termerror(\"Problem finishing run\")\n",
      "  File \"/home/benhgm/miniconda3/envs/agents/lib/python3.10/site-packages/wandb/errors/term.py\", line 61, in termerror\n",
      "    _log(\n",
      "  File \"/home/benhgm/miniconda3/envs/agents/lib/python3.10/site-packages/wandb/errors/term.py\", line 95, in _log\n",
      "    click.echo(line, file=sys.stderr, nl=newline)\n",
      "  File \"/home/benhgm/miniconda3/envs/agents/lib/python3.10/site-packages/click/utils.py\", line 318, in echo\n",
      "    file.write(out)  # type: ignore\n",
      "  File \"/home/benhgm/miniconda3/envs/agents/lib/python3.10/site-packages/ipykernel/iostream.py\", line 664, in write\n",
      "    self._schedule_flush()\n",
      "  File \"/home/benhgm/miniconda3/envs/agents/lib/python3.10/site-packages/ipykernel/iostream.py\", line 561, in _schedule_flush\n",
      "    self.pub_thread.schedule(_schedule_in_thread)\n",
      "  File \"/home/benhgm/miniconda3/envs/agents/lib/python3.10/site-packages/ipykernel/iostream.py\", line 267, in schedule\n",
      "    self._event_pipe.send(b\"\")\n",
      "  File \"/home/benhgm/miniconda3/envs/agents/lib/python3.10/site-packages/zmq/sugar/socket.py\", line 696, in send\n",
      "    return super().send(data, flags=flags, copy=copy, track=track)\n",
      "  File \"zmq/backend/cython/socket.pyx\", line 742, in zmq.backend.cython.socket.Socket.send\n",
      "  File \"zmq/backend/cython/socket.pyx\", line 783, in zmq.backend.cython.socket.Socket.send\n",
      "  File \"zmq/backend/cython/socket.pyx\", line 138, in zmq.backend.cython.socket._check_closed\n",
      "zmq.error.ZMQError: Socket operation on non-socket\n",
      "\n",
      "During handling of the above exception, another exception occurred:\n",
      "\n",
      "Traceback (most recent call last):\n",
      "  File \"/home/benhgm/miniconda3/envs/agents/lib/python3.10/threading.py\", line 1016, in _bootstrap_inner\n",
      "    self.run()\n",
      "  File \"/home/benhgm/miniconda3/envs/agents/lib/python3.10/threading.py\", line 953, in run\n",
      "    self._target(*self._args, **self._kwargs)\n",
      "  File \"/home/benhgm/miniconda3/envs/agents/lib/python3.10/site-packages/wandb/agents/pyagent.py\", line 303, in _run_job\n",
      "    wandb.finish(exit_code=1)\n",
      "  File \"/home/benhgm/miniconda3/envs/agents/lib/python3.10/site-packages/wandb/sdk/wandb_run.py\", line 3807, in finish\n",
      "    wandb.run.finish(exit_code=exit_code, quiet=quiet)\n",
      "  File \"/home/benhgm/miniconda3/envs/agents/lib/python3.10/site-packages/wandb/sdk/wandb_run.py\", line 419, in wrapper\n",
      "    return func(self, *args, **kwargs)\n",
      "  File \"/home/benhgm/miniconda3/envs/agents/lib/python3.10/site-packages/wandb/sdk/wandb_run.py\", line 360, in wrapper\n",
      "    return func(self, *args, **kwargs)\n",
      "  File \"/home/benhgm/miniconda3/envs/agents/lib/python3.10/site-packages/wandb/sdk/wandb_run.py\", line 1925, in finish\n",
      "    return self._finish(exit_code, quiet)\n",
      "  File \"/home/benhgm/miniconda3/envs/agents/lib/python3.10/site-packages/wandb/sdk/wandb_run.py\", line 1938, in _finish\n",
      "    hook.call()\n",
      "  File \"/home/benhgm/miniconda3/envs/agents/lib/python3.10/site-packages/wandb/sdk/wandb_init.py\", line 464, in _jupyter_teardown\n",
      "    ipython.display_pub.publish = ipython.display_pub._orig_publish\n",
      "AttributeError: 'ZMQDisplayPublisher' object has no attribute '_orig_publish'\n",
      "Exception in threading.excepthook:\n",
      "Exception ignored in thread started by: <bound method Thread._bootstrap of <Thread(Thread-51 (_run_job), stopped 140707205469760)>>\n",
      "Traceback (most recent call last):\n",
      "  File \"/home/benhgm/miniconda3/envs/agents/lib/python3.10/threading.py\", line 973, in _bootstrap\n",
      "    self._bootstrap_inner()\n",
      "  File \"/home/benhgm/miniconda3/envs/agents/lib/python3.10/threading.py\", line 1018, in _bootstrap_inner\n",
      "    self._invoke_excepthook(self)\n",
      "  File \"/home/benhgm/miniconda3/envs/agents/lib/python3.10/threading.py\", line 1336, in invoke_excepthook\n",
      "    local_print(\"Exception in threading.excepthook:\",\n",
      "  File \"/home/benhgm/miniconda3/envs/agents/lib/python3.10/site-packages/ipykernel/iostream.py\", line 575, in flush\n",
      "    self.pub_thread.schedule(self._flush)\n",
      "  File \"/home/benhgm/miniconda3/envs/agents/lib/python3.10/site-packages/ipykernel/iostream.py\", line 267, in schedule\n",
      "    self._event_pipe.send(b\"\")\n",
      "  File \"/home/benhgm/miniconda3/envs/agents/lib/python3.10/site-packages/zmq/sugar/socket.py\", line 696, in send\n",
      "    return super().send(data, flags=flags, copy=copy, track=track)\n",
      "  File \"zmq/backend/cython/socket.pyx\", line 742, in zmq.backend.cython.socket.Socket.send\n",
      "  File \"zmq/backend/cython/socket.pyx\", line 783, in zmq.backend.cython.socket.Socket.send\n",
      "  File \"zmq/backend/cython/socket.pyx\", line 138, in zmq.backend.cython.socket._check_closed\n",
      "zmq.error.ZMQError: Socket operation on non-socket\n",
      "Exception ignored in sys.unraisablehook: <built-in function unraisablehook>\n",
      "Traceback (most recent call last):\n",
      "  File \"/home/benhgm/miniconda3/envs/agents/lib/python3.10/site-packages/ipykernel/iostream.py\", line 575, in flush\n",
      "    self.pub_thread.schedule(self._flush)\n",
      "  File \"/home/benhgm/miniconda3/envs/agents/lib/python3.10/site-packages/ipykernel/iostream.py\", line 267, in schedule\n",
      "    self._event_pipe.send(b\"\")\n",
      "  File \"/home/benhgm/miniconda3/envs/agents/lib/python3.10/site-packages/zmq/sugar/socket.py\", line 696, in send\n",
      "    return super().send(data, flags=flags, copy=copy, track=track)\n",
      "  File \"zmq/backend/cython/socket.pyx\", line 742, in zmq.backend.cython.socket.Socket.send\n",
      "  File \"zmq/backend/cython/socket.pyx\", line 783, in zmq.backend.cython.socket.Socket.send\n",
      "  File \"zmq/backend/cython/socket.pyx\", line 138, in zmq.backend.cython.socket._check_closed\n",
      "zmq.error.ZMQError: Socket operation on non-socket\n"
     ]
    }
   ],
   "source": [
    "sweep_config = {\n",
    "    'method': 'bayes'\n",
    "}\n",
    "metric = {\n",
    "    'name': 'mse',\n",
    "    'goal': 'minimize'   \n",
    "    }\n",
    "\n",
    "sweep_config['metric'] = metric"
   ]
  },
  {
   "cell_type": "code",
   "execution_count": null,
   "metadata": {},
   "outputs": [],
   "source": [
    "parameters_dict = {\n",
    "    'learning_rate': {\n",
    "        'values': [0.1]\n",
    "    },\n",
    "    'n_estimators': {\n",
    "        'values': [100, 200, 300, 500]\n",
    "    },\n",
    "    'min_samples_split': {\n",
    "        'values': [4, 16, 32]\n",
    "    },\n",
    "    'min_samples_leaf': {\n",
    "        'values': [20]\n",
    "    },\n",
    "    'max_depth': {\n",
    "        'values': [3, 6]\n",
    "    },\n",
    "    'min_impurity_decrease': {\n",
    "        'values': [0.1, 0.2]\n",
    "    },\n",
    "    'min_weight_fraction_leaf': {\n",
    "        'values': [0.0]\n",
    "    },\n",
    "    'subsample': {\n",
    "        'values': [0.75, 0.5]\n",
    "    }\n",
    "}\n",
    "sweep_config['parameters'] = parameters_dict"
   ]
  },
  {
   "cell_type": "code",
   "execution_count": null,
   "metadata": {},
   "outputs": [],
   "source": [
    "TRAIN_DATA = PPSM_BASELINE_TRAIN\n",
    "VAL_DATA = PPSM_BASELINE_VAL"
   ]
  },
  {
   "cell_type": "code",
   "execution_count": null,
   "metadata": {},
   "outputs": [],
   "source": [
    "train_set = pd.read_csv(TRAIN_DATA)\n",
    "val_set = pd.read_csv(VAL_DATA)\n",
    "\n",
    "y_train = train_set[\"rent_per_sqm\"]\n",
    "X_train = train_set.drop(columns=['rent_per_sqm'])\n",
    "\n",
    "y_test = val_set['rent_per_sqm']\n",
    "X_test = val_set.drop(columns=['rent_per_sqm'])"
   ]
  },
  {
   "cell_type": "code",
   "execution_count": null,
   "metadata": {},
   "outputs": [],
   "source": [
    "def train():\n",
    "    with wandb.init():\n",
    "        config = wandb.config\n",
    "\n",
    "        regressor = GradientBoostingRegressor(\n",
    "            random_state=42,\n",
    "            learning_rate=config.learning_rate,\n",
    "            n_estimators=config.n_estimators,\n",
    "            max_depth=config.max_depth,\n",
    "            subsample=config.subsample,\n",
    "            min_samples_leaf=config.min_samples_leaf,\n",
    "            min_samples_split=config.min_samples_split,\n",
    "            min_impurity_decrease=config.min_impurity_decrease,\n",
    "            min_weight_fraction_leaf=config.min_weight_fraction_leaf)\n",
    "        regressor.fit(X_train, y_train)\n",
    "        score = regressor.score(X_test, y_test)\n",
    "        y_pred = regressor.predict(X_test)\n",
    "        mse = mean_squared_error(y_test, y_pred)\n",
    "\n",
    "    \n",
    "        # feat_importances = pd.Series(regressor.feature_importances_, index=X_train.columns)\n",
    "        # plt.barh(X_train.columns, feat_importances.nlargest(10))\n",
    "        # wandb.log({'feature_importances': plt})\n",
    "\n",
    "        # wandb.sklearn.plot_regressor(regressor, X_train, X_test, y_train, y_test, 'GradientBoost')\n",
    "        wandb.log(data={\"mse\": mse, \"coefficient_of_determination\": score})"
   ]
  },
  {
   "cell_type": "code",
   "execution_count": null,
   "metadata": {},
   "outputs": [],
   "source": [
    "sweep_id = wandb.sweep(sweep_config, project=\"hdb_rental_prices_ppsm_baseline\")\n",
    "wandb.agent(sweep_id, train, count=20)"
   ]
  },
  {
   "cell_type": "markdown",
   "metadata": {},
   "source": [
    "### Model for the Price Per Square Metre Set with Feature Engineering"
   ]
  },
  {
   "cell_type": "code",
   "execution_count": 4,
   "metadata": {},
   "outputs": [],
   "source": [
    "sweep_config = {\n",
    "    'method': 'bayes'\n",
    "}\n",
    "metric = {\n",
    "    'name': 'mse',\n",
    "    'goal': 'minimize'   \n",
    "    }\n",
    "\n",
    "sweep_config['metric'] = metric"
   ]
  },
  {
   "cell_type": "code",
   "execution_count": 5,
   "metadata": {},
   "outputs": [],
   "source": [
    "parameters_dict = {\n",
    "    'learning_rate': {\n",
    "        'values': [0.01, 0.1]\n",
    "    },\n",
    "    'n_estimators': {\n",
    "        'values': [100, 200, 300, 500]\n",
    "    },\n",
    "    'min_samples_split': {\n",
    "        'values': [4, 16, 32]\n",
    "    },\n",
    "    'min_samples_leaf': {\n",
    "        'values': [10, 20, 30]\n",
    "    },\n",
    "    'max_depth': {\n",
    "        'values': [3, 6, 9]\n",
    "    },\n",
    "    'min_impurity_decrease': {\n",
    "        'values': [0.1, 0.2]\n",
    "    },\n",
    "    'min_weight_fraction_leaf': {\n",
    "        'values': [0.0, 0.1]\n",
    "    },\n",
    "    'subsample': {\n",
    "        'values': [0.75, 0.5]\n",
    "    }\n",
    "}\n",
    "sweep_config['parameters'] = parameters_dict"
   ]
  },
  {
   "cell_type": "code",
   "execution_count": 6,
   "metadata": {},
   "outputs": [],
   "source": [
    "TRAIN_DATA = PPSM_FEAT_ENG_TRAIN\n",
    "VAL_DATA = PPSM_FEAT_ENG_VAL"
   ]
  },
  {
   "cell_type": "code",
   "execution_count": 7,
   "metadata": {},
   "outputs": [],
   "source": [
    "train_set = pd.read_csv(TRAIN_DATA)\n",
    "val_set = pd.read_csv(VAL_DATA)\n",
    "\n",
    "y_train = train_set[\"rent_per_sqm\"]\n",
    "X_train = train_set.drop(columns=['rent_per_sqm'])\n",
    "\n",
    "y_test = val_set['rent_per_sqm']\n",
    "X_test = val_set.drop(columns=['rent_per_sqm'])"
   ]
  },
  {
   "cell_type": "code",
   "execution_count": 8,
   "metadata": {},
   "outputs": [],
   "source": [
    "def train():\n",
    "    with wandb.init():\n",
    "        config = wandb.config\n",
    "\n",
    "        regressor = GradientBoostingRegressor(\n",
    "            random_state=42,\n",
    "            learning_rate=config.learning_rate,\n",
    "            n_estimators=config.n_estimators,\n",
    "            max_depth=config.max_depth,\n",
    "            subsample=config.subsample,\n",
    "            min_samples_leaf=config.min_samples_leaf,\n",
    "            min_samples_split=config.min_samples_split,\n",
    "            min_impurity_decrease=config.min_impurity_decrease,\n",
    "            min_weight_fraction_leaf=config.min_weight_fraction_leaf)\n",
    "        regressor.fit(X_train, y_train)\n",
    "        score = regressor.score(X_test, y_test)\n",
    "        y_pred = regressor.predict(X_test)\n",
    "        mse = mean_squared_error(y_test, y_pred)\n",
    "\n",
    "    \n",
    "        # feat_importances = pd.Series(regressor.feature_importances_, index=X_train.columns)\n",
    "        # plt.barh(X_train.columns, feat_importances.nlargest(10))\n",
    "        # wandb.log({'feature_importances': plt})\n",
    "\n",
    "        # wandb.sklearn.plot_regressor(regressor, X_train, X_test, y_train, y_test, 'GradientBoost')\n",
    "        wandb.log(data={\"mse\": mse, \"coefficient_of_determination\": score})"
   ]
  },
  {
   "cell_type": "code",
   "execution_count": null,
   "metadata": {},
   "outputs": [
    {
     "name": "stdout",
     "output_type": "stream",
     "text": [
      "Create sweep with ID: 221messt\n",
      "Sweep URL: https://wandb.ai/minjabenho/hdb_rental_prices_ppsm_feat_eng/sweeps/221messt\n"
     ]
    },
    {
     "name": "stderr",
     "output_type": "stream",
     "text": [
      "\u001b[34m\u001b[1mwandb\u001b[0m: Agent Starting Run: 2s5o6nsq with config:\n",
      "\u001b[34m\u001b[1mwandb\u001b[0m: \tlearning_rate: 0.1\n",
      "\u001b[34m\u001b[1mwandb\u001b[0m: \tmax_depth: 3\n",
      "\u001b[34m\u001b[1mwandb\u001b[0m: \tmin_impurity_decrease: 0.1\n",
      "\u001b[34m\u001b[1mwandb\u001b[0m: \tmin_samples_leaf: 30\n",
      "\u001b[34m\u001b[1mwandb\u001b[0m: \tmin_samples_split: 4\n",
      "\u001b[34m\u001b[1mwandb\u001b[0m: \tmin_weight_fraction_leaf: 0\n",
      "\u001b[34m\u001b[1mwandb\u001b[0m: \tn_estimators: 300\n",
      "\u001b[34m\u001b[1mwandb\u001b[0m: \tsubsample: 0.5\n",
      "Failed to detect the name of this notebook, you can set it manually with the WANDB_NOTEBOOK_NAME environment variable to enable code saving.\n"
     ]
    },
    {
     "data": {
      "text/html": [
       "wandb version 0.15.12 is available!  To upgrade, please run:\n",
       " $ pip install wandb --upgrade"
      ],
      "text/plain": [
       "<IPython.core.display.HTML object>"
      ]
     },
     "metadata": {},
     "output_type": "display_data"
    },
    {
     "data": {
      "text/html": [
       "Tracking run with wandb version 0.15.11"
      ],
      "text/plain": [
       "<IPython.core.display.HTML object>"
      ]
     },
     "metadata": {},
     "output_type": "display_data"
    },
    {
     "data": {
      "text/html": [
       "Run data is saved locally in <code>/home/benhgm/workspace/cs5228_flat_rental/wandb/run-20231016_144933-2s5o6nsq</code>"
      ],
      "text/plain": [
       "<IPython.core.display.HTML object>"
      ]
     },
     "metadata": {},
     "output_type": "display_data"
    },
    {
     "data": {
      "text/html": [
       "Syncing run <strong><a href='https://wandb.ai/minjabenho/hdb_rental_prices_ppsm_feat_eng/runs/2s5o6nsq' target=\"_blank\">vague-sweep-1</a></strong> to <a href='https://wandb.ai/minjabenho/hdb_rental_prices_ppsm_feat_eng' target=\"_blank\">Weights & Biases</a> (<a href='https://wandb.me/run' target=\"_blank\">docs</a>)<br/>Sweep page: <a href='https://wandb.ai/minjabenho/hdb_rental_prices_ppsm_feat_eng/sweeps/221messt' target=\"_blank\">https://wandb.ai/minjabenho/hdb_rental_prices_ppsm_feat_eng/sweeps/221messt</a>"
      ],
      "text/plain": [
       "<IPython.core.display.HTML object>"
      ]
     },
     "metadata": {},
     "output_type": "display_data"
    },
    {
     "data": {
      "text/html": [
       " View project at <a href='https://wandb.ai/minjabenho/hdb_rental_prices_ppsm_feat_eng' target=\"_blank\">https://wandb.ai/minjabenho/hdb_rental_prices_ppsm_feat_eng</a>"
      ],
      "text/plain": [
       "<IPython.core.display.HTML object>"
      ]
     },
     "metadata": {},
     "output_type": "display_data"
    },
    {
     "data": {
      "text/html": [
       " View sweep at <a href='https://wandb.ai/minjabenho/hdb_rental_prices_ppsm_feat_eng/sweeps/221messt' target=\"_blank\">https://wandb.ai/minjabenho/hdb_rental_prices_ppsm_feat_eng/sweeps/221messt</a>"
      ],
      "text/plain": [
       "<IPython.core.display.HTML object>"
      ]
     },
     "metadata": {},
     "output_type": "display_data"
    },
    {
     "data": {
      "text/html": [
       " View run at <a href='https://wandb.ai/minjabenho/hdb_rental_prices_ppsm_feat_eng/runs/2s5o6nsq' target=\"_blank\">https://wandb.ai/minjabenho/hdb_rental_prices_ppsm_feat_eng/runs/2s5o6nsq</a>"
      ],
      "text/plain": [
       "<IPython.core.display.HTML object>"
      ]
     },
     "metadata": {},
     "output_type": "display_data"
    },
    {
     "data": {
      "text/html": [
       "Waiting for W&B process to finish... <strong style=\"color:green\">(success).</strong>"
      ],
      "text/plain": [
       "<IPython.core.display.HTML object>"
      ]
     },
     "metadata": {},
     "output_type": "display_data"
    },
    {
     "data": {
      "text/html": [
       "<style>\n",
       "    table.wandb td:nth-child(1) { padding: 0 10px; text-align: left ; width: auto;} td:nth-child(2) {text-align: left ; width: 100%}\n",
       "    .wandb-row { display: flex; flex-direction: row; flex-wrap: wrap; justify-content: flex-start; width: 100% }\n",
       "    .wandb-col { display: flex; flex-direction: column; flex-basis: 100%; flex: 1; padding: 10px; }\n",
       "    </style>\n",
       "<div class=\"wandb-row\"><div class=\"wandb-col\"><h3>Run history:</h3><br/><table class=\"wandb\"><tr><td>coefficient_of_determination</td><td>▁</td></tr><tr><td>mse</td><td>▁</td></tr></table><br/></div><div class=\"wandb-col\"><h3>Run summary:</h3><br/><table class=\"wandb\"><tr><td>coefficient_of_determination</td><td>0.60061</td></tr><tr><td>mse</td><td>31.94579</td></tr></table><br/></div></div>"
      ],
      "text/plain": [
       "<IPython.core.display.HTML object>"
      ]
     },
     "metadata": {},
     "output_type": "display_data"
    },
    {
     "data": {
      "text/html": [
       " View run <strong style=\"color:#cdcd00\">vague-sweep-1</strong> at: <a href='https://wandb.ai/minjabenho/hdb_rental_prices_ppsm_feat_eng/runs/2s5o6nsq' target=\"_blank\">https://wandb.ai/minjabenho/hdb_rental_prices_ppsm_feat_eng/runs/2s5o6nsq</a><br/>Synced 5 W&B file(s), 0 media file(s), 0 artifact file(s) and 0 other file(s)"
      ],
      "text/plain": [
       "<IPython.core.display.HTML object>"
      ]
     },
     "metadata": {},
     "output_type": "display_data"
    },
    {
     "data": {
      "text/html": [
       "Find logs at: <code>./wandb/run-20231016_144933-2s5o6nsq/logs</code>"
      ],
      "text/plain": [
       "<IPython.core.display.HTML object>"
      ]
     },
     "metadata": {},
     "output_type": "display_data"
    },
    {
     "name": "stderr",
     "output_type": "stream",
     "text": [
      "\u001b[34m\u001b[1mwandb\u001b[0m: Agent Starting Run: kcuu803a with config:\n",
      "\u001b[34m\u001b[1mwandb\u001b[0m: \tlearning_rate: 0.1\n",
      "\u001b[34m\u001b[1mwandb\u001b[0m: \tmax_depth: 3\n",
      "\u001b[34m\u001b[1mwandb\u001b[0m: \tmin_impurity_decrease: 0.1\n",
      "\u001b[34m\u001b[1mwandb\u001b[0m: \tmin_samples_leaf: 30\n",
      "\u001b[34m\u001b[1mwandb\u001b[0m: \tmin_samples_split: 16\n",
      "\u001b[34m\u001b[1mwandb\u001b[0m: \tmin_weight_fraction_leaf: 0\n",
      "\u001b[34m\u001b[1mwandb\u001b[0m: \tn_estimators: 300\n",
      "\u001b[34m\u001b[1mwandb\u001b[0m: \tsubsample: 0.5\n",
      "Failed to detect the name of this notebook, you can set it manually with the WANDB_NOTEBOOK_NAME environment variable to enable code saving.\n"
     ]
    },
    {
     "data": {
      "text/html": [
       "wandb version 0.15.12 is available!  To upgrade, please run:\n",
       " $ pip install wandb --upgrade"
      ],
      "text/plain": [
       "<IPython.core.display.HTML object>"
      ]
     },
     "metadata": {},
     "output_type": "display_data"
    },
    {
     "data": {
      "text/html": [
       "Tracking run with wandb version 0.15.11"
      ],
      "text/plain": [
       "<IPython.core.display.HTML object>"
      ]
     },
     "metadata": {},
     "output_type": "display_data"
    },
    {
     "data": {
      "text/html": [
       "Run data is saved locally in <code>/home/benhgm/workspace/cs5228_flat_rental/wandb/run-20231016_145016-kcuu803a</code>"
      ],
      "text/plain": [
       "<IPython.core.display.HTML object>"
      ]
     },
     "metadata": {},
     "output_type": "display_data"
    },
    {
     "data": {
      "text/html": [
       "Syncing run <strong><a href='https://wandb.ai/minjabenho/hdb_rental_prices_ppsm_feat_eng/runs/kcuu803a' target=\"_blank\">floral-sweep-2</a></strong> to <a href='https://wandb.ai/minjabenho/hdb_rental_prices_ppsm_feat_eng' target=\"_blank\">Weights & Biases</a> (<a href='https://wandb.me/run' target=\"_blank\">docs</a>)<br/>Sweep page: <a href='https://wandb.ai/minjabenho/hdb_rental_prices_ppsm_feat_eng/sweeps/221messt' target=\"_blank\">https://wandb.ai/minjabenho/hdb_rental_prices_ppsm_feat_eng/sweeps/221messt</a>"
      ],
      "text/plain": [
       "<IPython.core.display.HTML object>"
      ]
     },
     "metadata": {},
     "output_type": "display_data"
    },
    {
     "data": {
      "text/html": [
       " View project at <a href='https://wandb.ai/minjabenho/hdb_rental_prices_ppsm_feat_eng' target=\"_blank\">https://wandb.ai/minjabenho/hdb_rental_prices_ppsm_feat_eng</a>"
      ],
      "text/plain": [
       "<IPython.core.display.HTML object>"
      ]
     },
     "metadata": {},
     "output_type": "display_data"
    },
    {
     "data": {
      "text/html": [
       " View sweep at <a href='https://wandb.ai/minjabenho/hdb_rental_prices_ppsm_feat_eng/sweeps/221messt' target=\"_blank\">https://wandb.ai/minjabenho/hdb_rental_prices_ppsm_feat_eng/sweeps/221messt</a>"
      ],
      "text/plain": [
       "<IPython.core.display.HTML object>"
      ]
     },
     "metadata": {},
     "output_type": "display_data"
    },
    {
     "data": {
      "text/html": [
       " View run at <a href='https://wandb.ai/minjabenho/hdb_rental_prices_ppsm_feat_eng/runs/kcuu803a' target=\"_blank\">https://wandb.ai/minjabenho/hdb_rental_prices_ppsm_feat_eng/runs/kcuu803a</a>"
      ],
      "text/plain": [
       "<IPython.core.display.HTML object>"
      ]
     },
     "metadata": {},
     "output_type": "display_data"
    },
    {
     "data": {
      "text/html": [
       "Waiting for W&B process to finish... <strong style=\"color:green\">(success).</strong>"
      ],
      "text/plain": [
       "<IPython.core.display.HTML object>"
      ]
     },
     "metadata": {},
     "output_type": "display_data"
    },
    {
     "data": {
      "text/html": [
       "<style>\n",
       "    table.wandb td:nth-child(1) { padding: 0 10px; text-align: left ; width: auto;} td:nth-child(2) {text-align: left ; width: 100%}\n",
       "    .wandb-row { display: flex; flex-direction: row; flex-wrap: wrap; justify-content: flex-start; width: 100% }\n",
       "    .wandb-col { display: flex; flex-direction: column; flex-basis: 100%; flex: 1; padding: 10px; }\n",
       "    </style>\n",
       "<div class=\"wandb-row\"><div class=\"wandb-col\"><h3>Run history:</h3><br/><table class=\"wandb\"><tr><td>coefficient_of_determination</td><td>▁</td></tr><tr><td>mse</td><td>▁</td></tr></table><br/></div><div class=\"wandb-col\"><h3>Run summary:</h3><br/><table class=\"wandb\"><tr><td>coefficient_of_determination</td><td>0.60061</td></tr><tr><td>mse</td><td>31.94579</td></tr></table><br/></div></div>"
      ],
      "text/plain": [
       "<IPython.core.display.HTML object>"
      ]
     },
     "metadata": {},
     "output_type": "display_data"
    },
    {
     "data": {
      "text/html": [
       " View run <strong style=\"color:#cdcd00\">floral-sweep-2</strong> at: <a href='https://wandb.ai/minjabenho/hdb_rental_prices_ppsm_feat_eng/runs/kcuu803a' target=\"_blank\">https://wandb.ai/minjabenho/hdb_rental_prices_ppsm_feat_eng/runs/kcuu803a</a><br/>Synced 5 W&B file(s), 0 media file(s), 0 artifact file(s) and 0 other file(s)"
      ],
      "text/plain": [
       "<IPython.core.display.HTML object>"
      ]
     },
     "metadata": {},
     "output_type": "display_data"
    },
    {
     "data": {
      "text/html": [
       "Find logs at: <code>./wandb/run-20231016_145016-kcuu803a/logs</code>"
      ],
      "text/plain": [
       "<IPython.core.display.HTML object>"
      ]
     },
     "metadata": {},
     "output_type": "display_data"
    },
    {
     "name": "stderr",
     "output_type": "stream",
     "text": [
      "\u001b[34m\u001b[1mwandb\u001b[0m: Sweep Agent: Waiting for job.\n",
      "\u001b[34m\u001b[1mwandb\u001b[0m: Job received.\n",
      "\u001b[34m\u001b[1mwandb\u001b[0m: Agent Starting Run: cs80j41p with config:\n",
      "\u001b[34m\u001b[1mwandb\u001b[0m: \tlearning_rate: 0.01\n",
      "\u001b[34m\u001b[1mwandb\u001b[0m: \tmax_depth: 3\n",
      "\u001b[34m\u001b[1mwandb\u001b[0m: \tmin_impurity_decrease: 0.1\n",
      "\u001b[34m\u001b[1mwandb\u001b[0m: \tmin_samples_leaf: 20\n",
      "\u001b[34m\u001b[1mwandb\u001b[0m: \tmin_samples_split: 32\n",
      "\u001b[34m\u001b[1mwandb\u001b[0m: \tmin_weight_fraction_leaf: 0.1\n",
      "\u001b[34m\u001b[1mwandb\u001b[0m: \tn_estimators: 300\n",
      "\u001b[34m\u001b[1mwandb\u001b[0m: \tsubsample: 0.5\n",
      "Failed to detect the name of this notebook, you can set it manually with the WANDB_NOTEBOOK_NAME environment variable to enable code saving.\n"
     ]
    },
    {
     "data": {
      "text/html": [
       "wandb version 0.15.12 is available!  To upgrade, please run:\n",
       " $ pip install wandb --upgrade"
      ],
      "text/plain": [
       "<IPython.core.display.HTML object>"
      ]
     },
     "metadata": {},
     "output_type": "display_data"
    },
    {
     "data": {
      "text/html": [
       "Tracking run with wandb version 0.15.11"
      ],
      "text/plain": [
       "<IPython.core.display.HTML object>"
      ]
     },
     "metadata": {},
     "output_type": "display_data"
    },
    {
     "data": {
      "text/html": [
       "Run data is saved locally in <code>/home/benhgm/workspace/cs5228_flat_rental/wandb/run-20231016_145109-cs80j41p</code>"
      ],
      "text/plain": [
       "<IPython.core.display.HTML object>"
      ]
     },
     "metadata": {},
     "output_type": "display_data"
    },
    {
     "data": {
      "text/html": [
       "Syncing run <strong><a href='https://wandb.ai/minjabenho/hdb_rental_prices_ppsm_feat_eng/runs/cs80j41p' target=\"_blank\">wild-sweep-3</a></strong> to <a href='https://wandb.ai/minjabenho/hdb_rental_prices_ppsm_feat_eng' target=\"_blank\">Weights & Biases</a> (<a href='https://wandb.me/run' target=\"_blank\">docs</a>)<br/>Sweep page: <a href='https://wandb.ai/minjabenho/hdb_rental_prices_ppsm_feat_eng/sweeps/221messt' target=\"_blank\">https://wandb.ai/minjabenho/hdb_rental_prices_ppsm_feat_eng/sweeps/221messt</a>"
      ],
      "text/plain": [
       "<IPython.core.display.HTML object>"
      ]
     },
     "metadata": {},
     "output_type": "display_data"
    },
    {
     "data": {
      "text/html": [
       " View project at <a href='https://wandb.ai/minjabenho/hdb_rental_prices_ppsm_feat_eng' target=\"_blank\">https://wandb.ai/minjabenho/hdb_rental_prices_ppsm_feat_eng</a>"
      ],
      "text/plain": [
       "<IPython.core.display.HTML object>"
      ]
     },
     "metadata": {},
     "output_type": "display_data"
    },
    {
     "data": {
      "text/html": [
       " View sweep at <a href='https://wandb.ai/minjabenho/hdb_rental_prices_ppsm_feat_eng/sweeps/221messt' target=\"_blank\">https://wandb.ai/minjabenho/hdb_rental_prices_ppsm_feat_eng/sweeps/221messt</a>"
      ],
      "text/plain": [
       "<IPython.core.display.HTML object>"
      ]
     },
     "metadata": {},
     "output_type": "display_data"
    },
    {
     "data": {
      "text/html": [
       " View run at <a href='https://wandb.ai/minjabenho/hdb_rental_prices_ppsm_feat_eng/runs/cs80j41p' target=\"_blank\">https://wandb.ai/minjabenho/hdb_rental_prices_ppsm_feat_eng/runs/cs80j41p</a>"
      ],
      "text/plain": [
       "<IPython.core.display.HTML object>"
      ]
     },
     "metadata": {},
     "output_type": "display_data"
    },
    {
     "data": {
      "text/html": [
       "Waiting for W&B process to finish... <strong style=\"color:green\">(success).</strong>"
      ],
      "text/plain": [
       "<IPython.core.display.HTML object>"
      ]
     },
     "metadata": {},
     "output_type": "display_data"
    },
    {
     "data": {
      "text/html": [
       "<style>\n",
       "    table.wandb td:nth-child(1) { padding: 0 10px; text-align: left ; width: auto;} td:nth-child(2) {text-align: left ; width: 100%}\n",
       "    .wandb-row { display: flex; flex-direction: row; flex-wrap: wrap; justify-content: flex-start; width: 100% }\n",
       "    .wandb-col { display: flex; flex-direction: column; flex-basis: 100%; flex: 1; padding: 10px; }\n",
       "    </style>\n",
       "<div class=\"wandb-row\"><div class=\"wandb-col\"><h3>Run history:</h3><br/><table class=\"wandb\"><tr><td>coefficient_of_determination</td><td>▁</td></tr><tr><td>mse</td><td>▁</td></tr></table><br/></div><div class=\"wandb-col\"><h3>Run summary:</h3><br/><table class=\"wandb\"><tr><td>coefficient_of_determination</td><td>0.52354</td></tr><tr><td>mse</td><td>38.10974</td></tr></table><br/></div></div>"
      ],
      "text/plain": [
       "<IPython.core.display.HTML object>"
      ]
     },
     "metadata": {},
     "output_type": "display_data"
    },
    {
     "data": {
      "text/html": [
       " View run <strong style=\"color:#cdcd00\">wild-sweep-3</strong> at: <a href='https://wandb.ai/minjabenho/hdb_rental_prices_ppsm_feat_eng/runs/cs80j41p' target=\"_blank\">https://wandb.ai/minjabenho/hdb_rental_prices_ppsm_feat_eng/runs/cs80j41p</a><br/>Synced 5 W&B file(s), 0 media file(s), 0 artifact file(s) and 0 other file(s)"
      ],
      "text/plain": [
       "<IPython.core.display.HTML object>"
      ]
     },
     "metadata": {},
     "output_type": "display_data"
    },
    {
     "data": {
      "text/html": [
       "Find logs at: <code>./wandb/run-20231016_145109-cs80j41p/logs</code>"
      ],
      "text/plain": [
       "<IPython.core.display.HTML object>"
      ]
     },
     "metadata": {},
     "output_type": "display_data"
    },
    {
     "name": "stderr",
     "output_type": "stream",
     "text": [
      "\u001b[34m\u001b[1mwandb\u001b[0m: Agent Starting Run: p9pfxg37 with config:\n",
      "\u001b[34m\u001b[1mwandb\u001b[0m: \tlearning_rate: 0.1\n",
      "\u001b[34m\u001b[1mwandb\u001b[0m: \tmax_depth: 3\n",
      "\u001b[34m\u001b[1mwandb\u001b[0m: \tmin_impurity_decrease: 0.1\n",
      "\u001b[34m\u001b[1mwandb\u001b[0m: \tmin_samples_leaf: 30\n",
      "\u001b[34m\u001b[1mwandb\u001b[0m: \tmin_samples_split: 4\n",
      "\u001b[34m\u001b[1mwandb\u001b[0m: \tmin_weight_fraction_leaf: 0\n",
      "\u001b[34m\u001b[1mwandb\u001b[0m: \tn_estimators: 300\n",
      "\u001b[34m\u001b[1mwandb\u001b[0m: \tsubsample: 0.5\n",
      "Failed to detect the name of this notebook, you can set it manually with the WANDB_NOTEBOOK_NAME environment variable to enable code saving.\n"
     ]
    },
    {
     "data": {
      "text/html": [
       "wandb version 0.15.12 is available!  To upgrade, please run:\n",
       " $ pip install wandb --upgrade"
      ],
      "text/plain": [
       "<IPython.core.display.HTML object>"
      ]
     },
     "metadata": {},
     "output_type": "display_data"
    },
    {
     "data": {
      "text/html": [
       "Tracking run with wandb version 0.15.11"
      ],
      "text/plain": [
       "<IPython.core.display.HTML object>"
      ]
     },
     "metadata": {},
     "output_type": "display_data"
    },
    {
     "data": {
      "text/html": [
       "Run data is saved locally in <code>/home/benhgm/workspace/cs5228_flat_rental/wandb/run-20231016_145152-p9pfxg37</code>"
      ],
      "text/plain": [
       "<IPython.core.display.HTML object>"
      ]
     },
     "metadata": {},
     "output_type": "display_data"
    },
    {
     "data": {
      "text/html": [
       "Syncing run <strong><a href='https://wandb.ai/minjabenho/hdb_rental_prices_ppsm_feat_eng/runs/p9pfxg37' target=\"_blank\">flowing-sweep-4</a></strong> to <a href='https://wandb.ai/minjabenho/hdb_rental_prices_ppsm_feat_eng' target=\"_blank\">Weights & Biases</a> (<a href='https://wandb.me/run' target=\"_blank\">docs</a>)<br/>Sweep page: <a href='https://wandb.ai/minjabenho/hdb_rental_prices_ppsm_feat_eng/sweeps/221messt' target=\"_blank\">https://wandb.ai/minjabenho/hdb_rental_prices_ppsm_feat_eng/sweeps/221messt</a>"
      ],
      "text/plain": [
       "<IPython.core.display.HTML object>"
      ]
     },
     "metadata": {},
     "output_type": "display_data"
    },
    {
     "data": {
      "text/html": [
       " View project at <a href='https://wandb.ai/minjabenho/hdb_rental_prices_ppsm_feat_eng' target=\"_blank\">https://wandb.ai/minjabenho/hdb_rental_prices_ppsm_feat_eng</a>"
      ],
      "text/plain": [
       "<IPython.core.display.HTML object>"
      ]
     },
     "metadata": {},
     "output_type": "display_data"
    },
    {
     "data": {
      "text/html": [
       " View sweep at <a href='https://wandb.ai/minjabenho/hdb_rental_prices_ppsm_feat_eng/sweeps/221messt' target=\"_blank\">https://wandb.ai/minjabenho/hdb_rental_prices_ppsm_feat_eng/sweeps/221messt</a>"
      ],
      "text/plain": [
       "<IPython.core.display.HTML object>"
      ]
     },
     "metadata": {},
     "output_type": "display_data"
    },
    {
     "data": {
      "text/html": [
       " View run at <a href='https://wandb.ai/minjabenho/hdb_rental_prices_ppsm_feat_eng/runs/p9pfxg37' target=\"_blank\">https://wandb.ai/minjabenho/hdb_rental_prices_ppsm_feat_eng/runs/p9pfxg37</a>"
      ],
      "text/plain": [
       "<IPython.core.display.HTML object>"
      ]
     },
     "metadata": {},
     "output_type": "display_data"
    },
    {
     "data": {
      "text/html": [
       "Waiting for W&B process to finish... <strong style=\"color:green\">(success).</strong>"
      ],
      "text/plain": [
       "<IPython.core.display.HTML object>"
      ]
     },
     "metadata": {},
     "output_type": "display_data"
    },
    {
     "data": {
      "text/html": [
       "<style>\n",
       "    table.wandb td:nth-child(1) { padding: 0 10px; text-align: left ; width: auto;} td:nth-child(2) {text-align: left ; width: 100%}\n",
       "    .wandb-row { display: flex; flex-direction: row; flex-wrap: wrap; justify-content: flex-start; width: 100% }\n",
       "    .wandb-col { display: flex; flex-direction: column; flex-basis: 100%; flex: 1; padding: 10px; }\n",
       "    </style>\n",
       "<div class=\"wandb-row\"><div class=\"wandb-col\"><h3>Run history:</h3><br/><table class=\"wandb\"><tr><td>coefficient_of_determination</td><td>▁</td></tr><tr><td>mse</td><td>▁</td></tr></table><br/></div><div class=\"wandb-col\"><h3>Run summary:</h3><br/><table class=\"wandb\"><tr><td>coefficient_of_determination</td><td>0.60061</td></tr><tr><td>mse</td><td>31.94579</td></tr></table><br/></div></div>"
      ],
      "text/plain": [
       "<IPython.core.display.HTML object>"
      ]
     },
     "metadata": {},
     "output_type": "display_data"
    },
    {
     "data": {
      "text/html": [
       " View run <strong style=\"color:#cdcd00\">flowing-sweep-4</strong> at: <a href='https://wandb.ai/minjabenho/hdb_rental_prices_ppsm_feat_eng/runs/p9pfxg37' target=\"_blank\">https://wandb.ai/minjabenho/hdb_rental_prices_ppsm_feat_eng/runs/p9pfxg37</a><br/>Synced 5 W&B file(s), 0 media file(s), 0 artifact file(s) and 0 other file(s)"
      ],
      "text/plain": [
       "<IPython.core.display.HTML object>"
      ]
     },
     "metadata": {},
     "output_type": "display_data"
    },
    {
     "data": {
      "text/html": [
       "Find logs at: <code>./wandb/run-20231016_145152-p9pfxg37/logs</code>"
      ],
      "text/plain": [
       "<IPython.core.display.HTML object>"
      ]
     },
     "metadata": {},
     "output_type": "display_data"
    },
    {
     "name": "stderr",
     "output_type": "stream",
     "text": [
      "\u001b[34m\u001b[1mwandb\u001b[0m: Sweep Agent: Waiting for job.\n",
      "\u001b[34m\u001b[1mwandb\u001b[0m: Job received.\n",
      "\u001b[34m\u001b[1mwandb\u001b[0m: Agent Starting Run: rzu4mton with config:\n",
      "\u001b[34m\u001b[1mwandb\u001b[0m: \tlearning_rate: 0.1\n",
      "\u001b[34m\u001b[1mwandb\u001b[0m: \tmax_depth: 6\n",
      "\u001b[34m\u001b[1mwandb\u001b[0m: \tmin_impurity_decrease: 0.2\n",
      "\u001b[34m\u001b[1mwandb\u001b[0m: \tmin_samples_leaf: 30\n",
      "\u001b[34m\u001b[1mwandb\u001b[0m: \tmin_samples_split: 16\n",
      "\u001b[34m\u001b[1mwandb\u001b[0m: \tmin_weight_fraction_leaf: 0\n",
      "\u001b[34m\u001b[1mwandb\u001b[0m: \tn_estimators: 300\n",
      "\u001b[34m\u001b[1mwandb\u001b[0m: \tsubsample: 0.5\n",
      "Failed to detect the name of this notebook, you can set it manually with the WANDB_NOTEBOOK_NAME environment variable to enable code saving.\n"
     ]
    },
    {
     "data": {
      "text/html": [
       "wandb version 0.15.12 is available!  To upgrade, please run:\n",
       " $ pip install wandb --upgrade"
      ],
      "text/plain": [
       "<IPython.core.display.HTML object>"
      ]
     },
     "metadata": {},
     "output_type": "display_data"
    },
    {
     "data": {
      "text/html": [
       "Tracking run with wandb version 0.15.11"
      ],
      "text/plain": [
       "<IPython.core.display.HTML object>"
      ]
     },
     "metadata": {},
     "output_type": "display_data"
    },
    {
     "data": {
      "text/html": [
       "Run data is saved locally in <code>/home/benhgm/workspace/cs5228_flat_rental/wandb/run-20231016_145244-rzu4mton</code>"
      ],
      "text/plain": [
       "<IPython.core.display.HTML object>"
      ]
     },
     "metadata": {},
     "output_type": "display_data"
    },
    {
     "data": {
      "text/html": [
       "Syncing run <strong><a href='https://wandb.ai/minjabenho/hdb_rental_prices_ppsm_feat_eng/runs/rzu4mton' target=\"_blank\">driven-sweep-5</a></strong> to <a href='https://wandb.ai/minjabenho/hdb_rental_prices_ppsm_feat_eng' target=\"_blank\">Weights & Biases</a> (<a href='https://wandb.me/run' target=\"_blank\">docs</a>)<br/>Sweep page: <a href='https://wandb.ai/minjabenho/hdb_rental_prices_ppsm_feat_eng/sweeps/221messt' target=\"_blank\">https://wandb.ai/minjabenho/hdb_rental_prices_ppsm_feat_eng/sweeps/221messt</a>"
      ],
      "text/plain": [
       "<IPython.core.display.HTML object>"
      ]
     },
     "metadata": {},
     "output_type": "display_data"
    },
    {
     "data": {
      "text/html": [
       " View project at <a href='https://wandb.ai/minjabenho/hdb_rental_prices_ppsm_feat_eng' target=\"_blank\">https://wandb.ai/minjabenho/hdb_rental_prices_ppsm_feat_eng</a>"
      ],
      "text/plain": [
       "<IPython.core.display.HTML object>"
      ]
     },
     "metadata": {},
     "output_type": "display_data"
    },
    {
     "data": {
      "text/html": [
       " View sweep at <a href='https://wandb.ai/minjabenho/hdb_rental_prices_ppsm_feat_eng/sweeps/221messt' target=\"_blank\">https://wandb.ai/minjabenho/hdb_rental_prices_ppsm_feat_eng/sweeps/221messt</a>"
      ],
      "text/plain": [
       "<IPython.core.display.HTML object>"
      ]
     },
     "metadata": {},
     "output_type": "display_data"
    },
    {
     "data": {
      "text/html": [
       " View run at <a href='https://wandb.ai/minjabenho/hdb_rental_prices_ppsm_feat_eng/runs/rzu4mton' target=\"_blank\">https://wandb.ai/minjabenho/hdb_rental_prices_ppsm_feat_eng/runs/rzu4mton</a>"
      ],
      "text/plain": [
       "<IPython.core.display.HTML object>"
      ]
     },
     "metadata": {},
     "output_type": "display_data"
    },
    {
     "data": {
      "text/html": [
       "Waiting for W&B process to finish... <strong style=\"color:green\">(success).</strong>"
      ],
      "text/plain": [
       "<IPython.core.display.HTML object>"
      ]
     },
     "metadata": {},
     "output_type": "display_data"
    },
    {
     "data": {
      "text/html": [
       "<style>\n",
       "    table.wandb td:nth-child(1) { padding: 0 10px; text-align: left ; width: auto;} td:nth-child(2) {text-align: left ; width: 100%}\n",
       "    .wandb-row { display: flex; flex-direction: row; flex-wrap: wrap; justify-content: flex-start; width: 100% }\n",
       "    .wandb-col { display: flex; flex-direction: column; flex-basis: 100%; flex: 1; padding: 10px; }\n",
       "    </style>\n",
       "<div class=\"wandb-row\"><div class=\"wandb-col\"><h3>Run history:</h3><br/><table class=\"wandb\"><tr><td>coefficient_of_determination</td><td>▁</td></tr><tr><td>mse</td><td>▁</td></tr></table><br/></div><div class=\"wandb-col\"><h3>Run summary:</h3><br/><table class=\"wandb\"><tr><td>coefficient_of_determination</td><td>0.60752</td></tr><tr><td>mse</td><td>31.3926</td></tr></table><br/></div></div>"
      ],
      "text/plain": [
       "<IPython.core.display.HTML object>"
      ]
     },
     "metadata": {},
     "output_type": "display_data"
    },
    {
     "data": {
      "text/html": [
       " View run <strong style=\"color:#cdcd00\">driven-sweep-5</strong> at: <a href='https://wandb.ai/minjabenho/hdb_rental_prices_ppsm_feat_eng/runs/rzu4mton' target=\"_blank\">https://wandb.ai/minjabenho/hdb_rental_prices_ppsm_feat_eng/runs/rzu4mton</a><br/>Synced 5 W&B file(s), 0 media file(s), 0 artifact file(s) and 0 other file(s)"
      ],
      "text/plain": [
       "<IPython.core.display.HTML object>"
      ]
     },
     "metadata": {},
     "output_type": "display_data"
    },
    {
     "data": {
      "text/html": [
       "Find logs at: <code>./wandb/run-20231016_145244-rzu4mton/logs</code>"
      ],
      "text/plain": [
       "<IPython.core.display.HTML object>"
      ]
     },
     "metadata": {},
     "output_type": "display_data"
    },
    {
     "name": "stderr",
     "output_type": "stream",
     "text": [
      "\u001b[34m\u001b[1mwandb\u001b[0m: Agent Starting Run: kibvyghk with config:\n",
      "\u001b[34m\u001b[1mwandb\u001b[0m: \tlearning_rate: 0.1\n",
      "\u001b[34m\u001b[1mwandb\u001b[0m: \tmax_depth: 6\n",
      "\u001b[34m\u001b[1mwandb\u001b[0m: \tmin_impurity_decrease: 0.2\n",
      "\u001b[34m\u001b[1mwandb\u001b[0m: \tmin_samples_leaf: 30\n",
      "\u001b[34m\u001b[1mwandb\u001b[0m: \tmin_samples_split: 16\n",
      "\u001b[34m\u001b[1mwandb\u001b[0m: \tmin_weight_fraction_leaf: 0\n",
      "\u001b[34m\u001b[1mwandb\u001b[0m: \tn_estimators: 200\n",
      "\u001b[34m\u001b[1mwandb\u001b[0m: \tsubsample: 0.5\n",
      "Failed to detect the name of this notebook, you can set it manually with the WANDB_NOTEBOOK_NAME environment variable to enable code saving.\n"
     ]
    },
    {
     "data": {
      "text/html": [
       "wandb version 0.15.12 is available!  To upgrade, please run:\n",
       " $ pip install wandb --upgrade"
      ],
      "text/plain": [
       "<IPython.core.display.HTML object>"
      ]
     },
     "metadata": {},
     "output_type": "display_data"
    },
    {
     "data": {
      "text/html": [
       "Tracking run with wandb version 0.15.11"
      ],
      "text/plain": [
       "<IPython.core.display.HTML object>"
      ]
     },
     "metadata": {},
     "output_type": "display_data"
    },
    {
     "data": {
      "text/html": [
       "Run data is saved locally in <code>/home/benhgm/workspace/cs5228_flat_rental/wandb/run-20231016_145359-kibvyghk</code>"
      ],
      "text/plain": [
       "<IPython.core.display.HTML object>"
      ]
     },
     "metadata": {},
     "output_type": "display_data"
    },
    {
     "data": {
      "text/html": [
       "Syncing run <strong><a href='https://wandb.ai/minjabenho/hdb_rental_prices_ppsm_feat_eng/runs/kibvyghk' target=\"_blank\">efficient-sweep-6</a></strong> to <a href='https://wandb.ai/minjabenho/hdb_rental_prices_ppsm_feat_eng' target=\"_blank\">Weights & Biases</a> (<a href='https://wandb.me/run' target=\"_blank\">docs</a>)<br/>Sweep page: <a href='https://wandb.ai/minjabenho/hdb_rental_prices_ppsm_feat_eng/sweeps/221messt' target=\"_blank\">https://wandb.ai/minjabenho/hdb_rental_prices_ppsm_feat_eng/sweeps/221messt</a>"
      ],
      "text/plain": [
       "<IPython.core.display.HTML object>"
      ]
     },
     "metadata": {},
     "output_type": "display_data"
    },
    {
     "data": {
      "text/html": [
       " View project at <a href='https://wandb.ai/minjabenho/hdb_rental_prices_ppsm_feat_eng' target=\"_blank\">https://wandb.ai/minjabenho/hdb_rental_prices_ppsm_feat_eng</a>"
      ],
      "text/plain": [
       "<IPython.core.display.HTML object>"
      ]
     },
     "metadata": {},
     "output_type": "display_data"
    },
    {
     "data": {
      "text/html": [
       " View sweep at <a href='https://wandb.ai/minjabenho/hdb_rental_prices_ppsm_feat_eng/sweeps/221messt' target=\"_blank\">https://wandb.ai/minjabenho/hdb_rental_prices_ppsm_feat_eng/sweeps/221messt</a>"
      ],
      "text/plain": [
       "<IPython.core.display.HTML object>"
      ]
     },
     "metadata": {},
     "output_type": "display_data"
    },
    {
     "data": {
      "text/html": [
       " View run at <a href='https://wandb.ai/minjabenho/hdb_rental_prices_ppsm_feat_eng/runs/kibvyghk' target=\"_blank\">https://wandb.ai/minjabenho/hdb_rental_prices_ppsm_feat_eng/runs/kibvyghk</a>"
      ],
      "text/plain": [
       "<IPython.core.display.HTML object>"
      ]
     },
     "metadata": {},
     "output_type": "display_data"
    },
    {
     "data": {
      "text/html": [
       "Waiting for W&B process to finish... <strong style=\"color:green\">(success).</strong>"
      ],
      "text/plain": [
       "<IPython.core.display.HTML object>"
      ]
     },
     "metadata": {},
     "output_type": "display_data"
    },
    {
     "data": {
      "text/html": [
       "<style>\n",
       "    table.wandb td:nth-child(1) { padding: 0 10px; text-align: left ; width: auto;} td:nth-child(2) {text-align: left ; width: 100%}\n",
       "    .wandb-row { display: flex; flex-direction: row; flex-wrap: wrap; justify-content: flex-start; width: 100% }\n",
       "    .wandb-col { display: flex; flex-direction: column; flex-basis: 100%; flex: 1; padding: 10px; }\n",
       "    </style>\n",
       "<div class=\"wandb-row\"><div class=\"wandb-col\"><h3>Run history:</h3><br/><table class=\"wandb\"><tr><td>coefficient_of_determination</td><td>▁</td></tr><tr><td>mse</td><td>▁</td></tr></table><br/></div><div class=\"wandb-col\"><h3>Run summary:</h3><br/><table class=\"wandb\"><tr><td>coefficient_of_determination</td><td>0.6055</td></tr><tr><td>mse</td><td>31.55399</td></tr></table><br/></div></div>"
      ],
      "text/plain": [
       "<IPython.core.display.HTML object>"
      ]
     },
     "metadata": {},
     "output_type": "display_data"
    },
    {
     "data": {
      "text/html": [
       " View run <strong style=\"color:#cdcd00\">efficient-sweep-6</strong> at: <a href='https://wandb.ai/minjabenho/hdb_rental_prices_ppsm_feat_eng/runs/kibvyghk' target=\"_blank\">https://wandb.ai/minjabenho/hdb_rental_prices_ppsm_feat_eng/runs/kibvyghk</a><br/>Synced 5 W&B file(s), 0 media file(s), 0 artifact file(s) and 0 other file(s)"
      ],
      "text/plain": [
       "<IPython.core.display.HTML object>"
      ]
     },
     "metadata": {},
     "output_type": "display_data"
    },
    {
     "data": {
      "text/html": [
       "Find logs at: <code>./wandb/run-20231016_145359-kibvyghk/logs</code>"
      ],
      "text/plain": [
       "<IPython.core.display.HTML object>"
      ]
     },
     "metadata": {},
     "output_type": "display_data"
    },
    {
     "name": "stderr",
     "output_type": "stream",
     "text": [
      "\u001b[34m\u001b[1mwandb\u001b[0m: Agent Starting Run: urnhwf4h with config:\n",
      "\u001b[34m\u001b[1mwandb\u001b[0m: \tlearning_rate: 0.1\n",
      "\u001b[34m\u001b[1mwandb\u001b[0m: \tmax_depth: 9\n",
      "\u001b[34m\u001b[1mwandb\u001b[0m: \tmin_impurity_decrease: 0.2\n",
      "\u001b[34m\u001b[1mwandb\u001b[0m: \tmin_samples_leaf: 30\n",
      "\u001b[34m\u001b[1mwandb\u001b[0m: \tmin_samples_split: 4\n",
      "\u001b[34m\u001b[1mwandb\u001b[0m: \tmin_weight_fraction_leaf: 0\n",
      "\u001b[34m\u001b[1mwandb\u001b[0m: \tn_estimators: 300\n",
      "\u001b[34m\u001b[1mwandb\u001b[0m: \tsubsample: 0.5\n",
      "Failed to detect the name of this notebook, you can set it manually with the WANDB_NOTEBOOK_NAME environment variable to enable code saving.\n"
     ]
    },
    {
     "data": {
      "text/html": [
       "wandb version 0.15.12 is available!  To upgrade, please run:\n",
       " $ pip install wandb --upgrade"
      ],
      "text/plain": [
       "<IPython.core.display.HTML object>"
      ]
     },
     "metadata": {},
     "output_type": "display_data"
    },
    {
     "data": {
      "text/html": [
       "Tracking run with wandb version 0.15.11"
      ],
      "text/plain": [
       "<IPython.core.display.HTML object>"
      ]
     },
     "metadata": {},
     "output_type": "display_data"
    },
    {
     "data": {
      "text/html": [
       "Run data is saved locally in <code>/home/benhgm/workspace/cs5228_flat_rental/wandb/run-20231016_145455-urnhwf4h</code>"
      ],
      "text/plain": [
       "<IPython.core.display.HTML object>"
      ]
     },
     "metadata": {},
     "output_type": "display_data"
    },
    {
     "data": {
      "text/html": [
       "Syncing run <strong><a href='https://wandb.ai/minjabenho/hdb_rental_prices_ppsm_feat_eng/runs/urnhwf4h' target=\"_blank\">fast-sweep-7</a></strong> to <a href='https://wandb.ai/minjabenho/hdb_rental_prices_ppsm_feat_eng' target=\"_blank\">Weights & Biases</a> (<a href='https://wandb.me/run' target=\"_blank\">docs</a>)<br/>Sweep page: <a href='https://wandb.ai/minjabenho/hdb_rental_prices_ppsm_feat_eng/sweeps/221messt' target=\"_blank\">https://wandb.ai/minjabenho/hdb_rental_prices_ppsm_feat_eng/sweeps/221messt</a>"
      ],
      "text/plain": [
       "<IPython.core.display.HTML object>"
      ]
     },
     "metadata": {},
     "output_type": "display_data"
    },
    {
     "data": {
      "text/html": [
       " View project at <a href='https://wandb.ai/minjabenho/hdb_rental_prices_ppsm_feat_eng' target=\"_blank\">https://wandb.ai/minjabenho/hdb_rental_prices_ppsm_feat_eng</a>"
      ],
      "text/plain": [
       "<IPython.core.display.HTML object>"
      ]
     },
     "metadata": {},
     "output_type": "display_data"
    },
    {
     "data": {
      "text/html": [
       " View sweep at <a href='https://wandb.ai/minjabenho/hdb_rental_prices_ppsm_feat_eng/sweeps/221messt' target=\"_blank\">https://wandb.ai/minjabenho/hdb_rental_prices_ppsm_feat_eng/sweeps/221messt</a>"
      ],
      "text/plain": [
       "<IPython.core.display.HTML object>"
      ]
     },
     "metadata": {},
     "output_type": "display_data"
    },
    {
     "data": {
      "text/html": [
       " View run at <a href='https://wandb.ai/minjabenho/hdb_rental_prices_ppsm_feat_eng/runs/urnhwf4h' target=\"_blank\">https://wandb.ai/minjabenho/hdb_rental_prices_ppsm_feat_eng/runs/urnhwf4h</a>"
      ],
      "text/plain": [
       "<IPython.core.display.HTML object>"
      ]
     },
     "metadata": {},
     "output_type": "display_data"
    },
    {
     "data": {
      "text/html": [
       "Waiting for W&B process to finish... <strong style=\"color:green\">(success).</strong>"
      ],
      "text/plain": [
       "<IPython.core.display.HTML object>"
      ]
     },
     "metadata": {},
     "output_type": "display_data"
    },
    {
     "data": {
      "text/html": [
       "<style>\n",
       "    table.wandb td:nth-child(1) { padding: 0 10px; text-align: left ; width: auto;} td:nth-child(2) {text-align: left ; width: 100%}\n",
       "    .wandb-row { display: flex; flex-direction: row; flex-wrap: wrap; justify-content: flex-start; width: 100% }\n",
       "    .wandb-col { display: flex; flex-direction: column; flex-basis: 100%; flex: 1; padding: 10px; }\n",
       "    </style>\n",
       "<div class=\"wandb-row\"><div class=\"wandb-col\"><h3>Run history:</h3><br/><table class=\"wandb\"><tr><td>coefficient_of_determination</td><td>▁</td></tr><tr><td>mse</td><td>▁</td></tr></table><br/></div><div class=\"wandb-col\"><h3>Run summary:</h3><br/><table class=\"wandb\"><tr><td>coefficient_of_determination</td><td>0.60057</td></tr><tr><td>mse</td><td>31.94892</td></tr></table><br/></div></div>"
      ],
      "text/plain": [
       "<IPython.core.display.HTML object>"
      ]
     },
     "metadata": {},
     "output_type": "display_data"
    },
    {
     "data": {
      "text/html": [
       " View run <strong style=\"color:#cdcd00\">fast-sweep-7</strong> at: <a href='https://wandb.ai/minjabenho/hdb_rental_prices_ppsm_feat_eng/runs/urnhwf4h' target=\"_blank\">https://wandb.ai/minjabenho/hdb_rental_prices_ppsm_feat_eng/runs/urnhwf4h</a><br/>Synced 5 W&B file(s), 0 media file(s), 0 artifact file(s) and 0 other file(s)"
      ],
      "text/plain": [
       "<IPython.core.display.HTML object>"
      ]
     },
     "metadata": {},
     "output_type": "display_data"
    },
    {
     "data": {
      "text/html": [
       "Find logs at: <code>./wandb/run-20231016_145455-urnhwf4h/logs</code>"
      ],
      "text/plain": [
       "<IPython.core.display.HTML object>"
      ]
     },
     "metadata": {},
     "output_type": "display_data"
    },
    {
     "name": "stderr",
     "output_type": "stream",
     "text": [
      "\u001b[34m\u001b[1mwandb\u001b[0m: Agent Starting Run: qwdut3rw with config:\n",
      "\u001b[34m\u001b[1mwandb\u001b[0m: \tlearning_rate: 0.1\n",
      "\u001b[34m\u001b[1mwandb\u001b[0m: \tmax_depth: 6\n",
      "\u001b[34m\u001b[1mwandb\u001b[0m: \tmin_impurity_decrease: 0.2\n",
      "\u001b[34m\u001b[1mwandb\u001b[0m: \tmin_samples_leaf: 30\n",
      "\u001b[34m\u001b[1mwandb\u001b[0m: \tmin_samples_split: 16\n",
      "\u001b[34m\u001b[1mwandb\u001b[0m: \tmin_weight_fraction_leaf: 0\n",
      "\u001b[34m\u001b[1mwandb\u001b[0m: \tn_estimators: 500\n",
      "\u001b[34m\u001b[1mwandb\u001b[0m: \tsubsample: 0.5\n",
      "Failed to detect the name of this notebook, you can set it manually with the WANDB_NOTEBOOK_NAME environment variable to enable code saving.\n"
     ]
    },
    {
     "data": {
      "text/html": [
       "wandb version 0.15.12 is available!  To upgrade, please run:\n",
       " $ pip install wandb --upgrade"
      ],
      "text/plain": [
       "<IPython.core.display.HTML object>"
      ]
     },
     "metadata": {},
     "output_type": "display_data"
    },
    {
     "data": {
      "text/html": [
       "Tracking run with wandb version 0.15.11"
      ],
      "text/plain": [
       "<IPython.core.display.HTML object>"
      ]
     },
     "metadata": {},
     "output_type": "display_data"
    },
    {
     "data": {
      "text/html": [
       "Run data is saved locally in <code>/home/benhgm/workspace/cs5228_flat_rental/wandb/run-20231016_145636-qwdut3rw</code>"
      ],
      "text/plain": [
       "<IPython.core.display.HTML object>"
      ]
     },
     "metadata": {},
     "output_type": "display_data"
    },
    {
     "data": {
      "text/html": [
       "Syncing run <strong><a href='https://wandb.ai/minjabenho/hdb_rental_prices_ppsm_feat_eng/runs/qwdut3rw' target=\"_blank\">lemon-sweep-8</a></strong> to <a href='https://wandb.ai/minjabenho/hdb_rental_prices_ppsm_feat_eng' target=\"_blank\">Weights & Biases</a> (<a href='https://wandb.me/run' target=\"_blank\">docs</a>)<br/>Sweep page: <a href='https://wandb.ai/minjabenho/hdb_rental_prices_ppsm_feat_eng/sweeps/221messt' target=\"_blank\">https://wandb.ai/minjabenho/hdb_rental_prices_ppsm_feat_eng/sweeps/221messt</a>"
      ],
      "text/plain": [
       "<IPython.core.display.HTML object>"
      ]
     },
     "metadata": {},
     "output_type": "display_data"
    },
    {
     "data": {
      "text/html": [
       " View project at <a href='https://wandb.ai/minjabenho/hdb_rental_prices_ppsm_feat_eng' target=\"_blank\">https://wandb.ai/minjabenho/hdb_rental_prices_ppsm_feat_eng</a>"
      ],
      "text/plain": [
       "<IPython.core.display.HTML object>"
      ]
     },
     "metadata": {},
     "output_type": "display_data"
    },
    {
     "data": {
      "text/html": [
       " View sweep at <a href='https://wandb.ai/minjabenho/hdb_rental_prices_ppsm_feat_eng/sweeps/221messt' target=\"_blank\">https://wandb.ai/minjabenho/hdb_rental_prices_ppsm_feat_eng/sweeps/221messt</a>"
      ],
      "text/plain": [
       "<IPython.core.display.HTML object>"
      ]
     },
     "metadata": {},
     "output_type": "display_data"
    },
    {
     "data": {
      "text/html": [
       " View run at <a href='https://wandb.ai/minjabenho/hdb_rental_prices_ppsm_feat_eng/runs/qwdut3rw' target=\"_blank\">https://wandb.ai/minjabenho/hdb_rental_prices_ppsm_feat_eng/runs/qwdut3rw</a>"
      ],
      "text/plain": [
       "<IPython.core.display.HTML object>"
      ]
     },
     "metadata": {},
     "output_type": "display_data"
    },
    {
     "data": {
      "text/html": [
       "Waiting for W&B process to finish... <strong style=\"color:green\">(success).</strong>"
      ],
      "text/plain": [
       "<IPython.core.display.HTML object>"
      ]
     },
     "metadata": {},
     "output_type": "display_data"
    },
    {
     "data": {
      "text/html": [
       "<style>\n",
       "    table.wandb td:nth-child(1) { padding: 0 10px; text-align: left ; width: auto;} td:nth-child(2) {text-align: left ; width: 100%}\n",
       "    .wandb-row { display: flex; flex-direction: row; flex-wrap: wrap; justify-content: flex-start; width: 100% }\n",
       "    .wandb-col { display: flex; flex-direction: column; flex-basis: 100%; flex: 1; padding: 10px; }\n",
       "    </style>\n",
       "<div class=\"wandb-row\"><div class=\"wandb-col\"><h3>Run history:</h3><br/><table class=\"wandb\"><tr><td>coefficient_of_determination</td><td>▁</td></tr><tr><td>mse</td><td>▁</td></tr></table><br/></div><div class=\"wandb-col\"><h3>Run summary:</h3><br/><table class=\"wandb\"><tr><td>coefficient_of_determination</td><td>0.60846</td></tr><tr><td>mse</td><td>31.31779</td></tr></table><br/></div></div>"
      ],
      "text/plain": [
       "<IPython.core.display.HTML object>"
      ]
     },
     "metadata": {},
     "output_type": "display_data"
    },
    {
     "data": {
      "text/html": [
       " View run <strong style=\"color:#cdcd00\">lemon-sweep-8</strong> at: <a href='https://wandb.ai/minjabenho/hdb_rental_prices_ppsm_feat_eng/runs/qwdut3rw' target=\"_blank\">https://wandb.ai/minjabenho/hdb_rental_prices_ppsm_feat_eng/runs/qwdut3rw</a><br/>Synced 5 W&B file(s), 0 media file(s), 0 artifact file(s) and 0 other file(s)"
      ],
      "text/plain": [
       "<IPython.core.display.HTML object>"
      ]
     },
     "metadata": {},
     "output_type": "display_data"
    },
    {
     "data": {
      "text/html": [
       "Find logs at: <code>./wandb/run-20231016_145636-qwdut3rw/logs</code>"
      ],
      "text/plain": [
       "<IPython.core.display.HTML object>"
      ]
     },
     "metadata": {},
     "output_type": "display_data"
    },
    {
     "name": "stderr",
     "output_type": "stream",
     "text": [
      "\u001b[34m\u001b[1mwandb\u001b[0m: Agent Starting Run: hw4tukyu with config:\n",
      "\u001b[34m\u001b[1mwandb\u001b[0m: \tlearning_rate: 0.1\n",
      "\u001b[34m\u001b[1mwandb\u001b[0m: \tmax_depth: 3\n",
      "\u001b[34m\u001b[1mwandb\u001b[0m: \tmin_impurity_decrease: 0.2\n",
      "\u001b[34m\u001b[1mwandb\u001b[0m: \tmin_samples_leaf: 30\n",
      "\u001b[34m\u001b[1mwandb\u001b[0m: \tmin_samples_split: 4\n",
      "\u001b[34m\u001b[1mwandb\u001b[0m: \tmin_weight_fraction_leaf: 0\n",
      "\u001b[34m\u001b[1mwandb\u001b[0m: \tn_estimators: 300\n",
      "\u001b[34m\u001b[1mwandb\u001b[0m: \tsubsample: 0.5\n",
      "Failed to detect the name of this notebook, you can set it manually with the WANDB_NOTEBOOK_NAME environment variable to enable code saving.\n"
     ]
    },
    {
     "data": {
      "text/html": [
       "wandb version 0.15.12 is available!  To upgrade, please run:\n",
       " $ pip install wandb --upgrade"
      ],
      "text/plain": [
       "<IPython.core.display.HTML object>"
      ]
     },
     "metadata": {},
     "output_type": "display_data"
    },
    {
     "data": {
      "text/html": [
       "Tracking run with wandb version 0.15.11"
      ],
      "text/plain": [
       "<IPython.core.display.HTML object>"
      ]
     },
     "metadata": {},
     "output_type": "display_data"
    },
    {
     "data": {
      "text/html": [
       "Run data is saved locally in <code>/home/benhgm/workspace/cs5228_flat_rental/wandb/run-20231016_145831-hw4tukyu</code>"
      ],
      "text/plain": [
       "<IPython.core.display.HTML object>"
      ]
     },
     "metadata": {},
     "output_type": "display_data"
    },
    {
     "data": {
      "text/html": [
       "Syncing run <strong><a href='https://wandb.ai/minjabenho/hdb_rental_prices_ppsm_feat_eng/runs/hw4tukyu' target=\"_blank\">sweet-sweep-9</a></strong> to <a href='https://wandb.ai/minjabenho/hdb_rental_prices_ppsm_feat_eng' target=\"_blank\">Weights & Biases</a> (<a href='https://wandb.me/run' target=\"_blank\">docs</a>)<br/>Sweep page: <a href='https://wandb.ai/minjabenho/hdb_rental_prices_ppsm_feat_eng/sweeps/221messt' target=\"_blank\">https://wandb.ai/minjabenho/hdb_rental_prices_ppsm_feat_eng/sweeps/221messt</a>"
      ],
      "text/plain": [
       "<IPython.core.display.HTML object>"
      ]
     },
     "metadata": {},
     "output_type": "display_data"
    },
    {
     "data": {
      "text/html": [
       " View project at <a href='https://wandb.ai/minjabenho/hdb_rental_prices_ppsm_feat_eng' target=\"_blank\">https://wandb.ai/minjabenho/hdb_rental_prices_ppsm_feat_eng</a>"
      ],
      "text/plain": [
       "<IPython.core.display.HTML object>"
      ]
     },
     "metadata": {},
     "output_type": "display_data"
    },
    {
     "data": {
      "text/html": [
       " View sweep at <a href='https://wandb.ai/minjabenho/hdb_rental_prices_ppsm_feat_eng/sweeps/221messt' target=\"_blank\">https://wandb.ai/minjabenho/hdb_rental_prices_ppsm_feat_eng/sweeps/221messt</a>"
      ],
      "text/plain": [
       "<IPython.core.display.HTML object>"
      ]
     },
     "metadata": {},
     "output_type": "display_data"
    },
    {
     "data": {
      "text/html": [
       " View run at <a href='https://wandb.ai/minjabenho/hdb_rental_prices_ppsm_feat_eng/runs/hw4tukyu' target=\"_blank\">https://wandb.ai/minjabenho/hdb_rental_prices_ppsm_feat_eng/runs/hw4tukyu</a>"
      ],
      "text/plain": [
       "<IPython.core.display.HTML object>"
      ]
     },
     "metadata": {},
     "output_type": "display_data"
    },
    {
     "data": {
      "text/html": [
       "Waiting for W&B process to finish... <strong style=\"color:green\">(success).</strong>"
      ],
      "text/plain": [
       "<IPython.core.display.HTML object>"
      ]
     },
     "metadata": {},
     "output_type": "display_data"
    },
    {
     "data": {
      "text/html": [
       "<style>\n",
       "    table.wandb td:nth-child(1) { padding: 0 10px; text-align: left ; width: auto;} td:nth-child(2) {text-align: left ; width: 100%}\n",
       "    .wandb-row { display: flex; flex-direction: row; flex-wrap: wrap; justify-content: flex-start; width: 100% }\n",
       "    .wandb-col { display: flex; flex-direction: column; flex-basis: 100%; flex: 1; padding: 10px; }\n",
       "    </style>\n",
       "<div class=\"wandb-row\"><div class=\"wandb-col\"><h3>Run history:</h3><br/><table class=\"wandb\"><tr><td>coefficient_of_determination</td><td>▁</td></tr><tr><td>mse</td><td>▁</td></tr></table><br/></div><div class=\"wandb-col\"><h3>Run summary:</h3><br/><table class=\"wandb\"><tr><td>coefficient_of_determination</td><td>0.60061</td></tr><tr><td>mse</td><td>31.94579</td></tr></table><br/></div></div>"
      ],
      "text/plain": [
       "<IPython.core.display.HTML object>"
      ]
     },
     "metadata": {},
     "output_type": "display_data"
    },
    {
     "data": {
      "text/html": [
       " View run <strong style=\"color:#cdcd00\">sweet-sweep-9</strong> at: <a href='https://wandb.ai/minjabenho/hdb_rental_prices_ppsm_feat_eng/runs/hw4tukyu' target=\"_blank\">https://wandb.ai/minjabenho/hdb_rental_prices_ppsm_feat_eng/runs/hw4tukyu</a><br/>Synced 5 W&B file(s), 0 media file(s), 0 artifact file(s) and 0 other file(s)"
      ],
      "text/plain": [
       "<IPython.core.display.HTML object>"
      ]
     },
     "metadata": {},
     "output_type": "display_data"
    },
    {
     "data": {
      "text/html": [
       "Find logs at: <code>./wandb/run-20231016_145831-hw4tukyu/logs</code>"
      ],
      "text/plain": [
       "<IPython.core.display.HTML object>"
      ]
     },
     "metadata": {},
     "output_type": "display_data"
    },
    {
     "name": "stderr",
     "output_type": "stream",
     "text": [
      "\u001b[34m\u001b[1mwandb\u001b[0m: Agent Starting Run: qe7jqgg3 with config:\n",
      "\u001b[34m\u001b[1mwandb\u001b[0m: \tlearning_rate: 0.1\n",
      "\u001b[34m\u001b[1mwandb\u001b[0m: \tmax_depth: 9\n",
      "\u001b[34m\u001b[1mwandb\u001b[0m: \tmin_impurity_decrease: 0.2\n",
      "\u001b[34m\u001b[1mwandb\u001b[0m: \tmin_samples_leaf: 30\n",
      "\u001b[34m\u001b[1mwandb\u001b[0m: \tmin_samples_split: 32\n",
      "\u001b[34m\u001b[1mwandb\u001b[0m: \tmin_weight_fraction_leaf: 0\n",
      "\u001b[34m\u001b[1mwandb\u001b[0m: \tn_estimators: 100\n",
      "\u001b[34m\u001b[1mwandb\u001b[0m: \tsubsample: 0.75\n",
      "Failed to detect the name of this notebook, you can set it manually with the WANDB_NOTEBOOK_NAME environment variable to enable code saving.\n"
     ]
    },
    {
     "data": {
      "text/html": [
       "wandb version 0.15.12 is available!  To upgrade, please run:\n",
       " $ pip install wandb --upgrade"
      ],
      "text/plain": [
       "<IPython.core.display.HTML object>"
      ]
     },
     "metadata": {},
     "output_type": "display_data"
    },
    {
     "data": {
      "text/html": [
       "Tracking run with wandb version 0.15.11"
      ],
      "text/plain": [
       "<IPython.core.display.HTML object>"
      ]
     },
     "metadata": {},
     "output_type": "display_data"
    },
    {
     "data": {
      "text/html": [
       "Run data is saved locally in <code>/home/benhgm/workspace/cs5228_flat_rental/wandb/run-20231016_145915-qe7jqgg3</code>"
      ],
      "text/plain": [
       "<IPython.core.display.HTML object>"
      ]
     },
     "metadata": {},
     "output_type": "display_data"
    },
    {
     "data": {
      "text/html": [
       "Syncing run <strong><a href='https://wandb.ai/minjabenho/hdb_rental_prices_ppsm_feat_eng/runs/qe7jqgg3' target=\"_blank\">vivid-sweep-10</a></strong> to <a href='https://wandb.ai/minjabenho/hdb_rental_prices_ppsm_feat_eng' target=\"_blank\">Weights & Biases</a> (<a href='https://wandb.me/run' target=\"_blank\">docs</a>)<br/>Sweep page: <a href='https://wandb.ai/minjabenho/hdb_rental_prices_ppsm_feat_eng/sweeps/221messt' target=\"_blank\">https://wandb.ai/minjabenho/hdb_rental_prices_ppsm_feat_eng/sweeps/221messt</a>"
      ],
      "text/plain": [
       "<IPython.core.display.HTML object>"
      ]
     },
     "metadata": {},
     "output_type": "display_data"
    },
    {
     "data": {
      "text/html": [
       " View project at <a href='https://wandb.ai/minjabenho/hdb_rental_prices_ppsm_feat_eng' target=\"_blank\">https://wandb.ai/minjabenho/hdb_rental_prices_ppsm_feat_eng</a>"
      ],
      "text/plain": [
       "<IPython.core.display.HTML object>"
      ]
     },
     "metadata": {},
     "output_type": "display_data"
    },
    {
     "data": {
      "text/html": [
       " View sweep at <a href='https://wandb.ai/minjabenho/hdb_rental_prices_ppsm_feat_eng/sweeps/221messt' target=\"_blank\">https://wandb.ai/minjabenho/hdb_rental_prices_ppsm_feat_eng/sweeps/221messt</a>"
      ],
      "text/plain": [
       "<IPython.core.display.HTML object>"
      ]
     },
     "metadata": {},
     "output_type": "display_data"
    },
    {
     "data": {
      "text/html": [
       " View run at <a href='https://wandb.ai/minjabenho/hdb_rental_prices_ppsm_feat_eng/runs/qe7jqgg3' target=\"_blank\">https://wandb.ai/minjabenho/hdb_rental_prices_ppsm_feat_eng/runs/qe7jqgg3</a>"
      ],
      "text/plain": [
       "<IPython.core.display.HTML object>"
      ]
     },
     "metadata": {},
     "output_type": "display_data"
    },
    {
     "data": {
      "text/html": [
       "Waiting for W&B process to finish... <strong style=\"color:green\">(success).</strong>"
      ],
      "text/plain": [
       "<IPython.core.display.HTML object>"
      ]
     },
     "metadata": {},
     "output_type": "display_data"
    },
    {
     "data": {
      "text/html": [
       "<style>\n",
       "    table.wandb td:nth-child(1) { padding: 0 10px; text-align: left ; width: auto;} td:nth-child(2) {text-align: left ; width: 100%}\n",
       "    .wandb-row { display: flex; flex-direction: row; flex-wrap: wrap; justify-content: flex-start; width: 100% }\n",
       "    .wandb-col { display: flex; flex-direction: column; flex-basis: 100%; flex: 1; padding: 10px; }\n",
       "    </style>\n",
       "<div class=\"wandb-row\"><div class=\"wandb-col\"><h3>Run history:</h3><br/><table class=\"wandb\"><tr><td>coefficient_of_determination</td><td>▁</td></tr><tr><td>mse</td><td>▁</td></tr></table><br/></div><div class=\"wandb-col\"><h3>Run summary:</h3><br/><table class=\"wandb\"><tr><td>coefficient_of_determination</td><td>0.60643</td></tr><tr><td>mse</td><td>31.4798</td></tr></table><br/></div></div>"
      ],
      "text/plain": [
       "<IPython.core.display.HTML object>"
      ]
     },
     "metadata": {},
     "output_type": "display_data"
    },
    {
     "data": {
      "text/html": [
       " View run <strong style=\"color:#cdcd00\">vivid-sweep-10</strong> at: <a href='https://wandb.ai/minjabenho/hdb_rental_prices_ppsm_feat_eng/runs/qe7jqgg3' target=\"_blank\">https://wandb.ai/minjabenho/hdb_rental_prices_ppsm_feat_eng/runs/qe7jqgg3</a><br/>Synced 5 W&B file(s), 0 media file(s), 0 artifact file(s) and 0 other file(s)"
      ],
      "text/plain": [
       "<IPython.core.display.HTML object>"
      ]
     },
     "metadata": {},
     "output_type": "display_data"
    },
    {
     "data": {
      "text/html": [
       "Find logs at: <code>./wandb/run-20231016_145915-qe7jqgg3/logs</code>"
      ],
      "text/plain": [
       "<IPython.core.display.HTML object>"
      ]
     },
     "metadata": {},
     "output_type": "display_data"
    },
    {
     "name": "stderr",
     "output_type": "stream",
     "text": [
      "\u001b[34m\u001b[1mwandb\u001b[0m: Agent Starting Run: ny21ku9l with config:\n",
      "\u001b[34m\u001b[1mwandb\u001b[0m: \tlearning_rate: 0.1\n",
      "\u001b[34m\u001b[1mwandb\u001b[0m: \tmax_depth: 9\n",
      "\u001b[34m\u001b[1mwandb\u001b[0m: \tmin_impurity_decrease: 0.2\n",
      "\u001b[34m\u001b[1mwandb\u001b[0m: \tmin_samples_leaf: 30\n",
      "\u001b[34m\u001b[1mwandb\u001b[0m: \tmin_samples_split: 16\n",
      "\u001b[34m\u001b[1mwandb\u001b[0m: \tmin_weight_fraction_leaf: 0\n",
      "\u001b[34m\u001b[1mwandb\u001b[0m: \tn_estimators: 300\n",
      "\u001b[34m\u001b[1mwandb\u001b[0m: \tsubsample: 0.75\n",
      "Failed to detect the name of this notebook, you can set it manually with the WANDB_NOTEBOOK_NAME environment variable to enable code saving.\n",
      "\u001b[34m\u001b[1mwandb\u001b[0m: Ctrl + C detected. Stopping sweep.\n"
     ]
    },
    {
     "data": {
      "text/html": [
       "wandb version 0.15.12 is available!  To upgrade, please run:\n",
       " $ pip install wandb --upgrade"
      ],
      "text/plain": [
       "<IPython.core.display.HTML object>"
      ]
     },
     "metadata": {},
     "output_type": "display_data"
    },
    {
     "data": {
      "text/html": [
       "Tracking run with wandb version 0.15.11"
      ],
      "text/plain": [
       "<IPython.core.display.HTML object>"
      ]
     },
     "metadata": {},
     "output_type": "display_data"
    },
    {
     "data": {
      "text/html": [
       "Run data is saved locally in <code>/home/benhgm/workspace/cs5228_flat_rental/wandb/run-20231016_150007-ny21ku9l</code>"
      ],
      "text/plain": [
       "<IPython.core.display.HTML object>"
      ]
     },
     "metadata": {},
     "output_type": "display_data"
    },
    {
     "data": {
      "text/html": [
       "Syncing run <strong><a href='https://wandb.ai/minjabenho/hdb_rental_prices_ppsm_feat_eng/runs/ny21ku9l' target=\"_blank\">likely-sweep-11</a></strong> to <a href='https://wandb.ai/minjabenho/hdb_rental_prices_ppsm_feat_eng' target=\"_blank\">Weights & Biases</a> (<a href='https://wandb.me/run' target=\"_blank\">docs</a>)<br/>Sweep page: <a href='https://wandb.ai/minjabenho/hdb_rental_prices_ppsm_feat_eng/sweeps/221messt' target=\"_blank\">https://wandb.ai/minjabenho/hdb_rental_prices_ppsm_feat_eng/sweeps/221messt</a>"
      ],
      "text/plain": [
       "<IPython.core.display.HTML object>"
      ]
     },
     "metadata": {},
     "output_type": "display_data"
    },
    {
     "data": {
      "text/html": [
       " View project at <a href='https://wandb.ai/minjabenho/hdb_rental_prices_ppsm_feat_eng' target=\"_blank\">https://wandb.ai/minjabenho/hdb_rental_prices_ppsm_feat_eng</a>"
      ],
      "text/plain": [
       "<IPython.core.display.HTML object>"
      ]
     },
     "metadata": {},
     "output_type": "display_data"
    },
    {
     "data": {
      "text/html": [
       " View sweep at <a href='https://wandb.ai/minjabenho/hdb_rental_prices_ppsm_feat_eng/sweeps/221messt' target=\"_blank\">https://wandb.ai/minjabenho/hdb_rental_prices_ppsm_feat_eng/sweeps/221messt</a>"
      ],
      "text/plain": [
       "<IPython.core.display.HTML object>"
      ]
     },
     "metadata": {},
     "output_type": "display_data"
    },
    {
     "data": {
      "text/html": [
       " View run at <a href='https://wandb.ai/minjabenho/hdb_rental_prices_ppsm_feat_eng/runs/ny21ku9l' target=\"_blank\">https://wandb.ai/minjabenho/hdb_rental_prices_ppsm_feat_eng/runs/ny21ku9l</a>"
      ],
      "text/plain": [
       "<IPython.core.display.HTML object>"
      ]
     },
     "metadata": {},
     "output_type": "display_data"
    }
   ],
   "source": [
    "sweep_id = wandb.sweep(sweep_config, project=\"hdb_rental_prices_ppsm_feat_eng\")\n",
    "wandb.agent(sweep_id, train, count=20)"
   ]
  },
  {
   "cell_type": "code",
   "execution_count": null,
   "metadata": {},
   "outputs": [],
   "source": []
  }
 ],
 "metadata": {
  "kernelspec": {
   "display_name": "nlp",
   "language": "python",
   "name": "python3"
  },
  "language_info": {
   "codemirror_mode": {
    "name": "ipython",
    "version": 3
   },
   "file_extension": ".py",
   "mimetype": "text/x-python",
   "name": "python",
   "nbconvert_exporter": "python",
   "pygments_lexer": "ipython3",
   "version": "3.10.13"
  },
  "orig_nbformat": 4
 },
 "nbformat": 4,
 "nbformat_minor": 2
}
