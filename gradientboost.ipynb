{
 "cells": [
  {
   "cell_type": "code",
   "execution_count": null,
   "metadata": {},
   "outputs": [],
   "source": [
    "import pandas as pd\n",
    "import wandb\n",
    "from sklearn.ensemble import HistGradientBoostingRegressor\n",
    "from sklearn.metrics import mean_squared_error\n",
    "import matplotlib.pyplot as plt"
   ]
  },
  {
   "cell_type": "code",
   "execution_count": null,
   "metadata": {},
   "outputs": [],
   "source": [
    "wandb.login()"
   ]
  },
  {
   "cell_type": "code",
   "execution_count": null,
   "metadata": {},
   "outputs": [],
   "source": [
    "# Datasets\n",
    "BASELINE_TRAIN = \"data/train/baseline_train.csv\"\n",
    "BASELINE_VAL = \"data/train/baseline_val.csv\"\n",
    "TRUNCATED_BASELINE_TRAIN = \"data/train/baseline_truncated_train.csv\"\n",
    "TRUNCATED_BASLINE_VAL = \"data/train/baseline_truncated_val.csv\"\n",
    "BASELINE_W_FEAT_ENG_TRAIN = \"data/train/baseline_w_feature_eng_train.csv\"\n",
    "BASELINE_W_FEAT_ENG_VAL = \"data/train/baseline_w_feature_eng_val.csv\"\n",
    "PPSM_BASELINE_TRAIN = \"data/train/ppsm_baseline_train.csv\"\n",
    "PPSM_BASELINE_VAL = \"data/train/ppsm_baseline_val.csv\"\n",
    "PPSM_FEAT_ENG_TRAIN = \"data/train/feature_eng_ppsm_train.csv\"\n",
    "PPSM_FEAT_ENG_VAL = \"data/train/feature_eng_ppsm_val.csv\""
   ]
  },
  {
   "attachments": {},
   "cell_type": "markdown",
   "metadata": {},
   "source": [
    "### Model For the Baseline Dataset"
   ]
  },
  {
   "cell_type": "code",
   "execution_count": null,
   "metadata": {},
   "outputs": [],
   "source": [
    "sweep_config = {\n",
    "    'method': 'bayes'\n",
    "}\n",
    "metric = {\n",
    "    'name': 'val_rmse',\n",
    "    'goal': 'minimize'   \n",
    "    }\n",
    "\n",
    "sweep_config['metric'] = metric\n"
   ]
  },
  {
   "cell_type": "code",
   "execution_count": null,
   "metadata": {},
   "outputs": [],
   "source": [
    "parameters_dict = {\n",
    "    'learning_rate': {\n",
    "        'values': [0.1]\n",
    "    },\n",
    "    'max_iter': {\n",
    "        'values': [100, 200, 300, 500, 1000, 2000]\n",
    "    },\n",
    "    'max_leaf_nodes': {\n",
    "        'values': [10, 31, 50, 100]\n",
    "    },\n",
    "    'max_depth' : {\n",
    "        'values': [3, 4, 5, 6, 7, 8, 9]\n",
    "    },\n",
    "    'min_samples_leaf': {\n",
    "        'values': [20, 40, 60]\n",
    "    },\n",
    "    'l2_regularization': {\n",
    "        'values': [0, 0.1, 0.2, 0.3]\n",
    "    },\n",
    "    'max_bins': {\n",
    "        'values': [255, 128]\n",
    "    }\n",
    "}\n",
    "sweep_config['parameters'] = parameters_dict"
   ]
  },
  {
   "cell_type": "code",
   "execution_count": null,
   "metadata": {},
   "outputs": [],
   "source": [
    "TRAIN_DATA = BASELINE_TRAIN\n",
    "VAL_DATA = BASELINE_VAL"
   ]
  },
  {
   "cell_type": "code",
   "execution_count": null,
   "metadata": {},
   "outputs": [],
   "source": [
    "train_set = pd.read_csv(TRAIN_DATA)\n",
    "val_set = pd.read_csv(VAL_DATA)\n",
    "\n",
    "y_train = train_set[\"monthly_rent\"]\n",
    "X_train = train_set.drop(columns=['monthly_rent'])\n",
    "\n",
    "y_test = val_set['monthly_rent']\n",
    "X_test = val_set.drop(columns=['monthly_rent'])\n"
   ]
  },
  {
   "cell_type": "code",
   "execution_count": null,
   "metadata": {},
   "outputs": [],
   "source": [
    "def train():\n",
    "    with wandb.init():\n",
    "        config = wandb.config\n",
    "\n",
    "        regressor = HistGradientBoostingRegressor(\n",
    "            random_state=42,\n",
    "            learning_rate=config.learning_rate,\n",
    "            max_iter=config.max_iter,\n",
    "            max_depth=config.max_depth,\n",
    "            max_leaf_nodes=config.max_leaf_nodes,\n",
    "            min_samples_leaf=config.min_samples_leaf,\n",
    "            l2_regularization=config.l2_regularization,\n",
    "            max_bins=config.max_bins)\n",
    "        regressor.fit(X_train, y_train)\n",
    "        train_score = regressor.score(X_train, y_train)\n",
    "        val_score = regressor.score(X_test, y_test)\n",
    "        \n",
    "        y_train_pred = regressor.predict(X_train)\n",
    "        train_rmse = mean_squared_error(y_train, y_train_pred, squared=False)\n",
    "        y_test_pred = regressor.predict(X_test)\n",
    "        val_rmse = mean_squared_error(y_test, y_test_pred, squared=False)\n",
    "\n",
    "\n",
    "    \n",
    "        # feat_importances = pd.Series(regressor.feature_importances_, index=X_train.columns)\n",
    "        # plt.barh(X_train.columns, feat_importances.nlargest(10))\n",
    "        # wandb.log({'feature_importances': plt})\n",
    "\n",
    "        # wandb.sklearn.plot_regressor(regressor, X_train, X_test, y_train, y_test, 'GradientBoost')\n",
    "        wandb.log(data={\"train_rmse\": train_rmse, \"train_score\": train_score, \"val_rmse\": val_rmse, \"val_score\": val_score})\n",
    "\n"
   ]
  },
  {
   "cell_type": "code",
   "execution_count": null,
   "metadata": {},
   "outputs": [],
   "source": [
    "sweep_id = wandb.sweep(sweep_config, project=\"hdb_rental_prices_baseline_rmse_histgb\")\n",
    "wandb.agent(sweep_id, train, count=20)"
   ]
  },
  {
   "attachments": {},
   "cell_type": "markdown",
   "metadata": {},
   "source": [
    "### Model for the Truncated Baseline Set"
   ]
  },
  {
   "cell_type": "code",
   "execution_count": null,
   "metadata": {},
   "outputs": [],
   "source": [
    "sweep_config = {\n",
    "    'method': 'bayes'\n",
    "}\n",
    "metric = {\n",
    "    'name': 'mse',\n",
    "    'goal': 'minimize'   \n",
    "    }\n",
    "\n",
    "sweep_config['metric'] = metric"
   ]
  },
  {
   "cell_type": "code",
   "execution_count": null,
   "metadata": {},
   "outputs": [],
   "source": [
    "parameters_dict = {\n",
    "    'learning_rate': {\n",
    "        'values': [0.1]\n",
    "    },\n",
    "    'max_iter': {\n",
    "        'values': [100, 200, 300, 500, 1000, 2000]\n",
    "    },\n",
    "    'max_leaf_nodes': {\n",
    "        'values': [10, 31, 50, 100]\n",
    "    },\n",
    "    'max_depth' : {\n",
    "        'values': [3, 4, 5, 6, 7, 8, 9]\n",
    "    },\n",
    "    'min_samples_leaf': {\n",
    "        'values': [20, 40, 60]\n",
    "    },\n",
    "    'l2_regularization': {\n",
    "        'values': [0, 0.1, 0.2, 0.3]\n",
    "    },\n",
    "    'max_bins': {\n",
    "        'values': [255, 128]\n",
    "    }\n",
    "}\n",
    "sweep_config['parameters'] = parameters_dict"
   ]
  },
  {
   "cell_type": "code",
   "execution_count": null,
   "metadata": {},
   "outputs": [],
   "source": [
    "TRAIN_DATA = TRUNCATED_BASELINE_TRAIN\n",
    "VAL_DATA = TRUNCATED_BASLINE_VAL"
   ]
  },
  {
   "cell_type": "code",
   "execution_count": null,
   "metadata": {},
   "outputs": [],
   "source": [
    "train_set = pd.read_csv(TRAIN_DATA)\n",
    "val_set = pd.read_csv(VAL_DATA)\n",
    "\n",
    "y_train = train_set[\"monthly_rent\"]\n",
    "X_train = train_set.drop(columns=['monthly_rent'])\n",
    "\n",
    "y_test = val_set['monthly_rent']\n",
    "X_test = val_set.drop(columns=['monthly_rent'])"
   ]
  },
  {
   "cell_type": "code",
   "execution_count": null,
   "metadata": {},
   "outputs": [],
   "source": [
    "def train():\n",
    "    with wandb.init():\n",
    "        config = wandb.config\n",
    "\n",
    "        regressor = HistGradientBoostingRegressor(\n",
    "            random_state=42,\n",
    "            learning_rate=config.learning_rate,\n",
    "            n_estimators=config.n_estimators,\n",
    "            max_depth=config.max_depth,\n",
    "            subsample=config.subsample,\n",
    "            min_samples_leaf=config.min_samples_leaf,\n",
    "            min_samples_split=config.min_samples_split,\n",
    "            min_impurity_decrease=config.min_impurity_decrease,\n",
    "            min_weight_fraction_leaf=config.min_weight_fraction_leaf)\n",
    "        regressor.fit(X_train, y_train)\n",
    "        score = regressor.score(X_test, y_test)\n",
    "        y_pred = regressor.predict(X_test)\n",
    "        mse = mean_squared_error(y_test, y_pred)\n",
    "\n",
    "    \n",
    "        # feat_importances = pd.Series(regressor.feature_importances_, index=X_train.columns)\n",
    "        # plt.barh(X_train.columns, feat_importances.nlargest(10))\n",
    "        # wandb.log({'feature_importances': plt})\n",
    "\n",
    "        # wandb.sklearn.plot_regressor(regressor, X_train, X_test, y_train, y_test, 'GradientBoost')\n",
    "        wandb.log(data={\"mse\": mse, \"coefficient_of_determination\": score})"
   ]
  },
  {
   "cell_type": "code",
   "execution_count": null,
   "metadata": {},
   "outputs": [],
   "source": [
    "sweep_id = wandb.sweep(sweep_config, project=\"hdb_rental_prices_truncated_baseline\")\n",
    "wandb.agent(sweep_id, train, count=20)"
   ]
  },
  {
   "attachments": {},
   "cell_type": "markdown",
   "metadata": {},
   "source": [
    "### Model for the Feature Engineering Set"
   ]
  },
  {
   "cell_type": "code",
   "execution_count": null,
   "metadata": {},
   "outputs": [],
   "source": [
    "sweep_config = {\n",
    "    'method': 'bayes'\n",
    "}\n",
    "metric = {\n",
    "    'name': 'mse',\n",
    "    'goal': 'minimize'   \n",
    "    }\n",
    "\n",
    "sweep_config['metric'] = metric"
   ]
  },
  {
   "cell_type": "code",
   "execution_count": null,
   "metadata": {},
   "outputs": [],
   "source": [
    "parameters_dict = {\n",
    "    'learning_rate': {\n",
    "        'values': [0.1]\n",
    "    },\n",
    "    'max_iter': {\n",
    "        'values': [100, 200, 300, 500, 1000, 2000]\n",
    "    },\n",
    "    'max_leaf_nodes': {\n",
    "        'values': [10, 31, 50, 100]\n",
    "    },\n",
    "    'max_depth' : {\n",
    "        'values': [3, 4, 5, 6, 7, 8, 9]\n",
    "    },\n",
    "    'min_samples_leaf': {\n",
    "        'values': [20, 40, 60]\n",
    "    },\n",
    "    'l2_regularization': {\n",
    "        'values': [0, 0.1, 0.2, 0.3]\n",
    "    },\n",
    "    'max_bins': {\n",
    "        'values': [255, 128]\n",
    "    }\n",
    "}\n",
    "sweep_config['parameters'] = parameters_dict"
   ]
  },
  {
   "cell_type": "code",
   "execution_count": null,
   "metadata": {},
   "outputs": [],
   "source": [
    "TRAIN_DATA = BASELINE_W_FEAT_ENG_TRAIN\n",
    "VAL_DATA = BASELINE_W_FEAT_ENG_VAL"
   ]
  },
  {
   "cell_type": "code",
   "execution_count": null,
   "metadata": {},
   "outputs": [],
   "source": [
    "train_set = pd.read_csv(TRAIN_DATA)\n",
    "val_set = pd.read_csv(VAL_DATA)\n",
    "\n",
    "y_train = train_set[\"monthly_rent\"]\n",
    "X_train = train_set.drop(columns=['monthly_rent'])\n",
    "\n",
    "y_test = val_set['monthly_rent']\n",
    "X_test = val_set.drop(columns=['monthly_rent'])"
   ]
  },
  {
   "cell_type": "code",
   "execution_count": null,
   "metadata": {},
   "outputs": [],
   "source": [
    "def train():\n",
    "    with wandb.init():\n",
    "        config = wandb.config\n",
    "\n",
    "        regressor = HistGradientBoostingRegressor(\n",
    "            random_state=42,\n",
    "            learning_rate=config.learning_rate,\n",
    "            max_iter=config.max_iter,\n",
    "            max_depth=config.max_depth,\n",
    "            max_leaf_nodes=config.max_leaf_nodes,\n",
    "            min_samples_leaf=config.min_samples_leaf,\n",
    "            l2_regularization=config.l2_regularization,\n",
    "            max_bins=config.max_bins)\n",
    "        regressor.fit(X_train, y_train)\n",
    "        train_score = regressor.score(X_train, y_train)\n",
    "        val_score = regressor.score(X_test, y_test)\n",
    "        \n",
    "        y_train_pred = regressor.predict(X_train)\n",
    "        train_rmse = mean_squared_error(y_train, y_train_pred, squared=False)\n",
    "        y_test_pred = regressor.predict(X_test)\n",
    "        val_rmse = mean_squared_error(y_test, y_test_pred, squared=False)\n",
    "\n",
    "\n",
    "    \n",
    "        # feat_importances = pd.Series(regressor.feature_importances_, index=X_train.columns)\n",
    "        # plt.barh(X_train.columns, feat_importances.nlargest(10))\n",
    "        # wandb.log({'feature_importances': plt})\n",
    "\n",
    "        # wandb.sklearn.plot_regressor(regressor, X_train, X_test, y_train, y_test, 'GradientBoost')\n",
    "        wandb.log(data={\"train_rmse\": train_rmse, \"train_score\": train_score, \"val_rmse\": val_rmse, \"val_score\": val_score})"
   ]
  },
  {
   "cell_type": "code",
   "execution_count": null,
   "metadata": {},
   "outputs": [],
   "source": [
    "sweep_id = wandb.sweep(sweep_config, project=\"hdb_rental_prices_feature_eng_rmse_histgb\")\n",
    "wandb.agent(sweep_id, train, count=20)"
   ]
  },
  {
   "attachments": {},
   "cell_type": "markdown",
   "metadata": {},
   "source": [
    "### Model for the Price Per Square Metre Set"
   ]
  },
  {
   "cell_type": "code",
   "execution_count": null,
   "metadata": {},
   "outputs": [],
   "source": [
    "sweep_config = {\n",
    "    'method': 'bayes'\n",
    "}\n",
    "metric = {\n",
    "    'name': 'val_rmse',\n",
    "    'goal': 'minimize'   \n",
    "    }\n",
    "\n",
    "sweep_config['metric'] = metric"
   ]
  },
  {
   "cell_type": "code",
   "execution_count": null,
   "metadata": {},
   "outputs": [],
   "source": [
    "parameters_dict = {\n",
    "    'learning_rate': {\n",
    "        'values': [0.1]\n",
    "    },\n",
    "    'max_iter': {\n",
    "        'values': [100, 200, 300, 500, 1000, 2000]\n",
    "    },\n",
    "    'max_leaf_nodes': {\n",
    "        'values': [10, 31, 50, 100]\n",
    "    },\n",
    "    'max_depth' : {\n",
    "        'values': [3, 4, 5, 6, 7, 8, 9]\n",
    "    },\n",
    "    'min_samples_leaf': {\n",
    "        'values': [20, 40, 60]\n",
    "    },\n",
    "    'l2_regularization': {\n",
    "        'values': [0, 0.1, 0.2, 0.3]\n",
    "    },\n",
    "    'max_bins': {\n",
    "        'values': [255, 128]\n",
    "    }\n",
    "}\n",
    "sweep_config['parameters'] = parameters_dict"
   ]
  },
  {
   "cell_type": "code",
   "execution_count": null,
   "metadata": {},
   "outputs": [],
   "source": [
    "TRAIN_DATA = PPSM_BASELINE_TRAIN\n",
    "VAL_DATA = PPSM_BASELINE_VAL"
   ]
  },
  {
   "cell_type": "code",
   "execution_count": null,
   "metadata": {},
   "outputs": [],
   "source": [
    "train_set = pd.read_csv(TRAIN_DATA)\n",
    "val_set = pd.read_csv(VAL_DATA)\n",
    "\n",
    "y_train = train_set[\"rent_per_sqm\"]\n",
    "X_train = train_set.drop(columns=['rent_per_sqm'])\n",
    "\n",
    "y_test = val_set['rent_per_sqm']\n",
    "X_test = val_set.drop(columns=['rent_per_sqm'])"
   ]
  },
  {
   "cell_type": "code",
   "execution_count": null,
   "metadata": {},
   "outputs": [],
   "source": [
    "def train():\n",
    "    with wandb.init():\n",
    "        config = wandb.config\n",
    "\n",
    "        regressor = HistGradientBoostingRegressor(\n",
    "            random_state=42,\n",
    "            learning_rate=config.learning_rate,\n",
    "            max_iter=config.max_iter,\n",
    "            max_depth=config.max_depth,\n",
    "            max_leaf_nodes=config.max_leaf_nodes,\n",
    "            min_samples_leaf=config.min_samples_leaf,\n",
    "            l2_regularization=config.l2_regularization,\n",
    "            max_bins=config.max_bins)\n",
    "        regressor.fit(X_train, y_train)\n",
    "        train_score = regressor.score(X_train, y_train)\n",
    "        val_score = regressor.score(X_test, y_test)\n",
    "        \n",
    "        y_train_pred = regressor.predict(X_train)\n",
    "        train_rmse = mean_squared_error(y_train, y_train_pred, squared=False)\n",
    "        y_test_pred = regressor.predict(X_test)\n",
    "        val_rmse = mean_squared_error(y_test, y_test_pred, squared=False)\n",
    "\n",
    "\n",
    "    \n",
    "        # feat_importances = pd.Series(regressor.feature_importances_, index=X_train.columns)\n",
    "        # plt.barh(X_train.columns, feat_importances.nlargest(10))\n",
    "        # wandb.log({'feature_importances': plt})\n",
    "\n",
    "        # wandb.sklearn.plot_regressor(regressor, X_train, X_test, y_train, y_test, 'GradientBoost')\n",
    "        wandb.log(data={\"train_rmse\": train_rmse, \"train_score\": train_score, \"val_rmse\": val_rmse, \"val_score\": val_score})"
   ]
  },
  {
   "cell_type": "code",
   "execution_count": null,
   "metadata": {},
   "outputs": [],
   "source": [
    "sweep_id = wandb.sweep(sweep_config, project=\"hdb_rental_prices_ppsm_baseline_rmse_histgb\")\n",
    "wandb.agent(sweep_id, train, count=20)"
   ]
  },
  {
   "attachments": {},
   "cell_type": "markdown",
   "metadata": {},
   "source": [
    "### Model for the Price Per Square Metre Set with Feature Engineering"
   ]
  },
  {
   "cell_type": "code",
   "execution_count": null,
   "metadata": {},
   "outputs": [],
   "source": [
    "sweep_config = {\n",
    "    'method': 'bayes'\n",
    "}\n",
    "metric = {\n",
    "    'name': 'mse',\n",
    "    'goal': 'minimize'   \n",
    "    }\n",
    "\n",
    "sweep_config['metric'] = metric"
   ]
  },
  {
   "cell_type": "code",
   "execution_count": null,
   "metadata": {},
   "outputs": [],
   "source": [
    "parameters_dict = {\n",
    "    'learning_rate': {\n",
    "        'values': [0.01, 0.1]\n",
    "    },\n",
    "    'n_estimators': {\n",
    "        'values': [100, 200, 300, 500]\n",
    "    },\n",
    "    'min_samples_split': {\n",
    "        'values': [4, 16, 32]\n",
    "    },\n",
    "    'min_samples_leaf': {\n",
    "        'values': [10, 20, 30]\n",
    "    },\n",
    "    'max_depth': {\n",
    "        'values': [3, 6, 9]\n",
    "    },\n",
    "    'min_impurity_decrease': {\n",
    "        'values': [0.1, 0.2]\n",
    "    },\n",
    "    'min_weight_fraction_leaf': {\n",
    "        'values': [0.0, 0.1]\n",
    "    },\n",
    "    'subsample': {\n",
    "        'values': [0.75, 0.5]\n",
    "    }\n",
    "}\n",
    "sweep_config['parameters'] = parameters_dict"
   ]
  },
  {
   "cell_type": "code",
   "execution_count": null,
   "metadata": {},
   "outputs": [],
   "source": [
    "TRAIN_DATA = PPSM_FEAT_ENG_TRAIN\n",
    "VAL_DATA = PPSM_FEAT_ENG_VAL"
   ]
  },
  {
   "cell_type": "code",
   "execution_count": null,
   "metadata": {},
   "outputs": [],
   "source": [
    "train_set = pd.read_csv(TRAIN_DATA)\n",
    "val_set = pd.read_csv(VAL_DATA)\n",
    "\n",
    "y_train = train_set[\"rent_per_sqm\"]\n",
    "X_train = train_set.drop(columns=['rent_per_sqm'])\n",
    "\n",
    "y_test = val_set['rent_per_sqm']\n",
    "X_test = val_set.drop(columns=['rent_per_sqm'])"
   ]
  },
  {
   "cell_type": "code",
   "execution_count": null,
   "metadata": {},
   "outputs": [],
   "source": [
    "def train():\n",
    "    with wandb.init():\n",
    "        config = wandb.config\n",
    "\n",
    "        regressor = HistGradientBoostingRegressor(\n",
    "            random_state=42,\n",
    "            learning_rate=config.learning_rate,\n",
    "            n_estimators=config.n_estimators,\n",
    "            max_depth=config.max_depth,\n",
    "            subsample=config.subsample,\n",
    "            min_samples_leaf=config.min_samples_leaf,\n",
    "            min_samples_split=config.min_samples_split,\n",
    "            min_impurity_decrease=config.min_impurity_decrease,\n",
    "            min_weight_fraction_leaf=config.min_weight_fraction_leaf)\n",
    "        regressor.fit(X_train, y_train)\n",
    "        \n",
    "        score = regressor.score(X_test, y_test)\n",
    "        y_pred = regressor.predict(X_test)\n",
    "        mse = mean_squared_error(y_test, y_pred)\n",
    "\n",
    "    \n",
    "        # feat_importances = pd.Series(regressor.feature_importances_, index=X_train.columns)\n",
    "        # plt.barh(X_train.columns, feat_importances.nlargest(10))\n",
    "        # wandb.log({'feature_importances': plt})\n",
    "\n",
    "        # wandb.sklearn.plot_regressor(regressor, X_train, X_test, y_train, y_test, 'GradientBoost')\n",
    "        wandb.log(data={\"mse\": mse, \"coefficient_of_determination\": score})"
   ]
  },
  {
   "cell_type": "code",
   "execution_count": null,
   "metadata": {},
   "outputs": [],
   "source": [
    "sweep_id = wandb.sweep(sweep_config, project=\"hdb_rental_prices_ppsm_feat_eng\")\n",
    "wandb.agent(sweep_id, train, count=20)"
   ]
  },
  {
   "attachments": {},
   "cell_type": "markdown",
   "metadata": {},
   "source": [
    "### Model for Baseline Target Encoding Dataset"
   ]
  },
  {
   "cell_type": "code",
   "execution_count": null,
   "metadata": {},
   "outputs": [],
   "source": [
    "sweep_config = {\n",
    "    'method': 'bayes'\n",
    "}\n",
    "metric = {\n",
    "    'name': 'mse',\n",
    "    'goal': 'minimize'   \n",
    "    }\n",
    "\n",
    "sweep_config['metric'] = metric"
   ]
  }
 ],
 "metadata": {
  "kernelspec": {
   "display_name": "nlp",
   "language": "python",
   "name": "python3"
  },
  "language_info": {
   "codemirror_mode": {
    "name": "ipython",
    "version": 3
   },
   "file_extension": ".py",
   "mimetype": "text/x-python",
   "name": "python",
   "nbconvert_exporter": "python",
   "pygments_lexer": "ipython3",
   "version": "3.8.17"
  },
  "orig_nbformat": 4
 },
 "nbformat": 4,
 "nbformat_minor": 2
}
