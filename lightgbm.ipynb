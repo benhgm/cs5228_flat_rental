{
 "cells": [
  {
   "cell_type": "markdown",
   "metadata": {},
   "source": [
    "# LightGBM"
   ]
  },
  {
   "cell_type": "code",
   "execution_count": 30,
   "metadata": {},
   "outputs": [],
   "source": [
    "import pandas as pd\n",
    "from sklearn.ensemble import HistGradientBoostingRegressor\n",
    "from sklearn.metrics import mean_squared_error"
   ]
  },
  {
   "cell_type": "code",
   "execution_count": 31,
   "metadata": {},
   "outputs": [],
   "source": [
    "def load_preprocessed_data(data_path: str, label_col: str):\n",
    "    df = pd.read_csv(data_path)\n",
    "    y = df[label_col]\n",
    "    X = df.drop(columns=label_col)\n",
    "    return X, y"
   ]
  },
  {
   "cell_type": "markdown",
   "metadata": {},
   "source": [
    "## 1. Cleaned dataset w/o feat eng variables"
   ]
  },
  {
   "cell_type": "code",
   "execution_count": 32,
   "metadata": {},
   "outputs": [],
   "source": [
    "data_path_train = \"data/train/baseline_train.csv\"\n",
    "data_path_val = \"data/train/baseline_val.csv\"\n",
    "label_col = \"monthly_rent\""
   ]
  },
  {
   "cell_type": "code",
   "execution_count": 33,
   "metadata": {},
   "outputs": [],
   "source": [
    "model_params = {\n",
    "    \"learning_rate\": 0.1,\n",
    "    \"max_iter\": 100,\n",
    "    \"max_leaf_nodes\": 31,\n",
    "    \"max_depth\": None,\n",
    "    \"min_samples_leaf\": 20,\n",
    "}"
   ]
  },
  {
   "cell_type": "code",
   "execution_count": 34,
   "metadata": {},
   "outputs": [],
   "source": [
    "model = HistGradientBoostingRegressor(**model_params)"
   ]
  },
  {
   "cell_type": "code",
   "execution_count": 35,
   "metadata": {},
   "outputs": [
    {
     "name": "stdout",
     "output_type": "stream",
     "text": [
      "Training: MSE = 221761.6449298726, Score = 0.568043798599414\n"
     ]
    }
   ],
   "source": [
    "X_train, y_train = load_preprocessed_data(data_path_train, label_col)\n",
    "model.fit(X_train, y_train)\n",
    "y_pred = model.predict(X_train)\n",
    "mse = mean_squared_error(y_train, y_pred)\n",
    "score = model.score(X_train, y_train)\n",
    "print(f\"Training: MSE = {mse}, Score = {score}\")"
   ]
  },
  {
   "cell_type": "code",
   "execution_count": 36,
   "metadata": {},
   "outputs": [
    {
     "name": "stdout",
     "output_type": "stream",
     "text": [
      "Validation: MSE = 226121.3467232415, Score = 0.5387529021447376\n"
     ]
    }
   ],
   "source": [
    "X_val, y_val = load_preprocessed_data(data_path_val, label_col)\n",
    "y_pred = model.predict(X_val)\n",
    "mse = mean_squared_error(y_val, y_pred)\n",
    "score = model.score(X_val, y_val)\n",
    "print(f\"Validation: MSE = {mse}, Score = {score}\")"
   ]
  },
  {
   "cell_type": "markdown",
   "metadata": {},
   "source": [
    "## 2. Cleaned dataset w/ feat eng variables"
   ]
  },
  {
   "cell_type": "code",
   "execution_count": 37,
   "metadata": {},
   "outputs": [],
   "source": [
    "data_path_train = \"data/train/baseline_w_feature_eng_train.csv\"\n",
    "data_path_val = \"data/train/baseline_w_feature_eng_val.csv\"\n",
    "label_col = \"monthly_rent\""
   ]
  },
  {
   "cell_type": "code",
   "execution_count": 38,
   "metadata": {},
   "outputs": [],
   "source": [
    "model_params = {\n",
    "    \"learning_rate\": 0.1,\n",
    "    \"max_iter\": 100,\n",
    "    \"max_leaf_nodes\": 31,\n",
    "    \"max_depth\": None,\n",
    "    \"min_samples_leaf\": 20,\n",
    "}"
   ]
  },
  {
   "cell_type": "code",
   "execution_count": 39,
   "metadata": {},
   "outputs": [],
   "source": [
    "model = HistGradientBoostingRegressor(**model_params)"
   ]
  },
  {
   "cell_type": "code",
   "execution_count": 40,
   "metadata": {},
   "outputs": [
    {
     "name": "stdout",
     "output_type": "stream",
     "text": [
      "Training: MSE = 221821.58280034648, Score = 0.5679579419120743\n"
     ]
    }
   ],
   "source": [
    "X_train, y_train = load_preprocessed_data(data_path_train, label_col)\n",
    "model.fit(X_train, y_train)\n",
    "y_pred = model.predict(X_train)\n",
    "mse = mean_squared_error(y_train, y_pred)\n",
    "score = model.score(X_train, y_train)\n",
    "print(f\"Training: MSE = {mse}, Score = {score}\")"
   ]
  },
  {
   "cell_type": "code",
   "execution_count": 41,
   "metadata": {},
   "outputs": [
    {
     "name": "stdout",
     "output_type": "stream",
     "text": [
      "Validation: MSE = 225901.56845204812, Score = 0.5393201125714477\n"
     ]
    }
   ],
   "source": [
    "X_val, y_val = load_preprocessed_data(data_path_val, label_col)\n",
    "y_pred = model.predict(X_val)\n",
    "mse = mean_squared_error(y_val, y_pred)\n",
    "score = model.score(X_val, y_val)\n",
    "print(f\"Validation: MSE = {mse}, Score = {score}\")"
   ]
  },
  {
   "cell_type": "markdown",
   "metadata": {},
   "source": [
    "## 3. Cleaned dataset w/o feat eng variables (Price per sqm as label)"
   ]
  },
  {
   "cell_type": "code",
   "execution_count": 42,
   "metadata": {},
   "outputs": [],
   "source": [
    "data_path_train = \"data/train/feature_eng_ppsm_train.csv\"\n",
    "data_path_val = \"data/train/feature_eng_ppsm_val.csv\"\n",
    "label_col = \"rent_per_sqm\""
   ]
  },
  {
   "cell_type": "code",
   "execution_count": 43,
   "metadata": {},
   "outputs": [],
   "source": [
    "model_params = {\n",
    "    \"learning_rate\": 0.1,\n",
    "    \"max_iter\": 100,\n",
    "    \"max_leaf_nodes\": 31,\n",
    "    \"max_depth\": None,\n",
    "    \"min_samples_leaf\": 20,\n",
    "}"
   ]
  },
  {
   "cell_type": "code",
   "execution_count": 44,
   "metadata": {},
   "outputs": [],
   "source": [
    "model = HistGradientBoostingRegressor(**model_params)"
   ]
  },
  {
   "cell_type": "code",
   "execution_count": 45,
   "metadata": {},
   "outputs": [
    {
     "name": "stdout",
     "output_type": "stream",
     "text": [
      "Training: MSE = 30.06692889062316, Score = 0.6332418450731643\n"
     ]
    }
   ],
   "source": [
    "X_train, y_train = load_preprocessed_data(data_path_train, label_col)\n",
    "model.fit(X_train, y_train)\n",
    "y_pred = model.predict(X_train)\n",
    "mse = mean_squared_error(y_train, y_pred)\n",
    "score = model.score(X_train, y_train)\n",
    "print(f\"Training: MSE = {mse}, Score = {score}\")"
   ]
  },
  {
   "cell_type": "code",
   "execution_count": 46,
   "metadata": {},
   "outputs": [
    {
     "name": "stdout",
     "output_type": "stream",
     "text": [
      "Validation: MSE = 31.618661595473185, Score = 0.6046956702766987\n"
     ]
    }
   ],
   "source": [
    "X_val, y_val = load_preprocessed_data(data_path_val, label_col)\n",
    "y_pred = model.predict(X_val)\n",
    "mse = mean_squared_error(y_val, y_pred)\n",
    "score = model.score(X_val, y_val)\n",
    "print(f\"Validation: MSE = {mse}, Score = {score}\")"
   ]
  }
 ],
 "metadata": {
  "kernelspec": {
   "display_name": "cs5228",
   "language": "python",
   "name": "python3"
  },
  "language_info": {
   "codemirror_mode": {
    "name": "ipython",
    "version": 3
   },
   "file_extension": ".py",
   "mimetype": "text/x-python",
   "name": "python",
   "nbconvert_exporter": "python",
   "pygments_lexer": "ipython3",
   "version": "3.11.4"
  }
 },
 "nbformat": 4,
 "nbformat_minor": 2
}
