{
 "cells": [
  {
   "cell_type": "markdown",
   "metadata": {},
   "source": [
    "# LightGBM"
   ]
  },
  {
   "cell_type": "markdown",
   "metadata": {},
   "source": [
    "We explore the solution of using LightGBM models using the `HistGradientBoostingRegressor` implementation from `scikit-learn`"
   ]
  },
  {
   "cell_type": "code",
   "execution_count": 1,
   "metadata": {},
   "outputs": [],
   "source": [
    "import joblib\n",
    "import numpy as np\n",
    "import matplotlib.pyplot as plt\n",
    "import pandas as pd\n",
    "import random\n",
    "import scipy.stats as stats\n",
    "import string\n",
    "import time\n",
    "from sklearn.ensemble import HistGradientBoostingRegressor\n",
    "from sklearn.model_selection import RandomizedSearchCV\n",
    "from sklearn.metrics import mean_squared_error\n",
    "from src.utils import *"
   ]
  },
  {
   "cell_type": "code",
   "execution_count": 2,
   "metadata": {},
   "outputs": [],
   "source": [
    "# Datasets\n",
    "BASELINE_TRAIN = \"data/train/baseline_train.csv\"\n",
    "BASELINE_VAL = \"data/train/baseline_val.csv\"\n",
    "BASELINE_TEST = \"data/test/baseline_test.csv\"\n",
    "\n",
    "TRUNCATED_BASELINE_TRAIN = \"data/train/baseline-truncated_train.csv\"\n",
    "TRUNCATED_BASELINE_VAL = \"data/train/baseline-truncated_val.csv\"\n",
    "TRUNCATED_BASELINE_TEST = \"data/test/baseline-truncated_test.csv\"\n",
    "\n",
    "BASELINE_W_FEAT_ENG_TRAIN = \"data/train/baseline-w-feature-eng_train.csv\"\n",
    "BASELINE_W_FEAT_ENG_VAL = \"data/train/baseline-w-feature-eng_val.csv\"\n",
    "BASELINE_W_FEAT_ENG_TEST = \"data/test/baseline-w-feature-eng_test.csv\"\n",
    "\n",
    "TRUNCATED_FEAT_ENG_TRAIN = \"data/train/truncated-feat-eng_train.csv\"\n",
    "TRUNCATED_FEAT_ENG_VAL = \"data/train/truncated-feat-eng_val.csv\"\n",
    "TRUNCATED_FEAT_ENG_TEST = \"data/test/truncated-feat-eng_test.csv\""
   ]
  },
  {
   "cell_type": "code",
   "execution_count": 3,
   "metadata": {},
   "outputs": [],
   "source": [
    "def random_string(k: int = 6) -> str:\n",
    "    res = \"\".join(random.choices(string.ascii_uppercase + string.digits, k=k))\n",
    "    return str(res)"
   ]
  },
  {
   "cell_type": "code",
   "execution_count": 4,
   "metadata": {},
   "outputs": [],
   "source": [
    "def save_lightgbm_model(model: HistGradientBoostingRegressor) -> str:\n",
    "    ts = str(int(time.time()))\n",
    "    res = random_string()\n",
    "    filename = f\"tmp/model/lightgbm_{ts}_{res}.joblib\"\n",
    "    joblib.dump(model, filename)\n",
    "    return filename\n",
    "\n",
    "def load_lightgbm_model(filename: str) -> HistGradientBoostingRegressor:\n",
    "    return joblib.load(filename)"
   ]
  },
  {
   "cell_type": "code",
   "execution_count": 5,
   "metadata": {},
   "outputs": [],
   "source": [
    "def save_test_prediction(y_pred) -> str:\n",
    "    ts = str(int(time.time()))\n",
    "    res = random_string()\n",
    "    filename = f\"tmp/pred/lightgbm_test_pred_{ts}_{res}.csv\"\n",
    "    y_pred = np.array(y_pred)\n",
    "    pred_df = pd.DataFrame(y_pred, columns=[\"Predicted\"])\n",
    "    pred_df.index.name = \"Id\"\n",
    "    pred_df.to_csv(filename)\n",
    "    return filename"
   ]
  },
  {
   "cell_type": "markdown",
   "metadata": {},
   "source": [
    "## 0. Extra observations"
   ]
  },
  {
   "cell_type": "markdown",
   "metadata": {},
   "source": [
    "### a. Special property of `monthly_rent` label"
   ]
  },
  {
   "cell_type": "code",
   "execution_count": 6,
   "metadata": {},
   "outputs": [],
   "source": [
    "def round_to_nearest_price(y, round_interval: float = 50.0):\n",
    "    # function to round the label to the nearest price (default: nearest 50 sgd)\n",
    "    return np.round(np.array(y) / round_interval) * round_interval"
   ]
  },
  {
   "cell_type": "code",
   "execution_count": 7,
   "metadata": {},
   "outputs": [],
   "source": [
    "df = pd.read_csv(BASELINE_TRAIN)\n",
    "_, y_original = split_features_and_monthly_rent_label(df)\n",
    "y_round = round_to_nearest_price(y_original, round_interval=50.0)"
   ]
  },
  {
   "cell_type": "code",
   "execution_count": 8,
   "metadata": {},
   "outputs": [
    {
     "data": {
      "text/plain": [
       "True"
      ]
     },
     "execution_count": 8,
     "metadata": {},
     "output_type": "execute_result"
    }
   ],
   "source": [
    "np.array_equal(y_original, y_round)"
   ]
  },
  {
   "cell_type": "markdown",
   "metadata": {},
   "source": [
    "As shown above, there is a special property of the `monthly_rent` label: People like to set price at round number (in this case, price are set only at every 50 sgd interval). We will make use of this to see if we can improve our prediction by rounding the predicted price to the nearest 50 sgd"
   ]
  },
  {
   "cell_type": "markdown",
   "metadata": {},
   "source": [
    "### b. Baseline parameters vs hyper-parameter tuning"
   ]
  },
  {
   "cell_type": "code",
   "execution_count": 9,
   "metadata": {},
   "outputs": [],
   "source": [
    "df_train = pd.read_csv(BASELINE_TRAIN)\n",
    "df_val = pd.read_csv(BASELINE_VAL)"
   ]
  },
  {
   "cell_type": "code",
   "execution_count": 10,
   "metadata": {},
   "outputs": [],
   "source": [
    "X_train, y_train = split_features_and_monthly_rent_label(df_train)\n",
    "X_val, y_val = split_features_and_monthly_rent_label(df_val)"
   ]
  },
  {
   "cell_type": "markdown",
   "metadata": {},
   "source": [
    "Baseline parameters"
   ]
  },
  {
   "cell_type": "code",
   "execution_count": 11,
   "metadata": {},
   "outputs": [
    {
     "data": {
      "text/html": [
       "<style>#sk-container-id-1 {color: black;}#sk-container-id-1 pre{padding: 0;}#sk-container-id-1 div.sk-toggleable {background-color: white;}#sk-container-id-1 label.sk-toggleable__label {cursor: pointer;display: block;width: 100%;margin-bottom: 0;padding: 0.3em;box-sizing: border-box;text-align: center;}#sk-container-id-1 label.sk-toggleable__label-arrow:before {content: \"▸\";float: left;margin-right: 0.25em;color: #696969;}#sk-container-id-1 label.sk-toggleable__label-arrow:hover:before {color: black;}#sk-container-id-1 div.sk-estimator:hover label.sk-toggleable__label-arrow:before {color: black;}#sk-container-id-1 div.sk-toggleable__content {max-height: 0;max-width: 0;overflow: hidden;text-align: left;background-color: #f0f8ff;}#sk-container-id-1 div.sk-toggleable__content pre {margin: 0.2em;color: black;border-radius: 0.25em;background-color: #f0f8ff;}#sk-container-id-1 input.sk-toggleable__control:checked~div.sk-toggleable__content {max-height: 200px;max-width: 100%;overflow: auto;}#sk-container-id-1 input.sk-toggleable__control:checked~label.sk-toggleable__label-arrow:before {content: \"▾\";}#sk-container-id-1 div.sk-estimator input.sk-toggleable__control:checked~label.sk-toggleable__label {background-color: #d4ebff;}#sk-container-id-1 div.sk-label input.sk-toggleable__control:checked~label.sk-toggleable__label {background-color: #d4ebff;}#sk-container-id-1 input.sk-hidden--visually {border: 0;clip: rect(1px 1px 1px 1px);clip: rect(1px, 1px, 1px, 1px);height: 1px;margin: -1px;overflow: hidden;padding: 0;position: absolute;width: 1px;}#sk-container-id-1 div.sk-estimator {font-family: monospace;background-color: #f0f8ff;border: 1px dotted black;border-radius: 0.25em;box-sizing: border-box;margin-bottom: 0.5em;}#sk-container-id-1 div.sk-estimator:hover {background-color: #d4ebff;}#sk-container-id-1 div.sk-parallel-item::after {content: \"\";width: 100%;border-bottom: 1px solid gray;flex-grow: 1;}#sk-container-id-1 div.sk-label:hover label.sk-toggleable__label {background-color: #d4ebff;}#sk-container-id-1 div.sk-serial::before {content: \"\";position: absolute;border-left: 1px solid gray;box-sizing: border-box;top: 0;bottom: 0;left: 50%;z-index: 0;}#sk-container-id-1 div.sk-serial {display: flex;flex-direction: column;align-items: center;background-color: white;padding-right: 0.2em;padding-left: 0.2em;position: relative;}#sk-container-id-1 div.sk-item {position: relative;z-index: 1;}#sk-container-id-1 div.sk-parallel {display: flex;align-items: stretch;justify-content: center;background-color: white;position: relative;}#sk-container-id-1 div.sk-item::before, #sk-container-id-1 div.sk-parallel-item::before {content: \"\";position: absolute;border-left: 1px solid gray;box-sizing: border-box;top: 0;bottom: 0;left: 50%;z-index: -1;}#sk-container-id-1 div.sk-parallel-item {display: flex;flex-direction: column;z-index: 1;position: relative;background-color: white;}#sk-container-id-1 div.sk-parallel-item:first-child::after {align-self: flex-end;width: 50%;}#sk-container-id-1 div.sk-parallel-item:last-child::after {align-self: flex-start;width: 50%;}#sk-container-id-1 div.sk-parallel-item:only-child::after {width: 0;}#sk-container-id-1 div.sk-dashed-wrapped {border: 1px dashed gray;margin: 0 0.4em 0.5em 0.4em;box-sizing: border-box;padding-bottom: 0.4em;background-color: white;}#sk-container-id-1 div.sk-label label {font-family: monospace;font-weight: bold;display: inline-block;line-height: 1.2em;}#sk-container-id-1 div.sk-label-container {text-align: center;}#sk-container-id-1 div.sk-container {/* jupyter's `normalize.less` sets `[hidden] { display: none; }` but bootstrap.min.css set `[hidden] { display: none !important; }` so we also need the `!important` here to be able to override the default hidden behavior on the sphinx rendered scikit-learn.org. See: https://github.com/scikit-learn/scikit-learn/issues/21755 */display: inline-block !important;position: relative;}#sk-container-id-1 div.sk-text-repr-fallback {display: none;}</style><div id=\"sk-container-id-1\" class=\"sk-top-container\"><div class=\"sk-text-repr-fallback\"><pre>HistGradientBoostingRegressor()</pre><b>In a Jupyter environment, please rerun this cell to show the HTML representation or trust the notebook. <br />On GitHub, the HTML representation is unable to render, please try loading this page with nbviewer.org.</b></div><div class=\"sk-container\" hidden><div class=\"sk-item\"><div class=\"sk-estimator sk-toggleable\"><input class=\"sk-toggleable__control sk-hidden--visually\" id=\"sk-estimator-id-1\" type=\"checkbox\" checked><label for=\"sk-estimator-id-1\" class=\"sk-toggleable__label sk-toggleable__label-arrow\">HistGradientBoostingRegressor</label><div class=\"sk-toggleable__content\"><pre>HistGradientBoostingRegressor()</pre></div></div></div></div></div>"
      ],
      "text/plain": [
       "HistGradientBoostingRegressor()"
      ]
     },
     "execution_count": 11,
     "metadata": {},
     "output_type": "execute_result"
    }
   ],
   "source": [
    "model = HistGradientBoostingRegressor(\n",
    "    learning_rate = 0.1,\n",
    "    max_iter = 100,\n",
    "    max_leaf_nodes = 31,\n",
    "    max_depth = None,\n",
    "    min_samples_leaf = 20,\n",
    ")\n",
    "model.fit(X_train, y_train)"
   ]
  },
  {
   "cell_type": "code",
   "execution_count": 12,
   "metadata": {},
   "outputs": [
    {
     "name": "stdout",
     "output_type": "stream",
     "text": [
      "Training: RMSE = 470.88315512738154, Score = 0.5681035956260614\n"
     ]
    }
   ],
   "source": [
    "y_train_pred = model.predict(X_train)\n",
    "rmse_train = mean_squared_error(y_train, y_train_pred, squared=False)\n",
    "score_train = model.score(X_train, y_train)\n",
    "print(f\"Training: RMSE = {rmse_train}, Score = {score_train}\")"
   ]
  },
  {
   "cell_type": "code",
   "execution_count": 13,
   "metadata": {},
   "outputs": [
    {
     "name": "stdout",
     "output_type": "stream",
     "text": [
      "Validation: RMSE = 475.41995821097805, Score = 0.5389511932735701\n"
     ]
    }
   ],
   "source": [
    "y_val_pred = model.predict(X_val)\n",
    "rmse_val = mean_squared_error(y_val, y_val_pred, squared=False)\n",
    "score_val = model.score(X_val, y_val)\n",
    "print(f\"Validation: RMSE = {rmse_val}, Score = {score_val}\")"
   ]
  },
  {
   "cell_type": "markdown",
   "metadata": {},
   "source": [
    "Hyper-parameter tuning"
   ]
  },
  {
   "cell_type": "code",
   "execution_count": 14,
   "metadata": {},
   "outputs": [],
   "source": [
    "param_space = {\n",
    "    \"learning_rate\": stats.loguniform(1e-2, 1e0),\n",
    "    \"max_iter\": [100, 1000],\n",
    "    \"max_leaf_nodes\": [None, 31],\n",
    "    \"min_samples_leaf\": stats.randint(10, 40),\n",
    "    \"l2_regularization\": [0, 0.1],\n",
    "}"
   ]
  },
  {
   "cell_type": "code",
   "execution_count": 15,
   "metadata": {},
   "outputs": [
    {
     "data": {
      "text/html": [
       "<style>#sk-container-id-2 {color: black;}#sk-container-id-2 pre{padding: 0;}#sk-container-id-2 div.sk-toggleable {background-color: white;}#sk-container-id-2 label.sk-toggleable__label {cursor: pointer;display: block;width: 100%;margin-bottom: 0;padding: 0.3em;box-sizing: border-box;text-align: center;}#sk-container-id-2 label.sk-toggleable__label-arrow:before {content: \"▸\";float: left;margin-right: 0.25em;color: #696969;}#sk-container-id-2 label.sk-toggleable__label-arrow:hover:before {color: black;}#sk-container-id-2 div.sk-estimator:hover label.sk-toggleable__label-arrow:before {color: black;}#sk-container-id-2 div.sk-toggleable__content {max-height: 0;max-width: 0;overflow: hidden;text-align: left;background-color: #f0f8ff;}#sk-container-id-2 div.sk-toggleable__content pre {margin: 0.2em;color: black;border-radius: 0.25em;background-color: #f0f8ff;}#sk-container-id-2 input.sk-toggleable__control:checked~div.sk-toggleable__content {max-height: 200px;max-width: 100%;overflow: auto;}#sk-container-id-2 input.sk-toggleable__control:checked~label.sk-toggleable__label-arrow:before {content: \"▾\";}#sk-container-id-2 div.sk-estimator input.sk-toggleable__control:checked~label.sk-toggleable__label {background-color: #d4ebff;}#sk-container-id-2 div.sk-label input.sk-toggleable__control:checked~label.sk-toggleable__label {background-color: #d4ebff;}#sk-container-id-2 input.sk-hidden--visually {border: 0;clip: rect(1px 1px 1px 1px);clip: rect(1px, 1px, 1px, 1px);height: 1px;margin: -1px;overflow: hidden;padding: 0;position: absolute;width: 1px;}#sk-container-id-2 div.sk-estimator {font-family: monospace;background-color: #f0f8ff;border: 1px dotted black;border-radius: 0.25em;box-sizing: border-box;margin-bottom: 0.5em;}#sk-container-id-2 div.sk-estimator:hover {background-color: #d4ebff;}#sk-container-id-2 div.sk-parallel-item::after {content: \"\";width: 100%;border-bottom: 1px solid gray;flex-grow: 1;}#sk-container-id-2 div.sk-label:hover label.sk-toggleable__label {background-color: #d4ebff;}#sk-container-id-2 div.sk-serial::before {content: \"\";position: absolute;border-left: 1px solid gray;box-sizing: border-box;top: 0;bottom: 0;left: 50%;z-index: 0;}#sk-container-id-2 div.sk-serial {display: flex;flex-direction: column;align-items: center;background-color: white;padding-right: 0.2em;padding-left: 0.2em;position: relative;}#sk-container-id-2 div.sk-item {position: relative;z-index: 1;}#sk-container-id-2 div.sk-parallel {display: flex;align-items: stretch;justify-content: center;background-color: white;position: relative;}#sk-container-id-2 div.sk-item::before, #sk-container-id-2 div.sk-parallel-item::before {content: \"\";position: absolute;border-left: 1px solid gray;box-sizing: border-box;top: 0;bottom: 0;left: 50%;z-index: -1;}#sk-container-id-2 div.sk-parallel-item {display: flex;flex-direction: column;z-index: 1;position: relative;background-color: white;}#sk-container-id-2 div.sk-parallel-item:first-child::after {align-self: flex-end;width: 50%;}#sk-container-id-2 div.sk-parallel-item:last-child::after {align-self: flex-start;width: 50%;}#sk-container-id-2 div.sk-parallel-item:only-child::after {width: 0;}#sk-container-id-2 div.sk-dashed-wrapped {border: 1px dashed gray;margin: 0 0.4em 0.5em 0.4em;box-sizing: border-box;padding-bottom: 0.4em;background-color: white;}#sk-container-id-2 div.sk-label label {font-family: monospace;font-weight: bold;display: inline-block;line-height: 1.2em;}#sk-container-id-2 div.sk-label-container {text-align: center;}#sk-container-id-2 div.sk-container {/* jupyter's `normalize.less` sets `[hidden] { display: none; }` but bootstrap.min.css set `[hidden] { display: none !important; }` so we also need the `!important` here to be able to override the default hidden behavior on the sphinx rendered scikit-learn.org. See: https://github.com/scikit-learn/scikit-learn/issues/21755 */display: inline-block !important;position: relative;}#sk-container-id-2 div.sk-text-repr-fallback {display: none;}</style><div id=\"sk-container-id-2\" class=\"sk-top-container\"><div class=\"sk-text-repr-fallback\"><pre>RandomizedSearchCV(estimator=HistGradientBoostingRegressor(), n_iter=20,\n",
       "                   param_distributions={&#x27;l2_regularization&#x27;: [0, 0.1],\n",
       "                                        &#x27;learning_rate&#x27;: &lt;scipy.stats._distn_infrastructure.rv_continuous_frozen object at 0x00000221BDB59790&gt;,\n",
       "                                        &#x27;max_iter&#x27;: [100, 1000],\n",
       "                                        &#x27;max_leaf_nodes&#x27;: [None, 31],\n",
       "                                        &#x27;min_samples_leaf&#x27;: &lt;scipy.stats._distn_infrastructure.rv_discrete_frozen object at 0x00000221BDB7BF90&gt;})</pre><b>In a Jupyter environment, please rerun this cell to show the HTML representation or trust the notebook. <br />On GitHub, the HTML representation is unable to render, please try loading this page with nbviewer.org.</b></div><div class=\"sk-container\" hidden><div class=\"sk-item sk-dashed-wrapped\"><div class=\"sk-label-container\"><div class=\"sk-label sk-toggleable\"><input class=\"sk-toggleable__control sk-hidden--visually\" id=\"sk-estimator-id-2\" type=\"checkbox\" ><label for=\"sk-estimator-id-2\" class=\"sk-toggleable__label sk-toggleable__label-arrow\">RandomizedSearchCV</label><div class=\"sk-toggleable__content\"><pre>RandomizedSearchCV(estimator=HistGradientBoostingRegressor(), n_iter=20,\n",
       "                   param_distributions={&#x27;l2_regularization&#x27;: [0, 0.1],\n",
       "                                        &#x27;learning_rate&#x27;: &lt;scipy.stats._distn_infrastructure.rv_continuous_frozen object at 0x00000221BDB59790&gt;,\n",
       "                                        &#x27;max_iter&#x27;: [100, 1000],\n",
       "                                        &#x27;max_leaf_nodes&#x27;: [None, 31],\n",
       "                                        &#x27;min_samples_leaf&#x27;: &lt;scipy.stats._distn_infrastructure.rv_discrete_frozen object at 0x00000221BDB7BF90&gt;})</pre></div></div></div><div class=\"sk-parallel\"><div class=\"sk-parallel-item\"><div class=\"sk-item\"><div class=\"sk-label-container\"><div class=\"sk-label sk-toggleable\"><input class=\"sk-toggleable__control sk-hidden--visually\" id=\"sk-estimator-id-3\" type=\"checkbox\" ><label for=\"sk-estimator-id-3\" class=\"sk-toggleable__label sk-toggleable__label-arrow\">estimator: HistGradientBoostingRegressor</label><div class=\"sk-toggleable__content\"><pre>HistGradientBoostingRegressor()</pre></div></div></div><div class=\"sk-serial\"><div class=\"sk-item\"><div class=\"sk-estimator sk-toggleable\"><input class=\"sk-toggleable__control sk-hidden--visually\" id=\"sk-estimator-id-4\" type=\"checkbox\" ><label for=\"sk-estimator-id-4\" class=\"sk-toggleable__label sk-toggleable__label-arrow\">HistGradientBoostingRegressor</label><div class=\"sk-toggleable__content\"><pre>HistGradientBoostingRegressor()</pre></div></div></div></div></div></div></div></div></div></div>"
      ],
      "text/plain": [
       "RandomizedSearchCV(estimator=HistGradientBoostingRegressor(), n_iter=20,\n",
       "                   param_distributions={'l2_regularization': [0, 0.1],\n",
       "                                        'learning_rate': <scipy.stats._distn_infrastructure.rv_continuous_frozen object at 0x00000221BDB59790>,\n",
       "                                        'max_iter': [100, 1000],\n",
       "                                        'max_leaf_nodes': [None, 31],\n",
       "                                        'min_samples_leaf': <scipy.stats._distn_infrastructure.rv_discrete_frozen object at 0x00000221BDB7BF90>})"
      ]
     },
     "execution_count": 15,
     "metadata": {},
     "output_type": "execute_result"
    }
   ],
   "source": [
    "model = RandomizedSearchCV(\n",
    "    estimator=HistGradientBoostingRegressor(),\n",
    "    param_distributions=param_space,\n",
    "    n_iter=20,\n",
    ")\n",
    "model.fit(X_train, y_train)"
   ]
  },
  {
   "cell_type": "code",
   "execution_count": 16,
   "metadata": {},
   "outputs": [
    {
     "data": {
      "text/plain": [
       "{'l2_regularization': 0.1,\n",
       " 'learning_rate': 0.11245429751757643,\n",
       " 'max_iter': 100,\n",
       " 'max_leaf_nodes': 31,\n",
       " 'min_samples_leaf': 39}"
      ]
     },
     "execution_count": 16,
     "metadata": {},
     "output_type": "execute_result"
    }
   ],
   "source": [
    "model.best_params_"
   ]
  },
  {
   "cell_type": "code",
   "execution_count": 17,
   "metadata": {},
   "outputs": [
    {
     "name": "stdout",
     "output_type": "stream",
     "text": [
      "Training: RMSE = 470.3544220587656, Score = 0.56907296436401\n"
     ]
    }
   ],
   "source": [
    "y_train_pred = model.predict(X_train)\n",
    "rmse_train = mean_squared_error(y_train, y_train_pred, squared=False)\n",
    "score_train = model.score(X_train, y_train)\n",
    "print(f\"Training: RMSE = {rmse_train}, Score = {score_train}\")"
   ]
  },
  {
   "cell_type": "code",
   "execution_count": 18,
   "metadata": {},
   "outputs": [
    {
     "name": "stdout",
     "output_type": "stream",
     "text": [
      "Validation: RMSE = 474.779683073143, Score = 0.540192198423398\n"
     ]
    }
   ],
   "source": [
    "y_val_pred = model.predict(X_val)\n",
    "rmse_val = mean_squared_error(y_val, y_val_pred, squared=False)\n",
    "score_val = model.score(X_val, y_val)\n",
    "print(f\"Validation: RMSE = {rmse_val}, Score = {score_val}\")"
   ]
  },
  {
   "cell_type": "markdown",
   "metadata": {},
   "source": [
    "As we can see from the results above, there is very minimal gain from hyper-parameter tuning. As such, we will prioritize prediction improvement from data engineering rather than hyper-parameter tuning"
   ]
  },
  {
   "cell_type": "markdown",
   "metadata": {},
   "source": [
    "### c. Prediction vs true value graph"
   ]
  },
  {
   "cell_type": "markdown",
   "metadata": {},
   "source": [
    "Using the results above, we can sketch the predicion vs true value graph. As this graph is quite similar for all datasets, we will only sketch it once in this section to check how it looks like"
   ]
  },
  {
   "cell_type": "code",
   "execution_count": 19,
   "metadata": {},
   "outputs": [
    {
     "data": {
      "image/png": "[encoded data removed]",
      "text/plain": [
       "<Figure size 1000x1000 with 1 Axes>"
      ]
     },
     "metadata": {},
     "output_type": "display_data"
    }
   ],
   "source": [
    "plt.figure(figsize=(10,10))\n",
    "plt.scatter(y_val, y_val_pred)\n",
    "p1 = max(max(y_val_pred), max(y_val))\n",
    "p2 = min(min(y_val_pred), min(y_val))\n",
    "plt.plot([p1, p2], [p1, p2])\n",
    "plt.xlabel(\"True Values\", fontsize=15)\n",
    "plt.ylabel(\"Predictions\", fontsize=15)\n",
    "plt.axis(\"equal\")\n",
    "plt.show()"
   ]
  },
  {
   "cell_type": "markdown",
   "metadata": {},
   "source": [
    "## 1. Baseline (Cleaned dataset without feat eng variables)"
   ]
  },
  {
   "cell_type": "code",
   "execution_count": 20,
   "metadata": {},
   "outputs": [],
   "source": [
    "train_path = BASELINE_TRAIN\n",
    "val_path = BASELINE_VAL\n",
    "test_path = BASELINE_TEST"
   ]
  },
  {
   "cell_type": "code",
   "execution_count": 21,
   "metadata": {},
   "outputs": [],
   "source": [
    "df_train = pd.read_csv(train_path)\n",
    "df_val = pd.read_csv(val_path)\n",
    "df_test = pd.read_csv(test_path)"
   ]
  },
  {
   "cell_type": "markdown",
   "metadata": {},
   "source": [
    "### a. Prediction using the original `monthly_rent` label"
   ]
  },
  {
   "cell_type": "code",
   "execution_count": 22,
   "metadata": {},
   "outputs": [],
   "source": [
    "X_train, y_train = split_features_and_monthly_rent_label(df_train)\n",
    "X_val, y_val = split_features_and_monthly_rent_label(df_val)\n",
    "X_test, _ = split_features_and_monthly_rent_label(df_test)"
   ]
  },
  {
   "cell_type": "code",
   "execution_count": 23,
   "metadata": {},
   "outputs": [
    {
     "name": "stdout",
     "output_type": "stream",
     "text": [
      "Model saved at tmp/model/lightgbm_1698581373_4IR31Z.joblib\n"
     ]
    }
   ],
   "source": [
    "model = HistGradientBoostingRegressor(\n",
    "    learning_rate = 0.1,\n",
    "    max_iter = 100,\n",
    "    max_leaf_nodes = 31,\n",
    "    max_depth = None,\n",
    "    min_samples_leaf = 20,\n",
    ")\n",
    "model.fit(X_train, y_train)\n",
    "model_path = save_lightgbm_model(model)\n",
    "print(f\"Model saved at {model_path}\")"
   ]
  },
  {
   "cell_type": "code",
   "execution_count": 24,
   "metadata": {},
   "outputs": [
    {
     "name": "stdout",
     "output_type": "stream",
     "text": [
      "Training: RMSE = 470.97488611920465, Score = 0.5679353069792842\n"
     ]
    }
   ],
   "source": [
    "y_train_pred = model.predict(X_train)\n",
    "rmse_train = mean_squared_error(y_train, y_train_pred, squared=False)\n",
    "score_train = model.score(X_train, y_train)\n",
    "print(f\"Training: RMSE = {rmse_train}, Score = {score_train}\")"
   ]
  },
  {
   "cell_type": "code",
   "execution_count": 25,
   "metadata": {},
   "outputs": [
    {
     "name": "stdout",
     "output_type": "stream",
     "text": [
      "Validation: RMSE = 475.7323632433293\n",
      "Validation (rounded prediction): RMSE = 475.8111495120727\n"
     ]
    }
   ],
   "source": [
    "y_val_pred = model.predict(X_val)\n",
    "y_val_pred_round = round_to_nearest_price(y_val_pred)\n",
    "rmse_val = mean_squared_error(y_val, y_val_pred, squared=False)\n",
    "rmse_val_round = mean_squared_error(y_val, y_val_pred_round, squared=False)\n",
    "print(f\"Validation: RMSE = {rmse_val}\")\n",
    "print(f\"Validation (rounded prediction): RMSE = {rmse_val_round}\")"
   ]
  },
  {
   "cell_type": "code",
   "execution_count": 26,
   "metadata": {},
   "outputs": [
    {
     "name": "stdout",
     "output_type": "stream",
     "text": [
      "Test prediction saved at tmp/pred/lightgbm_test_pred_1698581373_MN5X7H.csv\n",
      "Test prediction (rounded prediction) saved at tmp/pred/lightgbm_test_pred_1698581373_HNDM4X.csv\n"
     ]
    }
   ],
   "source": [
    "y_test_pred = model.predict(X_test)\n",
    "y_test_pred_round = round_to_nearest_price(y_test_pred)\n",
    "y_test_pred_path = save_test_prediction(y_test_pred)\n",
    "y_test_pred_round_path = save_test_prediction(y_test_pred_round)\n",
    "print(f\"Test prediction saved at {y_test_pred_path}\")\n",
    "print(f\"Test prediction (rounded prediction) saved at {y_test_pred_round_path}\")"
   ]
  },
  {
   "cell_type": "markdown",
   "metadata": {},
   "source": [
    "### b. Prediction using custom `rent_per_sqm` label"
   ]
  },
  {
   "cell_type": "code",
   "execution_count": 27,
   "metadata": {},
   "outputs": [],
   "source": [
    "X_train, y_train, floor_area_sqm_train = split_features_and_rent_per_sqm_label(df_train)\n",
    "X_val, y_val, floor_area_sqm_val = split_features_and_rent_per_sqm_label(df_val)\n",
    "X_test, _, floor_area_sqm_test = split_features_and_rent_per_sqm_label(df_test)\n",
    "\n",
    "_, y_train_price = split_features_and_monthly_rent_label(df_train)\n",
    "_, y_val_price = split_features_and_monthly_rent_label(df_val)"
   ]
  },
  {
   "cell_type": "code",
   "execution_count": 28,
   "metadata": {},
   "outputs": [
    {
     "name": "stdout",
     "output_type": "stream",
     "text": [
      "Model saved at tmp/model/lightgbm_1698581379_RYD449.joblib\n"
     ]
    }
   ],
   "source": [
    "model = HistGradientBoostingRegressor(\n",
    "    learning_rate = 0.1,\n",
    "    max_iter = 100,\n",
    "    max_leaf_nodes = 31,\n",
    "    max_depth = None,\n",
    "    min_samples_leaf = 20,\n",
    ")\n",
    "model.fit(X_train, y_train)\n",
    "model_path = save_lightgbm_model(model)\n",
    "print(f\"Model saved at {model_path}\")"
   ]
  },
  {
   "cell_type": "code",
   "execution_count": 30,
   "metadata": {},
   "outputs": [
    {
     "name": "stdout",
     "output_type": "stream",
     "text": [
      "Training: RMSE = 484.2923654785169, Score = 0.6315263659884703\n"
     ]
    }
   ],
   "source": [
    "y_train_pred_ppsm = model.predict(X_train)\n",
    "y_train_pred_price = convert_rent_per_sqm_label_to_monthly_rent_label(y_train_pred_ppsm, floor_area_sqm_train)\n",
    "rmse_train = mean_squared_error(y_train_price, y_train_pred_price, squared=False)\n",
    "score_train = model.score(X_train, y_train)\n",
    "print(f\"Training: RMSE = {rmse_train}, Score = {score_train}\")"
   ]
  },
  {
   "cell_type": "code",
   "execution_count": 31,
   "metadata": {},
   "outputs": [
    {
     "name": "stdout",
     "output_type": "stream",
     "text": [
      "Validation: RMSE = 486.8487322006596\n",
      "Validation (rounded prediction): RMSE = 487.09855265644137\n"
     ]
    }
   ],
   "source": [
    "y_val_pred_ppsm = model.predict(X_val)\n",
    "y_val_pred_price = convert_rent_per_sqm_label_to_monthly_rent_label(y_val_pred_ppsm, floor_area_sqm_val)\n",
    "y_val_pred_price_round = round_to_nearest_price(y_val_pred_price)\n",
    "rmse_val = mean_squared_error(y_val_price, y_val_pred_price, squared=False)\n",
    "rmse_val_round = mean_squared_error(y_val_price, y_val_pred_price_round, squared=False)\n",
    "print(f\"Validation: RMSE = {rmse_val}\")\n",
    "print(f\"Validation (rounded prediction): RMSE = {rmse_val_round}\")"
   ]
  },
  {
   "cell_type": "code",
   "execution_count": 32,
   "metadata": {},
   "outputs": [
    {
     "name": "stdout",
     "output_type": "stream",
     "text": [
      "Test prediction saved at tmp/pred/lightgbm_test_pred_1698582490_AYSQJN.csv\n",
      "Test prediction (rounded prediction) saved at tmp/pred/lightgbm_test_pred_1698582490_DKU1XL.csv\n"
     ]
    }
   ],
   "source": [
    "y_test_pred_ppsm = model.predict(X_test)\n",
    "y_test_pred = convert_rent_per_sqm_label_to_monthly_rent_label(y_test_pred_ppsm, floor_area_sqm_test)\n",
    "y_test_pred_round = round_to_nearest_price(y_test_pred)\n",
    "y_test_pred_path = save_test_prediction(y_test_pred)\n",
    "y_test_pred_round_path = save_test_prediction(y_test_pred_round)\n",
    "print(f\"Test prediction saved at {y_test_pred_path}\")\n",
    "print(f\"Test prediction (rounded prediction) saved at {y_test_pred_round_path}\")"
   ]
  },
  {
   "cell_type": "markdown",
   "metadata": {},
   "source": [
    "## 2. Dataset with additional features"
   ]
  },
  {
   "cell_type": "code",
   "execution_count": 33,
   "metadata": {},
   "outputs": [],
   "source": [
    "train_path = BASELINE_W_FEAT_ENG_TRAIN\n",
    "val_path = BASELINE_W_FEAT_ENG_VAL\n",
    "test_path = BASELINE_W_FEAT_ENG_TEST"
   ]
  },
  {
   "cell_type": "code",
   "execution_count": 34,
   "metadata": {},
   "outputs": [],
   "source": [
    "df_train = pd.read_csv(train_path)\n",
    "df_val = pd.read_csv(val_path)\n",
    "df_test = pd.read_csv(test_path)"
   ]
  },
  {
   "cell_type": "markdown",
   "metadata": {},
   "source": [
    "### a. Prediction using the original `monthly_rent` label"
   ]
  },
  {
   "cell_type": "code",
   "execution_count": 35,
   "metadata": {},
   "outputs": [],
   "source": [
    "X_train, y_train = split_features_and_monthly_rent_label(df_train)\n",
    "X_val, y_val = split_features_and_monthly_rent_label(df_val)\n",
    "X_test, _ = split_features_and_monthly_rent_label(df_test)"
   ]
  },
  {
   "cell_type": "code",
   "execution_count": 36,
   "metadata": {},
   "outputs": [
    {
     "name": "stdout",
     "output_type": "stream",
     "text": [
      "Model saved at tmp/model/lightgbm_1698582496_PQ4NHK.joblib\n"
     ]
    }
   ],
   "source": [
    "model = HistGradientBoostingRegressor(\n",
    "    learning_rate = 0.1,\n",
    "    max_iter = 100,\n",
    "    max_leaf_nodes = 31,\n",
    "    max_depth = None,\n",
    "    min_samples_leaf = 20,\n",
    ")\n",
    "model.fit(X_train, y_train)\n",
    "model_path = save_lightgbm_model(model)\n",
    "print(f\"Model saved at {model_path}\")"
   ]
  },
  {
   "cell_type": "code",
   "execution_count": 37,
   "metadata": {},
   "outputs": [
    {
     "name": "stdout",
     "output_type": "stream",
     "text": [
      "Training: RMSE = 471.1192991113379, Score = 0.5676703021010041\n"
     ]
    }
   ],
   "source": [
    "y_train_pred = model.predict(X_train)\n",
    "rmse_train = mean_squared_error(y_train, y_train_pred, squared=False)\n",
    "score_train = model.score(X_train, y_train)\n",
    "print(f\"Training: RMSE = {rmse_train}, Score = {score_train}\")"
   ]
  },
  {
   "cell_type": "code",
   "execution_count": 38,
   "metadata": {},
   "outputs": [
    {
     "name": "stdout",
     "output_type": "stream",
     "text": [
      "Validation: RMSE = 475.5102896026055\n",
      "Validation (rounded prediction): RMSE = 475.42218080354644\n"
     ]
    }
   ],
   "source": [
    "y_val_pred = model.predict(X_val)\n",
    "y_val_pred_round = round_to_nearest_price(y_val_pred)\n",
    "rmse_val = mean_squared_error(y_val, y_val_pred, squared=False)\n",
    "rmse_val_round = mean_squared_error(y_val, y_val_pred_round, squared=False)\n",
    "print(f\"Validation: RMSE = {rmse_val}\")\n",
    "print(f\"Validation (rounded prediction): RMSE = {rmse_val_round}\")"
   ]
  },
  {
   "cell_type": "code",
   "execution_count": 39,
   "metadata": {},
   "outputs": [
    {
     "name": "stdout",
     "output_type": "stream",
     "text": [
      "Test prediction saved at tmp/pred/lightgbm_test_pred_1698582497_7273N9.csv\n",
      "Test prediction (rounded prediction) saved at tmp/pred/lightgbm_test_pred_1698582497_WUT8XQ.csv\n"
     ]
    }
   ],
   "source": [
    "y_test_pred = model.predict(X_test)\n",
    "y_test_pred_round = round_to_nearest_price(y_test_pred)\n",
    "y_test_pred_path = save_test_prediction(y_test_pred)\n",
    "y_test_pred_round_path = save_test_prediction(y_test_pred_round)\n",
    "print(f\"Test prediction saved at {y_test_pred_path}\")\n",
    "print(f\"Test prediction (rounded prediction) saved at {y_test_pred_round_path}\")"
   ]
  },
  {
   "cell_type": "markdown",
   "metadata": {},
   "source": [
    "### b. Prediction using custom `rent_per_sqm` label"
   ]
  },
  {
   "cell_type": "code",
   "execution_count": 40,
   "metadata": {},
   "outputs": [],
   "source": [
    "X_train, y_train, floor_area_sqm_train = split_features_and_rent_per_sqm_label(df_train)\n",
    "X_val, y_val, floor_area_sqm_val = split_features_and_rent_per_sqm_label(df_val)\n",
    "X_test, _, floor_area_sqm_test = split_features_and_rent_per_sqm_label(df_test)\n",
    "\n",
    "_, y_train_price = split_features_and_monthly_rent_label(df_train)\n",
    "_, y_val_price = split_features_and_monthly_rent_label(df_val)"
   ]
  },
  {
   "cell_type": "code",
   "execution_count": 41,
   "metadata": {},
   "outputs": [
    {
     "name": "stdout",
     "output_type": "stream",
     "text": [
      "Model saved at tmp/model/lightgbm_1698582502_6KTNTU.joblib\n"
     ]
    }
   ],
   "source": [
    "model = HistGradientBoostingRegressor(\n",
    "    learning_rate = 0.1,\n",
    "    max_iter = 100,\n",
    "    max_leaf_nodes = 31,\n",
    "    max_depth = None,\n",
    "    min_samples_leaf = 20,\n",
    ")\n",
    "model.fit(X_train, y_train)\n",
    "model_path = save_lightgbm_model(model)\n",
    "print(f\"Model saved at {model_path}\")"
   ]
  },
  {
   "cell_type": "code",
   "execution_count": 42,
   "metadata": {},
   "outputs": [
    {
     "name": "stdout",
     "output_type": "stream",
     "text": [
      "Training: RMSE = 484.00954655517467, Score = 0.6329314321758092\n"
     ]
    }
   ],
   "source": [
    "y_train_pred_ppsm = model.predict(X_train)\n",
    "y_train_pred_price = convert_rent_per_sqm_label_to_monthly_rent_label(y_train_pred_ppsm, floor_area_sqm_train)\n",
    "rmse_train = mean_squared_error(y_train_price, y_train_pred_price, squared=False)\n",
    "score_train = model.score(X_train, y_train)\n",
    "print(f\"Training: RMSE = {rmse_train}, Score = {score_train}\")"
   ]
  },
  {
   "cell_type": "code",
   "execution_count": 43,
   "metadata": {},
   "outputs": [
    {
     "name": "stdout",
     "output_type": "stream",
     "text": [
      "Validation: RMSE = 488.96019825307326\n",
      "Validation (rounded prediction): RMSE = 489.31584891560584\n"
     ]
    }
   ],
   "source": [
    "y_val_pred_ppsm = model.predict(X_val)\n",
    "y_val_pred_price = convert_rent_per_sqm_label_to_monthly_rent_label(y_val_pred_ppsm, floor_area_sqm_val)\n",
    "y_val_pred_price_round = round_to_nearest_price(y_val_pred_price)\n",
    "rmse_val = mean_squared_error(y_val_price, y_val_pred_price, squared=False)\n",
    "rmse_val_round = mean_squared_error(y_val_price, y_val_pred_price_round, squared=False)\n",
    "print(f\"Validation: RMSE = {rmse_val}\")\n",
    "print(f\"Validation (rounded prediction): RMSE = {rmse_val_round}\")"
   ]
  },
  {
   "cell_type": "code",
   "execution_count": 44,
   "metadata": {},
   "outputs": [
    {
     "name": "stdout",
     "output_type": "stream",
     "text": [
      "Test prediction saved at tmp/pred/lightgbm_test_pred_1698582502_TYAN9C.csv\n",
      "Test prediction (rounded prediction) saved at tmp/pred/lightgbm_test_pred_1698582502_97O6VO.csv\n"
     ]
    }
   ],
   "source": [
    "y_test_pred_ppsm = model.predict(X_test)\n",
    "y_test_pred = convert_rent_per_sqm_label_to_monthly_rent_label(y_test_pred_ppsm, floor_area_sqm_test)\n",
    "y_test_pred_round = round_to_nearest_price(y_test_pred)\n",
    "y_test_pred_path = save_test_prediction(y_test_pred)\n",
    "y_test_pred_round_path = save_test_prediction(y_test_pred_round)\n",
    "print(f\"Test prediction saved at {y_test_pred_path}\")\n",
    "print(f\"Test prediction (rounded prediction) saved at {y_test_pred_round_path}\")"
   ]
  },
  {
   "cell_type": "markdown",
   "metadata": {},
   "source": [
    "## 3. Truncated baseline dataset (extra columns removal)"
   ]
  },
  {
   "cell_type": "code",
   "execution_count": 45,
   "metadata": {},
   "outputs": [],
   "source": [
    "train_path = TRUNCATED_BASELINE_TRAIN\n",
    "val_path = TRUNCATED_BASELINE_VAL\n",
    "test_path = TRUNCATED_BASELINE_TEST"
   ]
  },
  {
   "cell_type": "code",
   "execution_count": 46,
   "metadata": {},
   "outputs": [],
   "source": [
    "df_train = pd.read_csv(train_path)\n",
    "df_val = pd.read_csv(val_path)\n",
    "df_test = pd.read_csv(test_path)"
   ]
  },
  {
   "cell_type": "markdown",
   "metadata": {},
   "source": [
    "### a. Prediction using the original `monthly_rent` label"
   ]
  },
  {
   "cell_type": "code",
   "execution_count": 47,
   "metadata": {},
   "outputs": [],
   "source": [
    "X_train, y_train = split_features_and_monthly_rent_label(df_train)\n",
    "X_val, y_val = split_features_and_monthly_rent_label(df_val)\n",
    "X_test, _ = split_features_and_monthly_rent_label(df_test)"
   ]
  },
  {
   "cell_type": "code",
   "execution_count": 48,
   "metadata": {},
   "outputs": [
    {
     "name": "stdout",
     "output_type": "stream",
     "text": [
      "Model saved at tmp/model/lightgbm_1698582504_RYGOLV.joblib\n"
     ]
    }
   ],
   "source": [
    "model = HistGradientBoostingRegressor(\n",
    "    learning_rate = 0.1,\n",
    "    max_iter = 100,\n",
    "    max_leaf_nodes = 31,\n",
    "    max_depth = None,\n",
    "    min_samples_leaf = 20,\n",
    ")\n",
    "model.fit(X_train, y_train)\n",
    "model_path = save_lightgbm_model(model)\n",
    "print(f\"Model saved at {model_path}\")"
   ]
  },
  {
   "cell_type": "code",
   "execution_count": 49,
   "metadata": {},
   "outputs": [
    {
     "name": "stdout",
     "output_type": "stream",
     "text": [
      "Training: RMSE = 473.118880464112, Score = 0.5639926223050177\n"
     ]
    }
   ],
   "source": [
    "y_train_pred = model.predict(X_train)\n",
    "rmse_train = mean_squared_error(y_train, y_train_pred, squared=False)\n",
    "score_train = model.score(X_train, y_train)\n",
    "print(f\"Training: RMSE = {rmse_train}, Score = {score_train}\")"
   ]
  },
  {
   "cell_type": "code",
   "execution_count": 50,
   "metadata": {},
   "outputs": [
    {
     "name": "stdout",
     "output_type": "stream",
     "text": [
      "Validation: RMSE = 476.43654808355495\n",
      "Validation (rounded prediction): RMSE = 476.8149536245691\n"
     ]
    }
   ],
   "source": [
    "y_val_pred = model.predict(X_val)\n",
    "y_val_pred_round = round_to_nearest_price(y_val_pred)\n",
    "rmse_val = mean_squared_error(y_val, y_val_pred, squared=False)\n",
    "rmse_val_round = mean_squared_error(y_val, y_val_pred_round, squared=False)\n",
    "print(f\"Validation: RMSE = {rmse_val}\")\n",
    "print(f\"Validation (rounded prediction): RMSE = {rmse_val_round}\")"
   ]
  },
  {
   "cell_type": "code",
   "execution_count": 51,
   "metadata": {},
   "outputs": [
    {
     "name": "stdout",
     "output_type": "stream",
     "text": [
      "Test prediction saved at tmp/pred/lightgbm_test_pred_1698582504_DDTQWJ.csv\n",
      "Test prediction (rounded prediction) saved at tmp/pred/lightgbm_test_pred_1698582504_SBW0Y7.csv\n"
     ]
    }
   ],
   "source": [
    "y_test_pred = model.predict(X_test)\n",
    "y_test_pred_round = round_to_nearest_price(y_test_pred)\n",
    "y_test_pred_path = save_test_prediction(y_test_pred)\n",
    "y_test_pred_round_path = save_test_prediction(y_test_pred_round)\n",
    "print(f\"Test prediction saved at {y_test_pred_path}\")\n",
    "print(f\"Test prediction (rounded prediction) saved at {y_test_pred_round_path}\")"
   ]
  },
  {
   "cell_type": "markdown",
   "metadata": {},
   "source": [
    "### b. Prediction using custom `rent_per_sqm` label"
   ]
  },
  {
   "cell_type": "code",
   "execution_count": 52,
   "metadata": {},
   "outputs": [],
   "source": [
    "X_train, y_train, floor_area_sqm_train = split_features_and_rent_per_sqm_label(df_train)\n",
    "X_val, y_val, floor_area_sqm_val = split_features_and_rent_per_sqm_label(df_val)\n",
    "X_test, _, floor_area_sqm_test = split_features_and_rent_per_sqm_label(df_test)\n",
    "\n",
    "_, y_train_price = split_features_and_monthly_rent_label(df_train)\n",
    "_, y_val_price = split_features_and_monthly_rent_label(df_val)"
   ]
  },
  {
   "cell_type": "code",
   "execution_count": 53,
   "metadata": {},
   "outputs": [
    {
     "name": "stdout",
     "output_type": "stream",
     "text": [
      "Model saved at tmp/model/lightgbm_1698582506_RLG44E.joblib\n"
     ]
    }
   ],
   "source": [
    "model = HistGradientBoostingRegressor(\n",
    "    learning_rate = 0.1,\n",
    "    max_iter = 100,\n",
    "    max_leaf_nodes = 31,\n",
    "    max_depth = None,\n",
    "    min_samples_leaf = 20,\n",
    ")\n",
    "model.fit(X_train, y_train)\n",
    "model_path = save_lightgbm_model(model)\n",
    "print(f\"Model saved at {model_path}\")"
   ]
  },
  {
   "cell_type": "code",
   "execution_count": 54,
   "metadata": {},
   "outputs": [
    {
     "name": "stdout",
     "output_type": "stream",
     "text": [
      "Training: RMSE = 485.1143261578816, Score = 0.6295893916039943\n"
     ]
    }
   ],
   "source": [
    "y_train_pred_ppsm = model.predict(X_train)\n",
    "y_train_pred_price = convert_rent_per_sqm_label_to_monthly_rent_label(y_train_pred_ppsm, floor_area_sqm_train)\n",
    "rmse_train = mean_squared_error(y_train_price, y_train_pred_price, squared=False)\n",
    "score_train = model.score(X_train, y_train)\n",
    "print(f\"Training: RMSE = {rmse_train}, Score = {score_train}\")"
   ]
  },
  {
   "cell_type": "code",
   "execution_count": 55,
   "metadata": {},
   "outputs": [
    {
     "name": "stdout",
     "output_type": "stream",
     "text": [
      "Validation: RMSE = 487.65577486568037\n",
      "Validation (rounded prediction): RMSE = 487.8810476608685\n"
     ]
    }
   ],
   "source": [
    "y_val_pred_ppsm = model.predict(X_val)\n",
    "y_val_pred_price = convert_rent_per_sqm_label_to_monthly_rent_label(y_val_pred_ppsm, floor_area_sqm_val)\n",
    "y_val_pred_price_round = round_to_nearest_price(y_val_pred_price)\n",
    "rmse_val = mean_squared_error(y_val_price, y_val_pred_price, squared=False)\n",
    "rmse_val_round = mean_squared_error(y_val_price, y_val_pred_price_round, squared=False)\n",
    "print(f\"Validation: RMSE = {rmse_val}\")\n",
    "print(f\"Validation (rounded prediction): RMSE = {rmse_val_round}\")"
   ]
  },
  {
   "cell_type": "code",
   "execution_count": 56,
   "metadata": {},
   "outputs": [
    {
     "name": "stdout",
     "output_type": "stream",
     "text": [
      "Test prediction saved at tmp/pred/lightgbm_test_pred_1698582506_AX0U80.csv\n",
      "Test prediction (rounded prediction) saved at tmp/pred/lightgbm_test_pred_1698582506_W8H9BX.csv\n"
     ]
    }
   ],
   "source": [
    "y_test_pred_ppsm = model.predict(X_test)\n",
    "y_test_pred = convert_rent_per_sqm_label_to_monthly_rent_label(y_test_pred_ppsm, floor_area_sqm_test)\n",
    "y_test_pred_round = round_to_nearest_price(y_test_pred)\n",
    "y_test_pred_path = save_test_prediction(y_test_pred)\n",
    "y_test_pred_round_path = save_test_prediction(y_test_pred_round)\n",
    "print(f\"Test prediction saved at {y_test_pred_path}\")\n",
    "print(f\"Test prediction (rounded prediction) saved at {y_test_pred_round_path}\")"
   ]
  },
  {
   "cell_type": "markdown",
   "metadata": {},
   "source": [
    "## 4. Truncated baseline + additional features dataset"
   ]
  },
  {
   "cell_type": "code",
   "execution_count": 57,
   "metadata": {},
   "outputs": [],
   "source": [
    "train_path = TRUNCATED_FEAT_ENG_TRAIN\n",
    "val_path = TRUNCATED_FEAT_ENG_VAL\n",
    "test_path = TRUNCATED_FEAT_ENG_TEST"
   ]
  },
  {
   "cell_type": "code",
   "execution_count": 58,
   "metadata": {},
   "outputs": [],
   "source": [
    "df_train = pd.read_csv(train_path)\n",
    "df_val = pd.read_csv(val_path)\n",
    "df_test = pd.read_csv(test_path)"
   ]
  },
  {
   "cell_type": "markdown",
   "metadata": {},
   "source": [
    "### a. Prediction using the original `monthly_rent` label"
   ]
  },
  {
   "cell_type": "code",
   "execution_count": 59,
   "metadata": {},
   "outputs": [],
   "source": [
    "X_train, y_train = split_features_and_monthly_rent_label(df_train)\n",
    "X_val, y_val = split_features_and_monthly_rent_label(df_val)\n",
    "X_test, _ = split_features_and_monthly_rent_label(df_test)"
   ]
  },
  {
   "cell_type": "code",
   "execution_count": 60,
   "metadata": {},
   "outputs": [
    {
     "name": "stdout",
     "output_type": "stream",
     "text": [
      "Model saved at tmp/model/lightgbm_1698582508_1535LE.joblib\n"
     ]
    }
   ],
   "source": [
    "model = HistGradientBoostingRegressor(\n",
    "    learning_rate = 0.1,\n",
    "    max_iter = 100,\n",
    "    max_leaf_nodes = 31,\n",
    "    max_depth = None,\n",
    "    min_samples_leaf = 20,\n",
    ")\n",
    "model.fit(X_train, y_train)\n",
    "model_path = save_lightgbm_model(model)\n",
    "print(f\"Model saved at {model_path}\")"
   ]
  },
  {
   "cell_type": "code",
   "execution_count": 61,
   "metadata": {},
   "outputs": [
    {
     "name": "stdout",
     "output_type": "stream",
     "text": [
      "Training: RMSE = 470.0750001593485, Score = 0.569584811087428\n"
     ]
    }
   ],
   "source": [
    "y_train_pred = model.predict(X_train)\n",
    "rmse_train = mean_squared_error(y_train, y_train_pred, squared=False)\n",
    "score_train = model.score(X_train, y_train)\n",
    "print(f\"Training: RMSE = {rmse_train}, Score = {score_train}\")"
   ]
  },
  {
   "cell_type": "code",
   "execution_count": 62,
   "metadata": {},
   "outputs": [
    {
     "name": "stdout",
     "output_type": "stream",
     "text": [
      "Validation: RMSE = 475.88728534075983\n",
      "Validation (rounded prediction): RMSE = 475.914470607202\n"
     ]
    }
   ],
   "source": [
    "y_val_pred = model.predict(X_val)\n",
    "y_val_pred_round = round_to_nearest_price(y_val_pred)\n",
    "rmse_val = mean_squared_error(y_val, y_val_pred, squared=False)\n",
    "rmse_val_round = mean_squared_error(y_val, y_val_pred_round, squared=False)\n",
    "print(f\"Validation: RMSE = {rmse_val}\")\n",
    "print(f\"Validation (rounded prediction): RMSE = {rmse_val_round}\")"
   ]
  },
  {
   "cell_type": "code",
   "execution_count": 63,
   "metadata": {},
   "outputs": [
    {
     "name": "stdout",
     "output_type": "stream",
     "text": [
      "Test prediction saved at tmp/pred/lightgbm_test_pred_1698582508_XWAA81.csv\n",
      "Test prediction (rounded prediction) saved at tmp/pred/lightgbm_test_pred_1698582508_PUM68S.csv\n"
     ]
    }
   ],
   "source": [
    "y_test_pred = model.predict(X_test)\n",
    "y_test_pred_round = round_to_nearest_price(y_test_pred)\n",
    "y_test_pred_path = save_test_prediction(y_test_pred)\n",
    "y_test_pred_round_path = save_test_prediction(y_test_pred_round)\n",
    "print(f\"Test prediction saved at {y_test_pred_path}\")\n",
    "print(f\"Test prediction (rounded prediction) saved at {y_test_pred_round_path}\")"
   ]
  },
  {
   "cell_type": "markdown",
   "metadata": {},
   "source": [
    "### b. Prediction using custom `rent_per_sqm` label"
   ]
  },
  {
   "cell_type": "code",
   "execution_count": 64,
   "metadata": {},
   "outputs": [],
   "source": [
    "X_train, y_train, floor_area_sqm_train = split_features_and_rent_per_sqm_label(df_train)\n",
    "X_val, y_val, floor_area_sqm_val = split_features_and_rent_per_sqm_label(df_val)\n",
    "X_test, _, floor_area_sqm_test = split_features_and_rent_per_sqm_label(df_test)\n",
    "\n",
    "_, y_train_price = split_features_and_monthly_rent_label(df_train)\n",
    "_, y_val_price = split_features_and_monthly_rent_label(df_val)"
   ]
  },
  {
   "cell_type": "code",
   "execution_count": 65,
   "metadata": {},
   "outputs": [
    {
     "name": "stdout",
     "output_type": "stream",
     "text": [
      "Model saved at tmp/model/lightgbm_1698582509_WYGOF5.joblib\n"
     ]
    }
   ],
   "source": [
    "model = HistGradientBoostingRegressor(\n",
    "    learning_rate = 0.1,\n",
    "    max_iter = 100,\n",
    "    max_leaf_nodes = 31,\n",
    "    max_depth = None,\n",
    "    min_samples_leaf = 20,\n",
    ")\n",
    "model.fit(X_train, y_train)\n",
    "model_path = save_lightgbm_model(model)\n",
    "print(f\"Model saved at {model_path}\")"
   ]
  },
  {
   "cell_type": "code",
   "execution_count": 66,
   "metadata": {},
   "outputs": [
    {
     "name": "stdout",
     "output_type": "stream",
     "text": [
      "Training: RMSE = 484.8439874535361, Score = 0.6311742211286782\n"
     ]
    }
   ],
   "source": [
    "y_train_pred_ppsm = model.predict(X_train)\n",
    "y_train_pred_price = convert_rent_per_sqm_label_to_monthly_rent_label(y_train_pred_ppsm, floor_area_sqm_train)\n",
    "rmse_train = mean_squared_error(y_train_price, y_train_pred_price, squared=False)\n",
    "score_train = model.score(X_train, y_train)\n",
    "print(f\"Training: RMSE = {rmse_train}, Score = {score_train}\")"
   ]
  },
  {
   "cell_type": "code",
   "execution_count": 67,
   "metadata": {},
   "outputs": [
    {
     "name": "stdout",
     "output_type": "stream",
     "text": [
      "Validation: RMSE = 489.91840929828146\n",
      "Validation (rounded prediction): RMSE = 490.0072278378487\n"
     ]
    }
   ],
   "source": [
    "y_val_pred_ppsm = model.predict(X_val)\n",
    "y_val_pred_price = convert_rent_per_sqm_label_to_monthly_rent_label(y_val_pred_ppsm, floor_area_sqm_val)\n",
    "y_val_pred_price_round = round_to_nearest_price(y_val_pred_price)\n",
    "rmse_val = mean_squared_error(y_val_price, y_val_pred_price, squared=False)\n",
    "rmse_val_round = mean_squared_error(y_val_price, y_val_pred_price_round, squared=False)\n",
    "print(f\"Validation: RMSE = {rmse_val}\")\n",
    "print(f\"Validation (rounded prediction): RMSE = {rmse_val_round}\")"
   ]
  },
  {
   "cell_type": "code",
   "execution_count": 68,
   "metadata": {},
   "outputs": [
    {
     "name": "stdout",
     "output_type": "stream",
     "text": [
      "Test prediction saved at tmp/pred/lightgbm_test_pred_1698582510_VWD12P.csv\n",
      "Test prediction (rounded prediction) saved at tmp/pred/lightgbm_test_pred_1698582510_DHWWOY.csv\n"
     ]
    }
   ],
   "source": [
    "y_test_pred_ppsm = model.predict(X_test)\n",
    "y_test_pred = convert_rent_per_sqm_label_to_monthly_rent_label(y_test_pred_ppsm, floor_area_sqm_test)\n",
    "y_test_pred_round = round_to_nearest_price(y_test_pred)\n",
    "y_test_pred_path = save_test_prediction(y_test_pred)\n",
    "y_test_pred_round_path = save_test_prediction(y_test_pred_round)\n",
    "print(f\"Test prediction saved at {y_test_pred_path}\")\n",
    "print(f\"Test prediction (rounded prediction) saved at {y_test_pred_round_path}\")"
   ]
  }
 ],
 "metadata": {
  "kernelspec": {
   "display_name": "cs5228",
   "language": "python",
   "name": "python3"
  },
  "language_info": {
   "codemirror_mode": {
    "name": "ipython",
    "version": 3
   },
   "file_extension": ".py",
   "mimetype": "text/x-python",
   "name": "python",
   "nbconvert_exporter": "python",
   "pygments_lexer": "ipython3",
   "version": "3.11.4"
  }
 },
 "nbformat": 4,
 "nbformat_minor": 2
}
