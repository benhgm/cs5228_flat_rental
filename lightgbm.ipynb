{
 "cells": [
  {
   "cell_type": "markdown",
   "metadata": {},
   "source": [
    "# LightGBM"
   ]
  },
  {
   "cell_type": "markdown",
   "metadata": {},
   "source": [
    "We explore the solution of using LightGBM models using the `HistGradientBoostingRegressor` implementation from `scikit-learn`"
   ]
  },
  {
   "cell_type": "markdown",
   "metadata": {},
   "source": [
    "| Approach | Best Params | Train RMSE | Validation RMSE |\n",
    "|:--------|:--------|:--------|:--------|\n",
    "|1|learning_rate: 0.1, max_depth: 16, max_leaf_nodes: 15, min_samples_leaf: 200|474.98|475.01|\n",
    "|2|learning_rate: 0.1, max_depth: None, max_leaf_nodes: 15, min_samples_leaf: 200|472.58|475.61|\n",
    "|3|learning_rate: 0.1, max_depth: 4, max_leaf_nodes: 15, min_samples_leaf: 100|473.91|474.53|\n",
    "|4|learning_rate: 0.1, max_depth: 4, max_leaf_nodes: 15, min_samples_leaf: 100|475.78|475.57|"
   ]
  },
  {
   "cell_type": "code",
   "execution_count": 1,
   "metadata": {},
   "outputs": [],
   "source": [
    "import joblib\n",
    "import numpy as np\n",
    "import pandas as pd\n",
    "import random\n",
    "import string\n",
    "import time\n",
    "from sklearn.ensemble import HistGradientBoostingRegressor\n",
    "from sklearn.model_selection import GridSearchCV, KFold\n",
    "from sklearn.metrics import mean_squared_error"
   ]
  },
  {
   "cell_type": "code",
   "execution_count": 2,
   "metadata": {},
   "outputs": [],
   "source": [
    "# Datasets\n",
    "BASELINE_TRAIN = \"data/train/baseline_train.csv\"\n",
    "BASELINE_VAL = \"data/train/baseline_val.csv\"\n",
    "BASELINE_TEST = \"data/test/baseline_test.csv\"\n",
    "\n",
    "TRUNCATED_BASELINE_TRAIN = \"data/train/baseline-truncated_train.csv\"\n",
    "TRUNCATED_BASELINE_VAL = \"data/train/baseline-truncated_val.csv\"\n",
    "TRUNCATED_BASELINE_TEST = \"data/test/baseline-truncated_test.csv\"\n",
    "\n",
    "BASELINE_W_FEAT_ENG_TRAIN = \"data/train/baseline-w-feature-eng_train.csv\"\n",
    "BASELINE_W_FEAT_ENG_VAL = \"data/train/baseline-w-feature-eng_val.csv\"\n",
    "BASELINE_W_FEAT_ENG_TEST = \"data/test/baseline-w-feature-eng_test.csv\"\n",
    "\n",
    "TRUNCATED_FEAT_ENG_TRAIN = \"data/train/truncated-feat-eng_train.csv\"\n",
    "TRUNCATED_FEAT_ENG_VAL = \"data/train/truncated-feat-eng_val.csv\"\n",
    "TRUNCATED_FEAT_ENG_TEST = \"data/test/truncated-feat-eng_test.csv\""
   ]
  },
  {
   "cell_type": "code",
   "execution_count": 3,
   "metadata": {},
   "outputs": [],
   "source": [
    "def split_features_and_monthly_rent_label(df: pd.DataFrame):\n",
    "    if \"monthly_rent\" not in df.columns:\n",
    "        # test data\n",
    "        X = df.copy()\n",
    "        return X, None\n",
    "    X = df.drop(columns=\"monthly_rent\")\n",
    "    y = df[\"monthly_rent\"]\n",
    "    return X, y"
   ]
  },
  {
   "cell_type": "code",
   "execution_count": 4,
   "metadata": {},
   "outputs": [],
   "source": [
    "def random_string(k: int = 6) -> str:\n",
    "    res = \"\".join(random.choices(string.ascii_uppercase + string.digits, k=k))\n",
    "    return str(res)"
   ]
  },
  {
   "cell_type": "code",
   "execution_count": 5,
   "metadata": {},
   "outputs": [],
   "source": [
    "def save_model(model) -> str:\n",
    "    ts = str(int(time.time()))\n",
    "    res = random_string()\n",
    "    filename = f\"tmp/model/lightgbm_{ts}_{res}.joblib\"\n",
    "    joblib.dump(model, filename)\n",
    "    return filename\n",
    "\n",
    "def load_model(filename: str):\n",
    "    return joblib.load(filename)"
   ]
  },
  {
   "cell_type": "code",
   "execution_count": 6,
   "metadata": {},
   "outputs": [],
   "source": [
    "def save_test_prediction(y_pred) -> str:\n",
    "    ts = str(int(time.time()))\n",
    "    res = random_string()\n",
    "    filename = f\"tmp/pred/lightgbm_test_pred_{ts}_{res}.csv\"\n",
    "    y_pred = np.array(y_pred)\n",
    "    pred_df = pd.DataFrame(y_pred, columns=[\"Predicted\"])\n",
    "    pred_df.index.name = \"Id\"\n",
    "    pred_df.to_csv(filename)\n",
    "    return filename"
   ]
  },
  {
   "cell_type": "markdown",
   "metadata": {},
   "source": [
    "## 1. Baseline (Cleaned dataset without feat eng variables)"
   ]
  },
  {
   "cell_type": "code",
   "execution_count": 20,
   "metadata": {},
   "outputs": [],
   "source": [
    "train_path = BASELINE_TRAIN\n",
    "val_path = BASELINE_VAL\n",
    "test_path = BASELINE_TEST"
   ]
  },
  {
   "cell_type": "code",
   "execution_count": 21,
   "metadata": {},
   "outputs": [],
   "source": [
    "df_train = pd.read_csv(train_path)\n",
    "df_val = pd.read_csv(val_path)\n",
    "df_test = pd.read_csv(test_path)"
   ]
  },
  {
   "cell_type": "code",
   "execution_count": 22,
   "metadata": {},
   "outputs": [],
   "source": [
    "X_train, y_train = split_features_and_monthly_rent_label(df_train)\n",
    "X_val, y_val = split_features_and_monthly_rent_label(df_val)\n",
    "X_test, _ = split_features_and_monthly_rent_label(df_test)"
   ]
  },
  {
   "cell_type": "markdown",
   "metadata": {},
   "source": [
    "### a. Base model"
   ]
  },
  {
   "cell_type": "code",
   "execution_count": 23,
   "metadata": {},
   "outputs": [
    {
     "name": "stdout",
     "output_type": "stream",
     "text": [
      "Model saved at tmp/model/lightgbm_1698581373_4IR31Z.joblib\n"
     ]
    }
   ],
   "source": [
    "model = HistGradientBoostingRegressor(\n",
    "    learning_rate = 0.1,\n",
    "    max_iter = 100,\n",
    "    max_leaf_nodes = 31,\n",
    "    max_depth = None,\n",
    "    min_samples_leaf = 20,\n",
    ")\n",
    "model.fit(X_train, y_train)\n",
    "model_path = save_model(model)\n",
    "print(f\"Model saved at {model_path}\")"
   ]
  },
  {
   "cell_type": "code",
   "execution_count": 24,
   "metadata": {},
   "outputs": [
    {
     "name": "stdout",
     "output_type": "stream",
     "text": [
      "Training: RMSE = 470.97488611920465, Score = 0.5679353069792842\n"
     ]
    }
   ],
   "source": [
    "y_train_pred = model.predict(X_train)\n",
    "rmse_train = mean_squared_error(y_train, y_train_pred, squared=False)\n",
    "score_train = model.score(X_train, y_train)\n",
    "print(f\"Training: RMSE = {rmse_train}, Score = {score_train}\")"
   ]
  },
  {
   "cell_type": "code",
   "execution_count": 25,
   "metadata": {},
   "outputs": [
    {
     "name": "stdout",
     "output_type": "stream",
     "text": [
      "Validation: RMSE = 475.7323632433293\n",
      "Validation (rounded prediction): RMSE = 475.8111495120727\n"
     ]
    }
   ],
   "source": [
    "y_val_pred = model.predict(X_val)\n",
    "rmse_val = mean_squared_error(y_val, y_val_pred, squared=False)\n",
    "print(f\"Validation: RMSE = {rmse_val}\")"
   ]
  },
  {
   "cell_type": "code",
   "execution_count": 26,
   "metadata": {},
   "outputs": [
    {
     "name": "stdout",
     "output_type": "stream",
     "text": [
      "Test prediction saved at tmp/pred/lightgbm_test_pred_1698581373_MN5X7H.csv\n",
      "Test prediction (rounded prediction) saved at tmp/pred/lightgbm_test_pred_1698581373_HNDM4X.csv\n"
     ]
    }
   ],
   "source": [
    "y_test_pred = model.predict(X_test)\n",
    "y_test_pred_path = save_test_prediction(y_test_pred)\n",
    "print(f\"Test prediction saved at {y_test_pred_path}\")"
   ]
  },
  {
   "cell_type": "markdown",
   "metadata": {},
   "source": [
    "### b. Hyper-parameter Tuning"
   ]
  },
  {
   "cell_type": "code",
   "execution_count": null,
   "metadata": {},
   "outputs": [
    {
     "name": "stdout",
     "output_type": "stream",
     "text": [
      "Best params: {'learning_rate': 0.1, 'max_depth': 16, 'max_leaf_nodes': 15, 'min_samples_leaf': 200}\n",
      "Model saved at tmp/model/lightgbm_1699189588_9X1NWA.joblib\n"
     ]
    }
   ],
   "source": [
    "regressor = HistGradientBoostingRegressor(max_iter = 1000)\n",
    "param_grids = {\n",
    "    \"learning_rate\": [0.1, 0.2, 0.5, 1.0],\n",
    "    \"max_leaf_nodes\": [15, 31, 63, 127],\n",
    "    \"max_depth\": [4, 8, 16, None],\n",
    "    \"min_samples_leaf\": [20, 50, 100, 200],\n",
    "}\n",
    "cv = KFold(n_splits=10, shuffle=True)\n",
    "model = GridSearchCV(\n",
    "    estimator=regressor,\n",
    "    param_grid=param_grids,\n",
    "    return_train_score=True,\n",
    "    cv=cv,\n",
    ")\n",
    "model.fit(X_train, y_train)\n",
    "print(f\"Best params: {str(model.best_params_)}\")\n",
    "model_path = save_model(model)\n",
    "print(f\"Model saved at {model_path}\")"
   ]
  },
  {
   "cell_type": "code",
   "execution_count": null,
   "metadata": {},
   "outputs": [
    {
     "name": "stdout",
     "output_type": "stream",
     "text": [
      "Training: RMSE = 474.97853075536926, Score = 0.560558327900953\n"
     ]
    }
   ],
   "source": [
    "y_train_pred = model.predict(X_train)\n",
    "rmse_train = mean_squared_error(y_train, y_train_pred, squared=False)\n",
    "score_train = model.score(X_train, y_train)\n",
    "print(f\"Training: RMSE = {rmse_train}, Score = {score_train}\")"
   ]
  },
  {
   "cell_type": "code",
   "execution_count": null,
   "metadata": {},
   "outputs": [
    {
     "name": "stdout",
     "output_type": "stream",
     "text": [
      "Validation: RMSE = 475.0136555826826\n",
      "Validation (rounded prediction): RMSE = 475.04473473558255\n"
     ]
    }
   ],
   "source": [
    "y_val_pred = model.predict(X_val)\n",
    "rmse_val = mean_squared_error(y_val, y_val_pred, squared=False)\n",
    "print(f\"Validation: RMSE = {rmse_val}\")"
   ]
  },
  {
   "cell_type": "markdown",
   "metadata": {},
   "source": [
    "## 2. Dataset with additional features"
   ]
  },
  {
   "cell_type": "code",
   "execution_count": 33,
   "metadata": {},
   "outputs": [],
   "source": [
    "train_path = BASELINE_W_FEAT_ENG_TRAIN\n",
    "val_path = BASELINE_W_FEAT_ENG_VAL\n",
    "test_path = BASELINE_W_FEAT_ENG_TEST"
   ]
  },
  {
   "cell_type": "code",
   "execution_count": 34,
   "metadata": {},
   "outputs": [],
   "source": [
    "df_train = pd.read_csv(train_path)\n",
    "df_val = pd.read_csv(val_path)\n",
    "df_test = pd.read_csv(test_path)"
   ]
  },
  {
   "cell_type": "code",
   "execution_count": 35,
   "metadata": {},
   "outputs": [],
   "source": [
    "X_train, y_train = split_features_and_monthly_rent_label(df_train)\n",
    "X_val, y_val = split_features_and_monthly_rent_label(df_val)\n",
    "X_test, _ = split_features_and_monthly_rent_label(df_test)"
   ]
  },
  {
   "cell_type": "markdown",
   "metadata": {},
   "source": [
    "### a. Base model"
   ]
  },
  {
   "cell_type": "code",
   "execution_count": 36,
   "metadata": {},
   "outputs": [
    {
     "name": "stdout",
     "output_type": "stream",
     "text": [
      "Model saved at tmp/model/lightgbm_1698582496_PQ4NHK.joblib\n"
     ]
    }
   ],
   "source": [
    "model = HistGradientBoostingRegressor(\n",
    "    learning_rate = 0.1,\n",
    "    max_iter = 100,\n",
    "    max_leaf_nodes = 31,\n",
    "    max_depth = None,\n",
    "    min_samples_leaf = 20,\n",
    ")\n",
    "model.fit(X_train, y_train)\n",
    "model_path = save_model(model)\n",
    "print(f\"Model saved at {model_path}\")"
   ]
  },
  {
   "cell_type": "code",
   "execution_count": 37,
   "metadata": {},
   "outputs": [
    {
     "name": "stdout",
     "output_type": "stream",
     "text": [
      "Training: RMSE = 471.1192991113379, Score = 0.5676703021010041\n"
     ]
    }
   ],
   "source": [
    "y_train_pred = model.predict(X_train)\n",
    "rmse_train = mean_squared_error(y_train, y_train_pred, squared=False)\n",
    "score_train = model.score(X_train, y_train)\n",
    "print(f\"Training: RMSE = {rmse_train}, Score = {score_train}\")"
   ]
  },
  {
   "cell_type": "code",
   "execution_count": 38,
   "metadata": {},
   "outputs": [
    {
     "name": "stdout",
     "output_type": "stream",
     "text": [
      "Validation: RMSE = 475.5102896026055\n",
      "Validation (rounded prediction): RMSE = 475.42218080354644\n"
     ]
    }
   ],
   "source": [
    "y_val_pred = model.predict(X_val)\n",
    "rmse_val = mean_squared_error(y_val, y_val_pred, squared=False)\n",
    "print(f\"Validation: RMSE = {rmse_val}\")"
   ]
  },
  {
   "cell_type": "code",
   "execution_count": 39,
   "metadata": {},
   "outputs": [
    {
     "name": "stdout",
     "output_type": "stream",
     "text": [
      "Test prediction saved at tmp/pred/lightgbm_test_pred_1698582497_7273N9.csv\n",
      "Test prediction (rounded prediction) saved at tmp/pred/lightgbm_test_pred_1698582497_WUT8XQ.csv\n"
     ]
    }
   ],
   "source": [
    "y_test_pred = model.predict(X_test)\n",
    "y_test_pred_path = save_test_prediction(y_test_pred)\n",
    "print(f\"Test prediction saved at {y_test_pred_path}\")"
   ]
  },
  {
   "cell_type": "markdown",
   "metadata": {},
   "source": [
    "### b. Hyper-parameter Tuning"
   ]
  },
  {
   "cell_type": "code",
   "execution_count": null,
   "metadata": {},
   "outputs": [
    {
     "name": "stdout",
     "output_type": "stream",
     "text": [
      "Best params: {'learning_rate': 0.1, 'max_depth': None, 'max_leaf_nodes': 15, 'min_samples_leaf': 200}\n",
      "Model saved at tmp/model/lightgbm_1699197799_URHUMS.joblib\n"
     ]
    }
   ],
   "source": [
    "regressor = HistGradientBoostingRegressor(max_iter = 1000)\n",
    "param_grids = {\n",
    "    \"learning_rate\": [0.1, 0.2, 0.5, 1.0],\n",
    "    \"max_leaf_nodes\": [15, 31, 63, 127],\n",
    "    \"max_depth\": [4, 8, 16, None],\n",
    "    \"min_samples_leaf\": [20, 50, 100, 200],\n",
    "}\n",
    "cv = KFold(n_splits=10, shuffle=True)\n",
    "model = GridSearchCV(\n",
    "    estimator=regressor,\n",
    "    param_grid=param_grids,\n",
    "    return_train_score=True,\n",
    "    cv=cv,\n",
    ")\n",
    "model.fit(X_train, y_train)\n",
    "print(f\"Best params: {str(model.best_params_)}\")\n",
    "model_path = save_model(model)\n",
    "print(f\"Model saved at {model_path}\")"
   ]
  },
  {
   "cell_type": "code",
   "execution_count": null,
   "metadata": {},
   "outputs": [
    {
     "name": "stdout",
     "output_type": "stream",
     "text": [
      "Training: RMSE = 472.58460361211496, Score = 0.5649768025116157\n"
     ]
    }
   ],
   "source": [
    "y_train_pred = model.predict(X_train)\n",
    "rmse_train = mean_squared_error(y_train, y_train_pred, squared=False)\n",
    "score_train = model.score(X_train, y_train)\n",
    "print(f\"Training: RMSE = {rmse_train}, Score = {score_train}\")"
   ]
  },
  {
   "cell_type": "code",
   "execution_count": null,
   "metadata": {},
   "outputs": [
    {
     "name": "stdout",
     "output_type": "stream",
     "text": [
      "Validation: RMSE = 475.6069947849758\n",
      "Validation (rounded prediction): RMSE = 476.0365882296584\n"
     ]
    }
   ],
   "source": [
    "y_val_pred = model.predict(X_val)\n",
    "rmse_val = mean_squared_error(y_val, y_val_pred, squared=False)\n",
    "print(f\"Validation: RMSE = {rmse_val}\")"
   ]
  },
  {
   "cell_type": "markdown",
   "metadata": {},
   "source": [
    "## 3. Truncated baseline dataset (extra columns removal)"
   ]
  },
  {
   "cell_type": "code",
   "execution_count": 45,
   "metadata": {},
   "outputs": [],
   "source": [
    "train_path = TRUNCATED_BASELINE_TRAIN\n",
    "val_path = TRUNCATED_BASELINE_VAL\n",
    "test_path = TRUNCATED_BASELINE_TEST"
   ]
  },
  {
   "cell_type": "code",
   "execution_count": 46,
   "metadata": {},
   "outputs": [],
   "source": [
    "df_train = pd.read_csv(train_path)\n",
    "df_val = pd.read_csv(val_path)\n",
    "df_test = pd.read_csv(test_path)"
   ]
  },
  {
   "cell_type": "code",
   "execution_count": 47,
   "metadata": {},
   "outputs": [],
   "source": [
    "X_train, y_train = split_features_and_monthly_rent_label(df_train)\n",
    "X_val, y_val = split_features_and_monthly_rent_label(df_val)\n",
    "X_test, _ = split_features_and_monthly_rent_label(df_test)"
   ]
  },
  {
   "cell_type": "markdown",
   "metadata": {},
   "source": [
    "### a. Base model"
   ]
  },
  {
   "cell_type": "code",
   "execution_count": 48,
   "metadata": {},
   "outputs": [
    {
     "name": "stdout",
     "output_type": "stream",
     "text": [
      "Model saved at tmp/model/lightgbm_1698582504_RYGOLV.joblib\n"
     ]
    }
   ],
   "source": [
    "model = HistGradientBoostingRegressor(\n",
    "    learning_rate = 0.1,\n",
    "    max_iter = 100,\n",
    "    max_leaf_nodes = 31,\n",
    "    max_depth = None,\n",
    "    min_samples_leaf = 20,\n",
    ")\n",
    "model.fit(X_train, y_train)\n",
    "model_path = save_model(model)\n",
    "print(f\"Model saved at {model_path}\")"
   ]
  },
  {
   "cell_type": "code",
   "execution_count": 49,
   "metadata": {},
   "outputs": [
    {
     "name": "stdout",
     "output_type": "stream",
     "text": [
      "Training: RMSE = 473.118880464112, Score = 0.5639926223050177\n"
     ]
    }
   ],
   "source": [
    "y_train_pred = model.predict(X_train)\n",
    "rmse_train = mean_squared_error(y_train, y_train_pred, squared=False)\n",
    "score_train = model.score(X_train, y_train)\n",
    "print(f\"Training: RMSE = {rmse_train}, Score = {score_train}\")"
   ]
  },
  {
   "cell_type": "code",
   "execution_count": 50,
   "metadata": {},
   "outputs": [
    {
     "name": "stdout",
     "output_type": "stream",
     "text": [
      "Validation: RMSE = 476.43654808355495\n",
      "Validation (rounded prediction): RMSE = 476.8149536245691\n"
     ]
    }
   ],
   "source": [
    "y_val_pred = model.predict(X_val)\n",
    "rmse_val = mean_squared_error(y_val, y_val_pred, squared=False)\n",
    "print(f\"Validation: RMSE = {rmse_val}\")"
   ]
  },
  {
   "cell_type": "code",
   "execution_count": 51,
   "metadata": {},
   "outputs": [
    {
     "name": "stdout",
     "output_type": "stream",
     "text": [
      "Test prediction saved at tmp/pred/lightgbm_test_pred_1698582504_DDTQWJ.csv\n",
      "Test prediction (rounded prediction) saved at tmp/pred/lightgbm_test_pred_1698582504_SBW0Y7.csv\n"
     ]
    }
   ],
   "source": [
    "y_test_pred = model.predict(X_test)\n",
    "y_test_pred_path = save_test_prediction(y_test_pred)\n",
    "print(f\"Test prediction saved at {y_test_pred_path}\")"
   ]
  },
  {
   "cell_type": "markdown",
   "metadata": {},
   "source": [
    "### b. Hyper-parameter Tuning"
   ]
  },
  {
   "cell_type": "code",
   "execution_count": null,
   "metadata": {},
   "outputs": [
    {
     "name": "stdout",
     "output_type": "stream",
     "text": [
      "Best params: {'learning_rate': 0.1, 'max_depth': 4, 'max_leaf_nodes': 15, 'min_samples_leaf': 100}\n",
      "Model saved at tmp/model/lightgbm_1699200120_EXYA8Y.joblib\n"
     ]
    }
   ],
   "source": [
    "regressor = HistGradientBoostingRegressor(max_iter = 1000)\n",
    "param_grids = {\n",
    "    \"learning_rate\": [0.1, 0.2, 0.5, 1.0],\n",
    "    \"max_leaf_nodes\": [15, 31, 63, 127],\n",
    "    \"max_depth\": [4, 8, 16, None],\n",
    "    \"min_samples_leaf\": [20, 50, 100, 200],\n",
    "}\n",
    "cv = KFold(n_splits=10, shuffle=True)\n",
    "model = GridSearchCV(\n",
    "    estimator=regressor,\n",
    "    param_grid=param_grids,\n",
    "    return_train_score=True,\n",
    "    cv=cv,\n",
    ")\n",
    "model.fit(X_train, y_train)\n",
    "print(f\"Best params: {str(model.best_params_)}\")\n",
    "model_path = save_model(model)\n",
    "print(f\"Model saved at {model_path}\")"
   ]
  },
  {
   "cell_type": "code",
   "execution_count": null,
   "metadata": {},
   "outputs": [
    {
     "name": "stdout",
     "output_type": "stream",
     "text": [
      "Training: RMSE = 473.907508492817, Score = 0.5625378749771468\n"
     ]
    }
   ],
   "source": [
    "y_train_pred = model.predict(X_train)\n",
    "rmse_train = mean_squared_error(y_train, y_train_pred, squared=False)\n",
    "score_train = model.score(X_train, y_train)\n",
    "print(f\"Training: RMSE = {rmse_train}, Score = {score_train}\")"
   ]
  },
  {
   "cell_type": "code",
   "execution_count": null,
   "metadata": {},
   "outputs": [
    {
     "name": "stdout",
     "output_type": "stream",
     "text": [
      "Validation: RMSE = 474.52836175066955\n",
      "Validation (rounded prediction): RMSE = 474.802590557381\n"
     ]
    }
   ],
   "source": [
    "y_val_pred = model.predict(X_val)\n",
    "rmse_val = mean_squared_error(y_val, y_val_pred, squared=False)\n",
    "print(f\"Validation: RMSE = {rmse_val}\")"
   ]
  },
  {
   "cell_type": "markdown",
   "metadata": {},
   "source": [
    "## 4. Truncated baseline + additional features dataset"
   ]
  },
  {
   "cell_type": "code",
   "execution_count": 57,
   "metadata": {},
   "outputs": [],
   "source": [
    "train_path = TRUNCATED_FEAT_ENG_TRAIN\n",
    "val_path = TRUNCATED_FEAT_ENG_VAL\n",
    "test_path = TRUNCATED_FEAT_ENG_TEST"
   ]
  },
  {
   "cell_type": "code",
   "execution_count": 58,
   "metadata": {},
   "outputs": [],
   "source": [
    "df_train = pd.read_csv(train_path)\n",
    "df_val = pd.read_csv(val_path)\n",
    "df_test = pd.read_csv(test_path)"
   ]
  },
  {
   "cell_type": "code",
   "execution_count": 59,
   "metadata": {},
   "outputs": [],
   "source": [
    "X_train, y_train = split_features_and_monthly_rent_label(df_train)\n",
    "X_val, y_val = split_features_and_monthly_rent_label(df_val)\n",
    "X_test, _ = split_features_and_monthly_rent_label(df_test)"
   ]
  },
  {
   "cell_type": "markdown",
   "metadata": {},
   "source": [
    "### a. Base model"
   ]
  },
  {
   "cell_type": "code",
   "execution_count": 60,
   "metadata": {},
   "outputs": [
    {
     "name": "stdout",
     "output_type": "stream",
     "text": [
      "Model saved at tmp/model/lightgbm_1698582508_1535LE.joblib\n"
     ]
    }
   ],
   "source": [
    "model = HistGradientBoostingRegressor(\n",
    "    learning_rate = 0.1,\n",
    "    max_iter = 100,\n",
    "    max_leaf_nodes = 31,\n",
    "    max_depth = None,\n",
    "    min_samples_leaf = 20,\n",
    ")\n",
    "model.fit(X_train, y_train)\n",
    "model_path = save_model(model)\n",
    "print(f\"Model saved at {model_path}\")"
   ]
  },
  {
   "cell_type": "code",
   "execution_count": 61,
   "metadata": {},
   "outputs": [
    {
     "name": "stdout",
     "output_type": "stream",
     "text": [
      "Training: RMSE = 470.0750001593485, Score = 0.569584811087428\n"
     ]
    }
   ],
   "source": [
    "y_train_pred = model.predict(X_train)\n",
    "rmse_train = mean_squared_error(y_train, y_train_pred, squared=False)\n",
    "score_train = model.score(X_train, y_train)\n",
    "print(f\"Training: RMSE = {rmse_train}, Score = {score_train}\")"
   ]
  },
  {
   "cell_type": "code",
   "execution_count": 62,
   "metadata": {},
   "outputs": [
    {
     "name": "stdout",
     "output_type": "stream",
     "text": [
      "Validation: RMSE = 475.88728534075983\n",
      "Validation (rounded prediction): RMSE = 475.914470607202\n"
     ]
    }
   ],
   "source": [
    "y_val_pred = model.predict(X_val)\n",
    "rmse_val = mean_squared_error(y_val, y_val_pred, squared=False)\n",
    "print(f\"Validation: RMSE = {rmse_val}\")"
   ]
  },
  {
   "cell_type": "code",
   "execution_count": 63,
   "metadata": {},
   "outputs": [
    {
     "name": "stdout",
     "output_type": "stream",
     "text": [
      "Test prediction saved at tmp/pred/lightgbm_test_pred_1698582508_XWAA81.csv\n",
      "Test prediction (rounded prediction) saved at tmp/pred/lightgbm_test_pred_1698582508_PUM68S.csv\n"
     ]
    }
   ],
   "source": [
    "y_test_pred = model.predict(X_test)\n",
    "y_test_pred_path = save_test_prediction(y_test_pred)\n",
    "print(f\"Test prediction saved at {y_test_pred_path}\")"
   ]
  },
  {
   "cell_type": "markdown",
   "metadata": {},
   "source": [
    "### b. Hyper-parameter Tuning"
   ]
  },
  {
   "cell_type": "code",
   "execution_count": null,
   "metadata": {},
   "outputs": [
    {
     "name": "stdout",
     "output_type": "stream",
     "text": [
      "Best params: {'learning_rate': 0.1, 'max_depth': 4, 'max_leaf_nodes': 15, 'min_samples_leaf': 100}\n",
      "Model saved at tmp/model/lightgbm_1699202250_GS27T6.joblib\n"
     ]
    }
   ],
   "source": [
    "regressor = HistGradientBoostingRegressor(max_iter = 1000)\n",
    "param_grids = {\n",
    "    \"learning_rate\": [0.1, 0.2, 0.5, 1.0],\n",
    "    \"max_leaf_nodes\": [15, 31, 63, 127],\n",
    "    \"max_depth\": [4, 8, 16, None],\n",
    "    \"min_samples_leaf\": [20, 50, 100, 200],\n",
    "}\n",
    "cv = KFold(n_splits=10, shuffle=True)\n",
    "model = GridSearchCV(\n",
    "    estimator=regressor,\n",
    "    param_grid=param_grids,\n",
    "    return_train_score=True,\n",
    "    cv=cv,\n",
    ")\n",
    "model.fit(X_train, y_train)\n",
    "print(f\"Best params: {str(model.best_params_)}\")\n",
    "model_path = save_model(model)\n",
    "print(f\"Model saved at {model_path}\")"
   ]
  },
  {
   "cell_type": "code",
   "execution_count": null,
   "metadata": {},
   "outputs": [
    {
     "name": "stdout",
     "output_type": "stream",
     "text": [
      "Training: RMSE = 475.7846616014707, Score = 0.5590654263174558\n"
     ]
    }
   ],
   "source": [
    "y_train_pred = model.predict(X_train)\n",
    "rmse_train = mean_squared_error(y_train, y_train_pred, squared=False)\n",
    "score_train = model.score(X_train, y_train)\n",
    "print(f\"Training: RMSE = {rmse_train}, Score = {score_train}\")"
   ]
  },
  {
   "cell_type": "code",
   "execution_count": null,
   "metadata": {},
   "outputs": [
    {
     "name": "stdout",
     "output_type": "stream",
     "text": [
      "Validation: RMSE = 475.57421027288035\n",
      "Validation (rounded prediction): RMSE = 475.8965223659446\n"
     ]
    }
   ],
   "source": [
    "y_val_pred = model.predict(X_val)\n",
    "rmse_val = mean_squared_error(y_val, y_val_pred, squared=False)\n",
    "print(f\"Validation: RMSE = {rmse_val}\")"
   ]
  }
 ],
 "metadata": {
  "kernelspec": {
   "display_name": "cs5228",
   "language": "python",
   "name": "python3"
  },
  "language_info": {
   "codemirror_mode": {
    "name": "ipython",
    "version": 3
   },
   "file_extension": ".py",
   "mimetype": "text/x-python",
   "name": "python",
   "nbconvert_exporter": "python",
   "pygments_lexer": "ipython3",
   "version": "3.11.4"
  }
 },
 "nbformat": 4,
 "nbformat_minor": 2
}
