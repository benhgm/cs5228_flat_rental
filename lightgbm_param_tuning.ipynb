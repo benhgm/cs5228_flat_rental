{
 "cells": [
  {
   "cell_type": "code",
   "execution_count": null,
   "metadata": {},
   "outputs": [],
   "source": [
    "import joblib\n",
    "import numpy as np\n",
    "import pandas as pd\n",
    "import random\n",
    "import string\n",
    "import time\n",
    "from sklearn.ensemble import HistGradientBoostingRegressor\n",
    "from sklearn.model_selection import GridSearchCV, KFold\n",
    "from sklearn.metrics import mean_squared_error\n",
    "from src.utils import *"
   ]
  },
  {
   "cell_type": "code",
   "execution_count": null,
   "metadata": {},
   "outputs": [],
   "source": [
    "# Datasets\n",
    "BASELINE_TRAIN = \"data/train/baseline_train.csv\"\n",
    "BASELINE_VAL = \"data/train/baseline_val.csv\"\n",
    "BASELINE_TEST = \"data/test/baseline_test.csv\"\n",
    "\n",
    "BASELINE_W_FEAT_ENG_TRAIN = \"data/train/baseline-w-feature-eng_train.csv\"\n",
    "BASELINE_W_FEAT_ENG_VAL = \"data/train/baseline-w-feature-eng_val.csv\"\n",
    "BASELINE_W_FEAT_ENG_TEST = \"data/test/baseline-w-feature-eng_test.csv\"\n",
    "\n",
    "TRUNCATED_BASELINE_TRAIN = \"data/train/baseline-truncated_train.csv\"\n",
    "TRUNCATED_BASELINE_VAL = \"data/train/baseline-truncated_val.csv\"\n",
    "TRUNCATED_BASELINE_TEST = \"data/test/baseline-truncated_test.csv\"\n",
    "\n",
    "TRUNCATED_FEAT_ENG_TRAIN = \"data/train/truncated-feat-eng_train.csv\"\n",
    "TRUNCATED_FEAT_ENG_VAL = \"data/train/truncated-feat-eng_val.csv\"\n",
    "TRUNCATED_FEAT_ENG_TEST = \"data/test/truncated-feat-eng_test.csv\""
   ]
  },
  {
   "cell_type": "code",
   "execution_count": null,
   "metadata": {},
   "outputs": [],
   "source": [
    "def random_string(k: int = 6) -> str:\n",
    "    res = \"\".join(random.choices(string.ascii_uppercase + string.digits, k=k))\n",
    "    return str(res)"
   ]
  },
  {
   "cell_type": "code",
   "execution_count": null,
   "metadata": {},
   "outputs": [],
   "source": [
    "def save_model(model) -> str:\n",
    "    ts = str(int(time.time()))\n",
    "    res = random_string()\n",
    "    filename = f\"tmp/model/lightgbm_{ts}_{res}.joblib\"\n",
    "    joblib.dump(model, filename)\n",
    "    return filename\n",
    "\n",
    "def load_model(filename: str):\n",
    "    return joblib.load(filename)"
   ]
  },
  {
   "cell_type": "code",
   "execution_count": null,
   "metadata": {},
   "outputs": [],
   "source": [
    "def save_test_prediction(y_pred) -> str:\n",
    "    ts = str(int(time.time()))\n",
    "    res = random_string()\n",
    "    filename = f\"tmp/pred/lightgbm_test_pred_{ts}_{res}.csv\"\n",
    "    y_pred = np.array(y_pred)\n",
    "    pred_df = pd.DataFrame(y_pred, columns=[\"Predicted\"])\n",
    "    pred_df.index.name = \"Id\"\n",
    "    pred_df.to_csv(filename)\n",
    "    return filename"
   ]
  },
  {
   "cell_type": "code",
   "execution_count": null,
   "metadata": {},
   "outputs": [],
   "source": [
    "def round_to_nearest_price(y, round_interval: float = 50.0):\n",
    "    # function to round the label to the nearest price (default: nearest 50 sgd)\n",
    "    return np.round(np.array(y) / round_interval) * round_interval"
   ]
  },
  {
   "cell_type": "markdown",
   "metadata": {},
   "source": [
    "# Approach 1"
   ]
  },
  {
   "cell_type": "code",
   "execution_count": null,
   "metadata": {},
   "outputs": [],
   "source": [
    "train_path = BASELINE_TRAIN\n",
    "val_path = BASELINE_VAL\n",
    "test_path = BASELINE_TEST"
   ]
  },
  {
   "cell_type": "code",
   "execution_count": null,
   "metadata": {},
   "outputs": [],
   "source": [
    "df_train = pd.read_csv(train_path)\n",
    "df_val = pd.read_csv(val_path)\n",
    "df_test = pd.read_csv(test_path)"
   ]
  },
  {
   "cell_type": "code",
   "execution_count": null,
   "metadata": {},
   "outputs": [],
   "source": [
    "X_train, y_train = split_features_and_monthly_rent_label(df_train)\n",
    "X_val, y_val = split_features_and_monthly_rent_label(df_val)\n",
    "X_test, _ = split_features_and_monthly_rent_label(df_test)"
   ]
  },
  {
   "cell_type": "code",
   "execution_count": null,
   "metadata": {},
   "outputs": [
    {
     "name": "stdout",
     "output_type": "stream",
     "text": [
      "Best params: {'learning_rate': 0.1, 'max_depth': 16, 'max_leaf_nodes': 15, 'min_samples_leaf': 200}\n",
      "Model saved at tmp/model/lightgbm_1699189588_9X1NWA.joblib\n"
     ]
    }
   ],
   "source": [
    "regressor = HistGradientBoostingRegressor(max_iter = 1000)\n",
    "param_grids = {\n",
    "    \"learning_rate\": [0.1, 0.2, 0.5, 1.0],\n",
    "    \"max_leaf_nodes\": [15, 31, 63, 127],\n",
    "    \"max_depth\": [4, 8, 16, None],\n",
    "    \"min_samples_leaf\": [20, 50, 100, 200],\n",
    "}\n",
    "cv = KFold(n_splits=10, shuffle=True)\n",
    "model = GridSearchCV(\n",
    "    estimator=regressor,\n",
    "    param_grid=param_grids,\n",
    "    return_train_score=True,\n",
    "    cv=cv,\n",
    ")\n",
    "model.fit(X_train, y_train)\n",
    "print(f\"Best params: {str(model.best_params_)}\")\n",
    "model_path = save_model(model)\n",
    "print(f\"Model saved at {model_path}\")"
   ]
  },
  {
   "cell_type": "code",
   "execution_count": null,
   "metadata": {},
   "outputs": [
    {
     "name": "stdout",
     "output_type": "stream",
     "text": [
      "Training: RMSE = 474.97853075536926, Score = 0.560558327900953\n"
     ]
    }
   ],
   "source": [
    "y_train_pred = model.predict(X_train)\n",
    "rmse_train = mean_squared_error(y_train, y_train_pred, squared=False)\n",
    "score_train = model.score(X_train, y_train)\n",
    "print(f\"Training: RMSE = {rmse_train}, Score = {score_train}\")"
   ]
  },
  {
   "cell_type": "code",
   "execution_count": null,
   "metadata": {},
   "outputs": [
    {
     "name": "stdout",
     "output_type": "stream",
     "text": [
      "Validation: RMSE = 475.0136555826826\n",
      "Validation (rounded prediction): RMSE = 475.04473473558255\n"
     ]
    }
   ],
   "source": [
    "y_val_pred = model.predict(X_val)\n",
    "y_val_pred_round = round_to_nearest_price(y_val_pred)\n",
    "rmse_val = mean_squared_error(y_val, y_val_pred, squared=False)\n",
    "rmse_val_round = mean_squared_error(y_val, y_val_pred_round, squared=False)\n",
    "print(f\"Validation: RMSE = {rmse_val}\")\n",
    "print(f\"Validation (rounded prediction): RMSE = {rmse_val_round}\")"
   ]
  },
  {
   "cell_type": "markdown",
   "metadata": {},
   "source": [
    "# Approach 2"
   ]
  },
  {
   "cell_type": "code",
   "execution_count": null,
   "metadata": {},
   "outputs": [],
   "source": [
    "train_path = BASELINE_W_FEAT_ENG_TRAIN\n",
    "val_path = BASELINE_W_FEAT_ENG_VAL\n",
    "test_path = BASELINE_W_FEAT_ENG_TEST"
   ]
  },
  {
   "cell_type": "code",
   "execution_count": null,
   "metadata": {},
   "outputs": [],
   "source": [
    "df_train = pd.read_csv(train_path)\n",
    "df_val = pd.read_csv(val_path)\n",
    "df_test = pd.read_csv(test_path)"
   ]
  },
  {
   "cell_type": "code",
   "execution_count": null,
   "metadata": {},
   "outputs": [],
   "source": [
    "X_train, y_train = split_features_and_monthly_rent_label(df_train)\n",
    "X_val, y_val = split_features_and_monthly_rent_label(df_val)\n",
    "X_test, _ = split_features_and_monthly_rent_label(df_test)"
   ]
  },
  {
   "cell_type": "code",
   "execution_count": null,
   "metadata": {},
   "outputs": [
    {
     "name": "stdout",
     "output_type": "stream",
     "text": [
      "Best params: {'learning_rate': 0.1, 'max_depth': None, 'max_leaf_nodes': 15, 'min_samples_leaf': 200}\n",
      "Model saved at tmp/model/lightgbm_1699197799_URHUMS.joblib\n"
     ]
    }
   ],
   "source": [
    "regressor = HistGradientBoostingRegressor(max_iter = 1000)\n",
    "param_grids = {\n",
    "    \"learning_rate\": [0.1, 0.2, 0.5, 1.0],\n",
    "    \"max_leaf_nodes\": [15, 31, 63, 127],\n",
    "    \"max_depth\": [4, 8, 16, None],\n",
    "    \"min_samples_leaf\": [20, 50, 100, 200],\n",
    "}\n",
    "cv = KFold(n_splits=10, shuffle=True)\n",
    "model = GridSearchCV(\n",
    "    estimator=regressor,\n",
    "    param_grid=param_grids,\n",
    "    return_train_score=True,\n",
    "    cv=cv,\n",
    ")\n",
    "model.fit(X_train, y_train)\n",
    "print(f\"Best params: {str(model.best_params_)}\")\n",
    "model_path = save_model(model)\n",
    "print(f\"Model saved at {model_path}\")"
   ]
  },
  {
   "cell_type": "code",
   "execution_count": null,
   "metadata": {},
   "outputs": [
    {
     "name": "stdout",
     "output_type": "stream",
     "text": [
      "Training: RMSE = 472.58460361211496, Score = 0.5649768025116157\n"
     ]
    }
   ],
   "source": [
    "y_train_pred = model.predict(X_train)\n",
    "rmse_train = mean_squared_error(y_train, y_train_pred, squared=False)\n",
    "score_train = model.score(X_train, y_train)\n",
    "print(f\"Training: RMSE = {rmse_train}, Score = {score_train}\")"
   ]
  },
  {
   "cell_type": "code",
   "execution_count": null,
   "metadata": {},
   "outputs": [
    {
     "name": "stdout",
     "output_type": "stream",
     "text": [
      "Validation: RMSE = 475.6069947849758\n",
      "Validation (rounded prediction): RMSE = 476.0365882296584\n"
     ]
    }
   ],
   "source": [
    "y_val_pred = model.predict(X_val)\n",
    "y_val_pred_round = round_to_nearest_price(y_val_pred)\n",
    "rmse_val = mean_squared_error(y_val, y_val_pred, squared=False)\n",
    "rmse_val_round = mean_squared_error(y_val, y_val_pred_round, squared=False)\n",
    "print(f\"Validation: RMSE = {rmse_val}\")\n",
    "print(f\"Validation (rounded prediction): RMSE = {rmse_val_round}\")"
   ]
  },
  {
   "cell_type": "markdown",
   "metadata": {},
   "source": [
    "# Approach 3"
   ]
  },
  {
   "cell_type": "code",
   "execution_count": null,
   "metadata": {},
   "outputs": [],
   "source": [
    "train_path = TRUNCATED_BASELINE_TRAIN\n",
    "val_path = TRUNCATED_BASELINE_VAL\n",
    "test_path = TRUNCATED_BASELINE_TEST"
   ]
  },
  {
   "cell_type": "code",
   "execution_count": null,
   "metadata": {},
   "outputs": [],
   "source": [
    "df_train = pd.read_csv(train_path)\n",
    "df_val = pd.read_csv(val_path)\n",
    "df_test = pd.read_csv(test_path)"
   ]
  },
  {
   "cell_type": "code",
   "execution_count": null,
   "metadata": {},
   "outputs": [],
   "source": [
    "X_train, y_train = split_features_and_monthly_rent_label(df_train)\n",
    "X_val, y_val = split_features_and_monthly_rent_label(df_val)\n",
    "X_test, _ = split_features_and_monthly_rent_label(df_test)"
   ]
  },
  {
   "cell_type": "code",
   "execution_count": null,
   "metadata": {},
   "outputs": [
    {
     "name": "stdout",
     "output_type": "stream",
     "text": [
      "Best params: {'learning_rate': 0.1, 'max_depth': 4, 'max_leaf_nodes': 15, 'min_samples_leaf': 100}\n",
      "Model saved at tmp/model/lightgbm_1699200120_EXYA8Y.joblib\n"
     ]
    }
   ],
   "source": [
    "regressor = HistGradientBoostingRegressor(max_iter = 1000)\n",
    "param_grids = {\n",
    "    \"learning_rate\": [0.1, 0.2, 0.5, 1.0],\n",
    "    \"max_leaf_nodes\": [15, 31, 63, 127],\n",
    "    \"max_depth\": [4, 8, 16, None],\n",
    "    \"min_samples_leaf\": [20, 50, 100, 200],\n",
    "}\n",
    "cv = KFold(n_splits=10, shuffle=True)\n",
    "model = GridSearchCV(\n",
    "    estimator=regressor,\n",
    "    param_grid=param_grids,\n",
    "    return_train_score=True,\n",
    "    cv=cv,\n",
    ")\n",
    "model.fit(X_train, y_train)\n",
    "print(f\"Best params: {str(model.best_params_)}\")\n",
    "model_path = save_model(model)\n",
    "print(f\"Model saved at {model_path}\")"
   ]
  },
  {
   "cell_type": "code",
   "execution_count": null,
   "metadata": {},
   "outputs": [
    {
     "name": "stdout",
     "output_type": "stream",
     "text": [
      "Training: RMSE = 473.907508492817, Score = 0.5625378749771468\n"
     ]
    }
   ],
   "source": [
    "y_train_pred = model.predict(X_train)\n",
    "rmse_train = mean_squared_error(y_train, y_train_pred, squared=False)\n",
    "score_train = model.score(X_train, y_train)\n",
    "print(f\"Training: RMSE = {rmse_train}, Score = {score_train}\")"
   ]
  },
  {
   "cell_type": "code",
   "execution_count": null,
   "metadata": {},
   "outputs": [
    {
     "name": "stdout",
     "output_type": "stream",
     "text": [
      "Validation: RMSE = 474.52836175066955\n",
      "Validation (rounded prediction): RMSE = 474.802590557381\n"
     ]
    }
   ],
   "source": [
    "y_val_pred = model.predict(X_val)\n",
    "y_val_pred_round = round_to_nearest_price(y_val_pred)\n",
    "rmse_val = mean_squared_error(y_val, y_val_pred, squared=False)\n",
    "rmse_val_round = mean_squared_error(y_val, y_val_pred_round, squared=False)\n",
    "print(f\"Validation: RMSE = {rmse_val}\")\n",
    "print(f\"Validation (rounded prediction): RMSE = {rmse_val_round}\")"
   ]
  },
  {
   "cell_type": "markdown",
   "metadata": {},
   "source": [
    "# Approach 4"
   ]
  },
  {
   "cell_type": "code",
   "execution_count": null,
   "metadata": {},
   "outputs": [],
   "source": [
    "train_path = TRUNCATED_FEAT_ENG_TRAIN\n",
    "val_path = TRUNCATED_FEAT_ENG_VAL\n",
    "test_path = TRUNCATED_FEAT_ENG_TEST"
   ]
  },
  {
   "cell_type": "code",
   "execution_count": null,
   "metadata": {},
   "outputs": [],
   "source": [
    "df_train = pd.read_csv(train_path)\n",
    "df_val = pd.read_csv(val_path)\n",
    "df_test = pd.read_csv(test_path)"
   ]
  },
  {
   "cell_type": "code",
   "execution_count": null,
   "metadata": {},
   "outputs": [],
   "source": [
    "X_train, y_train = split_features_and_monthly_rent_label(df_train)\n",
    "X_val, y_val = split_features_and_monthly_rent_label(df_val)\n",
    "X_test, _ = split_features_and_monthly_rent_label(df_test)"
   ]
  },
  {
   "cell_type": "code",
   "execution_count": null,
   "metadata": {},
   "outputs": [
    {
     "name": "stdout",
     "output_type": "stream",
     "text": [
      "Best params: {'learning_rate': 0.1, 'max_depth': 4, 'max_leaf_nodes': 15, 'min_samples_leaf': 100}\n",
      "Model saved at tmp/model/lightgbm_1699202250_GS27T6.joblib\n"
     ]
    }
   ],
   "source": [
    "regressor = HistGradientBoostingRegressor(max_iter = 1000)\n",
    "param_grids = {\n",
    "    \"learning_rate\": [0.1, 0.2, 0.5, 1.0],\n",
    "    \"max_leaf_nodes\": [15, 31, 63, 127],\n",
    "    \"max_depth\": [4, 8, 16, None],\n",
    "    \"min_samples_leaf\": [20, 50, 100, 200],\n",
    "}\n",
    "cv = KFold(n_splits=10, shuffle=True)\n",
    "model = GridSearchCV(\n",
    "    estimator=regressor,\n",
    "    param_grid=param_grids,\n",
    "    return_train_score=True,\n",
    "    cv=cv,\n",
    ")\n",
    "model.fit(X_train, y_train)\n",
    "print(f\"Best params: {str(model.best_params_)}\")\n",
    "model_path = save_model(model)\n",
    "print(f\"Model saved at {model_path}\")"
   ]
  },
  {
   "cell_type": "code",
   "execution_count": null,
   "metadata": {},
   "outputs": [
    {
     "name": "stdout",
     "output_type": "stream",
     "text": [
      "Training: RMSE = 475.7846616014707, Score = 0.5590654263174558\n"
     ]
    }
   ],
   "source": [
    "y_train_pred = model.predict(X_train)\n",
    "rmse_train = mean_squared_error(y_train, y_train_pred, squared=False)\n",
    "score_train = model.score(X_train, y_train)\n",
    "print(f\"Training: RMSE = {rmse_train}, Score = {score_train}\")"
   ]
  },
  {
   "cell_type": "code",
   "execution_count": null,
   "metadata": {},
   "outputs": [
    {
     "name": "stdout",
     "output_type": "stream",
     "text": [
      "Validation: RMSE = 475.57421027288035\n",
      "Validation (rounded prediction): RMSE = 475.8965223659446\n"
     ]
    }
   ],
   "source": [
    "y_val_pred = model.predict(X_val)\n",
    "y_val_pred_round = round_to_nearest_price(y_val_pred)\n",
    "rmse_val = mean_squared_error(y_val, y_val_pred, squared=False)\n",
    "rmse_val_round = mean_squared_error(y_val, y_val_pred_round, squared=False)\n",
    "print(f\"Validation: RMSE = {rmse_val}\")\n",
    "print(f\"Validation (rounded prediction): RMSE = {rmse_val_round}\")"
   ]
  },
  {
   "cell_type": "markdown",
   "metadata": {},
   "source": [
    "# Result"
   ]
  },
  {
   "cell_type": "markdown",
   "metadata": {},
   "source": [
    "| Approach | Best Params | Train RMSE | Validation RMSE |\n",
    "|:--------|:--------|:--------|:--------|\n",
    "|1|learning_rate: 0.1, max_depth: 16, max_leaf_nodes: 15, min_samples_leaf: 200|474.98|475.01|\n",
    "|2|learning_rate: 0.1, max_depth: None, max_leaf_nodes: 15, min_samples_leaf: 200|472.58|475.61|\n",
    "|3|learning_rate: 0.1, max_depth: 4, max_leaf_nodes: 15, min_samples_leaf: 100|473.91|474.53|\n",
    "|4|learning_rate: 0.1, max_depth: 4, max_leaf_nodes: 15, min_samples_leaf: 100|475.78|475.57|"
   ]
  }
 ],
 "metadata": {
  "kernelspec": {
   "display_name": "cs5228",
   "language": "python",
   "name": "python3"
  },
  "language_info": {
   "codemirror_mode": {
    "name": "ipython",
    "version": 3
   },
   "file_extension": ".py",
   "mimetype": "text/x-python",
   "name": "python",
   "nbconvert_exporter": "python",
   "pygments_lexer": "ipython3",
   "version": "0.0.0"
  }
 },
 "nbformat": 4,
 "nbformat_minor": 2
}
