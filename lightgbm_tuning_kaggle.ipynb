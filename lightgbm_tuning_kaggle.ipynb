{
 "cells": [
  {
   "cell_type": "code",
   "execution_count": 1,
   "metadata": {},
   "outputs": [],
   "source": [
    "import joblib\n",
    "import numpy as np\n",
    "import pandas as pd\n",
    "import random\n",
    "import string\n",
    "import time\n",
    "from sklearn.ensemble import HistGradientBoostingRegressor\n",
    "from sklearn.model_selection import GridSearchCV, KFold\n",
    "from sklearn.metrics import mean_squared_error\n",
    "from src.utils import *"
   ]
  },
  {
   "cell_type": "code",
   "execution_count": 2,
   "metadata": {},
   "outputs": [],
   "source": [
    "# Datasets\n",
    "BASELINE_TRAIN = \"data/train/baseline_train.csv\"\n",
    "BASELINE_VAL = \"data/train/baseline_val.csv\"\n",
    "BASELINE_TEST = \"data/test/baseline_test.csv\"\n",
    "\n",
    "TRUNCATED_BASELINE_TRAIN = \"data/train/baseline-truncated_train.csv\"\n",
    "TRUNCATED_BASELINE_VAL = \"data/train/baseline-truncated_val.csv\"\n",
    "TRUNCATED_BASELINE_TEST = \"data/test/baseline-truncated_test.csv\"\n",
    "\n",
    "BASELINE_W_FEAT_ENG_TRAIN = \"data/train/baseline-w-feature-eng_train.csv\"\n",
    "BASELINE_W_FEAT_ENG_VAL = \"data/train/baseline-w-feature-eng_val.csv\"\n",
    "BASELINE_W_FEAT_ENG_TEST = \"data/test/baseline-w-feature-eng_test.csv\"\n",
    "\n",
    "TRUNCATED_FEAT_ENG_TRAIN = \"data/train/truncated-feat-eng_train.csv\"\n",
    "TRUNCATED_FEAT_ENG_VAL = \"data/train/truncated-feat-eng_val.csv\"\n",
    "TRUNCATED_FEAT_ENG_TEST = \"data/test/truncated-feat-eng_test.csv\""
   ]
  },
  {
   "cell_type": "code",
   "execution_count": 3,
   "metadata": {},
   "outputs": [],
   "source": [
    "def random_string(k: int = 6) -> str:\n",
    "    res = \"\".join(random.choices(string.ascii_uppercase + string.digits, k=k))\n",
    "    return str(res)"
   ]
  },
  {
   "cell_type": "code",
   "execution_count": 4,
   "metadata": {},
   "outputs": [],
   "source": [
    "def save_model(model) -> str:\n",
    "    ts = str(int(time.time()))\n",
    "    res = random_string()\n",
    "    filename = f\"tmp/model/lightgbm_{ts}_{res}.joblib\"\n",
    "    joblib.dump(model, filename)\n",
    "    return filename\n",
    "\n",
    "def load_model(filename: str):\n",
    "    return joblib.load(filename)"
   ]
  },
  {
   "cell_type": "code",
   "execution_count": 5,
   "metadata": {},
   "outputs": [],
   "source": [
    "def save_test_prediction(y_pred) -> str:\n",
    "    ts = str(int(time.time()))\n",
    "    res = random_string()\n",
    "    filename = f\"tmp/pred/lightgbm_test_pred_{ts}_{res}.csv\"\n",
    "    y_pred = np.array(y_pred)\n",
    "    pred_df = pd.DataFrame(y_pred, columns=[\"Predicted\"])\n",
    "    pred_df.index.name = \"Id\"\n",
    "    pred_df.to_csv(filename)\n",
    "    return filename"
   ]
  },
  {
   "cell_type": "code",
   "execution_count": 6,
   "metadata": {},
   "outputs": [],
   "source": [
    "def round_to_nearest_price(y, round_interval: float = 50.0):\n",
    "    # function to round the label to the nearest price (default: nearest 50 sgd)\n",
    "    return np.round(np.array(y) / round_interval) * round_interval"
   ]
  },
  {
   "cell_type": "code",
   "execution_count": 7,
   "metadata": {},
   "outputs": [],
   "source": [
    "train_path = BASELINE_W_FEAT_ENG_TRAIN\n",
    "val_path = BASELINE_W_FEAT_ENG_VAL\n",
    "test_path = BASELINE_W_FEAT_ENG_TEST"
   ]
  },
  {
   "cell_type": "code",
   "execution_count": 8,
   "metadata": {},
   "outputs": [],
   "source": [
    "df_train = pd.read_csv(train_path)\n",
    "df_val = pd.read_csv(val_path)\n",
    "df_test = pd.read_csv(test_path)\n",
    "\n",
    "df = pd.concat([df_train, df_val], ignore_index=True)"
   ]
  },
  {
   "cell_type": "code",
   "execution_count": 9,
   "metadata": {},
   "outputs": [],
   "source": [
    "X_train, y_train = split_features_and_monthly_rent_label(df)\n",
    "X_test, _ = split_features_and_monthly_rent_label(df_test)"
   ]
  },
  {
   "cell_type": "code",
   "execution_count": 10,
   "metadata": {},
   "outputs": [
    {
     "name": "stdout",
     "output_type": "stream",
     "text": [
      "Best params: {'learning_rate': 0.1, 'max_depth': 8, 'max_leaf_nodes': 31, 'min_samples_leaf': 200}\n",
      "Model saved at tmp/model/lightgbm_1698600835_5IX3BY.joblib\n"
     ]
    }
   ],
   "source": [
    "regressor = HistGradientBoostingRegressor(max_iter = 1000)\n",
    "param_grids = {\n",
    "    \"learning_rate\": [0.1, 0.2, 0.5, 1.0],\n",
    "    \"max_leaf_nodes\": [15, 31, 63, 127],\n",
    "    \"max_depth\": [4, 8, 16, None],\n",
    "    \"min_samples_leaf\": [20, 50, 100, 200],\n",
    "}\n",
    "cv = KFold(n_splits=10, shuffle=True)\n",
    "model = GridSearchCV(\n",
    "    estimator=regressor,\n",
    "    param_grid=param_grids,\n",
    "    return_train_score=True,\n",
    "    cv=cv,\n",
    ")\n",
    "model.fit(X_train, y_train)\n",
    "print(f\"Best params: {str(model.best_params_)}\")\n",
    "model_path = save_model(model)\n",
    "print(f\"Model saved at {model_path}\")"
   ]
  },
  {
   "cell_type": "code",
   "execution_count": 11,
   "metadata": {},
   "outputs": [
    {
     "name": "stdout",
     "output_type": "stream",
     "text": [
      "Training: RMSE = 471.5669953270882, Score = 0.5648983513027435\n"
     ]
    }
   ],
   "source": [
    "y_train_pred = model.predict(X_train)\n",
    "rmse_train = mean_squared_error(y_train, y_train_pred, squared=False)\n",
    "score_train = model.score(X_train, y_train)\n",
    "print(f\"Training: RMSE = {rmse_train}, Score = {score_train}\")"
   ]
  },
  {
   "cell_type": "code",
   "execution_count": 12,
   "metadata": {},
   "outputs": [
    {
     "name": "stdout",
     "output_type": "stream",
     "text": [
      "Test prediction saved at tmp/pred/lightgbm_test_pred_1698600836_7V74M6.csv\n",
      "Test prediction (rounded prediction) saved at tmp/pred/lightgbm_test_pred_1698600836_89VZTN.csv\n"
     ]
    }
   ],
   "source": [
    "y_test_pred = model.predict(X_test)\n",
    "y_test_pred_round = round_to_nearest_price(y_test_pred)\n",
    "y_test_pred_path = save_test_prediction(y_test_pred)\n",
    "y_test_pred_round_path = save_test_prediction(y_test_pred_round)\n",
    "print(f\"Test prediction saved at {y_test_pred_path}\")\n",
    "print(f\"Test prediction (rounded prediction) saved at {y_test_pred_round_path}\")"
   ]
  }
 ],
 "metadata": {
  "kernelspec": {
   "display_name": "cs5228",
   "language": "python",
   "name": "python3"
  },
  "language_info": {
   "codemirror_mode": {
    "name": "ipython",
    "version": 3
   },
   "file_extension": ".py",
   "mimetype": "text/x-python",
   "name": "python",
   "nbconvert_exporter": "python",
   "pygments_lexer": "ipython3",
   "version": "0.0.0"
  }
 },
 "nbformat": 4,
 "nbformat_minor": 2
}
